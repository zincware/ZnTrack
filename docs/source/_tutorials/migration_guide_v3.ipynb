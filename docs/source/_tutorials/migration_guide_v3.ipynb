{
 "cells": [
  {
   "cell_type": "markdown",
   "metadata": {
    "collapsed": true,
    "pycharm": {
     "name": "#%% md\n"
    }
   },
   "source": [
    "# ZnTrack v0.3 Migration Guide\n",
    "\n",
    "The new ZnTrack release v0.3 includes some restructures that are not backwards compatible.\n",
    "The reasons for these changes to the API are justified by better user experience, easier testing and more pythonic code.\n",
    "The following Guide will show how easy a prior ZnTrack setup can be migrated to ZnTrack v0.3.\n",
    "\n",
    "The main changes include\n",
    "\n",
    "- class inheritance replaces the `@Node` decorator\n",
    "- the `__call__` is no longer required to write the dvc files and can be replaced by `Node.write_dvc()`\n",
    "- Loading a Node is now a classmethod `Node.load(name=<my_name>)`\n",
    "- `dvc.results` is replaced by `zn.outs` to seperate `zntrack.dvc` and `zntrack.zn`\n",
    "\n",
    "Let's have a look at some examples:"
   ]
  },
  {
   "cell_type": "code",
   "execution_count": 1,
   "outputs": [],
   "source": [
    "from zntrack import Node, dvc, zn\n",
    "\n",
    "\n",
    "@Node()  # replaced by class inheritance\n",
    "class HelloWorld:\n",
    "    parameter = dvc.params()\n",
    "    outs = dvc.result()  # replaced by zn.outs()\n",
    "\n",
    "    def __call__(self, param):  # can still be used, but must follow <node>.write_dvc\n",
    "        self.parameter = param\n",
    "\n",
    "    def run(self):\n",
    "        self.outs = self.parameter\n",
    "\n",
    "\n",
    "# Writing the DVC File:\n",
    "HelloWorld()(param=123)\n",
    "\n",
    "# Loading the Node\n",
    "hello_world = HelloWorld(load=True)"
   ],
   "metadata": {
    "collapsed": false,
    "pycharm": {
     "name": "#%%\n"
    }
   }
  },
  {
   "cell_type": "markdown",
   "source": [
    "This class would now look like"
   ],
   "metadata": {
    "collapsed": false,
    "pycharm": {
     "name": "#%% md\n"
    }
   }
  },
  {
   "cell_type": "code",
   "execution_count": null,
   "outputs": [],
   "source": [
    "class HelloWorld(Node):\n",
    "    parameter = dvc.params()\n",
    "    outs = zn.outs()\n",
    "\n",
    "    def __init__(self, param):\n",
    "        super().__init__()\n",
    "        self.parameter = param\n",
    "\n",
    "    def run(self):\n",
    "        self.outs = self.parameter\n",
    "\n",
    "\n",
    "# Writing the DVC File:\n",
    "HelloWorld(param=123).write_dvc()\n",
    "\n",
    "# Loading the Node\n",
    "hello_world = HelloWorld.load()"
   ],
   "metadata": {
    "collapsed": false,
    "pycharm": {
     "name": "#%%\n"
    }
   }
  },
  {
   "cell_type": "markdown",
   "source": [
    "Arguments that were previously passed through the decorator are now moved to the `super().__init__()`"
   ],
   "metadata": {
    "collapsed": false,
    "pycharm": {
     "name": "#%% md\n"
    }
   }
  },
  {
   "cell_type": "code",
   "execution_count": null,
   "outputs": [],
   "source": [
    "@Node(always_changed=True)\n",
    "class HelloWorld:\n",
    "    pass\n",
    "\n",
    "\n",
    "# will now be passed through the `__init__`\n",
    "\n",
    "\n",
    "class HelloWorld(Node):\n",
    "    def __init__(self, always_changed=True):\n",
    "        super().__init__(always_changed=always_changed)\n",
    "\n",
    "\n",
    "# for named nodes this is mandatory like\n",
    "\n",
    "\n",
    "class HelloWorld(Node):\n",
    "    def __init__(self, name=None):\n",
    "        super().__init__(name=name)"
   ],
   "metadata": {
    "collapsed": false,
    "pycharm": {
     "name": "#%%\n"
    }
   }
  }
 ],
 "metadata": {
  "kernelspec": {
   "display_name": "Python 3",
   "language": "python",
   "name": "python3"
  },
  "language_info": {
   "codemirror_mode": {
    "name": "ipython",
    "version": 2
   },
   "file_extension": ".py",
   "mimetype": "text/x-python",
   "name": "python",
   "nbconvert_exporter": "python",
   "pygments_lexer": "ipython2",
   "version": "2.7.6"
  }
 },
 "nbformat": 4,
 "nbformat_minor": 0
}