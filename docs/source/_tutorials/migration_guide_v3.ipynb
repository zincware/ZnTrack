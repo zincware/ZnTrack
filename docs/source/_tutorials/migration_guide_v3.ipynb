{
 "cells": [
  {
   "cell_type": "markdown",
   "metadata": {
    "collapsed": true,
    "pycharm": {
     "name": "#%% md\n"
    }
   },
   "source": [
    "# ZnTrack v0.3 Migration Guide\n",
    "\n",
    "The new ZnTrack release v0.3 includes some restructures that are not backwards compatible.\n",
    "The reasons for these changes to the API are justified by better user experience, easier testing and more pythonic code.\n",
    "The following Guide will show how easy a prior ZnTrack setup can be migrated to ZnTrack v0.3.\n",
    "\n",
    "The main changes include\n",
    "\n",
    "- class inheritance replaces the `@Node` decorator\n",
    "- the `__call__` is no longer required to write the dvc files and can be replaced by `Node.write_graph()`\n",
    "- Loading a Node is now a classmethod `Node.load(name=<my_name>)`\n",
    "- `dvc.results` is replaced by `zn.outs` to seperate `zntrack.dvc` and `zntrack.zn`\n",
    "- `dvc.params` is depreciated and replaced by `zn.params` (it will be loaded, `dvc.<option>` is almost strictly related to file paths)\n",
    "\n",
    "Let's have a look at some examples:"
   ]
  },
  {
   "cell_type": "code",
   "execution_count": 1,
   "outputs": [],
   "source": [
    "from zntrack import Node, dvc, zn\n",
    "\n",
    "\n",
    "@Node()  # replaced by class inheritance\n",
    "class HelloWorld:\n",
    "    parameter = dvc.params()  # replaced by zn.params()\n",
    "    outs = dvc.result()  # replaced by zn.outs()\n",
    "\n",
    "    def __call__(self, param):  # can still be used, but must follow <node>.write_dvc\n",
    "        self.parameter = param\n",
    "\n",
    "    def run(self):\n",
    "        self.outs = self.parameter\n",
    "\n",
    "\n",
    "# Writing the DVC File:\n",
    "HelloWorld()(param=123)\n",
    "\n",
    "# Loading the Node\n",
    "hello_world = HelloWorld(load=True)"
   ],
   "metadata": {
    "collapsed": false,
    "pycharm": {
     "name": "#%%\n"
    }
   }
  },
  {
   "cell_type": "markdown",
   "source": [
    "This class would now look like"
   ],
   "metadata": {
    "collapsed": false,
    "pycharm": {
     "name": "#%% md\n"
    }
   }
  },
  {
   "cell_type": "code",
   "execution_count": null,
   "outputs": [],
   "source": [
    "class HelloWorld(Node):\n",
    "    parameter = zn.params()\n",
    "    outs = zn.outs()\n",
    "\n",
    "    def __init__(self, param=None, **kwargs):\n",
    "        # every argument must default to something\n",
    "        super().__init__(**kwargs)\n",
    "        self.parameter = param\n",
    "        if not self.is_loaded:\n",
    "            # some conditions in the init only work if the stage is not loaded!\n",
    "            # otherwise, it could be, that param=None.\n",
    "            if param > 10:\n",
    "                self.parameter = 10\n",
    "\n",
    "    def run(self):\n",
    "        self.outs = self.parameter\n",
    "\n",
    "\n",
    "# Writing the DVC File:\n",
    "HelloWorld(param=123).write_graph()\n",
    "\n",
    "# Loading the Node\n",
    "hello_world = HelloWorld.load()"
   ],
   "metadata": {
    "collapsed": false,
    "pycharm": {
     "name": "#%%\n"
    }
   }
  },
  {
   "cell_type": "markdown",
   "source": [
    "Arguments that were previously passed through the decorator are now moved to the `super().__init__()`"
   ],
   "metadata": {
    "collapsed": false,
    "pycharm": {
     "name": "#%% md\n"
    }
   }
  },
  {
   "cell_type": "code",
   "execution_count": null,
   "outputs": [],
   "source": [
    "@Node(always_changed=True)\n",
    "class HelloWorld:\n",
    "    pass\n",
    "\n",
    "\n",
    "# The extra parameters that were previously placed in the @Node\n",
    "# are now passed through kwargs (name) or through `write_graph()`\n",
    "\n",
    "\n",
    "class HelloWorld(Node):\n",
    "    def __init__(self, **kwargs):\n",
    "        super().__init__(**kwargs)\n",
    "\n",
    "\n",
    "# writing the graph with extra arguments\n",
    "HelloWorld(name=\"MyName\").write_graph(\n",
    "    always_changed=True,\n",
    "    external=True,\n",
    "    no_commit=True,\n",
    "    no_run_cache=True,\n",
    "    no_exec=False,\n",
    "    force=False,\n",
    ")\n",
    "\n",
    "# Loading a named Node\n",
    "HelloWorld.load(name=\"MyName\")"
   ],
   "metadata": {
    "collapsed": false,
    "pycharm": {
     "name": "#%%\n"
    }
   }
  }
 ],
 "metadata": {
  "kernelspec": {
   "display_name": "Python 3",
   "language": "python",
   "name": "python3"
  },
  "language_info": {
   "codemirror_mode": {
    "name": "ipython",
    "version": 2
   },
   "file_extension": ".py",
   "mimetype": "text/x-python",
   "name": "python",
   "nbconvert_exporter": "python",
   "pygments_lexer": "ipython2",
   "version": "2.7.6"
  }
 },
 "nbformat": 4,
 "nbformat_minor": 0
}