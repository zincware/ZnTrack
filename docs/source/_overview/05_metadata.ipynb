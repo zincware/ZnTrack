{
 "cells": [
  {
   "cell_type": "markdown",
   "id": "7be10adc-8677-4a69-87f6-489b10d7a989",
   "metadata": {},
   "source": [
    "# Metadata collection with ZnTrack\n",
    "\n",
    "ZnTrack allows for the collection of some metadata.\n",
    "One example is measuring the execution time of Nodes or even methods inside the Nodes easily.\n",
    "This can be achieved by using the `@TimeIt` decorator which is shown in the following example."
   ]
  },
  {
   "cell_type": "code",
   "execution_count": 1,
   "id": "c2ea08fe-7113-421e-b6b3-71b4e048c724",
   "metadata": {},
   "outputs": [
    {
     "name": "stdout",
     "output_type": "stream",
     "text": [
      "Initialized empty Git repository in /tikhome/fzills/Examples/ZnTrack/meta_data/.git/\n",
      "Initialized DVC repository.\n",
      "\n",
      "You can now commit the changes to git.\n",
      "\n",
      "\u001b[31m+---------------------------------------------------------------------+\n",
      "\u001b[0m\u001b[31m|\u001b[0m                                                                     \u001b[31m|\u001b[0m\n",
      "\u001b[31m|\u001b[0m        DVC has enabled anonymous aggregate usage analytics.         \u001b[31m|\u001b[0m\n",
      "\u001b[31m|\u001b[0m     Read the analytics documentation (and how to opt-out) here:     \u001b[31m|\u001b[0m\n",
      "\u001b[31m|\u001b[0m             <\u001b[36mhttps://dvc.org/doc/user-guide/analytics\u001b[39m>              \u001b[31m|\u001b[0m\n",
      "\u001b[31m|\u001b[0m                                                                     \u001b[31m|\u001b[0m\n",
      "\u001b[31m+---------------------------------------------------------------------+\n",
      "\u001b[0m\n",
      "\u001b[33mWhat's next?\u001b[39m\n",
      "\u001b[33m------------\u001b[39m\n",
      "- Check out the documentation: <\u001b[36mhttps://dvc.org/doc\u001b[39m>\n",
      "- Get help and share ideas: <\u001b[36mhttps://dvc.org/chat\u001b[39m>\n",
      "- Star us on GitHub: <\u001b[36mhttps://github.com/iterative/dvc\u001b[39m>\n",
      "\u001b[0m"
     ]
    }
   ],
   "source": [
    "!git init\n",
    "!dvc init"
   ]
  },
  {
   "cell_type": "code",
   "execution_count": 2,
   "id": "583b86ad-6395-4ff4-aa5c-c67d9f7a9f3b",
   "metadata": {},
   "outputs": [],
   "source": [
    "from zntrack import Node, dvc, config\n",
    "from zntrack.metadata import TimeIt\n",
    "from time import sleep"
   ]
  },
  {
   "cell_type": "code",
   "execution_count": 3,
   "id": "6b6e2c4c-ccf0-4d4a-9520-2b1631062524",
   "metadata": {},
   "outputs": [],
   "source": [
    "config.nb_name = \"05_metadata.ipynb\""
   ]
  },
  {
   "cell_type": "code",
   "execution_count": 4,
   "id": "bf980834-b0d5-4be4-ac26-d653736645f6",
   "metadata": {},
   "outputs": [
    {
     "name": "stdout",
     "output_type": "stream",
     "text": [
      "2021-11-10 17:12:19,498 (WARNING): Jupyter support is an experimental feature! Please save your notebook before running this command!\n",
      "Submit issues to https://github.com/zincware/ZnTrack.\n"
     ]
    },
    {
     "name": "stderr",
     "output_type": "stream",
     "text": [
      "[NbConvertApp] Converting notebook 05_metadata.ipynb to script\n",
      "[NbConvertApp] Writing 1321 bytes to 05_metadata.py\n"
     ]
    }
   ],
   "source": [
    "@Node(silent=True)\n",
    "class SleepNode:\n",
    "    @TimeIt\n",
    "    def run(self):\n",
    "        self.sleep_1s()\n",
    "        self.sleep_2s()\n",
    "    @TimeIt\n",
    "    def sleep_1s(self):\n",
    "        sleep(1)\n",
    "    def sleep_2s(self):\n",
    "        sleep(2)"
   ]
  },
  {
   "cell_type": "code",
   "execution_count": 5,
   "id": "e4e13211-1462-44d4-939a-9a96a057969e",
   "metadata": {},
   "outputs": [],
   "source": [
    "SleepNode()()"
   ]
  },
  {
   "cell_type": "code",
   "execution_count": 6,
   "id": "16bed3ba-be31-465d-916d-b566507e6c53",
   "metadata": {},
   "outputs": [
    {
     "name": "stdout",
     "output_type": "stream",
     "text": [
      "Running stage 'SleepNode':                                            core\u001b[39m>\n",
      "> python3 -c \"from src.SleepNode import SleepNode; SleepNode(load=True).run()\"\n",
      "Generating lock file 'dvc.lock'                                                 \n",
      "Updating lock file 'dvc.lock'\n",
      "\n",
      "To track the changes with git, run:\n",
      "\n",
      "\tgit add dvc.lock\n",
      "Use `dvc push` to send your updates to remote storage.\n",
      "\u001b[0m"
     ]
    }
   ],
   "source": [
    "!dvc repro"
   ]
  },
  {
   "cell_type": "code",
   "execution_count": 7,
   "id": "d87965c0-b9c9-40cc-9b63-dc9047c42915",
   "metadata": {},
   "outputs": [
    {
     "name": "stdout",
     "output_type": "stream",
     "text": [
      "Path                          metadata.run:timeit    metadata.sleep_1s:timeit9m>\n",
      "nodes/SleepNode/metrics.json  3.00369                1.00104\n",
      "\u001b[0m"
     ]
    }
   ],
   "source": [
    "!dvc metrics show"
   ]
  },
  {
   "cell_type": "markdown",
   "id": "8d5fdb4c-ae21-47d9-8c2f-e1c89d48a1da",
   "metadata": {},
   "source": [
    "We can also time a sinlge function multiple times, using the following example:"
   ]
  },
  {
   "cell_type": "code",
   "execution_count": 8,
   "id": "a689306e-4b24-44c7-a933-2482483090f9",
   "metadata": {},
   "outputs": [
    {
     "name": "stdout",
     "output_type": "stream",
     "text": [
      "2021-11-10 17:12:35,270 (WARNING): Jupyter support is an experimental feature! Please save your notebook before running this command!\n",
      "Submit issues to https://github.com/zincware/ZnTrack.\n"
     ]
    },
    {
     "name": "stderr",
     "output_type": "stream",
     "text": [
      "[NbConvertApp] Converting notebook 05_metadata.ipynb to script\n",
      "[NbConvertApp] Writing 1321 bytes to 05_metadata.py\n"
     ]
    }
   ],
   "source": [
    "@Node(silent=True)\n",
    "class SleepNodeMulti:\n",
    "    @TimeIt\n",
    "    def run(self):\n",
    "        self.sleep(1)\n",
    "        self.sleep(2)\n",
    "    @TimeIt\n",
    "    def sleep(self, time):\n",
    "        sleep(time)"
   ]
  },
  {
   "cell_type": "code",
   "execution_count": 9,
   "id": "cbc74582-c997-4050-8076-199ef2f63df6",
   "metadata": {},
   "outputs": [],
   "source": [
    "SleepNodeMulti()()"
   ]
  },
  {
   "cell_type": "code",
   "execution_count": 10,
   "id": "e9354e85-a974-46e0-a7d7-1d09fcd0e070",
   "metadata": {
    "tags": []
   },
   "outputs": [
    {
     "name": "stdout",
     "output_type": "stream",
     "text": [
      "Stage 'SleepNode' didn't change, skipping                             core\u001b[39m>\n",
      "Running stage 'SleepNodeMulti':\n",
      "> python3 -c \"from src.SleepNodeMulti import SleepNodeMulti; SleepNodeMulti(load=True).run()\"\n",
      "Updating lock file 'dvc.lock'                                                   \n",
      "\n",
      "To track the changes with git, run:\n",
      "\n",
      "\tgit add dvc.lock\n",
      "Use `dvc push` to send your updates to remote storage.\n",
      "\u001b[0m"
     ]
    }
   ],
   "source": [
    "!dvc repro"
   ]
  },
  {
   "cell_type": "code",
   "execution_count": 11,
   "id": "f8336ac2-bb26-45c7-9094-262f4de57126",
   "metadata": {},
   "outputs": [
    {
     "name": "stdout",
     "output_type": "stream",
     "text": [
      "Path                               metadata.run:timeit    metadata.sleep:timeit    metadata.sleep_1:timeit    metadata.sleep_1s:timeit\n",
      "nodes/SleepNode/metrics.json       3.00369                -                        -                          1.00104\n",
      "nodes/SleepNodeMulti/metrics.json  3.00379                1.00129                  2.00205                    -\n",
      "\u001b[0m"
     ]
    }
   ],
   "source": [
    "!dvc metrics show"
   ]
  },
  {
   "cell_type": "markdown",
   "id": "aca25029-74ec-457c-9759-8b80ec06bce9",
   "metadata": {},
   "source": [
    "One can also access the metrics directly within Python. This is possible, because they are just another `zn.metrics` which is automatically added when using one of the given metadata decorators."
   ]
  },
  {
   "cell_type": "code",
   "execution_count": 12,
   "id": "6b6d4e62-f2db-4550-b89c-9012c3387cbf",
   "metadata": {},
   "outputs": [
    {
     "data": {
      "text/plain": [
       "{'sleep:timeit': 1.0012879371643066,\n",
       " 'sleep_1:timeit': 2.002049446105957,\n",
       " 'run:timeit': 3.003790855407715}"
      ]
     },
     "execution_count": 12,
     "metadata": {},
     "output_type": "execute_result"
    }
   ],
   "source": [
    "SleepNodeMulti(load=True).metadata"
   ]
  }
 ],
 "metadata": {
  "kernelspec": {
   "display_name": "Python 3 (ipykernel)",
   "language": "python",
   "name": "python3"
  },
  "language_info": {
   "codemirror_mode": {
    "name": "ipython",
    "version": 3
   },
   "file_extension": ".py",
   "mimetype": "text/x-python",
   "name": "python",
   "nbconvert_exporter": "python",
   "pygments_lexer": "ipython3",
   "version": "3.9.7"
  }
 },
 "nbformat": 4,
 "nbformat_minor": 5
}
