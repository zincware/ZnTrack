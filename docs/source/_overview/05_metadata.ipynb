{
 "cells": [
  {
   "cell_type": "markdown",
   "id": "7be10adc-8677-4a69-87f6-489b10d7a989",
   "metadata": {
    "tags": []
   },
   "source": [
    "# Metadata collection with ZnTrack\n",
    "\n",
    "ZnTrack allows for the collection of some metadata.\n",
    "One example is measuring the execution time of Nodes or even methods inside the Nodes easily.\n",
    "This can be achieved by using the `@TimeIt` decorator which is shown in the following example."
   ]
  },
  {
   "cell_type": "code",
   "execution_count": 1,
   "id": "f0676d7e-7803-488c-9891-d500d55aa47f",
   "metadata": {},
   "outputs": [],
   "source": [
    "from zntrack import Node, zn, config\n",
    "from zntrack.metadata import TimeIt\n",
    "from time import sleep\n",
    "\n",
    "config.nb_name = \"05_metadata.ipynb\""
   ]
  },
  {
   "cell_type": "code",
   "execution_count": 2,
   "id": "355f3eb2-b42b-43d6-aa18-29dfa579b742",
   "metadata": {
    "nbsphinx": "hidden",
    "tags": []
   },
   "outputs": [],
   "source": [
    "from zntrack.utils import cwd_temp_dir\n",
    "\n",
    "temp_dir = cwd_temp_dir()"
   ]
  },
  {
   "cell_type": "code",
   "execution_count": 3,
   "id": "c2ea08fe-7113-421e-b6b3-71b4e048c724",
   "metadata": {},
   "outputs": [
    {
     "name": "stdout",
     "output_type": "stream",
     "text": [
      "Initialized empty Git repository in C:/Users/fabia/AppData/Local/Temp/tmp67vxo_51/.git/\n",
      "Initialized DVC repository.\n",
      "\n",
      "You can now commit the changes to git.\n",
      "\n",
      "+---------------------------------------------------------------------+\n",
      "|                                                                     |\n",
      "|        DVC has enabled anonymous aggregate usage analytics.         |\n",
      "|     Read the analytics documentation (and how to opt-out) here:     |\n",
      "|             <https://dvc.org/doc/user-guide/analytics>              |\n",
      "|                                                                     |\n",
      "+---------------------------------------------------------------------+\n",
      "\n",
      "What's next?\n",
      "------------\n",
      "- Check out the documentation: <https://dvc.org/doc>\n",
      "- Get help and share ideas: <https://dvc.org/chat>\n",
      "- Star us on GitHub: <https://github.com/iterative/dvc>\n"
     ]
    }
   ],
   "source": [
    "!git init\n",
    "!dvc init"
   ]
  },
  {
   "cell_type": "code",
   "execution_count": 4,
   "id": "bf980834-b0d5-4be4-ac26-d653736645f6",
   "metadata": {},
   "outputs": [],
   "source": [
    "class SleepNode(Node):\n",
    "    metadata = zn.metadata()\n",
    "\n",
    "    @TimeIt\n",
    "    def run(self):\n",
    "        self.sleep_1s()\n",
    "        self.sleep_2s()\n",
    "\n",
    "    @TimeIt\n",
    "    def sleep_1s(self):\n",
    "        sleep(1)\n",
    "\n",
    "    def sleep_2s(self):\n",
    "        sleep(2)"
   ]
  },
  {
   "cell_type": "code",
   "execution_count": 5,
   "id": "e4e13211-1462-44d4-939a-9a96a057969e",
   "metadata": {},
   "outputs": [
    {
     "name": "stdout",
     "output_type": "stream",
     "text": [
      "2022-01-13 21:14:07,252 (WARNING): Jupyter support is an experimental feature! Please save your notebook before running this command!\n",
      "Submit issues to https://github.com/zincware/ZnTrack.\n",
      "2022-01-13 21:14:07,253 (WARNING): Converting 05_metadata.ipynb to file SleepNode.py\n",
      "2022-01-13 21:14:09,787 (WARNING): --- Writing new DVC file! ---\n",
      "2022-01-13 21:14:09,788 (WARNING): You will not be able to see the stdout/stderr of the process in real time!\n",
      "2022-01-13 21:14:15,249 (INFO): Running stage 'SleepNode':\r\n",
      "> python -c \"from src.SleepNode import SleepNode; SleepNode.load(name='SleepNode').run_and_save()\" \r\n",
      "Creating 'dvc.yaml'\r\n",
      "Adding stage 'SleepNode' in 'dvc.yaml'\r\n",
      "Generating lock file 'dvc.lock'\r\n",
      "Updating lock file 'dvc.lock'\r\n",
      "\r\n",
      "To track the changes with git, run:\r\n",
      "\r\n",
      "\tgit add dvc.lock dvc.yaml\r\n",
      "\n"
     ]
    }
   ],
   "source": [
    "SleepNode().write_graph(no_exec=False)"
   ]
  },
  {
   "cell_type": "code",
   "execution_count": 6,
   "id": "d87965c0-b9c9-40cc-9b63-dc9047c42915",
   "metadata": {},
   "outputs": [
    {
     "name": "stdout",
     "output_type": "stream",
     "text": [
      "Path                                   metadata.run:timeit    metadata.sleep_1s:timeit\n",
      "nodes\\SleepNode\\metrics_no_cache.json  3.03                   1.015\n"
     ]
    }
   ],
   "source": [
    "!dvc metrics show"
   ]
  },
  {
   "cell_type": "markdown",
   "id": "8d5fdb4c-ae21-47d9-8c2f-e1c89d48a1da",
   "metadata": {},
   "source": [
    "We can also time a sinlge function multiple times, using the following example:"
   ]
  },
  {
   "cell_type": "code",
   "execution_count": 7,
   "id": "a689306e-4b24-44c7-a933-2482483090f9",
   "metadata": {},
   "outputs": [],
   "source": [
    "class SleepNodeMulti(Node):\n",
    "    metadata = zn.metadata()\n",
    "\n",
    "    @TimeIt\n",
    "    def run(self):\n",
    "        self.sleep(1)\n",
    "        self.sleep(2)\n",
    "\n",
    "    @TimeIt\n",
    "    def sleep(self, time):\n",
    "        sleep(time)"
   ]
  },
  {
   "cell_type": "code",
   "execution_count": 8,
   "id": "cbc74582-c997-4050-8076-199ef2f63df6",
   "metadata": {},
   "outputs": [
    {
     "name": "stdout",
     "output_type": "stream",
     "text": [
      "2022-01-13 21:14:16,917 (WARNING): Jupyter support is an experimental feature! Please save your notebook before running this command!\n",
      "Submit issues to https://github.com/zincware/ZnTrack.\n",
      "2022-01-13 21:14:16,918 (WARNING): Converting 05_metadata.ipynb to file SleepNodeMulti.py\n",
      "2022-01-13 21:14:19,191 (WARNING): --- Writing new DVC file! ---\n",
      "2022-01-13 21:14:19,191 (WARNING): You will not be able to see the stdout/stderr of the process in real time!\n",
      "2022-01-13 21:14:24,447 (INFO): Running stage 'SleepNodeMulti':\r\n",
      "> python -c \"from src.SleepNodeMulti import SleepNodeMulti; SleepNodeMulti.load(name='SleepNodeMulti').run_and_save()\" \r\n",
      "Adding stage 'SleepNodeMulti' in 'dvc.yaml'\r\n",
      "Updating lock file 'dvc.lock'\r\n",
      "\r\n",
      "To track the changes with git, run:\r\n",
      "\r\n",
      "\tgit add dvc.lock dvc.yaml\r\n",
      "\n"
     ]
    }
   ],
   "source": [
    "SleepNodeMulti().write_graph(no_exec=False)"
   ]
  },
  {
   "cell_type": "code",
   "execution_count": 9,
   "id": "f8336ac2-bb26-45c7-9094-262f4de57126",
   "metadata": {},
   "outputs": [
    {
     "name": "stdout",
     "output_type": "stream",
     "text": [
      "Path                                        metadata.run:timeit    metadata.sleep:timeit    metadata.sleep_1:timeit    metadata.sleep_1s:timeit\n",
      "nodes\\SleepNode\\metrics_no_cache.json       3.03                   -                        -                          1.015\n",
      "nodes\\SleepNodeMulti\\metrics_no_cache.json  3.025                  1.01                     2.015                      -\n"
     ]
    }
   ],
   "source": [
    "!dvc metrics show"
   ]
  },
  {
   "cell_type": "markdown",
   "id": "aca25029-74ec-457c-9759-8b80ec06bce9",
   "metadata": {},
   "source": [
    "One can also access the metrics directly within Python. This is possible, because they are just another `zn.metrics` which is automatically added when using one of the given metadata decorators."
   ]
  },
  {
   "cell_type": "code",
   "execution_count": 10,
   "id": "6b6d4e62-f2db-4550-b89c-9012c3387cbf",
   "metadata": {},
   "outputs": [
    {
     "data": {
      "text/plain": "{'sleep:timeit': 1.0100021362304688,\n 'sleep_1:timeit': 2.014997959136963,\n 'run:timeit': 3.0250000953674316}"
     },
     "execution_count": 10,
     "metadata": {},
     "output_type": "execute_result"
    }
   ],
   "source": [
    "SleepNodeMulti.load().metadata"
   ]
  },
  {
   "cell_type": "code",
   "execution_count": null,
   "id": "35ed65a1-9590-43f8-8aa9-244fd187f823",
   "metadata": {
    "nbsphinx": "hidden",
    "tags": [],
    "pycharm": {
     "is_executing": true
    }
   },
   "outputs": [],
   "source": [
    "temp_dir.cleanup()"
   ]
  }
 ],
 "metadata": {
  "kernelspec": {
   "display_name": "Python 3 (ipykernel)",
   "language": "python",
   "name": "python3"
  },
  "language_info": {
   "codemirror_mode": {
    "name": "ipython",
    "version": 3
   },
   "file_extension": ".py",
   "mimetype": "text/x-python",
   "name": "python",
   "nbconvert_exporter": "python",
   "pygments_lexer": "ipython3",
   "version": "3.9.7"
  }
 },
 "nbformat": 4,
 "nbformat_minor": 5
}