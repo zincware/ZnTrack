{
 "cells": [
  {
   "cell_type": "markdown",
   "metadata": {
    "pycharm": {
     "name": "#%% md\n"
    }
   },
   "source": [
    "# Overview\n",
    "\n",
    "ZnTrack is designed as an object oriented mapper for [DVC](https://dvc.org/).\n",
    "For an introduction we highly recommend reading the [DVC Getting Started](https://dvc.org/doc/start).\n",
    "Besides version controlled data management, DVC provides method for building a dependency graph, tracking parameters, comparing metrics, reducing computational overhead and queueing multiple runs.\n",
    "\n",
    "**Why does it need an object-oriented mapper?**\n",
    "\n",
    "Whilst DVC provides all this functionality it is designed to be programming language independent.\n",
    "This can require writing custom python scripts, reading and writing config files and managing depencencies.\n",
    "\n",
    "ZnTrack is designed to make these steps as easy and well integrated with Python as possible.\n",
    "In comparison  to the DVC backbone, it is aimed directly at python developeres and therefore allows a highly adapted and optimized interface.\n",
    "\n",
    "## Structure\n",
    "ZnTrack is based on two parts, a class decorator and descriptors for e.g. parameter tracking.\n",
    "\n",
    "### Node class decorator\n",
    "        \n",
    "The `@Node` decorator converts a Python class into a DVC stage, by wrapping the `__init__`, `__call__` and `run`. It handles almost all of the required steps to create a DVC stage.\n",
    "\n",
    "### ZnTrackOptions\n",
    "\n",
    "ZnTrackOptions are custom descriptors (implementing a custom `__get__` and `__set__` method) that are used to track parameters as well as defining dependencies, metrics or other outputs."
   ]
  },
  {
   "cell_type": "code",
   "execution_count": 1,
   "metadata": {
    "nbsphinx": "hidden",
    "tags": []
   },
   "outputs": [
    {
     "name": "stdout",
     "output_type": "stream",
     "text": [
      "Initialized empty Git repository in /tikhome/fzills/PycharmProjects/ZnTrack/docs/source/_overview/01_Intro/.git/\n",
      "Initialized DVC repository.\n",
      "\n",
      "You can now commit the changes to git.\n",
      "\n",
      "\u001B[31m+---------------------------------------------------------------------+\n",
      "\u001B[0m\u001B[31m|\u001B[0m                                                                     \u001B[31m|\u001B[0m\n",
      "\u001B[31m|\u001B[0m        DVC has enabled anonymous aggregate usage analytics.         \u001B[31m|\u001B[0m\n",
      "\u001B[31m|\u001B[0m     Read the analytics documentation (and how to opt-out) here:     \u001B[31m|\u001B[0m\n",
      "\u001B[31m|\u001B[0m             <\u001B[36mhttps://dvc.org/doc/user-guide/analytics\u001B[39m>              \u001B[31m|\u001B[0m\n",
      "\u001B[31m|\u001B[0m                                                                     \u001B[31m|\u001B[0m\n",
      "\u001B[31m+---------------------------------------------------------------------+\n",
      "\u001B[0m\n",
      "\u001B[33mWhat's next?\u001B[39m\n",
      "\u001B[33m------------\u001B[39m\n",
      "- Check out the documentation: <\u001B[36mhttps://dvc.org/doc\u001B[39m>\n",
      "- Get help and share ideas: <\u001B[36mhttps://dvc.org/chat\u001B[39m>\n",
      "- Star us on GitHub: <\u001B[36mhttps://github.com/iterative/dvc\u001B[39m>\n",
      "\u001B[0m"
     ]
    }
   ],
   "source": [
    "!git init\n",
    "!dvc init"
   ]
  },
  {
   "cell_type": "markdown",
   "metadata": {
    "pycharm": {
     "name": "#%% md\n"
    },
    "tags": []
   },
   "source": [
    "## Stages\n",
    "DVC organizes its pipeline in multiple stages.\n",
    "When using ZnTrack we can write our code inside a jupyter notebook.\n",
    "We can make use of this functionality by setting the `nb_name` config as follows:"
   ]
  },
  {
   "cell_type": "code",
   "execution_count": 2,
   "metadata": {},
   "outputs": [],
   "source": [
    "from zntrack import Node, config\n",
    "\n",
    "config.nb_name = \"01_Intro.ipynb\""
   ]
  },
  {
   "cell_type": "markdown",
   "metadata": {},
   "source": [
    "To define a stage or node on the execution graph, we can start with a Python class implementing only a `run` method.\n",
    "The class must implement a `run` method, which is the entry point for the computation executed by DVC.\n",
    "To convert the class into a ZnTrack Node we apply the `@Node()` decorator to it.\n",
    "\n",
    "There are two things we can do with the stage at this point.\n",
    "\n",
    "1. Create a new instance of the Node.\n",
    "After instantiation of the new instance we can set attributes, e.g. parameters or dependencies.\n",
    "Ideally no expensive calculations are required at this stage, because we only want to create a frame for our method.\n",
    "\n",
    "2. Calling the stage.\n",
    "If no explicit `__call__` method is defined, ZnTrack will add one to our stage.\n",
    "This method is usually the place to interface with the user, passing parameters, dependencies, outputs, etc. .\n",
    "After the call, the class will write the stage to the `dvc.yaml` file and we are ready to run the stage via DVC."
   ]
  },
  {
   "cell_type": "code",
   "execution_count": 3,
   "metadata": {
    "collapsed": false,
    "jupyter": {
     "outputs_hidden": false
    },
    "pycharm": {
     "name": "#%%\n"
    }
   },
   "outputs": [
    {
     "name": "stdout",
     "output_type": "stream",
     "text": [
      "2021-10-20 10:45:49,472 (WARNING): Jupyter support is an experimental feature! Please save your notebook before running this command!\n",
      "Submit issues to https://github.com/zincware/ZnTrack.\n"
     ]
    },
    {
     "name": "stderr",
     "output_type": "stream",
     "text": [
      "[NbConvertApp] Converting notebook 01_Intro.ipynb to script\n"
     ]
    },
    {
     "name": "stdout",
     "output_type": "stream",
     "text": [
      "2021-10-20 10:45:52,837 (WARNING): --- Writing new DVC file! ---\n",
      "2021-10-20 10:45:52,837 (WARNING): Overwriting existing configuration!\n"
     ]
    },
    {
     "name": "stderr",
     "output_type": "stream",
     "text": [
      "[NbConvertApp] Writing 10398 bytes to 01_Intro.py\n"
     ]
    },
    {
     "name": "stdout",
     "output_type": "stream",
     "text": [
      "2021-10-20 10:45:56,164 (INFO): Creating 'dvc.yaml'\n",
      "Adding stage 'Stage0' in 'dvc.yaml'\n",
      "\n",
      "To track the changes with git, run:\n",
      "\n",
      "\tgit add dvc.yaml outs/.gitignore\n",
      "\n"
     ]
    }
   ],
   "source": [
    "@Node()\n",
    "class Stage0:\n",
    "    def run(self):\n",
    "        pass\n",
    "\n",
    "\n",
    "stage_0 = Stage0()\n",
    "stage_0()"
   ]
  },
  {
   "cell_type": "code",
   "execution_count": 4,
   "metadata": {},
   "outputs": [
    {
     "name": "stdout",
     "output_type": "stream",
     "text": [
      "\u001B[01;34m.\u001B[00m\n",
      "├── 01_Intro.ipynb\n",
      "├── \u001B[01;34mconfig\u001B[00m\n",
      "│   └── zntrack.json\n",
      "├── dvc.yaml\n",
      "├── \u001B[01;34mouts\u001B[00m\n",
      "└── \u001B[01;34msrc\u001B[00m\n",
      "    └── Stage0.py\n",
      "\n",
      "3 directories, 4 files\n"
     ]
    }
   ],
   "source": [
    "!tree"
   ]
  },
  {
   "cell_type": "markdown",
   "metadata": {},
   "source": [
    "We can see, that ZnTrack has created a `dvc.yaml` file for us (using DVC in the backend)."
   ]
  },
  {
   "cell_type": "code",
   "execution_count": 5,
   "metadata": {
    "tags": []
   },
   "outputs": [
    {
     "data": {
      "text/plain": [
       "stages:\n",
       "  Stage0:\n",
       "    cmd: python3 -c \"from src.Stage0 import Stage0; Stage0(load=True).run()\"\n",
       "    deps:\n",
       "    - src/Stage0.py\n",
       "    outs:\n",
       "    - outs/Stage0.json\n"
      ]
     },
     "metadata": {},
     "output_type": "display_data"
    }
   ],
   "source": [
    "from IPython.display import Pretty, display\n",
    "\n",
    "display(Pretty(\"dvc.yaml\"))"
   ]
  },
  {
   "cell_type": "markdown",
   "metadata": {},
   "source": [
    "We can see, that it does run `Stage0(load=True).run()` I.e. this method must be able to run on its own.\n",
    "In addition to that a config file has been created, but our stage does not yet depend on it.\n",
    "This makes sense because no parameters have been defined.\n",
    "The file `outs/Stage0.json` will be used to store Node results and is required for dependency handling."
   ]
  },
  {
   "cell_type": "code",
   "execution_count": 6,
   "metadata": {
    "tags": []
   },
   "outputs": [
    {
     "data": {
      "text/plain": [
       "{\n",
       "    \"Stage0\": {},\n",
       "    \"default\": null\n",
       "}"
      ]
     },
     "metadata": {},
     "output_type": "display_data"
    }
   ],
   "source": [
    "display(Pretty(\"config/zntrack.json\"))"
   ]
  },
  {
   "cell_type": "markdown",
   "metadata": {},
   "source": [
    "We can now use `dvc  repro` to execute our code, which in result does nothing yet"
   ]
  },
  {
   "cell_type": "code",
   "execution_count": 7,
   "metadata": {},
   "outputs": [
    {
     "name": "stdout",
     "output_type": "stream",
     "text": [
      "Running stage 'Stage0':                                               core\u001B[39m>\n",
      "> python3 -c \"from src.Stage0 import Stage0; Stage0(load=True).run()\"\n",
      "2021-10-20 10:45:59,482 (WARNING): No results found!\n",
      "Generating lock file 'dvc.lock'                                                 \n",
      "Updating lock file 'dvc.lock'\n",
      "\n",
      "To track the changes with git, run:\n",
      "\n",
      "\tgit add dvc.lock\n",
      "Use `dvc push` to send your updates to remote storage.\n",
      "\u001B[0m"
     ]
    }
   ],
   "source": [
    "!dvc repro"
   ]
  },
  {
   "cell_type": "markdown",
   "metadata": {},
   "source": [
    "### ZnTrack Results\n",
    "We can see, that the Node ran without issues.\n",
    "Unfortunately, the Node we just created doesn't do anything.\n",
    "In our first example we would like to create a random number and save the results.\n",
    "We can do this utilizing `dvc.result` which is a special type of DVC outs file, managed by ZnTrack.\n",
    "We do this by defining a class level attribute.\n",
    "This is similar to setting a Python `@property` where `__get__` and `__set__` has some custom handling assigned to it.\n",
    "In comparison to the `@property` we do not need to think about the `getter/setter`."
   ]
  },
  {
   "cell_type": "code",
   "execution_count": 8,
   "metadata": {},
   "outputs": [
    {
     "name": "stdout",
     "output_type": "stream",
     "text": [
      "2021-10-20 10:46:00,171 (WARNING): Jupyter support is an experimental feature! Please save your notebook before running this command!\n",
      "Submit issues to https://github.com/zincware/ZnTrack.\n"
     ]
    },
    {
     "name": "stderr",
     "output_type": "stream",
     "text": [
      "[NbConvertApp] Converting notebook 01_Intro.ipynb to script\n"
     ]
    },
    {
     "name": "stdout",
     "output_type": "stream",
     "text": [
      "2021-10-20 10:46:03,346 (WARNING): --- Writing new DVC file! ---\n",
      "2021-10-20 10:46:03,347 (WARNING): Overwriting existing configuration!\n"
     ]
    },
    {
     "name": "stderr",
     "output_type": "stream",
     "text": [
      "[NbConvertApp] Writing 10398 bytes to 01_Intro.py\n"
     ]
    },
    {
     "name": "stdout",
     "output_type": "stream",
     "text": [
      "2021-10-20 10:46:06,282 (INFO): Adding stage 'RandomNumber' in 'dvc.yaml'\n",
      "\n",
      "To track the changes with git, run:\n",
      "\n",
      "\tgit add dvc.yaml outs/.gitignore\n",
      "\n"
     ]
    }
   ],
   "source": [
    "from zntrack import dvc\n",
    "from random import randrange\n",
    "\n",
    "\n",
    "@Node()\n",
    "class RandomNumber:\n",
    "    number = dvc.result()\n",
    "\n",
    "    def run(self):\n",
    "        self.number = randrange(10)\n",
    "\n",
    "\n",
    "random_number = RandomNumber()\n",
    "random_number()"
   ]
  },
  {
   "cell_type": "markdown",
   "metadata": {},
   "source": [
    "We can access the results of our Node by passing `load=True`. This will currently give us a warning and simply return None,\n",
    " because we haven't actually executed the `run` method yet. Again, this is done via `dvc repro`"
   ]
  },
  {
   "cell_type": "code",
   "execution_count": 9,
   "metadata": {},
   "outputs": [
    {
     "name": "stdout",
     "output_type": "stream",
     "text": [
      "2021-10-20 10:46:06,296 (WARNING): No results found!\n"
     ]
    }
   ],
   "source": [
    "RandomNumber(load=True).number"
   ]
  },
  {
   "cell_type": "code",
   "execution_count": 10,
   "metadata": {},
   "outputs": [
    {
     "name": "stdout",
     "output_type": "stream",
     "text": [
      "Stage 'Stage0' didn't change, skipping                                core\u001B[39m>\n",
      "Running stage 'RandomNumber':\n",
      "> python3 -c \"from src.RandomNumber import RandomNumber; RandomNumber(load=True).run()\"\n",
      "2021-10-20 10:46:09,330 (WARNING): No results found!\n",
      "Updating lock file 'dvc.lock'                                                   \n",
      "\n",
      "To track the changes with git, run:\n",
      "\n",
      "\tgit add dvc.lock\n",
      "Use `dvc push` to send your updates to remote storage.\n",
      "\u001B[0m"
     ]
    }
   ],
   "source": [
    "!dvc repro"
   ]
  },
  {
   "cell_type": "markdown",
   "metadata": {},
   "source": [
    "Now we can have a look at our result and work with it."
   ]
  },
  {
   "cell_type": "code",
   "execution_count": 11,
   "metadata": {},
   "outputs": [
    {
     "data": {
      "text/plain": [
       "2"
      ]
     },
     "execution_count": 11,
     "metadata": {},
     "output_type": "execute_result"
    }
   ],
   "source": [
    "RandomNumber(load=True).number"
   ]
  },
  {
   "cell_type": "markdown",
   "metadata": {},
   "source": [
    "Because we are using DVC, rerunning the graph via `dvc repro` will not result in a new computation, but instead it will use the cached value.\n",
    "Changing this is explained later."
   ]
  },
  {
   "cell_type": "markdown",
   "metadata": {},
   "source": [
    "### ZnTrack arguments\n",
    "Currently, our stage will always yield a random number in the hard coded range 0-9.\n",
    "ZnTrack Nodes become increasingly more interesting when introducing custom parameters.\n",
    " We can now start by adding a maximum value to our Node.\n"
   ]
  },
  {
   "cell_type": "code",
   "execution_count": 12,
   "metadata": {},
   "outputs": [
    {
     "name": "stdout",
     "output_type": "stream",
     "text": [
      "2021-10-20 10:46:09,945 (WARNING): Jupyter support is an experimental feature! Please save your notebook before running this command!\n",
      "Submit issues to https://github.com/zincware/ZnTrack.\n"
     ]
    },
    {
     "name": "stderr",
     "output_type": "stream",
     "text": [
      "[NbConvertApp] Converting notebook 01_Intro.ipynb to script\n"
     ]
    },
    {
     "name": "stdout",
     "output_type": "stream",
     "text": [
      "2021-10-20 10:46:13,290 (WARNING): --- Writing new DVC file! ---\n",
      "2021-10-20 10:46:13,291 (WARNING): Overwriting existing configuration!\n"
     ]
    },
    {
     "name": "stderr",
     "output_type": "stream",
     "text": [
      "[NbConvertApp] Writing 10398 bytes to 01_Intro.py\n"
     ]
    },
    {
     "name": "stdout",
     "output_type": "stream",
     "text": [
      "2021-10-20 10:46:16,500 (INFO): Adding stage 'MaxRandomNumber' in 'dvc.yaml'\n",
      "\n",
      "To track the changes with git, run:\n",
      "\n",
      "\tgit add dvc.yaml outs/.gitignore\n",
      "\n"
     ]
    }
   ],
   "source": [
    "@Node()\n",
    "class MaxRandomNumber:\n",
    "    number = dvc.result()\n",
    "    maximum = dvc.params()\n",
    "\n",
    "    def __call__(self, maximum):\n",
    "        self.maximum = maximum\n",
    "\n",
    "    def run(self):\n",
    "        self.number = randrange(self.maximum)\n",
    "\n",
    "\n",
    "max_random_number = MaxRandomNumber()\n",
    "max_random_number(maximum=512)"
   ]
  },
  {
   "cell_type": "code",
   "execution_count": 13,
   "metadata": {},
   "outputs": [
    {
     "name": "stdout",
     "output_type": "stream",
     "text": [
      "Stage 'RandomNumber' didn't change, skipping                          core\u001B[39m>\n",
      "Running stage 'MaxRandomNumber':\n",
      "> python3 -c \"from src.MaxRandomNumber import MaxRandomNumber; MaxRandomNumber(load=True).run()\"\n",
      "2021-10-20 10:46:19,810 (WARNING): No results found!\n",
      "Updating lock file 'dvc.lock'                                                   \n",
      "\n",
      "Stage 'Stage0' didn't change, skipping\n",
      "\n",
      "To track the changes with git, run:\n",
      "\n",
      "\tgit add dvc.lock\n",
      "Use `dvc push` to send your updates to remote storage.\n",
      "\u001B[0m"
     ]
    }
   ],
   "source": [
    "!dvc repro"
   ]
  },
  {
   "cell_type": "code",
   "execution_count": 14,
   "metadata": {},
   "outputs": [
    {
     "data": {
      "text/plain": [
       "501"
      ]
     },
     "execution_count": 14,
     "metadata": {},
     "output_type": "execute_result"
    }
   ],
   "source": [
    "MaxRandomNumber(load=True).number"
   ]
  },
  {
   "cell_type": "markdown",
   "metadata": {},
   "source": [
    "### Custom Types and Files\n",
    "\n",
    "When using arguments ZnTrack can handle the most basic python types and also some more complex types such as `pathlib.Path`.\n",
    "In the following example we introduce using paths as arguments and writing data to a custom output file.\n",
    "Therefore, we use `dvc.outs`"
   ]
  },
  {
   "cell_type": "code",
   "execution_count": 15,
   "metadata": {},
   "outputs": [
    {
     "name": "stdout",
     "output_type": "stream",
     "text": [
      "2021-10-20 10:46:20,480 (WARNING): Jupyter support is an experimental feature! Please save your notebook before running this command!\n",
      "Submit issues to https://github.com/zincware/ZnTrack.\n"
     ]
    },
    {
     "name": "stderr",
     "output_type": "stream",
     "text": [
      "[NbConvertApp] Converting notebook 01_Intro.ipynb to script\n"
     ]
    },
    {
     "name": "stdout",
     "output_type": "stream",
     "text": [
      "2021-10-20 10:46:23,978 (WARNING): --- Writing new DVC file! ---\n",
      "2021-10-20 10:46:23,979 (WARNING): Overwriting existing configuration!\n"
     ]
    },
    {
     "name": "stderr",
     "output_type": "stream",
     "text": [
      "[NbConvertApp] Writing 10398 bytes to 01_Intro.py\n"
     ]
    },
    {
     "name": "stdout",
     "output_type": "stream",
     "text": [
      "2021-10-20 10:46:27,041 (INFO): Adding stage 'WriteToFile' in 'dvc.yaml'\n",
      "\n",
      "To track the changes with git, run:\n",
      "\n",
      "\tgit add dvc.yaml outs/.gitignore\n",
      "\n"
     ]
    }
   ],
   "source": [
    "from pathlib import Path\n",
    "\n",
    "\n",
    "@Node()\n",
    "class WriteToFile:\n",
    "    filename: Path = dvc.outs()\n",
    "\n",
    "    def __call__(self, filename: Path):\n",
    "        self.filename = filename\n",
    "\n",
    "    def run(self):\n",
    "        self.filename.write_text('Lorem Ipsum')\n",
    "\n",
    "    def read_from_file(self):\n",
    "        print(self.filename.read_text())\n",
    "\n",
    "\n",
    "write_to_file = WriteToFile()\n",
    "write_to_file(filename=Path(\"outs\", \"example.txt\"))"
   ]
  },
  {
   "cell_type": "code",
   "execution_count": 16,
   "metadata": {},
   "outputs": [
    {
     "name": "stdout",
     "output_type": "stream",
     "text": [
      "Stage 'RandomNumber' didn't change, skipping                          core\u001B[39m>\n",
      "Stage 'MaxRandomNumber' didn't change, skipping\n",
      "Running stage 'WriteToFile':\n",
      "> python3 -c \"from src.WriteToFile import WriteToFile; WriteToFile(load=True).run()\"\n",
      "2021-10-20 10:46:30,172 (WARNING): No results found!\n",
      "Updating lock file 'dvc.lock'                                                   \n",
      "\n",
      "Stage 'Stage0' didn't change, skipping\n",
      "\n",
      "To track the changes with git, run:\n",
      "\n",
      "\tgit add dvc.lock\n",
      "Use `dvc push` to send your updates to remote storage.\n",
      "\u001B[0m"
     ]
    }
   ],
   "source": [
    "!dvc repro"
   ]
  },
  {
   "cell_type": "markdown",
   "metadata": {},
   "source": [
    "We can see, that a file in `outs` with our filename has been created.\n",
    "The file can be generated anywhere inside the DVC repository, but using the already exising `outs` directory can be handy.\n",
    "We can again load the Node and have a look at the filename and read from it."
   ]
  },
  {
   "cell_type": "code",
   "execution_count": 17,
   "metadata": {},
   "outputs": [
    {
     "data": {
      "text/plain": [
       "PosixPath('outs/example.txt')"
      ]
     },
     "execution_count": 17,
     "metadata": {},
     "output_type": "execute_result"
    }
   ],
   "source": [
    "WriteToFile(load=True).filename"
   ]
  },
  {
   "cell_type": "code",
   "execution_count": 18,
   "metadata": {},
   "outputs": [
    {
     "name": "stdout",
     "output_type": "stream",
     "text": [
      "Lorem Ipsum\n"
     ]
    }
   ],
   "source": [
    "WriteToFile(load=True).read_from_file()"
   ]
  },
  {
   "cell_type": "markdown",
   "metadata": {},
   "source": [
    "At this point our `dvc.yaml` file has grown a bit and looks like the following"
   ]
  },
  {
   "cell_type": "code",
   "execution_count": 19,
   "metadata": {},
   "outputs": [
    {
     "data": {
      "text/plain": [
       "stages:\n",
       "  Stage0:\n",
       "    cmd: python3 -c \"from src.Stage0 import Stage0; Stage0(load=True).run()\"\n",
       "    deps:\n",
       "    - src/Stage0.py\n",
       "    outs:\n",
       "    - outs/Stage0.json\n",
       "  RandomNumber:\n",
       "    cmd: python3 -c \"from src.RandomNumber import RandomNumber; RandomNumber(load=True).run()\"\n",
       "    deps:\n",
       "    - src/RandomNumber.py\n",
       "    outs:\n",
       "    - outs/RandomNumber.json\n",
       "  MaxRandomNumber:\n",
       "    cmd: python3 -c \"from src.MaxRandomNumber import MaxRandomNumber; MaxRandomNumber(load=True).run()\"\n",
       "    deps:\n",
       "    - src/MaxRandomNumber.py\n",
       "    params:\n",
       "    - config/zntrack.json:\n",
       "      - MaxRandomNumber.params\n",
       "    outs:\n",
       "    - outs/MaxRandomNumber.json\n",
       "  WriteToFile:\n",
       "    cmd: python3 -c \"from src.WriteToFile import WriteToFile; WriteToFile(load=True).run()\"\n",
       "    deps:\n",
       "    - src/WriteToFile.py\n",
       "    outs:\n",
       "    - outs/WriteToFile.json\n",
       "    - outs/example.txt\n"
      ]
     },
     "metadata": {},
     "output_type": "display_data"
    }
   ],
   "source": [
    "display(Pretty(\"dvc.yaml\"))"
   ]
  },
  {
   "cell_type": "markdown",
   "metadata": {},
   "source": [
    "We can also look at our `zntrack.json` file investigating the passed arguments:"
   ]
  },
  {
   "cell_type": "code",
   "execution_count": 20,
   "metadata": {},
   "outputs": [
    {
     "data": {
      "text/plain": [
       "{\n",
       "    \"Stage0\": {},\n",
       "    \"default\": null,\n",
       "    \"RandomNumber\": {},\n",
       "    \"MaxRandomNumber\": {\n",
       "        \"params\": {\n",
       "            \"maximum\": 512\n",
       "        }\n",
       "    },\n",
       "    \"WriteToFile\": {\n",
       "        \"outs\": {\n",
       "            \"filename\": {\n",
       "                \"Path\": \"outs/example.txt\"\n",
       "            }\n",
       "        }\n",
       "    }\n",
       "}"
      ]
     },
     "metadata": {},
     "output_type": "display_data"
    }
   ],
   "source": [
    "display(Pretty(\"config/zntrack.json\"))"
   ]
  },
  {
   "cell_type": "markdown",
   "metadata": {},
   "source": [
    "### ZnTrack Init\n",
    "\n",
    "As you may have already noticed we have not created an `__init__` yet.\n",
    "Arguments are passed to the `__call__` and `ZnTrackOptions (dvc.<...>)` are defined on a class level.\n",
    "The following example will illustrate, why using the `__init__` can lead to confusing results.\n",
    "Therefore, we need to keep in mind, that DVC runs the following command:\n",
    "\n",
    "    python3 -c \"from src.Stage0 import Stage0; Stage0(load=True).run()\"\n",
    "    \n",
    "which we will use to imitate `dvc repro` in the following."
   ]
  },
  {
   "cell_type": "code",
   "execution_count": 21,
   "metadata": {},
   "outputs": [
    {
     "name": "stdout",
     "output_type": "stream",
     "text": [
      "2021-10-20 10:46:31,031 (WARNING): Jupyter support is an experimental feature! Please save your notebook before running this command!\n",
      "Submit issues to https://github.com/zincware/ZnTrack.\n"
     ]
    },
    {
     "name": "stderr",
     "output_type": "stream",
     "text": [
      "[NbConvertApp] Converting notebook 01_Intro.ipynb to script\n",
      "[NbConvertApp] Writing 10398 bytes to 01_Intro.py\n"
     ]
    }
   ],
   "source": [
    "@Node()\n",
    "class InitStage:\n",
    "    def __init__(self, value=\"Not defined\"):\n",
    "        self.value = value\n",
    "\n",
    "    def run(self):\n",
    "        print(self.value)"
   ]
  },
  {
   "cell_type": "code",
   "execution_count": 22,
   "metadata": {},
   "outputs": [
    {
     "name": "stdout",
     "output_type": "stream",
     "text": [
      "2021-10-20 10:46:34,315 (WARNING): --- Writing new DVC file! ---\n",
      "2021-10-20 10:46:34,316 (WARNING): Overwriting existing configuration!\n",
      "2021-10-20 10:46:37,250 (INFO): Adding stage 'InitStage' in 'dvc.yaml'\n",
      "\n",
      "To track the changes with git, run:\n",
      "\n",
      "\tgit add dvc.yaml outs/.gitignore\n",
      "\n",
      "Lorem Ipsum\n"
     ]
    }
   ],
   "source": [
    "init_stage = InitStage(value='Lorem Ipsum')\n",
    "init_stage()\n",
    "print(init_stage.value)"
   ]
  },
  {
   "cell_type": "code",
   "execution_count": 23,
   "metadata": {},
   "outputs": [
    {
     "name": "stdout",
     "output_type": "stream",
     "text": [
      "2021-10-20 10:46:37,265 (WARNING): No results found!\n",
      "Not defined\n"
     ]
    }
   ],
   "source": [
    "InitStage(load=True).run()"
   ]
  },
  {
   "cell_type": "markdown",
   "metadata": {},
   "source": [
    "We can see, that our passed value is not available during the command that is executed by `DVC`.\n",
    "This is important to keep in mind, when using ZnTrack.\n",
    "The issue can be easily solved by using `dvc.params()`.\n",
    "Although possible, it should be avoided to define them within the `__init__` and go for class level definitions.\n",
    "Nevertheless, the `__init__` can be used for e.g., defining class attributes or setting `ZnTrackOption`.\n",
    "We can therefore extend our `MaxRandomNumber` in the following way by a constant minimum value:"
   ]
  },
  {
   "cell_type": "code",
   "execution_count": 24,
   "metadata": {},
   "outputs": [
    {
     "name": "stdout",
     "output_type": "stream",
     "text": [
      "2021-10-20 10:46:37,276 (WARNING): Jupyter support is an experimental feature! Please save your notebook before running this command!\n",
      "Submit issues to https://github.com/zincware/ZnTrack.\n"
     ]
    },
    {
     "name": "stderr",
     "output_type": "stream",
     "text": [
      "[NbConvertApp] Converting notebook 01_Intro.ipynb to script\n"
     ]
    },
    {
     "name": "stdout",
     "output_type": "stream",
     "text": [
      "2021-10-20 10:46:40,406 (WARNING): --- Writing new DVC file! ---\n",
      "2021-10-20 10:46:40,407 (WARNING): Overwriting existing configuration!\n"
     ]
    },
    {
     "name": "stderr",
     "output_type": "stream",
     "text": [
      "[NbConvertApp] Writing 10398 bytes to 01_Intro.py\n"
     ]
    },
    {
     "name": "stdout",
     "output_type": "stream",
     "text": [
      "2021-10-20 10:46:43,359 (INFO): Adding stage 'InitMaxRandomNumber' in 'dvc.yaml'\n",
      "\n",
      "To track the changes with git, run:\n",
      "\n",
      "\tgit add dvc.yaml outs/.gitignore\n",
      "\n"
     ]
    }
   ],
   "source": [
    "@Node()\n",
    "class InitMaxRandomNumber:\n",
    "    number = dvc.result()\n",
    "    maximum = dvc.params()\n",
    "\n",
    "    def __init__(self):\n",
    "        self.minimum = 0\n",
    "\n",
    "    def __call__(self, maximum):\n",
    "        self.maximum = maximum\n",
    "\n",
    "    def run(self):\n",
    "        self.number = randrange(self.minimum, self.maximum)\n",
    "\n",
    "\n",
    "init_max_random_number = InitMaxRandomNumber()\n",
    "init_max_random_number(maximum=512)"
   ]
  },
  {
   "cell_type": "code",
   "execution_count": 25,
   "metadata": {},
   "outputs": [
    {
     "name": "stdout",
     "output_type": "stream",
     "text": [
      "Running stage 'InitStage':                                            core\u001B[39m>\n",
      "> python3 -c \"from src.InitStage import InitStage; InitStage(load=True).run()\"\n",
      "2021-10-20 10:46:46,326 (WARNING): No results found!\n",
      "Not defined\n",
      "Updating lock file 'dvc.lock'                                                   \n",
      "\n",
      "Stage 'Stage0' didn't change, skipping\n",
      "Stage 'MaxRandomNumber' didn't change, skipping\n",
      "Stage 'WriteToFile' didn't change, skipping\n",
      "Running stage 'InitMaxRandomNumber':\n",
      "> python3 -c \"from src.InitMaxRandomNumber import InitMaxRandomNumber; InitMaxRandomNumber(load=True).run()\"\n",
      "2021-10-20 10:46:48,106 (WARNING): No results found!\n",
      "Updating lock file 'dvc.lock'                                                   \n",
      "\n",
      "Stage 'RandomNumber' didn't change, skipping\n",
      "\n",
      "To track the changes with git, run:\n",
      "\n",
      "\tgit add dvc.lock\n",
      "Use `dvc push` to send your updates to remote storage.\n",
      "\u001B[0m"
     ]
    }
   ],
   "source": [
    "!dvc repro"
   ]
  },
  {
   "cell_type": "code",
   "execution_count": 26,
   "metadata": {},
   "outputs": [
    {
     "data": {
      "text/plain": [
       "97"
      ]
     },
     "execution_count": 26,
     "metadata": {},
     "output_type": "execute_result"
    }
   ],
   "source": [
    "InitMaxRandomNumber(load=True).number"
   ]
  },
  {
   "cell_type": "markdown",
   "metadata": {},
   "source": [
    "Because this is an essential property of ZnTrack and differs from most other Python code\n",
    " the following example DOES NOT work, because dvc will try to\n",
    " run `InitMaxRandomNumer(load=True).run()` without passing a value to `maximum` and therefore resulting in an error!"
   ]
  },
  {
   "cell_type": "markdown",
   "metadata": {},
   "source": [
    "```python\n",
    "\n",
    "@Node()\n",
    "class InitMaxRandomNumberWrong:\n",
    "    number = dvc.result()\n",
    "    maximum = dvc.params()\n",
    "    \n",
    "    def __init__(self, maximum):\n",
    "        self.minimum = 0\n",
    "        self.maximum = maximum\n",
    "        \n",
    "    def run(self):\n",
    "        self.number = randrange(self.minimum, self.maximum)\n",
    "```"
   ]
  },
  {
   "cell_type": "markdown",
   "metadata": {},
   "source": [
    "what does work would be the following version.\n",
    "But for code clarity it should be avoided if possible and the `__call__` should be utilized.\n",
    "Sometimes a combined approach might be inevitable, because e.g.,\n",
    "upon class instantiation a generated value shall be passed and later a user value."
   ]
  },
  {
   "cell_type": "code",
   "execution_count": 27,
   "metadata": {},
   "outputs": [
    {
     "name": "stdout",
     "output_type": "stream",
     "text": [
      "2021-10-20 10:46:48,962 (WARNING): Jupyter support is an experimental feature! Please save your notebook before running this command!\n",
      "Submit issues to https://github.com/zincware/ZnTrack.\n"
     ]
    },
    {
     "name": "stderr",
     "output_type": "stream",
     "text": [
      "[NbConvertApp] Converting notebook 01_Intro.ipynb to script\n",
      "[NbConvertApp] Writing 10398 bytes to 01_Intro.py\n"
     ]
    }
   ],
   "source": [
    "@Node()\n",
    "class InitMaxRandomNumberTrick:\n",
    "    number = dvc.result()\n",
    "    maximum = dvc.params()\n",
    "\n",
    "    def __init__(self, maximum=None):\n",
    "        self.minimum = 0\n",
    "        if maximum is not None:\n",
    "            self.maximum = maximum\n",
    "\n",
    "    def run(self):\n",
    "        self.number = randrange(self.minimum, self.maximum)"
   ]
  },
  {
   "cell_type": "code",
   "execution_count": 28,
   "metadata": {},
   "outputs": [
    {
     "name": "stdout",
     "output_type": "stream",
     "text": [
      "2021-10-20 10:46:52,229 (WARNING): --- Writing new DVC file! ---\n",
      "2021-10-20 10:46:52,230 (WARNING): Overwriting existing configuration!\n",
      "2021-10-20 10:46:55,209 (INFO): Adding stage 'InitMaxRandomNumberTrick' in 'dvc.yaml'\n",
      "\n",
      "To track the changes with git, run:\n",
      "\n",
      "\tgit add outs/.gitignore dvc.yaml\n",
      "\n",
      "Stage 'RandomNumber' didn't change, skipping                          core\u001B[39m>\n",
      "Stage 'Stage0' didn't change, skipping\n",
      "Stage 'InitMaxRandomNumber' didn't change, skipping\n",
      "Stage 'InitStage' didn't change, skipping\n",
      "Stage 'MaxRandomNumber' didn't change, skipping\n",
      "Stage 'WriteToFile' didn't change, skipping\n",
      "Running stage 'InitMaxRandomNumberTrick':\n",
      "> python3 -c \"from src.InitMaxRandomNumberTrick import InitMaxRandomNumberTrick; InitMaxRandomNumberTrick(load=True).run()\"\n",
      "2021-10-20 10:46:58,780 (WARNING): No results found!\n",
      "Updating lock file 'dvc.lock'                                                   \n",
      "\n",
      "To track the changes with git, run:\n",
      "\n",
      "\tgit add dvc.lock\n",
      "Use `dvc push` to send your updates to remote storage.\n",
      "\u001B[0m"
     ]
    }
   ],
   "source": [
    "init_max_random_number_trick = InitMaxRandomNumberTrick(maximum=4096)\n",
    "init_max_random_number_trick()\n",
    "!dvc repro"
   ]
  },
  {
   "cell_type": "code",
   "execution_count": 29,
   "metadata": {
    "pycharm": {
     "name": "#%%\n"
    }
   },
   "outputs": [
    {
     "data": {
      "text/plain": [
       "3121"
      ]
     },
     "execution_count": 29,
     "metadata": {},
     "output_type": "execute_result"
    }
   ],
   "source": [
    "InitMaxRandomNumberTrick(load=True).number"
   ]
  }
 ],
 "metadata": {
  "kernelspec": {
   "display_name": "Python 3 (ipykernel)",
   "language": "python",
   "name": "python3"
  },
  "language_info": {
   "codemirror_mode": {
    "name": "ipython",
    "version": 3
   },
   "file_extension": ".py",
   "mimetype": "text/x-python",
   "name": "python",
   "nbconvert_exporter": "python",
   "pygments_lexer": "ipython3",
   "version": "3.9.7"
  }
 },
 "nbformat": 4,
 "nbformat_minor": 4
}