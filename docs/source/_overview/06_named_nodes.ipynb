{
 "cells": [
  {
   "cell_type": "code",
   "execution_count": 1,
   "id": "ac2ff6f8-c61e-4dc7-9e9f-d0ba103540ee",
   "metadata": {},
   "outputs": [],
   "source": [
    "from zntrack import Node, dvc, config, zn"
   ]
  },
  {
   "cell_type": "code",
   "execution_count": 2,
   "id": "c7c9d484-81b6-4269-b506-c25fd5efe471",
   "metadata": {},
   "outputs": [],
   "source": [
    "config.nb_name = \"06_named_nodes.ipynb\""
   ]
  },
  {
   "cell_type": "code",
   "execution_count": 3,
   "id": "02b1bed1-bf12-47bb-8d60-2b40575cdb63",
   "metadata": {
    "tags": []
   },
   "outputs": [
    {
     "name": "stdout",
     "output_type": "stream",
     "text": [
      "Initialized empty Git repository in /tikhome/fzills/Examples/ZnTrack/named_stages/.git/\n",
      "Initialized DVC repository.\n",
      "\n",
      "You can now commit the changes to git.\n",
      "\n",
      "\u001b[31m+---------------------------------------------------------------------+\n",
      "\u001b[0m\u001b[31m|\u001b[0m                                                                     \u001b[31m|\u001b[0m\n",
      "\u001b[31m|\u001b[0m        DVC has enabled anonymous aggregate usage analytics.         \u001b[31m|\u001b[0m\n",
      "\u001b[31m|\u001b[0m     Read the analytics documentation (and how to opt-out) here:     \u001b[31m|\u001b[0m\n",
      "\u001b[31m|\u001b[0m             <\u001b[36mhttps://dvc.org/doc/user-guide/analytics\u001b[39m>              \u001b[31m|\u001b[0m\n",
      "\u001b[31m|\u001b[0m                                                                     \u001b[31m|\u001b[0m\n",
      "\u001b[31m+---------------------------------------------------------------------+\n",
      "\u001b[0m\n",
      "\u001b[33mWhat's next?\u001b[39m\n",
      "\u001b[33m------------\u001b[39m\n",
      "- Check out the documentation: <\u001b[36mhttps://dvc.org/doc\u001b[39m>\n",
      "- Get help and share ideas: <\u001b[36mhttps://dvc.org/chat\u001b[39m>\n",
      "- Star us on GitHub: <\u001b[36mhttps://github.com/iterative/dvc\u001b[39m>\n",
      "\u001b[0m"
     ]
    }
   ],
   "source": [
    "!git init\n",
    "!dvc init"
   ]
  },
  {
   "cell_type": "markdown",
   "id": "d20eda47-4757-4de5-b920-1db19ee0ef37",
   "metadata": {},
   "source": [
    "# Named Nodes\n",
    "Named Nodes allow us to use the same Node multiple times in a single graph at e.g. different steps. Therefore, we can pass a `name` argument to the `__init__` of our Node.\n",
    "\n",
    "<blockquote>Notice that this is one of only very few scenarios where we want to pass an argument directly to the `__init__`</blockquote>"
   ]
  },
  {
   "cell_type": "code",
   "execution_count": 4,
   "id": "6a704798-b67a-4863-b96c-60cdeb65d559",
   "metadata": {},
   "outputs": [
    {
     "name": "stdout",
     "output_type": "stream",
     "text": [
      "2021-11-15 16:05:35,448 (WARNING): Jupyter support is an experimental feature! Please save your notebook before running this command!\n",
      "Submit issues to https://github.com/zincware/ZnTrack.\n"
     ]
    },
    {
     "name": "stderr",
     "output_type": "stream",
     "text": [
      "[NbConvertApp] Converting notebook 06_named_nodes.ipynb to script\n",
      "[NbConvertApp] Writing 1688 bytes to 06_named_nodes.py\n"
     ]
    }
   ],
   "source": [
    "@Node()\n",
    "class HelloWorld():\n",
    "    inputs = dvc.params()\n",
    "    outputs = dvc.result()\n",
    "    \n",
    "    def __call__(self, inputs):\n",
    "        self.inputs = inputs\n",
    "    \n",
    "    def run(self):\n",
    "        self.outputs = self.inputs"
   ]
  },
  {
   "cell_type": "code",
   "execution_count": 5,
   "id": "2a04b805-bbda-49ca-97ef-efb761f67165",
   "metadata": {},
   "outputs": [
    {
     "name": "stdout",
     "output_type": "stream",
     "text": [
      "2021-11-15 16:05:38,525 (WARNING): --- Writing new DVC file! ---\n",
      "2021-11-15 16:05:38,526 (WARNING): Overwriting existing configuration!\n",
      "2021-11-15 16:05:41,642 (INFO): Creating 'dvc.yaml'\n",
      "Adding stage 'HelloWorld' in 'dvc.yaml'\n",
      "\n",
      "To track the changes with git, run:\n",
      "\n",
      "\tgit add dvc.yaml nodes/HelloWorld/.gitignore\n",
      "\n",
      "2021-11-15 16:05:41,649 (WARNING): --- Writing new DVC file! ---\n",
      "2021-11-15 16:05:41,649 (WARNING): Overwriting existing configuration!\n",
      "2021-11-15 16:05:44,559 (INFO): Adding stage 'Test01' in 'dvc.yaml'\n",
      "\n",
      "To track the changes with git, run:\n",
      "\n",
      "\tgit add nodes/Test01/.gitignore dvc.yaml\n",
      "\n",
      "2021-11-15 16:05:44,566 (WARNING): --- Writing new DVC file! ---\n",
      "2021-11-15 16:05:44,567 (WARNING): Overwriting existing configuration!\n",
      "2021-11-15 16:05:47,713 (INFO): Adding stage 'Test02' in 'dvc.yaml'\n",
      "\n",
      "To track the changes with git, run:\n",
      "\n",
      "\tgit add dvc.yaml nodes/Test02/.gitignore\n",
      "\n"
     ]
    }
   ],
   "source": [
    "HelloWorld()(inputs=3)\n",
    "HelloWorld(name=\"Test01\")(inputs=17)\n",
    "HelloWorld(name=\"Test02\")(inputs=42)"
   ]
  },
  {
   "cell_type": "code",
   "execution_count": 6,
   "id": "3a7977fc-5289-45f8-af08-dd3d6838da0a",
   "metadata": {},
   "outputs": [
    {
     "name": "stdout",
     "output_type": "stream",
     "text": [
      "Running stage 'Test01':                                               core\u001b[39m>\n",
      "> python3 -c \"from src.HelloWorld import HelloWorld; HelloWorld(load=True, name='Test01').run()\" \n",
      "Generating lock file 'dvc.lock'                                                 \n",
      "Updating lock file 'dvc.lock'\n",
      "\n",
      "Running stage 'HelloWorld':\n",
      "> python3 -c \"from src.HelloWorld import HelloWorld; HelloWorld(load=True, name='HelloWorld').run()\" \n",
      "Updating lock file 'dvc.lock'                                                   \n",
      "\n",
      "Running stage 'Test02':\n",
      "> python3 -c \"from src.HelloWorld import HelloWorld; HelloWorld(load=True, name='Test02').run()\" \n",
      "Updating lock file 'dvc.lock'                                                   \n",
      "\n",
      "To track the changes with git, run:\n",
      "\n",
      "\tgit add dvc.lock\n",
      "Use `dvc push` to send your updates to remote storage.\n",
      "\u001b[0m"
     ]
    }
   ],
   "source": [
    "!dvc repro"
   ]
  },
  {
   "cell_type": "code",
   "execution_count": 7,
   "id": "2b99fa5a-bc72-4834-8f75-98d79be58e4c",
   "metadata": {},
   "outputs": [
    {
     "name": "stdout",
     "output_type": "stream",
     "text": [
      "+------------+ \n",
      "| HelloWorld | \n",
      "+------------+ \n",
      "+--------+ \n",
      "| Test01 | \n",
      "+--------+ \n",
      "+--------+ \n",
      "| Test02 | \n",
      "+--------+ \n",
      "\u001b[0m"
     ]
    }
   ],
   "source": [
    "!dvc dag"
   ]
  },
  {
   "cell_type": "markdown",
   "id": "a8cbb47f-8a5b-4f56-9408-4b365e487ba8",
   "metadata": {},
   "source": [
    "We can now also build a Node that depends on multiple of the same Nodes"
   ]
  },
  {
   "cell_type": "code",
   "execution_count": 8,
   "id": "dc84f265-bffb-4e32-abf3-de7483a5d51d",
   "metadata": {},
   "outputs": [
    {
     "name": "stdout",
     "output_type": "stream",
     "text": [
      "2021-11-15 16:05:54,732 (WARNING): Jupyter support is an experimental feature! Please save your notebook before running this command!\n",
      "Submit issues to https://github.com/zincware/ZnTrack.\n"
     ]
    },
    {
     "name": "stderr",
     "output_type": "stream",
     "text": [
      "[NbConvertApp] Converting notebook 06_named_nodes.ipynb to script\n",
      "[NbConvertApp] Writing 1688 bytes to 06_named_nodes.py\n"
     ]
    }
   ],
   "source": [
    "@Node()\n",
    "class FindMaximum:\n",
    "    deps = dvc.deps([HelloWorld(load=True), HelloWorld(name=\"Test01\", load=True), HelloWorld(name=\"Test02\", load=True)])\n",
    "    maximum = zn.outs()\n",
    "    \n",
    "    def run(self):\n",
    "        self.maximum = 0\n",
    "        for node in self.deps:\n",
    "            if node.outputs > self.maximum:\n",
    "                self.maximum = node.outputs"
   ]
  },
  {
   "cell_type": "code",
   "execution_count": 9,
   "id": "7612adfd-b00b-4026-a586-def7bf37f91f",
   "metadata": {},
   "outputs": [
    {
     "name": "stdout",
     "output_type": "stream",
     "text": [
      "2021-11-15 16:05:57,653 (WARNING): --- Writing new DVC file! ---\n",
      "2021-11-15 16:05:57,654 (WARNING): Overwriting existing configuration!\n",
      "2021-11-15 16:06:00,897 (INFO): Adding stage 'FindMaximum' in 'dvc.yaml'\n",
      "\n",
      "To track the changes with git, run:\n",
      "\n",
      "\tgit add nodes/FindMaximum/.gitignore dvc.yaml\n",
      "\n"
     ]
    }
   ],
   "source": [
    "FindMaximum()()"
   ]
  },
  {
   "cell_type": "code",
   "execution_count": 10,
   "id": "73562b4c-8240-4e2d-807f-b328aa315d6f",
   "metadata": {},
   "outputs": [
    {
     "name": "stdout",
     "output_type": "stream",
     "text": [
      "+------------+          +--------+          +--------+ \n",
      "| HelloWorld |          | Test01 |          | Test02 | \n",
      "+------------+**        +--------+       ***+--------+ \n",
      "                ***          *        ***              \n",
      "                   ****     *     ****                 \n",
      "                       **   *   **                     \n",
      "                    +-------------+                    \n",
      "                    | FindMaximum |                    \n",
      "                    +-------------+                    \n",
      "\u001b[0m"
     ]
    }
   ],
   "source": [
    "!dvc dag"
   ]
  },
  {
   "cell_type": "code",
   "execution_count": 11,
   "id": "144f5866-bd2c-472f-8333-cb4229f56a44",
   "metadata": {},
   "outputs": [
    {
     "name": "stdout",
     "output_type": "stream",
     "text": [
      "Stage 'Test01' didn't change, skipping                                core\u001b[39m>\n",
      "Stage 'HelloWorld' didn't change, skipping\n",
      "Stage 'Test02' didn't change, skipping\n",
      "Running stage 'FindMaximum':\n",
      "> python3 -c \"from src.FindMaximum import FindMaximum; FindMaximum(load=True, name='FindMaximum').run()\" \n",
      "3\n",
      "17\n",
      "42\n",
      "Updating lock file 'dvc.lock'                                                   \n",
      "\n",
      "To track the changes with git, run:\n",
      "\n",
      "\tgit add dvc.lock\n",
      "Use `dvc push` to send your updates to remote storage.\n",
      "\u001b[0m"
     ]
    }
   ],
   "source": [
    "!dvc repro"
   ]
  },
  {
   "cell_type": "markdown",
   "id": "97067bfd-a085-4125-8adf-29e544c7f18a",
   "metadata": {},
   "source": [
    "Using this combined Node we can e.g. find the maximum of the generated values."
   ]
  },
  {
   "cell_type": "code",
   "execution_count": 13,
   "id": "a1455d7b-d53f-4d36-a539-cb128e316e95",
   "metadata": {},
   "outputs": [
    {
     "data": {
      "text/plain": [
       "42"
      ]
     },
     "execution_count": 13,
     "metadata": {},
     "output_type": "execute_result"
    }
   ],
   "source": [
    "FindMaximum(load=True).maximum"
   ]
  }
 ],
 "metadata": {
  "kernelspec": {
   "display_name": "Python 3 (ipykernel)",
   "language": "python",
   "name": "python3"
  },
  "language_info": {
   "codemirror_mode": {
    "name": "ipython",
    "version": 3
   },
   "file_extension": ".py",
   "mimetype": "text/x-python",
   "name": "python",
   "nbconvert_exporter": "python",
   "pygments_lexer": "ipython3",
   "version": "3.9.7"
  }
 },
 "nbformat": 4,
 "nbformat_minor": 5
}
