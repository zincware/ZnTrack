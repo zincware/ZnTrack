{
 "cells": [
  {
   "cell_type": "markdown",
   "id": "11e1b3ea-4c78-4a2e-a815-09d350e38a1b",
   "metadata": {},
   "source": [
    "# Optional DVC arguments\n",
    "\n",
    "There are more DVC Options https://dvc.org/doc/command-reference/run#options that can be important to some workflows.\n",
    "In the following we show how to use them with DVC."
   ]
  },
  {
   "cell_type": "markdown",
   "id": "226295e7-424a-45d3-9e16-c91e7f3fabd7",
   "metadata": {},
   "source": [
    "## External\n",
    "\n",
    "For `dvc run --external` the following can be used:"
   ]
  },
  {
   "cell_type": "code",
   "execution_count": 1,
   "id": "053af217-bf4f-485d-9892-e71d83824bbd",
   "metadata": {},
   "outputs": [],
   "source": [
    "from zntrack import Node, dvc, zn, config, ZnTrackProject\n",
    "from pathlib import Path\n",
    "import tempfile\n",
    "\n",
    "config.nb_name = \"OptionalDVC.ipynb\""
   ]
  },
  {
   "cell_type": "code",
   "execution_count": 2,
   "id": "5c19a9a4-89fa-4e58-9531-489f41a49c32",
   "metadata": {
    "nbsphinx": "hidden",
    "tags": []
   },
   "outputs": [],
   "source": [
    "from zntrack.utils import cwd_temp_dir\n",
    "\n",
    "temp_dir = cwd_temp_dir()"
   ]
  },
  {
   "cell_type": "code",
   "execution_count": 3,
   "id": "e6dd042e-4530-49ab-91ee-bb3fb732cd5d",
   "metadata": {},
   "outputs": [
    {
     "name": "stdout",
     "output_type": "stream",
     "text": [
      "2022-01-13 21:16:34,655 (INFO): Setting up GIT/DVC repository.\n"
     ]
    }
   ],
   "source": [
    "project = ZnTrackProject()\n",
    "project.create_dvc_repository()"
   ]
  },
  {
   "cell_type": "code",
   "execution_count": 4,
   "id": "8d7cc118-afb0-4dfa-be71-793574febd34",
   "metadata": {},
   "outputs": [],
   "source": [
    "temp_file = tempfile.NamedTemporaryFile()"
   ]
  },
  {
   "cell_type": "code",
   "execution_count": 5,
   "id": "026f89e2-e814-4b9c-a896-dac94353c404",
   "metadata": {},
   "outputs": [
    {
     "name": "stdout",
     "output_type": "stream",
     "text": [
      "2022-01-13 21:16:35,929 (CRITICAL): DeprecationWarning for __init__: This Option was moved to zntrack.zn.params (Deprecated since v0.3)\n"
     ]
    }
   ],
   "source": [
    "class WriteExternal(Node):\n",
    "    file: Path = dvc.outs()\n",
    "    data = zn.params()\n",
    "\n",
    "    def __init__(self, data: str = \"\", file: str = \"\", *args, **kwargs):\n",
    "        super().__init__(*args, **kwargs)\n",
    "        self.data = data\n",
    "        self.file = Path(file)\n",
    "\n",
    "    def run(self):\n",
    "        self.file.write_text(self.data)\n",
    "\n",
    "    def read_text(self):\n",
    "        print(self.file.read_text())"
   ]
  },
  {
   "cell_type": "code",
   "execution_count": 6,
   "id": "ded6611c-2bea-43ae-aa51-0c714d0c29f0",
   "metadata": {},
   "outputs": [
    {
     "name": "stdout",
     "output_type": "stream",
     "text": [
      "2022-01-13 21:16:35,944 (WARNING): Jupyter support is an experimental feature! Please save your notebook before running this command!\n",
      "Submit issues to https://github.com/zincware/ZnTrack.\n",
      "2022-01-13 21:16:35,945 (WARNING): Converting OptionalDVC.ipynb to file WriteExternal.py\n",
      "2022-01-13 21:16:38,256 (WARNING): --- Writing new DVC file! ---\n",
      "2022-01-13 21:16:38,257 (WARNING): You will not be able to see the stdout/stderr of the process in real time!\n",
      "2022-01-13 21:16:40,544 (INFO): Running stage 'WriteExternal':\r\n",
      "> python -c \"from src.WriteExternal import WriteExternal; WriteExternal.load(name='WriteExternal').run_and_save()\" \r\n",
      "2022-01-13 21:16:40,095 (CRITICAL): DeprecationWarning for __init__: This Option was moved to zntrack.zn.params (Deprecated since v0.3)\r\n",
      "Creating 'dvc.yaml'\r\n",
      "Adding stage 'WriteExternal' in 'dvc.yaml'\r\n",
      "Generating lock file 'dvc.lock'\r\n",
      "Updating lock file 'dvc.lock'\r\n",
      "\r\n",
      "To track the changes with git, run:\r\n",
      "\r\n",
      "\tgit add dvc.yaml dvc.lock\r\n",
      "\n"
     ]
    }
   ],
   "source": [
    "WriteExternal(data=\"HelloWorld\", file=temp_file.name).write_graph(\n",
    "    external=True, no_exec=False\n",
    ")"
   ]
  },
  {
   "cell_type": "code",
   "execution_count": 7,
   "id": "666c7ccb-08e0-4e6a-9a06-1e7a0ba242ef",
   "metadata": {},
   "outputs": [
    {
     "name": "stdout",
     "output_type": "stream",
     "text": [
      "HelloWorld\n"
     ]
    }
   ],
   "source": [
    "WriteExternal.load().read_text()"
   ]
  },
  {
   "cell_type": "code",
   "execution_count": 8,
   "id": "11ce904a-70b0-456e-8330-932eeeba2f08",
   "metadata": {},
   "outputs": [],
   "source": [
    "temp_file.close()"
   ]
  },
  {
   "cell_type": "markdown",
   "id": "40d5645d-7158-4956-abc0-6f5cb9698d37",
   "metadata": {},
   "source": [
    "## no-commit\n",
    "For `dvc run --no-commit` the interface is similar and looks like:"
   ]
  },
  {
   "cell_type": "code",
   "execution_count": 9,
   "id": "3ec9c511-1ed3-4844-a420-dbbf2cc82423",
   "metadata": {},
   "outputs": [
    {
     "name": "stdout",
     "output_type": "stream",
     "text": [
      "2022-01-13 21:16:40,581 (WARNING): Jupyter support is an experimental feature! Please save your notebook before running this command!\n",
      "Submit issues to https://github.com/zincware/ZnTrack.\n",
      "2022-01-13 21:16:40,582 (WARNING): Converting OptionalDVC.ipynb to file HelloWorld.py\n",
      "2022-01-13 21:16:42,974 (WARNING): --- Writing new DVC file! ---\n",
      "2022-01-13 21:16:44,379 (INFO): Adding stage 'HelloWorld' in 'dvc.yaml'\r\n",
      "\r\n",
      "To track the changes with git, run:\r\n",
      "\r\n",
      "\tgit add dvc.yaml\r\n",
      "\n"
     ]
    }
   ],
   "source": [
    "class HelloWorld(Node):\n",
    "    def run(self):\n",
    "        pass\n",
    "\n",
    "\n",
    "HelloWorld().write_graph(no_commit=True)"
   ]
  },
  {
   "cell_type": "markdown",
   "id": "8fc9d1f2-2235-4e8c-9432-94f940b440fa",
   "metadata": {},
   "source": [
    "For `dvc run --no-exec` you can pass `no_exec=True`. This is the default value, because Experiments are usually queued and then run collectively if the full graph was build."
   ]
  },
  {
   "cell_type": "code",
   "execution_count": null,
   "id": "52554c16-d793-461c-824b-86d6adbf0968",
   "metadata": {
    "nbsphinx": "hidden",
    "tags": [],
    "pycharm": {
     "is_executing": true
    }
   },
   "outputs": [],
   "source": [
    "temp_dir.cleanup()"
   ]
  }
 ],
 "metadata": {
  "kernelspec": {
   "display_name": "Python 3 (ipykernel)",
   "language": "python",
   "name": "python3"
  },
  "language_info": {
   "codemirror_mode": {
    "name": "ipython",
    "version": 3
   },
   "file_extension": ".py",
   "mimetype": "text/x-python",
   "name": "python",
   "nbconvert_exporter": "python",
   "pygments_lexer": "ipython3",
   "version": "3.9.7"
  }
 },
 "nbformat": 4,
 "nbformat_minor": 5
}