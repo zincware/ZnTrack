{
 "cells": [
  {
   "cell_type": "markdown",
   "id": "a10ab826-497f-41a1-bf34-3c62c0899bf6",
   "metadata": {},
   "source": [
    "# DVC Options - Metrics and Plots\n",
    "\n",
    "In the following part we will look into metrics and plots from ZnTrack Nodes.\n",
    "All `dvc run` options listed [here](https://dvc.org/doc/command-reference/run#options) can be used via `dvc.<option>`.\n",
    "With the exception of params, which is handled automatically.\n",
    "All these options take either `str` or `pathlib.Path` directed to the file the content should be stored in.\n",
    "As shown before, `dvc.deps` can also take another `Node` as an argument."
   ]
  },
  {
   "cell_type": "code",
   "execution_count": 1,
   "id": "cdd2fd78-67ad-4b06-9320-053c3268d4da",
   "metadata": {},
   "outputs": [],
   "source": [
    "from zntrack import Node, dvc, config\n",
    "from pathlib import Path\n",
    "import json\n",
    "import pandas as pd\n",
    "import numpy as np"
   ]
  },
  {
   "cell_type": "code",
   "execution_count": 2,
   "id": "9b7facd2-0284-44fd-a3d4-85edbcfbc78c",
   "metadata": {},
   "outputs": [],
   "source": [
    "config.nb_name = \"04_metrics_and_plots.ipynb\""
   ]
  },
  {
   "cell_type": "code",
   "execution_count": 3,
   "id": "8157c334-44cd-42e7-b5de-150327a32389",
   "metadata": {},
   "outputs": [
    {
     "name": "stdout",
     "output_type": "stream",
     "text": [
      "Initialized empty Git repository in C:/Users/fabia/Documents/tmp/ZnTrack/.git/\n",
      "Initialized DVC repository.\n",
      "\n",
      "You can now commit the changes to git.\n",
      "\n",
      "+---------------------------------------------------------------------+\n",
      "|                                                                     |\n",
      "|        DVC has enabled anonymous aggregate usage analytics.         |\n",
      "|     Read the analytics documentation (and how to opt-out) here:     |\n",
      "|             <https://dvc.org/doc/user-guide/analytics>              |\n",
      "|                                                                     |\n",
      "+---------------------------------------------------------------------+\n",
      "\n",
      "What's next?\n",
      "------------\n",
      "- Check out the documentation: <https://dvc.org/doc>\n",
      "- Get help and share ideas: <https://dvc.org/chat>\n",
      "- Star us on GitHub: <https://github.com/iterative/dvc>\n"
     ]
    }
   ],
   "source": [
    "!git init\n",
    "!dvc init"
   ]
  },
  {
   "cell_type": "markdown",
   "id": "5ad172d0-25f9-44f3-a00c-ee50f347ebc1",
   "metadata": {},
   "source": [
    "In the following we define a simple Node that produces a metric and a plot output using `json` and `pandas`.\n",
    "We will queue multiple experiments with different outputs and then compare them afterwards.\n",
    "With `@Node(silent=True)` we can reduce the amount of logs that will be displayed."
   ]
  },
  {
   "cell_type": "code",
   "execution_count": 4,
   "id": "de05180e-b3a8-4ea3-a0b6-592f0467b844",
   "metadata": {},
   "outputs": [
    {
     "name": "stdout",
     "output_type": "stream",
     "text": [
      "2021-11-05 09:26:16,937 (WARNING): Jupyter support is an experimental feature! Please save your notebook before running this command!\n",
      "Submit issues to https://github.com/zincware/ZnTrack.\n"
     ]
    }
   ],
   "source": [
    "@Node(silent=True)\n",
    "class MetricAndPlot:\n",
    "    my_metric: Path = dvc.metrics(Path(\"my_metric.json\"))\n",
    "    my_plots: Path = dvc.plots(\"my_plots.csv\")\n",
    "    pre_factor = dvc.params()\n",
    "    \n",
    "    def __call__(self, pre_factor=1.0):\n",
    "        self.pre_factor = pre_factor\n",
    "    \n",
    "    def run(self):\n",
    "        self.my_metric.write_text(\n",
    "            json.dumps({\n",
    "                \"metric_1\": 17 * self.pre_factor,\n",
    "                \"metric_2\": 42 * self.pre_factor\n",
    "            })\n",
    "        )\n",
    "        \n",
    "        x_data = np.linspace(0, 1.0 * self.pre_factor, 1000)\n",
    "        y_data = np.exp(x_data)\n",
    "        df = pd.DataFrame({\"y\": y_data, \"x\": x_data}).set_index(\"x\")\n",
    "        \n",
    "        df.to_csv(self.my_plots)"
   ]
  },
  {
   "cell_type": "code",
   "execution_count": 5,
   "id": "2f43059d-71e9-4b7c-bf9d-67869b05d2f1",
   "metadata": {
    "collapsed": true,
    "jupyter": {
     "outputs_hidden": true
    },
    "tags": []
   },
   "outputs": [
    {
     "name": "stdout",
     "output_type": "stream",
     "text": [
      "Running stage 'MetricAndPlot':\n",
      "> python -c \"from src.MetricAndPlot import MetricAndPlot; MetricAndPlot(load=True).run()\"\n",
      "Generating lock file 'dvc.lock'\n",
      "Updating lock file 'dvc.lock'\n",
      "\n",
      "To track the changes with git, run:\n",
      "\n",
      "\tgit add dvc.lock\n",
      "Use `dvc push` to send your updates to remote storage.\n"
     ]
    },
    {
     "name": "stderr",
     "output_type": "stream",
     "text": [
      "warning: LF will be replaced by CRLF in .ipynb_checkpoints/03_metrics_and_plots-checkpoint.ipynb.\n",
      "The file will have its original line endings in your working directory\n",
      "warning: LF will be replaced by CRLF in 03_metrics_and_plots.ipynb.\n",
      "The file will have its original line endings in your working directory\n"
     ]
    },
    {
     "name": "stdout",
     "output_type": "stream",
     "text": [
      "[master (root-commit) c833d9a] First Run\n",
      " 18 files changed, 1707 insertions(+)\n",
      " create mode 100644 .dvc/.gitignore\n",
      " create mode 100644 .dvc/config\n",
      " create mode 100644 .dvc/plots/confusion.json\n",
      " create mode 100644 .dvc/plots/confusion_normalized.json\n",
      " create mode 100644 .dvc/plots/linear.json\n",
      " create mode 100644 .dvc/plots/scatter.json\n",
      " create mode 100644 .dvc/plots/simple.json\n",
      " create mode 100644 .dvc/plots/smooth.json\n",
      " create mode 100644 .dvcignore\n",
      " create mode 100644 .gitignore\n",
      " create mode 100644 .ipynb_checkpoints/03_metrics_and_plots-checkpoint.ipynb\n",
      " create mode 100644 03_metrics_and_plots.ipynb\n",
      " create mode 100644 config/zntrack.json\n",
      " create mode 100644 dvc.lock\n",
      " create mode 100644 dvc.yaml\n",
      " create mode 100644 outs/.gitignore\n",
      " create mode 100644 src/MetricAndPlot.py\n",
      " create mode 100644 src/__pycache__/MetricAndPlot.cpython-39.pyc\n"
     ]
    }
   ],
   "source": [
    "metric_and_plot = MetricAndPlot()\n",
    "metric_and_plot()\n",
    "!dvc repro\n",
    "!git add .\n",
    "!git commit -m \"First Run\""
   ]
  },
  {
   "cell_type": "code",
   "execution_count": 6,
   "id": "e433e5f1-8908-44ec-afc0-9217b42faf1a",
   "metadata": {},
   "outputs": [
    {
     "name": "stdout",
     "output_type": "stream",
     "text": [
      "Queued experiment '87be6eb' for future execution.\n",
      "Queued experiment 'c7befa5' for future execution.\n",
      "Queued experiment 'e47838f' for future execution.\n",
      "Queued experiment '04febfd' for future execution.\n"
     ]
    }
   ],
   "source": [
    "metric_and_plot(pre_factor=2)\n",
    "!dvc exp run --queue --name \"factor_2\"\n",
    "metric_and_plot(pre_factor=3)\n",
    "!dvc exp run --queue --name \"factor_3\"\n",
    "metric_and_plot(pre_factor=4)\n",
    "!dvc exp run --queue --name \"factor_4\"\n",
    "metric_and_plot(pre_factor=5)\n",
    "!dvc exp run --queue --name \"factor_5\""
   ]
  },
  {
   "cell_type": "code",
   "execution_count": 7,
   "id": "63e5a154-e52c-403a-9edf-6af19f2c6691",
   "metadata": {},
   "outputs": [
    {
     "name": "stdout",
     "output_type": "stream",
     "text": [
      "Running stage 'MetricAndPlot':\n",
      "> python -c \"from src.MetricAndPlot import MetricAndPlot; MetricAndPlot(load=True).run()\"\n",
      "Updating lock file 'dvc.lock'\n",
      "Running stage 'MetricAndPlot':\n",
      "> python -c \"from src.MetricAndPlot import MetricAndPlot; MetricAndPlot(load=True).run()\"\n",
      "Updating lock file 'dvc.lock'\n",
      "Running stage 'MetricAndPlot':\n",
      "> python -c \"from src.MetricAndPlot import MetricAndPlot; MetricAndPlot(load=True).run()\"\n",
      "Updating lock file 'dvc.lock'\n",
      "Running stage 'MetricAndPlot':\n",
      "> python -c \"from src.MetricAndPlot import MetricAndPlot; MetricAndPlot(load=True).run()\"\n",
      "Updating lock file 'dvc.lock'\n",
      "\n",
      "Reproduced experiment(s): factor_5, factor_4, factor_3, factor_2\n",
      "To apply the results of an experiment to your workspace run:\n",
      "\n",
      "\tdvc exp apply <exp>\n",
      "\n",
      "To promote an experiment to a Git branch run:\n",
      "\n",
      "\tdvc exp branch <exp> <branch>\n",
      "\n"
     ]
    }
   ],
   "source": [
    "!dvc exp run --run-all"
   ]
  },
  {
   "cell_type": "markdown",
   "id": "8161ba6a-58b7-424f-bc4f-1f3933395840",
   "metadata": {},
   "source": [
    "Now that all experiments are done, we can look at the metrics directly with `dvc exp show` or `dvc metrics show/diff`"
   ]
  },
  {
   "cell_type": "code",
   "execution_count": 8,
   "id": "c0504b4d-6028-451c-bee1-d280c64fbc31",
   "metadata": {},
   "outputs": [
    {
     "data": {
      "text/html": [
       "<div>\n",
       "<style scoped>\n",
       "    .dataframe tbody tr th:only-of-type {\n",
       "        vertical-align: middle;\n",
       "    }\n",
       "\n",
       "    .dataframe tbody tr th {\n",
       "        vertical-align: top;\n",
       "    }\n",
       "\n",
       "    .dataframe thead th {\n",
       "        text-align: right;\n",
       "    }\n",
       "</style>\n",
       "<table border=\"1\" class=\"dataframe\">\n",
       "  <thead>\n",
       "    <tr style=\"text-align: right;\">\n",
       "      <th></th>\n",
       "      <th>rev</th>\n",
       "      <th>typ</th>\n",
       "      <th>parent</th>\n",
       "      <th>metric_1</th>\n",
       "      <th>metric_2</th>\n",
       "      <th>MetricAndPlot.metrics.my_metric.Path</th>\n",
       "      <th>MetricAndPlot.plots.my_plots</th>\n",
       "      <th>MetricAndPlot.params.pre_factor</th>\n",
       "      <th>default</th>\n",
       "    </tr>\n",
       "    <tr>\n",
       "      <th>Experiment</th>\n",
       "      <th></th>\n",
       "      <th></th>\n",
       "      <th></th>\n",
       "      <th></th>\n",
       "      <th></th>\n",
       "      <th></th>\n",
       "      <th></th>\n",
       "      <th></th>\n",
       "      <th></th>\n",
       "    </tr>\n",
       "  </thead>\n",
       "  <tbody>\n",
       "    <tr>\n",
       "      <th>NaN</th>\n",
       "      <td>workspace</td>\n",
       "      <td>baseline</td>\n",
       "      <td>NaN</td>\n",
       "      <td>17.0</td>\n",
       "      <td>42.0</td>\n",
       "      <td>my_metric.json</td>\n",
       "      <td>my_plots.csv</td>\n",
       "      <td>5.0</td>\n",
       "      <td>NaN</td>\n",
       "    </tr>\n",
       "    <tr>\n",
       "      <th>master</th>\n",
       "      <td>c833d9a</td>\n",
       "      <td>baseline</td>\n",
       "      <td>NaN</td>\n",
       "      <td>17.0</td>\n",
       "      <td>42.0</td>\n",
       "      <td>my_metric.json</td>\n",
       "      <td>my_plots.csv</td>\n",
       "      <td>1.0</td>\n",
       "      <td>NaN</td>\n",
       "    </tr>\n",
       "    <tr>\n",
       "      <th>factor_2</th>\n",
       "      <td>ad1e284</td>\n",
       "      <td>branch_commit</td>\n",
       "      <td>NaN</td>\n",
       "      <td>34.0</td>\n",
       "      <td>84.0</td>\n",
       "      <td>my_metric.json</td>\n",
       "      <td>my_plots.csv</td>\n",
       "      <td>2.0</td>\n",
       "      <td>NaN</td>\n",
       "    </tr>\n",
       "    <tr>\n",
       "      <th>factor_3</th>\n",
       "      <td>fbfbcca</td>\n",
       "      <td>branch_commit</td>\n",
       "      <td>NaN</td>\n",
       "      <td>51.0</td>\n",
       "      <td>126.0</td>\n",
       "      <td>my_metric.json</td>\n",
       "      <td>my_plots.csv</td>\n",
       "      <td>3.0</td>\n",
       "      <td>NaN</td>\n",
       "    </tr>\n",
       "    <tr>\n",
       "      <th>factor_4</th>\n",
       "      <td>e0f77f7</td>\n",
       "      <td>branch_commit</td>\n",
       "      <td>NaN</td>\n",
       "      <td>68.0</td>\n",
       "      <td>168.0</td>\n",
       "      <td>my_metric.json</td>\n",
       "      <td>my_plots.csv</td>\n",
       "      <td>4.0</td>\n",
       "      <td>NaN</td>\n",
       "    </tr>\n",
       "    <tr>\n",
       "      <th>factor_5</th>\n",
       "      <td>305fb30</td>\n",
       "      <td>branch_base</td>\n",
       "      <td>NaN</td>\n",
       "      <td>85.0</td>\n",
       "      <td>210.0</td>\n",
       "      <td>my_metric.json</td>\n",
       "      <td>my_plots.csv</td>\n",
       "      <td>5.0</td>\n",
       "      <td>NaN</td>\n",
       "    </tr>\n",
       "  </tbody>\n",
       "</table>\n",
       "</div>"
      ],
      "text/plain": [
       "                  rev            typ  parent  metric_1  metric_2  \\\n",
       "Experiment                                                         \n",
       "NaN         workspace       baseline     NaN      17.0      42.0   \n",
       "master        c833d9a       baseline     NaN      17.0      42.0   \n",
       "factor_2      ad1e284  branch_commit     NaN      34.0      84.0   \n",
       "factor_3      fbfbcca  branch_commit     NaN      51.0     126.0   \n",
       "factor_4      e0f77f7  branch_commit     NaN      68.0     168.0   \n",
       "factor_5      305fb30    branch_base     NaN      85.0     210.0   \n",
       "\n",
       "           MetricAndPlot.metrics.my_metric.Path MetricAndPlot.plots.my_plots  \\\n",
       "Experiment                                                                     \n",
       "NaN                              my_metric.json                 my_plots.csv   \n",
       "master                           my_metric.json                 my_plots.csv   \n",
       "factor_2                         my_metric.json                 my_plots.csv   \n",
       "factor_3                         my_metric.json                 my_plots.csv   \n",
       "factor_4                         my_metric.json                 my_plots.csv   \n",
       "factor_5                         my_metric.json                 my_plots.csv   \n",
       "\n",
       "            MetricAndPlot.params.pre_factor  default  \n",
       "Experiment                                            \n",
       "NaN                                     5.0      NaN  \n",
       "master                                  1.0      NaN  \n",
       "factor_2                                2.0      NaN  \n",
       "factor_3                                3.0      NaN  \n",
       "factor_4                                4.0      NaN  \n",
       "factor_5                                5.0      NaN  "
      ]
     },
     "execution_count": 8,
     "metadata": {},
     "output_type": "execute_result"
    }
   ],
   "source": [
    "!dvc exp show --csv --no-timestamp > exp_show.csv\n",
    "pd.read_csv(\"exp_show.csv\", index_col=0)"
   ]
  },
  {
   "cell_type": "markdown",
   "id": "5231be5f-9c74-4b3b-892d-65194a60fb5f",
   "metadata": {},
   "source": [
    "We can also use `dvc plots show/diff` to evaluate the plot data that we produced."
   ]
  },
  {
   "cell_type": "code",
   "execution_count": 9,
   "id": "606c0d93-a515-4b43-ab49-16aa5b40f0ba",
   "metadata": {},
   "outputs": [
    {
     "name": "stdout",
     "output_type": "stream",
     "text": [
      "file:///C:/Users/fabia/Documents/tmp/ZnTrack/dvc_plots/index.html\n"
     ]
    }
   ],
   "source": [
    "!dvc plots diff HEAD factor_2 factor_3 factor_4 factor_5"
   ]
  },
  {
   "cell_type": "code",
   "execution_count": 1,
   "id": "92572144-e084-496a-ab75-b98082b2d59c",
   "metadata": {},
   "outputs": [],
   "source": [
    "from IPython.display import IFrame"
   ]
  },
  {
   "cell_type": "code",
   "execution_count": 2,
   "id": "be972ac9-7eed-4031-952b-5622e8bf2f82",
   "metadata": {},
   "outputs": [
    {
     "data": {
      "text/plain": "<IPython.lib.display.IFrame at 0x17759eda610>",
      "text/html": "\n        <iframe\n            width=\"700\"\n            height=\"600\"\n            src=\"../../_static/plots/overview_04_plots.html\"\n            frameborder=\"0\"\n            allowfullscreen\n            \n        ></iframe>\n        "
     },
     "execution_count": 2,
     "metadata": {},
     "output_type": "execute_result"
    }
   ],
   "source": [
    "IFrame(src='../../_static/plots/overview_04_plots.html', width=700, height=600)"
   ]
  }
 ],
 "metadata": {
  "kernelspec": {
   "display_name": "Python 3 (ipykernel)",
   "language": "python",
   "name": "python3"
  },
  "language_info": {
   "codemirror_mode": {
    "name": "ipython",
    "version": 3
   },
   "file_extension": ".py",
   "mimetype": "text/x-python",
   "name": "python",
   "nbconvert_exporter": "python",
   "pygments_lexer": "ipython3",
   "version": "3.9.7"
  }
 },
 "nbformat": 4,
 "nbformat_minor": 5
}