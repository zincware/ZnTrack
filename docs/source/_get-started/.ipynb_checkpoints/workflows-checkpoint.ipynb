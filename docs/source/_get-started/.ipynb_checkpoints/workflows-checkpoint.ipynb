{
 "cells": [
  {
   "cell_type": "markdown",
   "source": [
    "# Workflow Management\n",
    "\n",
    "ZnTrack is build around a few basic principles of a computational workflow (also called graph):\n",
    "\n",
    "- A workflow is a directed acyclic graph (DAG) of nodes.\n",
    "- A node is a function that takes a set of inputs and produces a set of outputs.\n",
    "- A node, once executed with a given set of inputs is considered completed and will not be executed again.\n",
    "\n",
    "Our goal is, to make writing and using nodes as easy as possible.\n",
    "Therefore, ZnTrack is desigend as a dabase-free tool written on top of - :ref:`userdoc-get-started-dvc`.\n",
    "\n",
    "Nodes written in ZnTrack can be used across several projects and can be shared with other users.\n",
    "Workflows, e.g. how nodes are connected, which parameters are used and which metrics are produced, are stored in git commits.\n",
    "This allows to track changes in the workflow and to reproduce results at any point in time.\n",
    "Further information on how they are stored is described in the :ref:`userdoc-get-started-dvc` section.\n",
    "\n",
    "## Example Workflow\n",
    "\n",
    "Let's assume we want to fit a model to some data.\n",
    "Afterwards, we want to analyse the model using some validation dataset.\n",
    "\n",
    "```mermaid\n",
    "flowchart TD\n",
    "    node1[\"AnalyseFit\"]\n",
    "    node2[\"FitData\"]\n",
    "    node3[\"train.dat.dvc\"]\n",
    "    node4[\"val.dat.dvc\"]\n",
    "    node2-->node1\n",
    "    node3-->node2\n",
    "    node4-->node1\n",
    "\n",
    "    node5[\"nodes/AnalyseFit/metrics_no_cache.json\"]\n",
    "    node6[\"nodes/FitData/outs.json\"]\n",
    "    node7[\"train.dat\"]\n",
    "    node8[\"val.dat\"]\n",
    "    node6-->node5\n",
    "    node7-->node6\n",
    "    node8-->node5\n",
    "```\n",
    "\n",
    "The workflow consists of our inputs ``train.dat`` and ``val.dat`` and two nodes ``FitData`` and ``AnalyseFit``.\n",
    "Another way at representing this workflow is by printing the outputs of the nodes.\n",
    "\n",
    "We can define this workflow by creating two Python functions *or* classes for ``FitData`` and ``AnalyseFit``.\n",
    "They can be connected directly forming the graphs above.\n",
    "\n",
    "Defining Nodes is show in the ZnTrack API sections on functions :ref:`userdoc-get-started-api_functions` and classes :ref:`userdoc-get-started-api_classes`."
   ],
   "metadata": {
    "collapsed": false
   }
  },
  {
   "cell_type": "markdown",
   "source": [],
   "metadata": {
    "collapsed": false
   }
  }
 ],
 "metadata": {
  "kernelspec": {
   "display_name": "Python 3",
   "language": "python",
   "name": "python3"
  },
  "language_info": {
   "codemirror_mode": {
    "name": "ipython",
    "version": 2
   },
   "file_extension": ".py",
   "mimetype": "text/x-python",
   "name": "python",
   "nbconvert_exporter": "python",
   "pygments_lexer": "ipython2",
   "version": "2.7.6"
  }
 },
 "nbformat": 4,
 "nbformat_minor": 0
}
