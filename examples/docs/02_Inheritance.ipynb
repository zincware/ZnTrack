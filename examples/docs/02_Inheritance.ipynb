{
 "cells": [
  {
   "cell_type": "markdown",
   "source": [
    "# Inheritance\n",
    "\n",
    "ZnTrack allows inheritance from a Node base class.\n",
    "This can e.g. be useful if you want to test out different methods of the same kind.\n",
    "In the following example, we will show this by using different functions in the run method with the same inputs and outputs."
   ],
   "metadata": {
    "collapsed": false,
    "pycharm": {
     "name": "#%% md\n"
    }
   }
  },
  {
   "cell_type": "code",
   "execution_count": 1,
   "outputs": [],
   "source": [
    "from zntrack import config\n",
    "\n",
    "config.nb_name = \"02_Inheritance.ipynb\""
   ],
   "metadata": {
    "collapsed": false,
    "pycharm": {
     "name": "#%%\n"
    }
   }
  },
  {
   "cell_type": "code",
   "execution_count": 2,
   "outputs": [
    {
     "name": "stdout",
     "output_type": "stream",
     "text": [
      "Initialized empty Git repository in /tmp/tmp8jpf744o/.git/\r\n",
      "Initialized DVC repository.\r\n",
      "\r\n",
      "You can now commit the changes to git.\r\n",
      "\r\n",
      "\u001B[31m+---------------------------------------------------------------------+\r\n",
      "\u001B[0m\u001B[31m|\u001B[0m                                                                     \u001B[31m|\u001B[0m\r\n",
      "\u001B[31m|\u001B[0m        DVC has enabled anonymous aggregate usage analytics.         \u001B[31m|\u001B[0m\r\n",
      "\u001B[31m|\u001B[0m     Read the analytics documentation (and how to opt-out) here:     \u001B[31m|\u001B[0m\r\n",
      "\u001B[31m|\u001B[0m             <\u001B[36mhttps://dvc.org/doc/user-guide/analytics\u001B[39m>              \u001B[31m|\u001B[0m\r\n",
      "\u001B[31m|\u001B[0m                                                                     \u001B[31m|\u001B[0m\r\n",
      "\u001B[31m+---------------------------------------------------------------------+\r\n",
      "\u001B[0m\r\n",
      "\u001B[33mWhat's next?\u001B[39m\r\n",
      "\u001B[33m------------\u001B[39m\r\n",
      "- Check out the documentation: <\u001B[36mhttps://dvc.org/doc\u001B[39m>\r\n",
      "- Get help and share ideas: <\u001B[36mhttps://dvc.org/chat\u001B[39m>\r\n",
      "- Star us on GitHub: <\u001B[36mhttps://github.com/iterative/dvc\u001B[39m>\r\n",
      "\u001B[0m"
     ]
    }
   ],
   "source": [
    "# Work in a temporary directory\n",
    "from zntrack.utils import cwd_temp_dir\n",
    "temp_dir = cwd_temp_dir()\n",
    "\n",
    "!git init\n",
    "!dvc init"
   ],
   "metadata": {
    "collapsed": false,
    "pycharm": {
     "name": "#%%\n"
    }
   }
  },
  {
   "cell_type": "code",
   "execution_count": 3,
   "outputs": [],
   "source": [
    "from zntrack import Node, zn"
   ],
   "metadata": {
    "collapsed": false,
    "pycharm": {
     "name": "#%%\n"
    }
   }
  },
  {
   "cell_type": "code",
   "execution_count": 4,
   "outputs": [],
   "source": [
    "class NodeBase(Node):\n",
    "    node_name = \"basic_number\"\n",
    "\n",
    "    inputs: float = zn.params()\n",
    "    output: float = zn.outs()"
   ],
   "metadata": {
    "collapsed": false,
    "pycharm": {
     "name": "#%%\n"
    }
   }
  },
  {
   "cell_type": "code",
   "execution_count": 5,
   "outputs": [],
   "source": [
    "class AddNumber(NodeBase):\n",
    "    \"\"\"Shift input by an offset\"\"\"\n",
    "    offset: float = zn.params()\n",
    "\n",
    "    def run(self):\n",
    "        self.output = self.inputs + self.offset\n",
    "\n",
    "class MultiplyNumber(NodeBase):\n",
    "    \"\"\"Multiply input by a factor\"\"\"\n",
    "    factor: float = zn.params()\n",
    "\n",
    "    def run(self):\n",
    "        self.output = self.inputs * self.factor"
   ],
   "metadata": {
    "collapsed": false,
    "pycharm": {
     "name": "#%%\n"
    }
   }
  },
  {
   "cell_type": "code",
   "execution_count": 6,
   "outputs": [
    {
     "name": "stdout",
     "output_type": "stream",
     "text": [
      "2022-05-17 09:23:32,127 (WARNING): Jupyter support is an experimental feature! Please save your notebook before running this command!\n",
      "Submit issues to https://github.com/zincware/ZnTrack.\n",
      "2022-05-17 09:23:36,025 (WARNING): Running DVC command: 'dvc run -n basic_number ...'\n"
     ]
    }
   ],
   "source": [
    "add_number = AddNumber(inputs=10.0, offset=15.0)\n",
    "add_number.write_graph(run=True)"
   ],
   "metadata": {
    "collapsed": false,
    "pycharm": {
     "name": "#%%\n"
    }
   }
  },
  {
   "cell_type": "markdown",
   "source": [
    "Because the Nodes inherit from each other and we defined the `node_name` in the parent class, we can use all classes to load the outputs (as long as they are shared).\n",
    "This is important to keep in mind when working with inheritance, that the output might not necessarily be created by the Node it was loaded by.\n",
    "On the other hand, this can be handy for dependency handling.\n",
    "A subsequent Node can e.g. depend on the parent Node and does not need to know where the values actually come from.\n",
    "I.e. an ML Model might implement a predict function in the parent node but can have an entirely different structure.\n",
    "An evaluation node might only need the predict method and can therefore be used with all children of the model class."
   ],
   "metadata": {
    "collapsed": false,
    "pycharm": {
     "name": "#%% md\n"
    }
   }
  },
  {
   "cell_type": "code",
   "execution_count": 7,
   "outputs": [
    {
     "data": {
      "text/plain": "25.0"
     },
     "execution_count": 7,
     "metadata": {},
     "output_type": "execute_result"
    }
   ],
   "source": [
    "NodeBase.load().output"
   ],
   "metadata": {
    "collapsed": false,
    "pycharm": {
     "name": "#%%\n"
    }
   }
  },
  {
   "cell_type": "code",
   "execution_count": 8,
   "outputs": [
    {
     "name": "stdout",
     "output_type": "stream",
     "text": [
      "+--------------+ \r\n",
      "| basic_number | \r\n",
      "+--------------+ \r\n",
      "\u001B[0m"
     ]
    }
   ],
   "source": [
    "!dvc dag"
   ],
   "metadata": {
    "collapsed": false,
    "pycharm": {
     "name": "#%%\n"
    }
   }
  },
  {
   "cell_type": "code",
   "execution_count": 9,
   "outputs": [
    {
     "name": "stdout",
     "output_type": "stream",
     "text": [
      "2022-05-17 09:23:46,032 (WARNING): Running DVC command: 'dvc run -n basic_number ...'\n"
     ]
    }
   ],
   "source": [
    "multiply_number = MultiplyNumber(inputs=6.0, factor=6.0)\n",
    "multiply_number.write_graph(run=True)"
   ],
   "metadata": {
    "collapsed": false,
    "pycharm": {
     "name": "#%%\n"
    }
   }
  },
  {
   "cell_type": "code",
   "execution_count": 10,
   "outputs": [
    {
     "data": {
      "text/plain": "36.0"
     },
     "execution_count": 10,
     "metadata": {},
     "output_type": "execute_result"
    }
   ],
   "source": [
    "NodeBase.load().output"
   ],
   "metadata": {
    "collapsed": false,
    "pycharm": {
     "name": "#%%\n"
    }
   }
  },
  {
   "cell_type": "markdown",
   "source": [
    "As expected the node name remains the same and therefore, the Node is replaced with the new one."
   ],
   "metadata": {
    "collapsed": false,
    "pycharm": {
     "name": "#%% md\n"
    }
   }
  },
  {
   "cell_type": "code",
   "execution_count": 11,
   "outputs": [
    {
     "name": "stdout",
     "output_type": "stream",
     "text": [
      "+--------------+ \r\n",
      "| basic_number | \r\n",
      "+--------------+ \r\n",
      "\u001B[0m"
     ]
    }
   ],
   "source": [
    "!dvc dag"
   ],
   "metadata": {
    "collapsed": false,
    "pycharm": {
     "name": "#%%\n"
    }
   }
  },
  {
   "cell_type": "markdown",
   "source": [
    "## Nodes as parameters\n",
    "\n",
    "Sometimes it can be useful to have a Node as a parameter or use the run method of the given Node but storing the outputs somewhere else.\n",
    "For example an active learning cycle might use the model and evaluation class but the outputs are stored in the active learning Node.\n",
    "You might still want to use the other Nodes to avoid overhead though.\n",
    "\n",
    "In the following we will use the run method of a `NodeBase` Node and also have a dataclass Node just for storing parameters.\n",
    "Internally, ZnTrack disables all outputs of the given Node.\n",
    "To keep the DAG working, a `_hash = zn.Hash()` is introduced.\n",
    "This value is computed from the parameters as well as the current timestamp and only serves as a file dependency for DVC.\n",
    "Adding `zn.Hash()` to any Node will add an output file but won't have any additional effect."
   ],
   "metadata": {
    "collapsed": false,
    "pycharm": {
     "name": "#%% md\n"
    }
   }
  },
  {
   "cell_type": "code",
   "execution_count": 12,
   "outputs": [],
   "source": [
    "class DivideNumber(NodeBase):\n",
    "    \"\"\"Multiply input by a factor\"\"\"\n",
    "    divider: float = zn.params()\n",
    "    _hash = zn.Hash()\n",
    "\n",
    "    def run(self):\n",
    "        self.output = self.inputs * self.divider\n",
    "\n",
    "\n",
    "class Polynomial(Node):\n",
    "    a0: float = zn.params()\n",
    "    a1: float = zn.params()\n",
    "    _hash = zn.Hash()\n",
    "\n",
    "class ManipulateNumber(Node):\n",
    "    inputs: float = zn.params()\n",
    "    output: float = zn.outs()\n",
    "    value_handler: NodeBase = zn.Nodes()\n",
    "    polynomial: Polynomial = zn.Nodes()\n",
    "\n",
    "    def run(self):\n",
    "        # use the passed method\n",
    "        self.value_handler.inputs = self.inputs\n",
    "        self.value_handler.run()\n",
    "        self.output = self.value_handler.output\n",
    "        # polynomials\n",
    "        self.output = self.polynomial.a0 + self.polynomial.a1 * self.output"
   ],
   "metadata": {
    "collapsed": false,
    "pycharm": {
     "name": "#%%\n"
    }
   }
  },
  {
   "cell_type": "code",
   "execution_count": 13,
   "outputs": [],
   "source": [
    "manipulate_number = ManipulateNumber(\n",
    "    inputs=10.0,\n",
    "    value_handler=DivideNumber(divider=3.0),\n",
    "    polynomial=Polynomial(a0=60.0, a1=10.0),\n",
    ")"
   ],
   "metadata": {
    "collapsed": false,
    "pycharm": {
     "name": "#%%\n"
    }
   }
  },
  {
   "cell_type": "code",
   "execution_count": 14,
   "outputs": [
    {
     "name": "stdout",
     "output_type": "stream",
     "text": [
      "2022-05-17 09:23:55,467 (WARNING): Running DVC command: 'dvc run -n ManipulateNumber-polynomial ...'\n",
      "2022-05-17 09:24:02,692 (WARNING): Running DVC command: 'dvc run -n ManipulateNumber-value_handler ...'\n",
      "2022-05-17 09:24:09,679 (WARNING): Running DVC command: 'dvc run -n ManipulateNumber ...'\n"
     ]
    }
   ],
   "source": [
    "manipulate_number.write_graph(run=True)"
   ],
   "metadata": {
    "collapsed": false,
    "pycharm": {
     "name": "#%%\n"
    }
   }
  },
  {
   "cell_type": "code",
   "execution_count": 15,
   "outputs": [],
   "source": [
    "manipulate_number = manipulate_number.load()"
   ],
   "metadata": {
    "collapsed": false,
    "pycharm": {
     "name": "#%%\n"
    }
   }
  },
  {
   "cell_type": "code",
   "execution_count": 16,
   "outputs": [
    {
     "data": {
      "text/plain": "360.0"
     },
     "execution_count": 16,
     "metadata": {},
     "output_type": "execute_result"
    }
   ],
   "source": [
    "manipulate_number.output"
   ],
   "metadata": {
    "collapsed": false,
    "pycharm": {
     "name": "#%%\n"
    }
   }
  },
  {
   "cell_type": "code",
   "execution_count": 17,
   "outputs": [
    {
     "name": "stdout",
     "output_type": "stream",
     "text": [
      "+--------------+ \r\n",
      "| basic_number | \r\n",
      "+--------------+ \r\n",
      "+-----------------------------+                    +--------------------------------+\r\n",
      "| ManipulateNumber-polynomial |                    | ManipulateNumber-value_handler |\r\n",
      "+-----------------------------+                    +--------------------------------+\r\n",
      "                           ****                      *****                      \r\n",
      "                               ****              ****                           \r\n",
      "                                   ***        ***                               \r\n",
      "                                +------------------+                            \r\n",
      "                                | ManipulateNumber |                            \r\n",
      "                                +------------------+                            \r\n",
      "\u001B[0m"
     ]
    }
   ],
   "source": [
    "!dvc dag"
   ],
   "metadata": {
    "collapsed": false,
    "pycharm": {
     "name": "#%%\n"
    }
   }
  },
  {
   "cell_type": "code",
   "execution_count": 18,
   "outputs": [],
   "source": [
    "temp_dir.cleanup()"
   ],
   "metadata": {
    "collapsed": false,
    "pycharm": {
     "name": "#%%\n"
    }
   }
  }
 ],
 "metadata": {
  "kernelspec": {
   "display_name": "Python 3",
   "language": "python",
   "name": "python3"
  },
  "language_info": {
   "codemirror_mode": {
    "name": "ipython",
    "version": 2
   },
   "file_extension": ".py",
   "mimetype": "text/x-python",
   "name": "python",
   "nbconvert_exporter": "python",
   "pygments_lexer": "ipython2",
   "version": "2.7.6"
  }
 },
 "nbformat": 4,
 "nbformat_minor": 0
}