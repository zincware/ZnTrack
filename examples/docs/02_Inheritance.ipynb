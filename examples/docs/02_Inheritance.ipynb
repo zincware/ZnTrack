{
 "cells": [
  {
   "cell_type": "markdown",
   "metadata": {
    "pycharm": {
     "name": "#%% md\n"
    }
   },
   "source": [
    "# Inheritance\n",
    "\n",
    "ZnTrack allows inheritance from a Node base class.\n",
    "This can e.g. be useful if you want to test out different methods of the same kind.\n",
    "In the following example, we will show this by using different functions in the run method with the same inputs and outputs."
   ]
  },
  {
   "cell_type": "code",
   "execution_count": 1,
   "metadata": {
    "collapsed": false,
    "jupyter": {
     "outputs_hidden": false
    },
    "pycharm": {
     "name": "#%%\n"
    }
   },
   "outputs": [],
   "source": [
    "from zntrack import config\n",
    "\n",
    "config.nb_name = \"02_Inheritance.ipynb\""
   ]
  },
  {
   "cell_type": "code",
   "execution_count": 2,
   "metadata": {
    "collapsed": false,
    "jupyter": {
     "outputs_hidden": false
    },
    "pycharm": {
     "name": "#%%\n"
    }
   },
   "outputs": [
    {
     "name": "stdout",
     "output_type": "stream",
     "text": [
      "Initialized empty Git repository in C:/Users/fabia/AppData/Local/Temp/tmpc5a1k84s/.git/\n",
      "Initialized DVC repository.\n",
      "\n",
      "You can now commit the changes to git.\n",
      "\n",
      "+---------------------------------------------------------------------+\n",
      "|                                                                     |\n",
      "|        DVC has enabled anonymous aggregate usage analytics.         |\n",
      "|     Read the analytics documentation (and how to opt-out) here:     |\n",
      "|             <https://dvc.org/doc/user-guide/analytics>              |\n",
      "|                                                                     |\n",
      "+---------------------------------------------------------------------+\n",
      "\n",
      "What's next?\n",
      "------------\n",
      "- Check out the documentation: <https://dvc.org/doc>\n",
      "- Get help and share ideas: <https://dvc.org/chat>\n",
      "- Star us on GitHub: <https://github.com/iterative/dvc>\n"
     ]
    }
   ],
   "source": [
    "# Work in a temporary directory\n",
    "from zntrack.utils import cwd_temp_dir\n",
    "temp_dir = cwd_temp_dir()\n",
    "\n",
    "!git init\n",
    "!dvc init"
   ]
  },
  {
   "cell_type": "code",
   "execution_count": 3,
   "metadata": {
    "collapsed": false,
    "jupyter": {
     "outputs_hidden": false
    },
    "pycharm": {
     "name": "#%%\n"
    }
   },
   "outputs": [],
   "source": [
    "from zntrack import Node, zn"
   ]
  },
  {
   "cell_type": "code",
   "execution_count": 4,
   "metadata": {
    "collapsed": false,
    "jupyter": {
     "outputs_hidden": false
    },
    "pycharm": {
     "name": "#%%\n"
    }
   },
   "outputs": [],
   "source": [
    "class NodeBase(Node):\n",
    "    node_name = \"basic_number\"\n",
    "\n",
    "    inputs: float = zn.params()\n",
    "    output: float = zn.outs()"
   ]
  },
  {
   "cell_type": "code",
   "execution_count": 5,
   "metadata": {
    "collapsed": false,
    "jupyter": {
     "outputs_hidden": false
    },
    "pycharm": {
     "name": "#%%\n"
    }
   },
   "outputs": [],
   "source": [
    "class AddNumber(NodeBase):\n",
    "    \"\"\"Shift input by an offset\"\"\"\n",
    "    offset: float = zn.params()\n",
    "\n",
    "    def run(self):\n",
    "        self.output = self.inputs + self.offset\n",
    "\n",
    "class MultiplyNumber(NodeBase):\n",
    "    \"\"\"Multiply input by a factor\"\"\"\n",
    "    factor: float = zn.params()\n",
    "\n",
    "    def run(self):\n",
    "        self.output = self.inputs * self.factor"
   ]
  },
  {
   "cell_type": "code",
   "execution_count": 6,
   "metadata": {
    "collapsed": false,
    "jupyter": {
     "outputs_hidden": false
    },
    "pycharm": {
     "name": "#%%\n"
    }
   },
   "outputs": [
    {
     "name": "stdout",
     "output_type": "stream",
     "text": [
      "2022-09-16 16:16:46,480 (WARNING): Jupyter support is an experimental feature! Please save your notebook before running this command!\n",
      "Submit issues to https://github.com/zincware/ZnTrack.\n",
      "2022-09-16 16:16:52,075 (WARNING): Running DVC command: 'dvc stage add -n basic_number ...'\n",
      "2022-09-16 16:16:54,439 (WARNING): Running DVC command: 'dvc repro basic_number'\n"
     ]
    }
   ],
   "source": [
    "add_number = AddNumber(inputs=10.0, offset=15.0)\n",
    "add_number.write_graph(run=True)"
   ]
  },
  {
   "cell_type": "markdown",
   "metadata": {
    "pycharm": {
     "name": "#%% md\n"
    }
   },
   "source": [
    "Because the Nodes inherit from each other and we defined the `node_name` in the parent class, we can use all classes to load the outputs (as long as they are shared).\n",
    "This is important to keep in mind when working with inheritance, that the output might not necessarily be created by the Node it was loaded by.\n",
    "On the other hand, this can be handy for dependency handling.\n",
    "A subsequent Node can e.g. depend on the parent Node and does not need to know where the values actually come from.\n",
    "I.e. an ML Model might implement a predict function in the parent node but can have an entirely different structure.\n",
    "An evaluation node might only need the predict method and can therefore be used with all children of the model class."
   ]
  },
  {
   "cell_type": "code",
   "execution_count": 7,
   "metadata": {
    "collapsed": false,
    "jupyter": {
     "outputs_hidden": false
    },
    "pycharm": {
     "name": "#%%\n"
    }
   },
   "outputs": [
    {
     "data": {
      "text/plain": [
       "25.0"
      ]
     },
     "execution_count": 7,
     "metadata": {},
     "output_type": "execute_result"
    }
   ],
   "source": [
    "NodeBase.load().output"
   ]
  },
  {
   "cell_type": "code",
   "execution_count": 8,
   "metadata": {
    "collapsed": false,
    "jupyter": {
     "outputs_hidden": false
    },
    "pycharm": {
     "name": "#%%\n"
    }
   },
   "outputs": [
    {
     "name": "stdout",
     "output_type": "stream",
     "text": [
      "+--------------+ \n",
      "| basic_number | \n",
      "+--------------+ \n"
     ]
    }
   ],
   "source": [
    "!dvc dag"
   ]
  },
  {
   "cell_type": "code",
   "execution_count": 9,
   "metadata": {
    "collapsed": false,
    "jupyter": {
     "outputs_hidden": false
    },
    "pycharm": {
     "name": "#%%\n"
    }
   },
   "outputs": [
    {
     "name": "stdout",
     "output_type": "stream",
     "text": [
      "2022-09-16 16:17:04,047 (WARNING): Running DVC command: 'dvc stage add -n basic_number ...'\n",
      "2022-09-16 16:17:05,813 (WARNING): Running DVC command: 'dvc repro basic_number'\n"
     ]
    }
   ],
   "source": [
    "multiply_number = MultiplyNumber(inputs=6.0, factor=6.0)\n",
    "multiply_number.write_graph(run=True)"
   ]
  },
  {
   "cell_type": "code",
   "execution_count": 10,
   "metadata": {
    "collapsed": false,
    "jupyter": {
     "outputs_hidden": false
    },
    "pycharm": {
     "name": "#%%\n"
    }
   },
   "outputs": [
    {
     "data": {
      "text/plain": [
       "36.0"
      ]
     },
     "execution_count": 10,
     "metadata": {},
     "output_type": "execute_result"
    }
   ],
   "source": [
    "NodeBase.load().output"
   ]
  },
  {
   "cell_type": "markdown",
   "metadata": {
    "pycharm": {
     "name": "#%% md\n"
    }
   },
   "source": [
    "As expected the node name remains the same and therefore, the Node is replaced with the new one."
   ]
  },
  {
   "cell_type": "code",
   "execution_count": 11,
   "metadata": {
    "collapsed": false,
    "jupyter": {
     "outputs_hidden": false
    },
    "pycharm": {
     "name": "#%%\n"
    }
   },
   "outputs": [
    {
     "name": "stdout",
     "output_type": "stream",
     "text": [
      "+--------------+ \n",
      "| basic_number | \n",
      "+--------------+ \n"
     ]
    }
   ],
   "source": [
    "!dvc dag"
   ]
  },
  {
   "cell_type": "markdown",
   "metadata": {
    "pycharm": {
     "name": "#%% md\n"
    }
   },
   "source": [
    "## Nodes as parameters\n",
    "\n",
    "Sometimes it can be useful to have a Node as a parameter or use the run method of the given Node but storing the outputs somewhere else.\n",
    "For example an active learning cycle might use the model and evaluation class but the outputs are stored in the active learning Node.\n",
    "You might still want to use the other Nodes to avoid overhead though.\n",
    "\n",
    "In the following we will use the run method of a `NodeBase` Node and also have a dataclass Node just for storing parameters.\n",
    "Internally, ZnTrack disables all outputs of the given Node.\n",
    "To keep the DAG working, a `_hash = zn.Hash()` is introduced.\n",
    "This value is computed from the parameters as well as the current timestamp and only serves as a file dependency for DVC.\n",
    "Adding `zn.Hash()` to any Node will add an output file but won't have any additional effect."
   ]
  },
  {
   "cell_type": "code",
   "execution_count": 12,
   "metadata": {
    "collapsed": false,
    "jupyter": {
     "outputs_hidden": false
    },
    "pycharm": {
     "name": "#%%\n"
    }
   },
   "outputs": [],
   "source": [
    "class DivideNumber(NodeBase):\n",
    "    \"\"\"Multiply input by a factor\"\"\"\n",
    "    divider: float = zn.params()\n",
    "    _hash = zn.Hash()\n",
    "\n",
    "    def run(self):\n",
    "        self.output = self.inputs * self.divider\n",
    "\n",
    "\n",
    "class Polynomial(Node):\n",
    "    a0: float = zn.params()\n",
    "    a1: float = zn.params()\n",
    "    _hash = zn.Hash()\n",
    "\n",
    "class ManipulateNumber(Node):\n",
    "    inputs: float = zn.params()\n",
    "    output: float = zn.outs()\n",
    "    value_handler: NodeBase = zn.Nodes()\n",
    "    polynomial: Polynomial = zn.Nodes()\n",
    "\n",
    "    def run(self):\n",
    "        # use the passed method\n",
    "        self.value_handler.inputs = self.inputs\n",
    "        self.value_handler.run()\n",
    "        self.output = self.value_handler.output\n",
    "        # polynomials\n",
    "        self.output = self.polynomial.a0 + self.polynomial.a1 * self.output"
   ]
  },
  {
   "cell_type": "code",
   "execution_count": 13,
   "metadata": {
    "collapsed": false,
    "jupyter": {
     "outputs_hidden": false
    },
    "pycharm": {
     "name": "#%%\n"
    }
   },
   "outputs": [],
   "source": [
    "manipulate_number = ManipulateNumber(\n",
    "    inputs=10.0,\n",
    "    value_handler=DivideNumber(divider=3.0, inputs=None),\n",
    "    polynomial=Polynomial(a0=60.0, a1=10.0),\n",
    ")"
   ]
  },
  {
   "cell_type": "code",
   "execution_count": 14,
   "metadata": {
    "collapsed": false,
    "jupyter": {
     "outputs_hidden": false
    },
    "pycharm": {
     "name": "#%%\n"
    }
   },
   "outputs": [
    {
     "name": "stdout",
     "output_type": "stream",
     "text": [
      "2022-09-16 16:17:16,981 (WARNING): Running DVC command: 'dvc stage add -n ManipulateNumber-polynomial ...'\n",
      "2022-09-16 16:17:18,814 (WARNING): Running DVC command: 'dvc repro ManipulateNumber-polynomial'\n",
      "2022-09-16 16:17:26,646 (WARNING): Running DVC command: 'dvc stage add -n ManipulateNumber-value_handler ...'\n",
      "2022-09-16 16:17:28,403 (WARNING): Running DVC command: 'dvc repro ManipulateNumber-value_handler'\n",
      "2022-09-16 16:17:36,843 (WARNING): Running DVC command: 'dvc stage add -n ManipulateNumber ...'\n",
      "2022-09-16 16:17:38,701 (WARNING): Running DVC command: 'dvc repro ManipulateNumber'\n"
     ]
    }
   ],
   "source": [
    "manipulate_number.write_graph(run=True)"
   ]
  },
  {
   "cell_type": "code",
   "execution_count": 15,
   "metadata": {
    "collapsed": false,
    "jupyter": {
     "outputs_hidden": false
    },
    "pycharm": {
     "name": "#%%\n"
    }
   },
   "outputs": [],
   "source": [
    "manipulate_number = manipulate_number.load()"
   ]
  },
  {
   "cell_type": "code",
   "execution_count": 16,
   "metadata": {
    "collapsed": false,
    "jupyter": {
     "outputs_hidden": false
    },
    "pycharm": {
     "name": "#%%\n"
    }
   },
   "outputs": [
    {
     "data": {
      "text/plain": [
       "360.0"
      ]
     },
     "execution_count": 16,
     "metadata": {},
     "output_type": "execute_result"
    }
   ],
   "source": [
    "manipulate_number.output"
   ]
  },
  {
   "cell_type": "code",
   "execution_count": 17,
   "metadata": {
    "collapsed": false,
    "jupyter": {
     "outputs_hidden": false
    },
    "pycharm": {
     "name": "#%%\n"
    }
   },
   "outputs": [
    {
     "name": "stdout",
     "output_type": "stream",
     "text": [
      "+--------------+ \n",
      "| basic_number | \n",
      "+--------------+ \n",
      "+-----------------------------+                    +--------------------------------+\n",
      "| ManipulateNumber-polynomial |                    | ManipulateNumber-value_handler |\n",
      "+-----------------------------+                    +--------------------------------+\n",
      "                           ****                      *****                     \n",
      "                               ****              ****                          \n",
      "                                   ***        ***                              \n",
      "                                +------------------+                           \n",
      "                                | ManipulateNumber |                           \n",
      "                                +------------------+                           \n"
     ]
    }
   ],
   "source": [
    "!dvc dag"
   ]
  },
  {
   "cell_type": "code",
   "execution_count": null,
   "metadata": {
    "collapsed": false,
    "jupyter": {
     "outputs_hidden": false
    },
    "pycharm": {
     "name": "#%%\n"
    }
   },
   "outputs": [],
   "source": [
    "temp_dir.cleanup()"
   ]
  }
 ],
 "metadata": {
  "kernelspec": {
   "display_name": "Python 3 (ipykernel)",
   "language": "python",
   "name": "python3"
  },
  "language_info": {
   "codemirror_mode": {
    "name": "ipython",
    "version": 3
   },
   "file_extension": ".py",
   "mimetype": "text/x-python",
   "name": "python",
   "nbconvert_exporter": "python",
   "pygments_lexer": "ipython3",
   "version": "3.9.13"
  }
 },
 "nbformat": 4,
 "nbformat_minor": 4
}
