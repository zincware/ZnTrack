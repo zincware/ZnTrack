{
 "cells": [
  {
   "cell_type": "markdown",
   "id": "a781fb6d",
   "metadata": {},
   "source": [
    "# Dependencies\n",
    "\n",
    "For ZnTrack there are two different ways to set up dependencies:\n",
    "\n",
    "1. Node/Stage based dependencies\n",
    "2. File based dependencies\n",
    "\n",
    "## Node dependencies\n",
    "We will first look at Node based dependencies starting from a RandomNumber `Hello World` example.\n",
    "In our first stage we create a random number and then we add another Node that depends on this one.\n",
    "We can do this very easily by setting the `zn.deps` in the following way\n",
    "```py\n",
    "dependency: Stage = zn.deps(Stage) # or zn.deps(Stage.load())\n",
    "```\n",
    "\n",
    "This allows us to access all properties of the `dependency` attribute."
   ]
  },
  {
   "cell_type": "code",
   "execution_count": 1,
   "id": "2e8ff1cd-7967-4c0e-8f77-32c8a0ecd94b",
   "metadata": {},
   "outputs": [],
   "source": [
    "from zntrack import Node, dvc, zn, config\n",
    "from random import randrange\n",
    "from pathlib import Path"
   ]
  },
  {
   "cell_type": "code",
   "execution_count": 2,
   "id": "9d8da8c5-f05d-4832-804c-0ad78cdfb851",
   "metadata": {},
   "outputs": [],
   "source": [
    "config.nb_name = \"03_dependencies.ipynb\""
   ]
  },
  {
   "cell_type": "code",
   "execution_count": 3,
   "id": "a9842607-b54f-46bb-a708-269566dc0fbc",
   "metadata": {
    "nbsphinx": "hidden",
    "tags": []
   },
   "outputs": [],
   "source": [
    "from zntrack.utils import cwd_temp_dir\n",
    "\n",
    "temp_dir = cwd_temp_dir()"
   ]
  },
  {
   "cell_type": "code",
   "execution_count": 4,
   "id": "71c2830e-c74a-4e49-84da-4cd9d8985423",
   "metadata": {
    "pycharm": {
     "name": "#%%\n"
    }
   },
   "outputs": [
    {
     "name": "stdout",
     "output_type": "stream",
     "text": [
      "Initialized empty Git repository in /tmp/tmp6z7c4790/.git/\r\n",
      "Initialized DVC repository.\r\n",
      "\r\n",
      "You can now commit the changes to git.\r\n",
      "\r\n",
      "\u001B[31m+---------------------------------------------------------------------+\r\n",
      "\u001B[0m\u001B[31m|\u001B[0m                                                                     \u001B[31m|\u001B[0m\r\n",
      "\u001B[31m|\u001B[0m        DVC has enabled anonymous aggregate usage analytics.         \u001B[31m|\u001B[0m\r\n",
      "\u001B[31m|\u001B[0m     Read the analytics documentation (and how to opt-out) here:     \u001B[31m|\u001B[0m\r\n",
      "\u001B[31m|\u001B[0m             <\u001B[36mhttps://dvc.org/doc/user-guide/analytics\u001B[39m>              \u001B[31m|\u001B[0m\r\n",
      "\u001B[31m|\u001B[0m                                                                     \u001B[31m|\u001B[0m\r\n",
      "\u001B[31m+---------------------------------------------------------------------+\r\n",
      "\u001B[0m\r\n",
      "\u001B[33mWhat's next?\u001B[39m\r\n",
      "\u001B[33m------------\u001B[39m\r\n",
      "- Check out the documentation: <\u001B[36mhttps://dvc.org/doc\u001B[39m>\r\n",
      "- Get help and share ideas: <\u001B[36mhttps://dvc.org/chat\u001B[39m>\r\n",
      "- Star us on GitHub: <\u001B[36mhttps://github.com/iterative/dvc\u001B[39m>\r\n",
      "\u001B[0m"
     ]
    }
   ],
   "source": [
    "!git init\n",
    "!dvc init"
   ]
  },
  {
   "cell_type": "code",
   "execution_count": 5,
   "id": "410e335c-c62b-4bda-932d-db97c3a84b2c",
   "metadata": {
    "tags": []
   },
   "outputs": [],
   "source": [
    "class RandomNumber(Node):\n",
    "    maximum = zn.params()\n",
    "    number = zn.outs()\n",
    "\n",
    "    def __init__(self, maximum=None, **kwargs):\n",
    "        super().__init__(**kwargs)\n",
    "        self.maximum = maximum\n",
    "\n",
    "    def run(self):\n",
    "        self.number = float(randrange(self.maximum))\n",
    "\n",
    "\n",
    "class ComputePower(Node):\n",
    "    random_number: RandomNumber = zn.deps(RandomNumber.load())\n",
    "    number = zn.outs()\n",
    "    power = zn.params()\n",
    "\n",
    "    def __init__(self, power=2, **kwargs):\n",
    "        super().__init__(**kwargs)\n",
    "        self.power = power\n",
    "\n",
    "    def run(self):\n",
    "        self.number = self.random_number.number**self.power"
   ]
  },
  {
   "cell_type": "markdown",
   "id": "e6f37308-a942-467d-94f6-1e6edfe7b317",
   "metadata": {},
   "source": [
    "We can now create the stages the usual way and look at the outcomes"
   ]
  },
  {
   "cell_type": "code",
   "execution_count": 6,
   "id": "00353190-29c3-4954-a9b5-aec358b35fa9",
   "metadata": {},
   "outputs": [
    {
     "name": "stdout",
     "output_type": "stream",
     "text": [
      "2022-03-16 13:42:38,692 (WARNING): Jupyter support is an experimental feature! Please save your notebook before running this command!\n",
      "Submit issues to https://github.com/zincware/ZnTrack.\n",
      "2022-03-16 13:42:42,495 (WARNING): Running DVC command: 'dvc run -n RandomNumber ...'\n",
      "2022-03-16 13:42:49,268 (WARNING): Running DVC command: 'dvc run -n ComputePower ...'\n"
     ]
    }
   ],
   "source": [
    "RandomNumber(maximum=16).write_graph()\n",
    "ComputePower(power=2.0).write_graph()"
   ]
  },
  {
   "cell_type": "code",
   "execution_count": 7,
   "id": "a1928386-539a-4698-81a1-e68e843e1415",
   "metadata": {},
   "outputs": [
    {
     "name": "stdout",
     "output_type": "stream",
     "text": [
      "                                                                      \rore\u001B[39m>Running stage 'RandomNumber':\r\n",
      "> python3 -c \"from src.RandomNumber import RandomNumber; RandomNumber.load(name='RandomNumber').run_and_save()\" \r\n",
      "Generating lock file 'dvc.lock'                                                 \r\n",
      "Updating lock file 'dvc.lock'\r\n",
      "\r\n",
      "Running stage 'ComputePower':\r\n",
      "> python3 -c \"from src.ComputePower import ComputePower; ComputePower.load(name='ComputePower').run_and_save()\" \r\n",
      "Updating lock file 'dvc.lock'                                                   \r\n",
      "\r\n",
      "To track the changes with git, run:\r\n",
      "\r\n",
      "    git add dvc.lock\r\n",
      "\r\n",
      "To enable auto staging, run:\r\n",
      "\r\n",
      "\tdvc config core.autostage true\r\n",
      "Use `dvc push` to send your updates to remote storage.\r\n",
      "\u001B[0m"
     ]
    }
   ],
   "source": [
    "!dvc repro"
   ]
  },
  {
   "cell_type": "code",
   "execution_count": 8,
   "id": "7d235eca-8834-4e31-ad4e-51f83a80a625",
   "metadata": {},
   "outputs": [
    {
     "name": "stdout",
     "output_type": "stream",
     "text": [
      "7.0 ^ 2.0 = 49.0\n"
     ]
    }
   ],
   "source": [
    "print(\n",
    "    f\"{RandomNumber.load().number} ^ {ComputePower.load().power} =\"\n",
    "    f\" {ComputePower.load().number}\"\n",
    ")"
   ]
  },
  {
   "cell_type": "markdown",
   "id": "c07bbdc0-cbaf-4b5e-afce-47c07dfbd0f1",
   "metadata": {},
   "source": [
    "## File dependencies\n",
    "The second approach is depending on files.\n",
    "We do this by creating a file from our random number first.\n",
    "We then use the path to that file as our dependency.\n",
    "In the end we compare both methods and also show the graph that was built for us by DVC.\n",
    "\n",
    "We can do set the file dependency very easily in the same way by passing `pathlib.Path` or `str` to the `dvc.deps`.\n",
    "As every  `dvc.<...>` it also supports lists.\n",
    "```py\n",
    "dependency: Path = dvc.deps([Path('some_file.txt'), 'some_other_file.txt'])\n",
    "```\n",
    "\n",
    "If there are no arguments to `load` we can also use `dvc.deps(RandomNumber)` instead of `dvc.deps(RandomNumber.load())`. This should not be used with attributes such as  `dvc.deps(RandomNumber.file)`, because the file name could change and this would not be recognized. In general, for Node dependencies the full Node should be passed and not some Node attributes to avoid potentially unwanted behaviour.\n",
    "A clear benefit of passing `RandomNumber` without `load` is the evaluation of the class happens upon the instantiation and not during the definition of the class."
   ]
  },
  {
   "cell_type": "code",
   "execution_count": 9,
   "id": "8c062896-ca2c-4a8f-a15c-294ee3866855",
   "metadata": {},
   "outputs": [],
   "source": [
    "# zntrack: break\n",
    "class WriteToFile(Node):\n",
    "    random_number: RandomNumber = zn.deps(RandomNumber)\n",
    "    file: Path = dvc.outs(Path(\"random_number.txt\"))\n",
    "\n",
    "    def run(self):\n",
    "        self.file.write_text(str(self.random_number.number))\n",
    "\n",
    "\n",
    "class PowerFromFile(Node):\n",
    "    # do not use WriteFile.file / WriteFile.load().file and replace it with zn.deps(WriteFile)\n",
    "    # and then access self.write_file.file. This way you make sure to always use the correct file\n",
    "    file: Path = zn.deps(Path(\"random_number.txt\"))\n",
    "    number = zn.outs()\n",
    "    power = zn.params(2)\n",
    "\n",
    "    def run(self):\n",
    "        number = float(self.file.read_text())\n",
    "        self.number = number**self.power\n",
    "\n",
    "\n",
    "class ComparePowers(Node):\n",
    "    # both are possible, ComputePower or ComputePower.load()\n",
    "    power_deps = zn.deps([PowerFromFile.load(), ComputePower])\n",
    "\n",
    "    def run(self):\n",
    "        assert self.power_deps[0].number == self.power_deps[1].number"
   ]
  },
  {
   "cell_type": "code",
   "execution_count": 10,
   "id": "1eefb12a-65de-4c9b-a05a-b9827915b619",
   "metadata": {},
   "outputs": [
    {
     "name": "stdout",
     "output_type": "stream",
     "text": [
      "2022-03-16 13:43:00,548 (WARNING): Running DVC command: 'dvc run -n WriteToFile ...'\n",
      "2022-03-16 13:43:07,632 (WARNING): Running DVC command: 'dvc run -n PowerFromFile ...'\n",
      "2022-03-16 13:43:14,835 (WARNING): Running DVC command: 'dvc run -n ComparePowers ...'\n"
     ]
    }
   ],
   "source": [
    "WriteToFile().write_graph()\n",
    "PowerFromFile().write_graph()\n",
    "ComparePowers().write_graph()"
   ]
  },
  {
   "cell_type": "code",
   "execution_count": 11,
   "id": "883099de-6823-4000-9080-6f57b61a9bf9",
   "metadata": {},
   "outputs": [
    {
     "name": "stdout",
     "output_type": "stream",
     "text": [
      "                +--------------+                  \r\n",
      "                | RandomNumber |                  \r\n",
      "                +--------------+                  \r\n",
      "                **             ***                \r\n",
      "             ***                  ***             \r\n",
      "           **                        **           \r\n",
      " +-------------+                       **         \r\n",
      " | WriteToFile |                        *         \r\n",
      " +-------------+                        *         \r\n",
      "        *                               *         \r\n",
      "        *                               *         \r\n",
      "        *                               *         \r\n",
      "+---------------+               +--------------+  \r\n",
      "| PowerFromFile |               | ComputePower |  \r\n",
      "+---------------+               +--------------+  \r\n",
      "                **             ***                \r\n",
      "                  ***        **                   \r\n",
      "                     **    **                     \r\n",
      "                +---------------+                 \r\n",
      "                | ComparePowers |                 \r\n",
      "                +---------------+                 \r\n",
      "\u001B[0m"
     ]
    }
   ],
   "source": [
    "!dvc dag"
   ]
  },
  {
   "cell_type": "code",
   "execution_count": 12,
   "id": "20944b0c-9c56-49fa-bff8-e77886d4e50f",
   "metadata": {},
   "outputs": [
    {
     "name": "stdout",
     "output_type": "stream",
     "text": [
      "                                                                      \rore\u001B[39m>Stage 'RandomNumber' didn't change, skipping\r\n",
      "Running stage 'WriteToFile':\r\n",
      "> python3 -c \"from src.WriteToFile import WriteToFile; WriteToFile.load(name='WriteToFile').run_and_save()\" \r\n",
      "Updating lock file 'dvc.lock'                                                   \r\n",
      "\r\n",
      "Running stage 'PowerFromFile':\r\n",
      "> python3 -c \"from src.PowerFromFile import PowerFromFile; PowerFromFile.load(name='PowerFromFile').run_and_save()\" \r\n",
      "Updating lock file 'dvc.lock'                                                   \r\n",
      "\r\n",
      "Stage 'ComputePower' didn't change, skipping\r\n",
      "Running stage 'ComparePowers':\r\n",
      "> python3 -c \"from src.ComparePowers import ComparePowers; ComparePowers.load(name='ComparePowers').run_and_save()\" \r\n",
      "Updating lock file 'dvc.lock'                                         core\u001B[39m>\r\n",
      "\r\n",
      "To track the changes with git, run:\r\n",
      "\r\n",
      "    git add dvc.lock\r\n",
      "\r\n",
      "To enable auto staging, run:\r\n",
      "\r\n",
      "\tdvc config core.autostage true\r\n",
      "Use `dvc push` to send your updates to remote storage.\r\n",
      "\u001B[0m"
     ]
    }
   ],
   "source": [
    "!dvc repro"
   ]
  },
  {
   "cell_type": "code",
   "execution_count": 13,
   "outputs": [],
   "source": [
    "# to verify we can also run the method manually\n",
    "ComparePowers.load().run()"
   ],
   "metadata": {
    "collapsed": false,
    "pycharm": {
     "name": "#%%\n"
    }
   }
  },
  {
   "cell_type": "markdown",
   "id": "c0b8c97a-ab33-4ac4-9473-c203d88c0442",
   "metadata": {},
   "source": [
    "If we now look at our `dvc.yaml` we can see that for our Node dependencies we rely on the `outs/<node_name>.json` while for the file dependency it is directly connect to the passed file."
   ]
  },
  {
   "cell_type": "code",
   "execution_count": 14,
   "id": "32e1e993-ff99-4eb6-97db-ffc3ce834ca5",
   "metadata": {},
   "outputs": [
    {
     "data": {
      "text/plain": "stages:\n  RandomNumber:\n    cmd: \"python3 -c \\\"from src.RandomNumber import RandomNumber; RandomNumber.load(name='RandomNumber').run_and_save()\\\"\\\n      \\ \"\n    deps:\n    - src/RandomNumber.py\n    params:\n    - RandomNumber\n    outs:\n    - nodes/RandomNumber/outs.json\n  ComputePower:\n    cmd: \"python3 -c \\\"from src.ComputePower import ComputePower; ComputePower.load(name='ComputePower').run_and_save()\\\"\\\n      \\ \"\n    deps:\n    - nodes/RandomNumber/outs.json\n    - src/ComputePower.py\n    params:\n    - ComputePower\n    outs:\n    - nodes/ComputePower/outs.json\n  WriteToFile:\n    cmd: \"python3 -c \\\"from src.WriteToFile import WriteToFile; WriteToFile.load(name='WriteToFile').run_and_save()\\\"\\\n      \\ \"\n    deps:\n    - nodes/RandomNumber/outs.json\n    - src/WriteToFile.py\n    outs:\n    - random_number.txt\n  PowerFromFile:\n    cmd: \"python3 -c \\\"from src.PowerFromFile import PowerFromFile; PowerFromFile.load(name='PowerFromFile').run_and_save()\\\"\\\n      \\ \"\n    deps:\n    - random_number.txt\n    - src/PowerFromFile.py\n    params:\n    - PowerFromFile\n    outs:\n    - nodes/PowerFromFile/outs.json\n  ComparePowers:\n    cmd: \"python3 -c \\\"from src.ComparePowers import ComparePowers; ComparePowers.load(name='ComparePowers').run_and_save()\\\"\\\n      \\ \"\n    deps:\n    - nodes/ComputePower/outs.json\n    - nodes/PowerFromFile/outs.json\n    - src/ComparePowers.py\n"
     },
     "metadata": {},
     "output_type": "display_data"
    }
   ],
   "source": [
    "from IPython.display import Pretty, display\n",
    "\n",
    "display(Pretty(\"dvc.yaml\"))"
   ]
  },
  {
   "cell_type": "markdown",
   "source": [
    "## Node attributes as dependencies\n",
    "\n",
    "It is also possible to specify a Node attribute as a dependency. In this case you will be able to access the value of the attribute directly instead of using the Node class.\n",
    "This can be used for all `dvc.<option>` and `zn.<option>` as well as e.g. class properties.\n",
    "Note that the dvc dependencies will still be written for the full Node and won't be limited to the Node attribute.\n",
    "To be able to define a dependency of an attribute the `zntrack.getdeps` function is required."
   ],
   "metadata": {
    "collapsed": false,
    "pycharm": {
     "name": "#%% md\n"
    }
   }
  },
  {
   "cell_type": "code",
   "execution_count": 15,
   "outputs": [],
   "source": [
    "from zntrack import getdeps"
   ],
   "metadata": {
    "collapsed": false,
    "pycharm": {
     "name": "#%%\n"
    }
   }
  },
  {
   "cell_type": "code",
   "execution_count": 16,
   "outputs": [],
   "source": [
    "class ComputePowerFromNumber(Node):\n",
    "    number: float = zn.deps()  # this will be float instead of RandomNumber\n",
    "\n",
    "    power: int = zn.params()\n",
    "    result: float = zn.outs()\n",
    "\n",
    "    def run(self):\n",
    "        self.result = self.number**self.power"
   ],
   "metadata": {
    "collapsed": false,
    "pycharm": {
     "name": "#%%\n"
    }
   }
  },
  {
   "cell_type": "code",
   "execution_count": 17,
   "outputs": [
    {
     "name": "stdout",
     "output_type": "stream",
     "text": [
      "2022-03-16 13:43:31,053 (WARNING): Running DVC command: 'dvc run -n ComputePowerFromNumber ...'\n"
     ]
    }
   ],
   "source": [
    "ComputePowerFromNumber(number=getdeps(RandomNumber, \"number\"), power=2.0).write_graph(\n",
    "    run=True\n",
    ")"
   ],
   "metadata": {
    "collapsed": false,
    "pycharm": {
     "name": "#%%\n"
    }
   }
  },
  {
   "cell_type": "markdown",
   "source": [
    "`getdeps(RandomNumber, \"number\")` can also be replaced by `getdeps(RandomNumber[\"nodename\"], \"number\")` or `getdeps(RandomNumber.load(name=\"nodename\"), \"number\")`.\n",
    "The first argument represents the Node and the second argument is the attribute, similar to `getattr()`."
   ],
   "metadata": {
    "collapsed": false,
    "pycharm": {
     "name": "#%% md\n"
    }
   }
  },
  {
   "cell_type": "code",
   "execution_count": 18,
   "outputs": [],
   "source": [
    "compute_power = ComputePowerFromNumber.load()"
   ],
   "metadata": {
    "collapsed": false,
    "pycharm": {
     "name": "#%%\n"
    }
   }
  },
  {
   "cell_type": "code",
   "execution_count": 19,
   "outputs": [
    {
     "name": "stdout",
     "output_type": "stream",
     "text": [
      "7.0 ^ 2.0 = 49.0\n"
     ]
    }
   ],
   "source": [
    "print(f\"{compute_power.number} ^ {compute_power.power} = {compute_power.result}\")"
   ],
   "metadata": {
    "collapsed": false,
    "pycharm": {
     "name": "#%%\n"
    }
   }
  },
  {
   "cell_type": "code",
   "execution_count": 20,
   "id": "b26fb0f0-5f3e-40d0-b1fd-8d5844f051e8",
   "metadata": {
    "nbsphinx": "hidden",
    "tags": [],
    "pycharm": {
     "name": "#%%\n"
    }
   },
   "outputs": [],
   "source": [
    "temp_dir.cleanup()"
   ]
  }
 ],
 "metadata": {
  "kernelspec": {
   "display_name": "Python 3 (ipykernel)",
   "language": "python",
   "name": "python3"
  },
  "language_info": {
   "codemirror_mode": {
    "name": "ipython",
    "version": 3
   },
   "file_extension": ".py",
   "mimetype": "text/x-python",
   "name": "python",
   "nbconvert_exporter": "python",
   "pygments_lexer": "ipython3",
   "version": "3.9.7"
  }
 },
 "nbformat": 4,
 "nbformat_minor": 5
}