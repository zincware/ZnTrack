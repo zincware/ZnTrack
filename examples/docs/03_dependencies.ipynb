{
 "cells": [
  {
   "cell_type": "markdown",
   "id": "a781fb6d",
   "metadata": {},
   "source": [
    "# Dependencies\n",
    "\n",
    "For ZnTrack there are two different ways to set up dependencies:\n",
    "\n",
    "1. Node/Stage based dependencies\n",
    "2. File based dependencies\n",
    "\n",
    "## Node dependencies\n",
    "We will first look at Node based dependencies starting from a RandomNumber `Hello World` example.\n",
    "In our first stage we create a random number and then we add another Node that depends on this one.\n",
    "We can do this very easily by setting the `dvc.deps` in the following way\n",
    "```py\n",
    "dependency: Stage = dvc.deps(Stage.load()\n",
    "```\n",
    "\n",
    "This allows us to access all properties of the `dependency` attribute."
   ]
  },
  {
   "cell_type": "code",
   "execution_count": 1,
   "id": "2e8ff1cd-7967-4c0e-8f77-32c8a0ecd94b",
   "metadata": {},
   "outputs": [],
   "source": [
    "from zntrack import Node, dvc, zn, config\n",
    "from random import randrange\n",
    "from pathlib import Path"
   ]
  },
  {
   "cell_type": "code",
   "execution_count": 2,
   "id": "9d8da8c5-f05d-4832-804c-0ad78cdfb851",
   "metadata": {},
   "outputs": [],
   "source": [
    "config.nb_name = \"03_dependencies.ipynb\""
   ]
  },
  {
   "cell_type": "code",
   "execution_count": 3,
   "id": "a9842607-b54f-46bb-a708-269566dc0fbc",
   "metadata": {
    "nbsphinx": "hidden",
    "tags": []
   },
   "outputs": [],
   "source": [
    "from zntrack.utils import cwd_temp_dir\n",
    "\n",
    "temp_dir = cwd_temp_dir()"
   ]
  },
  {
   "cell_type": "code",
   "execution_count": 4,
   "id": "71c2830e-c74a-4e49-84da-4cd9d8985423",
   "metadata": {
    "pycharm": {
     "name": "#%%\n"
    }
   },
   "outputs": [
    {
     "name": "stdout",
     "output_type": "stream",
     "text": [
      "Initialized empty Git repository in C:/Users/fabia/AppData/Local/Temp/tmpb76jker8/.git/\n",
      "Initialized DVC repository.\n",
      "\n",
      "You can now commit the changes to git.\n",
      "\n",
      "+---------------------------------------------------------------------+\n",
      "|                                                                     |\n",
      "|        DVC has enabled anonymous aggregate usage analytics.         |\n",
      "|     Read the analytics documentation (and how to opt-out) here:     |\n",
      "|             <https://dvc.org/doc/user-guide/analytics>              |\n",
      "|                                                                     |\n",
      "+---------------------------------------------------------------------+\n",
      "\n",
      "What's next?\n",
      "------------\n",
      "- Check out the documentation: <https://dvc.org/doc>\n",
      "- Get help and share ideas: <https://dvc.org/chat>\n",
      "- Star us on GitHub: <https://github.com/iterative/dvc>\n"
     ]
    }
   ],
   "source": [
    "!git init\n",
    "!dvc init"
   ]
  },
  {
   "cell_type": "code",
   "execution_count": 5,
   "id": "410e335c-c62b-4bda-932d-db97c3a84b2c",
   "metadata": {
    "tags": []
   },
   "outputs": [],
   "source": [
    "class RandomNumber(Node):\n",
    "    maximum = zn.params()\n",
    "    number = zn.outs()\n",
    "\n",
    "    def __init__(self, maximum=None, **kwargs):\n",
    "        super().__init__(**kwargs)\n",
    "        self.maximum = maximum\n",
    "\n",
    "    def run(self):\n",
    "        self.number = float(randrange(self.maximum))\n",
    "\n",
    "\n",
    "class ComputePower(Node):\n",
    "    random_number: RandomNumber = dvc.deps(RandomNumber.load())\n",
    "    number = zn.outs()\n",
    "    power = zn.params()\n",
    "\n",
    "    def __init__(self, power=2, **kwargs):\n",
    "        super().__init__(**kwargs)\n",
    "        self.power = power\n",
    "\n",
    "    def run(self):\n",
    "        self.number = self.random_number.number**self.power"
   ]
  },
  {
   "cell_type": "markdown",
   "id": "e6f37308-a942-467d-94f6-1e6edfe7b317",
   "metadata": {},
   "source": [
    "We can now create the stages the usual way and look at the outcomes"
   ]
  },
  {
   "cell_type": "code",
   "execution_count": 6,
   "id": "00353190-29c3-4954-a9b5-aec358b35fa9",
   "metadata": {},
   "outputs": [
    {
     "name": "stdout",
     "output_type": "stream",
     "text": [
      "2022-01-13 20:27:05,229 (WARNING): Jupyter support is an experimental feature! Please save your notebook before running this command!\n",
      "Submit issues to https://github.com/zincware/ZnTrack.\n",
      "2022-01-13 20:27:05,230 (WARNING): Converting 03_dependencies.ipynb to file RandomNumber.py\n",
      "2022-01-13 20:27:07,718 (WARNING): --- Writing new DVC file! ---\n",
      "2022-01-13 20:27:09,167 (WARNING): Jupyter support is an experimental feature! Please save your notebook before running this command!\n",
      "Submit issues to https://github.com/zincware/ZnTrack.\n",
      "2022-01-13 20:27:09,167 (WARNING): Converting 03_dependencies.ipynb to file ComputePower.py\n",
      "2022-01-13 20:27:11,817 (WARNING): --- Writing new DVC file! ---\n"
     ]
    }
   ],
   "source": [
    "RandomNumber(maximum=16).write_graph()\n",
    "ComputePower(power=2.0).write_graph()"
   ]
  },
  {
   "cell_type": "code",
   "execution_count": 7,
   "id": "a1928386-539a-4698-81a1-e68e843e1415",
   "metadata": {},
   "outputs": [
    {
     "name": "stdout",
     "output_type": "stream",
     "text": [
      "Running stage 'RandomNumber':\n",
      "> python -c \"from src.RandomNumber import RandomNumber; RandomNumber.load(name='RandomNumber').run_and_save()\" \n",
      "Generating lock file 'dvc.lock'\n",
      "Updating lock file 'dvc.lock'\n",
      "\n",
      "Running stage 'ComputePower':\n",
      "> python -c \"from src.ComputePower import ComputePower; ComputePower.load(name='ComputePower').run_and_save()\" \n",
      "Updating lock file 'dvc.lock'\n",
      "\n",
      "To track the changes with git, run:\n",
      "\n",
      "\tgit add dvc.lock\n",
      "Use `dvc push` to send your updates to remote storage.\n"
     ]
    }
   ],
   "source": [
    "!dvc repro"
   ]
  },
  {
   "cell_type": "code",
   "execution_count": 8,
   "id": "7d235eca-8834-4e31-ad4e-51f83a80a625",
   "metadata": {},
   "outputs": [
    {
     "name": "stdout",
     "output_type": "stream",
     "text": [
      "12.0 ^ 2.0 = 144.0\n"
     ]
    }
   ],
   "source": [
    "print(\n",
    "    f\"{RandomNumber.load().number} ^ {ComputePower.load().power} =\"\n",
    "    f\" {ComputePower.load().number}\"\n",
    ")"
   ]
  },
  {
   "cell_type": "markdown",
   "id": "c07bbdc0-cbaf-4b5e-afce-47c07dfbd0f1",
   "metadata": {},
   "source": [
    "## File dependencies\n",
    "The second approach is depending on files.\n",
    "We do this by creating a file from our random number first.\n",
    "We then use the path to that file as our dependency.\n",
    "In the end we compare both methods and also show the graph that was built for us by DVC.\n",
    "\n",
    "We can do set the file dependency very easily in the same way by passing `pathlib.Path` or `str` to the `dvc.deps`.\n",
    "As every  `dvc.<...>` it also supports lists.\n",
    "```py\n",
    "dependency: Path = dvc.deps([Path('some_file.txt'), 'some_other_file.txt'])\n",
    "```"
   ]
  },
  {
   "cell_type": "code",
   "execution_count": 9,
   "id": "8c062896-ca2c-4a8f-a15c-294ee3866855",
   "metadata": {},
   "outputs": [],
   "source": [
    "class WriteToFile(Node):\n",
    "    random_number: RandomNumber = dvc.deps(RandomNumber.load())\n",
    "    file: Path = dvc.outs(Path(\"random_number.txt\"))\n",
    "\n",
    "    def run(self):\n",
    "        self.file.write_text(str(self.random_number.number))\n",
    "\n",
    "\n",
    "class PowerFromFile(Node):\n",
    "    file: Path = dvc.deps(WriteToFile.load().file)\n",
    "    number = zn.outs()\n",
    "    power = zn.params(2)\n",
    "\n",
    "    def run(self):\n",
    "        number = float(self.file.read_text())\n",
    "        self.number = number**self.power\n",
    "\n",
    "\n",
    "class ComparePowers(Node):\n",
    "    power_deps = dvc.deps([PowerFromFile.load(), ComputePower.load()])\n",
    "\n",
    "    def run(self):\n",
    "        assert self.power_deps[0].number == self.power_deps[1].number"
   ]
  },
  {
   "cell_type": "code",
   "execution_count": 10,
   "id": "1eefb12a-65de-4c9b-a05a-b9827915b619",
   "metadata": {},
   "outputs": [
    {
     "name": "stdout",
     "output_type": "stream",
     "text": [
      "2022-01-13 20:27:17,779 (WARNING): Jupyter support is an experimental feature! Please save your notebook before running this command!\n",
      "Submit issues to https://github.com/zincware/ZnTrack.\n",
      "2022-01-13 20:27:17,779 (WARNING): Converting 03_dependencies.ipynb to file WriteToFile.py\n",
      "2022-01-13 20:27:20,119 (WARNING): --- Writing new DVC file! ---\n",
      "2022-01-13 20:27:21,703 (WARNING): Jupyter support is an experimental feature! Please save your notebook before running this command!\n",
      "Submit issues to https://github.com/zincware/ZnTrack.\n",
      "2022-01-13 20:27:21,704 (WARNING): Converting 03_dependencies.ipynb to file PowerFromFile.py\n",
      "2022-01-13 20:27:24,058 (WARNING): --- Writing new DVC file! ---\n",
      "2022-01-13 20:27:25,580 (WARNING): Jupyter support is an experimental feature! Please save your notebook before running this command!\n",
      "Submit issues to https://github.com/zincware/ZnTrack.\n",
      "2022-01-13 20:27:25,581 (WARNING): Converting 03_dependencies.ipynb to file ComparePowers.py\n",
      "2022-01-13 20:27:28,032 (WARNING): --- Writing new DVC file! ---\n"
     ]
    }
   ],
   "source": [
    "WriteToFile().write_graph()\n",
    "PowerFromFile().write_graph()\n",
    "ComparePowers().write_graph()"
   ]
  },
  {
   "cell_type": "code",
   "execution_count": 11,
   "id": "883099de-6823-4000-9080-6f57b61a9bf9",
   "metadata": {},
   "outputs": [
    {
     "name": "stdout",
     "output_type": "stream",
     "text": [
      "                +--------------+                  \n",
      "                | RandomNumber |                  \n",
      "                +--------------+                  \n",
      "                **             ***                \n",
      "             ***                  ***             \n",
      "           **                        **           \n",
      " +-------------+                       **         \n",
      " | WriteToFile |                        *         \n",
      " +-------------+                        *         \n",
      "        *                               *         \n",
      "        *                               *         \n",
      "        *                               *         \n",
      "+---------------+               +--------------+  \n",
      "| PowerFromFile |               | ComputePower |  \n",
      "+---------------+               +--------------+  \n",
      "                **             ***                \n",
      "                  ***        **                   \n",
      "                     **    **                     \n",
      "                +---------------+                 \n",
      "                | ComparePowers |                 \n",
      "                +---------------+                 \n"
     ]
    }
   ],
   "source": [
    "!dvc dag"
   ]
  },
  {
   "cell_type": "code",
   "execution_count": 12,
   "id": "20944b0c-9c56-49fa-bff8-e77886d4e50f",
   "metadata": {},
   "outputs": [
    {
     "name": "stdout",
     "output_type": "stream",
     "text": [
      "Stage 'RandomNumber' didn't change, skipping\n",
      "Stage 'ComputePower' didn't change, skipping\n",
      "Running stage 'WriteToFile':\n",
      "> python -c \"from src.WriteToFile import WriteToFile; WriteToFile.load(name='WriteToFile').run_and_save()\" \n",
      "Updating lock file 'dvc.lock'\n",
      "\n",
      "Running stage 'PowerFromFile':\n",
      "> python -c \"from src.PowerFromFile import PowerFromFile; PowerFromFile.load(name='PowerFromFile').run_and_save()\" \n",
      "Updating lock file 'dvc.lock'\n",
      "\n",
      "Running stage 'ComparePowers':\n",
      "> python -c \"from src.ComparePowers import ComparePowers; ComparePowers.load(name='ComparePowers').run_and_save()\" \n",
      "Updating lock file 'dvc.lock'\n",
      "\n",
      "To track the changes with git, run:\n",
      "\n",
      "\tgit add dvc.lock\n",
      "Use `dvc push` to send your updates to remote storage.\n"
     ]
    }
   ],
   "source": [
    "!dvc repro"
   ]
  },
  {
   "cell_type": "code",
   "execution_count": 13,
   "outputs": [],
   "source": [
    "# to verify we can also run the method manually\n",
    "ComparePowers.load().run()"
   ],
   "metadata": {
    "collapsed": false,
    "pycharm": {
     "name": "#%%\n"
    }
   }
  },
  {
   "cell_type": "markdown",
   "id": "c0b8c97a-ab33-4ac4-9473-c203d88c0442",
   "metadata": {},
   "source": [
    "If we now look at our `dvc.yaml` we can see that for our Node dependencies we rely on the `outs/<node_name>.json` while for the file dependency it is directly connect to the passed file."
   ]
  },
  {
   "cell_type": "code",
   "execution_count": 14,
   "id": "32e1e993-ff99-4eb6-97db-ffc3ce834ca5",
   "metadata": {},
   "outputs": [
    {
     "data": {
      "text/plain": "stages:\n  RandomNumber:\n    cmd: \"python -c \\\"from src.RandomNumber import RandomNumber; RandomNumber.load(name='RandomNumber').run_and_save()\\\"\\\n      \\ \"\n    deps:\n    - src/RandomNumber.py\n    params:\n    - RandomNumber\n    outs:\n    - nodes\\RandomNumber\\outs.json\n  ComputePower:\n    cmd: \"python -c \\\"from src.ComputePower import ComputePower; ComputePower.load(name='ComputePower').run_and_save()\\\"\\\n      \\ \"\n    deps:\n    - nodes\\RandomNumber\\outs.json\n    - src/ComputePower.py\n    params:\n    - ComputePower\n    outs:\n    - nodes\\ComputePower\\outs.json\n  WriteToFile:\n    cmd: \"python -c \\\"from src.WriteToFile import WriteToFile; WriteToFile.load(name='WriteToFile').run_and_save()\\\"\\\n      \\ \"\n    deps:\n    - nodes\\RandomNumber\\outs.json\n    - src/WriteToFile.py\n    outs:\n    - random_number.txt\n  PowerFromFile:\n    cmd: \"python -c \\\"from src.PowerFromFile import PowerFromFile; PowerFromFile.load(name='PowerFromFile').run_and_save()\\\"\\\n      \\ \"\n    deps:\n    - random_number.txt\n    - src/PowerFromFile.py\n    params:\n    - PowerFromFile\n    outs:\n    - nodes\\PowerFromFile\\outs.json\n  ComparePowers:\n    cmd: \"python -c \\\"from src.ComparePowers import ComparePowers; ComparePowers.load(name='ComparePowers').run_and_save()\\\"\\\n      \\ \"\n    deps:\n    - nodes\\ComputePower\\outs.json\n    - nodes\\PowerFromFile\\outs.json\n    - src/ComparePowers.py\n"
     },
     "metadata": {},
     "output_type": "display_data"
    }
   ],
   "source": [
    "from IPython.display import Pretty, display\n",
    "\n",
    "display(Pretty(\"dvc.yaml\"))"
   ]
  },
  {
   "cell_type": "code",
   "execution_count": null,
   "id": "b26fb0f0-5f3e-40d0-b1fd-8d5844f051e8",
   "metadata": {
    "nbsphinx": "hidden",
    "tags": [],
    "pycharm": {
     "is_executing": true
    }
   },
   "outputs": [],
   "source": [
    "temp_dir.cleanup()"
   ]
  }
 ],
 "metadata": {
  "kernelspec": {
   "display_name": "Python 3 (ipykernel)",
   "language": "python",
   "name": "python3"
  },
  "language_info": {
   "codemirror_mode": {
    "name": "ipython",
    "version": 3
   },
   "file_extension": ".py",
   "mimetype": "text/x-python",
   "name": "python",
   "nbconvert_exporter": "python",
   "pygments_lexer": "ipython3",
   "version": "3.9.7"
  }
 },
 "nbformat": 4,
 "nbformat_minor": 5
}