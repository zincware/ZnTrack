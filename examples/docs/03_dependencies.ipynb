{
 "cells": [
  {
   "cell_type": "markdown",
   "id": "a781fb6d",
   "metadata": {},
   "source": [
    "# Dependencies\n",
    "\n",
    "For ZnTrack there are two different ways to set up dependencies:\n",
    "\n",
    "1. Node based dependencies\n",
    "2. File based dependencies\n",
    "\n",
    "## Node dependencies\n",
    "We will first look at Node based dependencies starting from a RandomNumber `Hello World` example.\n",
    "In our first stage we create a random number and then we add another Node that depends on this one.\n",
    "We can do this very easily by using `zn.deps`.\n",
    "\n",
    "This allows us to access all properties of the `dependency` attribute."
   ]
  },
  {
   "cell_type": "code",
   "execution_count": 1,
   "id": "2e8ff1cd-7967-4c0e-8f77-32c8a0ecd94b",
   "metadata": {},
   "outputs": [],
   "source": [
    "from zntrack import Node, dvc, zn, config\n",
    "from random import randrange\n",
    "from pathlib import Path"
   ]
  },
  {
   "cell_type": "code",
   "execution_count": 2,
   "id": "9d8da8c5-f05d-4832-804c-0ad78cdfb851",
   "metadata": {},
   "outputs": [],
   "source": [
    "config.nb_name = \"03_dependencies.ipynb\""
   ]
  },
  {
   "cell_type": "code",
   "execution_count": 3,
   "id": "a9842607-b54f-46bb-a708-269566dc0fbc",
   "metadata": {
    "nbsphinx": "hidden",
    "tags": []
   },
   "outputs": [],
   "source": [
    "from zntrack.utils import cwd_temp_dir\n",
    "\n",
    "temp_dir = cwd_temp_dir()"
   ]
  },
  {
   "cell_type": "code",
   "execution_count": 4,
   "id": "71c2830e-c74a-4e49-84da-4cd9d8985423",
   "metadata": {},
   "outputs": [
    {
     "name": "stdout",
     "output_type": "stream",
     "text": [
      "Initialized empty Git repository in /tmp/tmpnpwc7foi/.git/\r\n",
      "Initialized DVC repository.\r\n",
      "\r\n",
      "You can now commit the changes to git.\r\n",
      "\r\n",
      "+---------------------------------------------------------------------+\r\n",
      "|                                                                     |\r\n",
      "|        DVC has enabled anonymous aggregate usage analytics.         |\r\n",
      "|     Read the analytics documentation (and how to opt-out) here:     |\r\n",
      "|             <https://dvc.org/doc/user-guide/analytics>              |\r\n",
      "|                                                                     |\r\n",
      "+---------------------------------------------------------------------+\r\n",
      "\r\n",
      "What's next?\r\n",
      "------------\r\n",
      "- Check out the documentation: <https://dvc.org/doc>\r\n",
      "- Get help and share ideas: <https://dvc.org/chat>\r\n",
      "- Star us on GitHub: <https://github.com/iterative/dvc>\r\n"
     ]
    }
   ],
   "source": [
    "!git init\n",
    "!dvc init"
   ]
  },
  {
   "cell_type": "code",
   "execution_count": 5,
   "id": "410e335c-c62b-4bda-932d-db97c3a84b2c",
   "metadata": {
    "tags": []
   },
   "outputs": [],
   "source": [
    "class RandomNumber(Node):\n",
    "    maximum = zn.params()\n",
    "    number = zn.outs()\n",
    "\n",
    "    def run(self):\n",
    "        self.number = float(randrange(self.maximum))\n",
    "\n",
    "\n",
    "class ComputePower(Node):\n",
    "    random_number: RandomNumber = zn.deps()\n",
    "    number = zn.outs()\n",
    "    power = zn.params()\n",
    "\n",
    "    def run(self):\n",
    "        self.number = self.random_number.number**self.power"
   ]
  },
  {
   "cell_type": "markdown",
   "id": "e6f37308-a942-467d-94f6-1e6edfe7b317",
   "metadata": {},
   "source": [
    "We can now create the stages the usual way and look at the outcomes.\n",
    "This will create the following graph for us:\n",
    "\n",
    "\n",
    "[![](https://mermaid.ink/img/pako:eNpVjLEKwkAQRH8lTG0KLa-wMbWI2rkWa25jAtm7cO4RJOTfPQQLu2Hem1nQRi9w6MY4tz0nq64NBbJQ6u2NcIg6ZZNTnCUR7j-0K-jMwUc9Zn38o7ref9fYQCUpD778LxSqimC9qBBciV46zqMRKKxF5Wzx8g4tnKUsG-TJs0kz8DOxwnU8vmT9ACo6PUg?type=png)](https://mermaid.live/edit#pako:eNpVjLEKwkAQRH8lTG0KLa-wMbWI2rkWa25jAtm7cO4RJOTfPQQLu2Hem1nQRi9w6MY4tz0nq64NBbJQ6u2NcIg6ZZNTnCUR7j-0K-jMwUc9Zn38o7ref9fYQCUpD778LxSqimC9qBBciV46zqMRKKxF5Wzx8g4tnKUsG-TJs0kz8DOxwnU8vmT9ACo6PUg)\n",
    "\n",
    "<div class=\"alert alert-info\">\n",
    "Note\n",
    "\n",
    "Instead of passing the class as an argument it is also possible to define a default dependency.\n",
    "\n",
    "```python\n",
    "dependency: Stage = zn.deps(Stage) # or zn.deps(Stage.load())\n",
    "```\n",
    "</div>"
   ]
  },
  {
   "cell_type": "code",
   "execution_count": 6,
   "id": "00353190-29c3-4954-a9b5-aec358b35fa9",
   "metadata": {},
   "outputs": [
    {
     "name": "stdout",
     "output_type": "stream",
     "text": [
      "2023-02-16 10:19:16,830 (WARNING): Jupyter support is an experimental feature! Please save your notebook before running this command!\n",
      "Submit issues to https://github.com/zincware/ZnTrack.\n"
     ]
    },
    {
     "name": "stderr",
     "output_type": "stream",
     "text": [
      "[NbConvertApp] Converting notebook 03_dependencies.ipynb to script\n",
      "/data/fzills/miniconda3/envs/zntrack/lib/python3.10/site-packages/nbformat/__init__.py:93: MissingIDFieldWarning: Code cell is missing an id field, this will become a hard error in future nbformat versions. You may want to use `normalize()` on your notebooks before validations (available since nbformat 5.1.4). Previous versions of nbformat are fixing this issue transparently, and will stop doing so in the future.\n",
      "  validate(nb)\n"
     ]
    },
    {
     "name": "stdout",
     "output_type": "stream",
     "text": [
      "2023-02-16 10:19:18,182 (WARNING): Running DVC command: 'stage add -n RandomNumber --force ...'\n"
     ]
    },
    {
     "name": "stderr",
     "output_type": "stream",
     "text": [
      "[NbConvertApp] Writing 6156 bytes to 03_dependencies.py\n"
     ]
    },
    {
     "name": "stdout",
     "output_type": "stream",
     "text": [
      "2023-02-16 10:19:19,555 (INFO): \n"
     ]
    },
    {
     "name": "stderr",
     "output_type": "stream",
     "text": [
      "[NbConvertApp] Converting notebook 03_dependencies.ipynb to script\n",
      "/data/fzills/miniconda3/envs/zntrack/lib/python3.10/site-packages/nbformat/__init__.py:93: MissingIDFieldWarning: Code cell is missing an id field, this will become a hard error in future nbformat versions. You may want to use `normalize()` on your notebooks before validations (available since nbformat 5.1.4). Previous versions of nbformat are fixing this issue transparently, and will stop doing so in the future.\n",
      "  validate(nb)\n"
     ]
    },
    {
     "name": "stdout",
     "output_type": "stream",
     "text": [
      "2023-02-16 10:19:20,813 (WARNING): Running DVC command: 'stage add -n ComputePower --force ...'\n"
     ]
    },
    {
     "name": "stderr",
     "output_type": "stream",
     "text": [
      "[NbConvertApp] Writing 6156 bytes to 03_dependencies.py\n"
     ]
    },
    {
     "name": "stdout",
     "output_type": "stream",
     "text": [
      "2023-02-16 10:19:22,080 (INFO): \n"
     ]
    }
   ],
   "source": [
    "random_number = RandomNumber(maximum=16)\n",
    "random_number.write_graph()\n",
    "ComputePower(random_number=random_number, power=2.0).write_graph()"
   ]
  },
  {
   "cell_type": "code",
   "execution_count": 7,
   "id": "a1928386-539a-4698-81a1-e68e843e1415",
   "metadata": {},
   "outputs": [
    {
     "name": "stdout",
     "output_type": "stream",
     "text": [
      "Running stage 'RandomNumber':                                         \r\n",
      "> zntrack run src.RandomNumber.RandomNumber --name=RandomNumber\r\n",
      "Generating lock file 'dvc.lock'                                                 \r\n",
      "Updating lock file 'dvc.lock'\r\n",
      "\r\n",
      "Running stage 'ComputePower':\r\n",
      "> zntrack run src.ComputePower.ComputePower --name=ComputePower\r\n",
      "Updating lock file 'dvc.lock'                                                   \r\n",
      "\r\n",
      "To track the changes with git, run:\r\n",
      "\r\n",
      "\tgit add dvc.lock\r\n",
      "\r\n",
      "To enable auto staging, run:\r\n",
      "\r\n",
      "\tdvc config core.autostage true\r\n",
      "Use `dvc push` to send your updates to remote storage.\r\n"
     ]
    }
   ],
   "source": [
    "!dvc repro"
   ]
  },
  {
   "cell_type": "code",
   "execution_count": 8,
   "id": "7d235eca-8834-4e31-ad4e-51f83a80a625",
   "metadata": {},
   "outputs": [
    {
     "name": "stdout",
     "output_type": "stream",
     "text": [
      "1.0 ^ 2.0 = 1.0\n"
     ]
    }
   ],
   "source": [
    "print(\n",
    "    f\"{RandomNumber.load().number} ^ {ComputePower.load().power} =\"\n",
    "    f\" {ComputePower.load().number}\"\n",
    ")"
   ]
  },
  {
   "cell_type": "markdown",
   "id": "c07bbdc0-cbaf-4b5e-afce-47c07dfbd0f1",
   "metadata": {},
   "source": [
    "## File dependencies\n",
    "The second approach for specifying dependencies in ZnTrack is to depend on files.\n",
    "This is useful when our pipeline requires output files from a previous stage, or when we want to track the changes in an input file.\n",
    "To create a file dependency, we first create a file from our random number.\n",
    "We then use the path to that file as our dependency.\n",
    "Setting a file dependency is simple and can be done by passing ``pathlib.Path`` or ``str`` to the ``dvc.deps`` method.\n",
    "Like other ``dvc.<...>`` attributes, it also supports lists:\n",
    "```py\n",
    "dependency: Path = dvc.deps([Path('some_file.txt'), 'some_other_file.txt'])\n",
    "```\n",
    "\n",
    "<div class=\"alert alert-info\">\n",
    "Info: Node working directory\n",
    "\n",
    "It is recommended to store files created by a node in the node's working directory (nwd), which is located at ``./nodes/<nodename>``.\n",
    "You can access the nwd using ``zntrack.nwd``. Here's an example:\n",
    "\n",
    "```python\n",
    "file: Path = dvc.outs(zntrack.nwd / \"random_number.txt\")\n",
    "```\n",
    "</div>\n"
   ]
  },
  {
   "cell_type": "code",
   "execution_count": 9,
   "id": "8c062896-ca2c-4a8f-a15c-294ee3866855",
   "metadata": {},
   "outputs": [],
   "source": [
    "# zntrack: break\n",
    "from zntrack import nwd\n",
    "\n",
    "class WriteToFile(Node):\n",
    "    random_number: RandomNumber = zn.deps(RandomNumber)\n",
    "    file: Path = dvc.outs(nwd / \"random_number.txt\")\n",
    "\n",
    "    def run(self):\n",
    "        self.file.write_text(str(self.random_number.number))\n",
    "\n",
    "\n",
    "class PowerFromFile(Node):\n",
    "    file: Path = zn.deps()\n",
    "    number = zn.outs()\n",
    "    power = zn.params(2)\n",
    "\n",
    "    def run(self):\n",
    "        number = float(self.file.read_text())\n",
    "        self.number = number**self.power\n",
    "\n",
    "\n",
    "class ComparePowers(Node):\n",
    "    power_deps = zn.deps()\n",
    "\n",
    "    def run(self):\n",
    "        assert self.power_deps[0].number == self.power_deps[1].number"
   ]
  },
  {
   "cell_type": "markdown",
   "source": [
    "Let us create the stages and look at the graph."
   ],
   "metadata": {
    "collapsed": false
   }
  },
  {
   "cell_type": "code",
   "execution_count": 10,
   "id": "1eefb12a-65de-4c9b-a05a-b9827915b619",
   "metadata": {},
   "outputs": [
    {
     "name": "stderr",
     "output_type": "stream",
     "text": [
      "[NbConvertApp] Converting notebook 03_dependencies.ipynb to script\n",
      "/data/fzills/miniconda3/envs/zntrack/lib/python3.10/site-packages/nbformat/__init__.py:93: MissingIDFieldWarning: Code cell is missing an id field, this will become a hard error in future nbformat versions. You may want to use `normalize()` on your notebooks before validations (available since nbformat 5.1.4). Previous versions of nbformat are fixing this issue transparently, and will stop doing so in the future.\n",
      "  validate(nb)\n"
     ]
    },
    {
     "name": "stdout",
     "output_type": "stream",
     "text": [
      "2023-02-16 10:19:25,194 (WARNING): Running DVC command: 'stage add -n WriteToFile --force ...'\n"
     ]
    },
    {
     "name": "stderr",
     "output_type": "stream",
     "text": [
      "[NbConvertApp] Writing 6156 bytes to 03_dependencies.py\n"
     ]
    },
    {
     "name": "stdout",
     "output_type": "stream",
     "text": [
      "2023-02-16 10:19:26,305 (INFO): \n"
     ]
    },
    {
     "name": "stderr",
     "output_type": "stream",
     "text": [
      "[NbConvertApp] Converting notebook 03_dependencies.ipynb to script\n",
      "/data/fzills/miniconda3/envs/zntrack/lib/python3.10/site-packages/nbformat/__init__.py:93: MissingIDFieldWarning: Code cell is missing an id field, this will become a hard error in future nbformat versions. You may want to use `normalize()` on your notebooks before validations (available since nbformat 5.1.4). Previous versions of nbformat are fixing this issue transparently, and will stop doing so in the future.\n",
      "  validate(nb)\n"
     ]
    },
    {
     "name": "stdout",
     "output_type": "stream",
     "text": [
      "2023-02-16 10:19:27,624 (WARNING): Running DVC command: 'stage add -n PowerFromFile --force ...'\n"
     ]
    },
    {
     "name": "stderr",
     "output_type": "stream",
     "text": [
      "[NbConvertApp] Writing 6156 bytes to 03_dependencies.py\n"
     ]
    },
    {
     "name": "stdout",
     "output_type": "stream",
     "text": [
      "2023-02-16 10:19:28,975 (INFO): \n"
     ]
    },
    {
     "name": "stderr",
     "output_type": "stream",
     "text": [
      "[NbConvertApp] Converting notebook 03_dependencies.ipynb to script\n",
      "/data/fzills/miniconda3/envs/zntrack/lib/python3.10/site-packages/nbformat/__init__.py:93: MissingIDFieldWarning: Code cell is missing an id field, this will become a hard error in future nbformat versions. You may want to use `normalize()` on your notebooks before validations (available since nbformat 5.1.4). Previous versions of nbformat are fixing this issue transparently, and will stop doing so in the future.\n",
      "  validate(nb)\n"
     ]
    },
    {
     "name": "stdout",
     "output_type": "stream",
     "text": [
      "2023-02-16 10:19:30,262 (WARNING): Running DVC command: 'stage add -n ComparePowers --force ...'\n"
     ]
    },
    {
     "name": "stderr",
     "output_type": "stream",
     "text": [
      "[NbConvertApp] Writing 6156 bytes to 03_dependencies.py\n"
     ]
    },
    {
     "name": "stdout",
     "output_type": "stream",
     "text": [
      "2023-02-16 10:19:31,524 (INFO): \n"
     ]
    }
   ],
   "source": [
    "write_to_file = WriteToFile()\n",
    "write_to_file.write_graph()\n",
    "power_from_file = PowerFromFile(file=write_to_file.file)\n",
    "power_from_file.write_graph()\n",
    "ComparePowers(power_deps=[power_from_file, ComputePower.load()]).write_graph()"
   ]
  },
  {
   "cell_type": "code",
   "execution_count": 11,
   "id": "883099de-6823-4000-9080-6f57b61a9bf9",
   "metadata": {},
   "outputs": [
    {
     "name": "stdout",
     "output_type": "stream",
     "text": [
      "                +--------------+                  \r\n",
      "                | RandomNumber |                  \r\n",
      "                +--------------+                  \r\n",
      "                **             ***                \r\n",
      "             ***                  ***             \r\n",
      "           **                        **           \r\n",
      " +-------------+                       **         \r\n",
      " | WriteToFile |                        *         \r\n",
      " +-------------+                        *         \r\n",
      "        *                               *         \r\n",
      "        *                               *         \r\n",
      "        *                               *         \r\n",
      "+---------------+               +--------------+  \r\n",
      "| PowerFromFile |               | ComputePower |  \r\n",
      "+---------------+               +--------------+  \r\n",
      "                **             ***                \r\n",
      "                  ***        **                   \r\n",
      "                     **    **                     \r\n",
      "                +---------------+                 \r\n",
      "                | ComparePowers |                 \r\n",
      "                +---------------+                 \r\n"
     ]
    }
   ],
   "source": [
    "!dvc dag"
   ]
  },
  {
   "cell_type": "code",
   "execution_count": 12,
   "id": "20944b0c-9c56-49fa-bff8-e77886d4e50f",
   "metadata": {},
   "outputs": [
    {
     "name": "stdout",
     "output_type": "stream",
     "text": [
      "Stage 'RandomNumber' didn't change, skipping                          \r\n",
      "Stage 'ComputePower' didn't change, skipping\r\n",
      "Running stage 'WriteToFile':\r\n",
      "> zntrack run src.WriteToFile.WriteToFile --name=WriteToFile\r\n",
      "Updating lock file 'dvc.lock'                                                   \r\n",
      "\r\n",
      "Running stage 'PowerFromFile':\r\n",
      "> zntrack run src.PowerFromFile.PowerFromFile --name=PowerFromFile\r\n",
      "Updating lock file 'dvc.lock'                                                   \r\n",
      "\r\n",
      "Running stage 'ComparePowers':\r\n",
      "> zntrack run src.ComparePowers.ComparePowers --name=ComparePowers\r\n",
      "Updating lock file 'dvc.lock'                                         \r\n",
      "\r\n",
      "To track the changes with git, run:\r\n",
      "\r\n",
      "\tgit add dvc.lock\r\n",
      "\r\n",
      "To enable auto staging, run:\r\n",
      "\r\n",
      "\tdvc config core.autostage true\r\n",
      "Use `dvc push` to send your updates to remote storage.\r\n"
     ]
    }
   ],
   "source": [
    "!dvc repro"
   ]
  },
  {
   "cell_type": "code",
   "execution_count": 13,
   "outputs": [],
   "source": [
    "# to verify we can also run the method manually\n",
    "ComparePowers.load().run()"
   ],
   "metadata": {
    "collapsed": false
   }
  },
  {
   "cell_type": "markdown",
   "id": "c0b8c97a-ab33-4ac4-9473-c203d88c0442",
   "metadata": {},
   "source": [
    "If we now look at our `dvc.yaml` we can see that for our Node dependencies we rely on the `nodes/<node_name>/outs.json` while for the file dependency it is directly connect to the passed file."
   ]
  },
  {
   "cell_type": "code",
   "execution_count": 14,
   "id": "32e1e993-ff99-4eb6-97db-ffc3ce834ca5",
   "metadata": {},
   "outputs": [
    {
     "data": {
      "text/plain": "stages:\n  RandomNumber:\n    cmd: zntrack run src.RandomNumber.RandomNumber --name=RandomNumber\n    deps:\n    - src/RandomNumber.py\n    params:\n    - RandomNumber\n    outs:\n    - nodes/RandomNumber/outs.json\n  ComputePower:\n    cmd: zntrack run src.ComputePower.ComputePower --name=ComputePower\n    deps:\n    - nodes/RandomNumber/outs.json\n    - src/ComputePower.py\n    params:\n    - ComputePower\n    outs:\n    - nodes/ComputePower/outs.json\n  WriteToFile:\n    cmd: zntrack run src.WriteToFile.WriteToFile --name=WriteToFile\n    deps:\n    - nodes/RandomNumber/outs.json\n    - src/WriteToFile.py\n    outs:\n    - nodes/WriteToFile/random_number.txt\n  PowerFromFile:\n    cmd: zntrack run src.PowerFromFile.PowerFromFile --name=PowerFromFile\n    deps:\n    - nodes/WriteToFile/random_number.txt\n    - src/PowerFromFile.py\n    params:\n    - PowerFromFile\n    outs:\n    - nodes/PowerFromFile/outs.json\n  ComparePowers:\n    cmd: zntrack run src.ComparePowers.ComparePowers --name=ComparePowers\n    deps:\n    - nodes/ComputePower/outs.json\n    - nodes/PowerFromFile/outs.json\n    - src/ComparePowers.py\n"
     },
     "metadata": {},
     "output_type": "display_data"
    }
   ],
   "source": [
    "from IPython.display import Pretty, display\n",
    "\n",
    "display(Pretty(\"dvc.yaml\"))"
   ]
  },
  {
   "cell_type": "markdown",
   "source": [
    "## Node attributes as dependencies\n",
    "\n",
    "It is also possible to specify a Node attribute as a dependency. In this case you will be able to access the value of the attribute directly instead of using the Node class.\n",
    "This can be used for all `dvc.<option>` and `zn.<option>` as well as e.g. class properties.\n",
    "Note that the dvc dependencies will still be written for the full Node and won't be limited to the Node attribute.\n",
    "To be able to define a dependency of an attribute the `zntrack.getdeps` function is required."
   ],
   "metadata": {
    "collapsed": false
   }
  },
  {
   "cell_type": "code",
   "execution_count": 15,
   "outputs": [],
   "source": [
    "from zntrack import getdeps"
   ],
   "metadata": {
    "collapsed": false
   }
  },
  {
   "cell_type": "code",
   "execution_count": 16,
   "outputs": [],
   "source": [
    "class ComputePowerFromNumber(Node):\n",
    "    number: float = zn.deps()  # this will be a float instead of RandomNumber\n",
    "\n",
    "    power: int = zn.params()\n",
    "    result: float = zn.outs()\n",
    "\n",
    "    def run(self):\n",
    "        self.result = self.number**self.power"
   ],
   "metadata": {
    "collapsed": false
   }
  },
  {
   "cell_type": "code",
   "execution_count": 17,
   "outputs": [
    {
     "name": "stderr",
     "output_type": "stream",
     "text": [
      "[NbConvertApp] Converting notebook 03_dependencies.ipynb to script\n",
      "/data/fzills/miniconda3/envs/zntrack/lib/python3.10/site-packages/nbformat/__init__.py:93: MissingIDFieldWarning: Code cell is missing an id field, this will become a hard error in future nbformat versions. You may want to use `normalize()` on your notebooks before validations (available since nbformat 5.1.4). Previous versions of nbformat are fixing this issue transparently, and will stop doing so in the future.\n",
      "  validate(nb)\n"
     ]
    },
    {
     "name": "stdout",
     "output_type": "stream",
     "text": [
      "2023-02-16 10:19:36,501 (WARNING): Running DVC command: 'stage add -n ComputePowerFromNumber --force ...'\n"
     ]
    },
    {
     "name": "stderr",
     "output_type": "stream",
     "text": [
      "[NbConvertApp] Writing 6156 bytes to 03_dependencies.py\n"
     ]
    },
    {
     "name": "stdout",
     "output_type": "stream",
     "text": [
      "2023-02-16 10:19:37,737 (INFO): \n",
      "2023-02-16 10:19:37,738 (WARNING): Running DVC command: 'repro ComputePowerFromNumber'\n",
      "2023-02-16 10:19:39,767 (INFO): \n"
     ]
    }
   ],
   "source": [
    "ComputePowerFromNumber(number=getdeps(RandomNumber, \"number\"), power=2.0).write_graph(\n",
    "    run=True\n",
    ")"
   ],
   "metadata": {
    "collapsed": false
   }
  },
  {
   "cell_type": "markdown",
   "source": [
    "`getdeps(RandomNumber, \"number\")` can also be replaced by `getdeps(RandomNumber[\"nodename\"], \"number\")` or `getdeps(RandomNumber.load(name=\"nodename\"), \"number\")`.\n",
    "The first argument represents the Node and the second argument is the attribute, similar to `getattr()`. ZnTrack also provides a shorthand for this via `RandomNumber @ \"number\"` or `RandomNumber[\"nodename\"] @ \"number\"`."
   ],
   "metadata": {
    "collapsed": false
   }
  },
  {
   "cell_type": "code",
   "execution_count": 18,
   "outputs": [],
   "source": [
    "compute_power = ComputePowerFromNumber.load()"
   ],
   "metadata": {
    "collapsed": false
   }
  },
  {
   "cell_type": "code",
   "execution_count": 19,
   "outputs": [
    {
     "name": "stdout",
     "output_type": "stream",
     "text": [
      "1.0 ^ 2.0 = 1.0\n"
     ]
    }
   ],
   "source": [
    "print(f\"{compute_power.number} ^ {compute_power.power} = {compute_power.result}\")"
   ],
   "metadata": {
    "collapsed": false
   }
  },
  {
   "cell_type": "code",
   "execution_count": 20,
   "id": "b26fb0f0-5f3e-40d0-b1fd-8d5844f051e8",
   "metadata": {
    "nbsphinx": "hidden",
    "tags": []
   },
   "outputs": [],
   "source": [
    "temp_dir.cleanup()"
   ]
  }
 ],
 "metadata": {
  "kernelspec": {
   "display_name": "Python 3 (ipykernel)",
   "language": "python",
   "name": "python3"
  },
  "language_info": {
   "codemirror_mode": {
    "name": "ipython",
    "version": 3
   },
   "file_extension": ".py",
   "mimetype": "text/x-python",
   "name": "python",
   "nbconvert_exporter": "python",
   "pygments_lexer": "ipython3",
   "version": "3.9.7"
  }
 },
 "nbformat": 4,
 "nbformat_minor": 5
}
