{
 "cells": [
  {
   "cell_type": "markdown",
   "id": "e3ff48ff-ac39-45c9-8c64-2aef0ac9aed6",
   "metadata": {
    "tags": []
   },
   "source": [
    "# Working with child classes\n",
    "\n",
    "There can be scenarios where it makes sense to subclass different methods for a single stage. E.g. testing out dense neural network vs. a CNN which are both defined in a custom class.\n",
    "Such a scenario can be handled by using a class for each method."
   ]
  },
  {
   "cell_type": "code",
   "execution_count": 1,
   "id": "d4a5b3c9-8e04-4aad-8f8f-1330d23e82b0",
   "metadata": {},
   "outputs": [],
   "source": [
    "from zntrack import ZnTrackProject, config\n",
    "\n",
    "config.nb_name = \"02_PassingClasses.ipynb\""
   ]
  },
  {
   "cell_type": "code",
   "execution_count": 2,
   "id": "1ed7cac1-bb9f-4f2a-9e7f-8d5d3720e337",
   "metadata": {
    "nbsphinx": "hidden",
    "tags": []
   },
   "outputs": [],
   "source": [
    "import os\n",
    "from zntrack.utils import cwd_temp_dir\n",
    "\n",
    "temp_dir = cwd_temp_dir()"
   ]
  },
  {
   "cell_type": "code",
   "execution_count": 3,
   "id": "9dbde99a-6862-4670-bf39-c9e9cde297c8",
   "metadata": {},
   "outputs": [
    {
     "name": "stdout",
     "output_type": "stream",
     "text": [
      "2022-01-13 19:39:44,413 (INFO): Setting up GIT/DVC repository.\n"
     ]
    }
   ],
   "source": [
    "project = ZnTrackProject()\n",
    "project.create_dvc_repository()"
   ]
  },
  {
   "cell_type": "markdown",
   "id": "3d4248c9-df8d-477f-bef4-fee69324ec60",
   "metadata": {},
   "source": [
    "## Creating Operations\n",
    "\n",
    "Best practice for adding different custom operations or methods is to inherit from a common parent with a method that does the computation."
   ]
  },
  {
   "cell_type": "code",
   "execution_count": 4,
   "id": "dd6ab631-01e4-4912-959e-006fad21e8b1",
   "metadata": {},
   "outputs": [],
   "source": [
    "class Base:\n",
    "    def compute(self, inp):\n",
    "        raise NotImplementedError"
   ]
  },
  {
   "cell_type": "markdown",
   "id": "23828631-62dd-44a7-b91b-2cc0a1cf0a87",
   "metadata": {},
   "source": [
    "For simplicity reasons we will look at some very simple functions but they can be of arbitrary complexity.\n",
    "We apply the `check_signature` decorator which is an optional check that the tests that the keyword arguments are identical to the class attribute names.\n",
    "This is mandatory for ZnTrack to work in the anticipated way."
   ]
  },
  {
   "cell_type": "code",
   "execution_count": 5,
   "id": "de1daf1f-f82e-4731-b1cb-19d0149c2916",
   "metadata": {},
   "outputs": [],
   "source": [
    "from zntrack.utils.decorators import check_signature\n",
    "\n",
    "\n",
    "class ShiftValues(Base):\n",
    "    @check_signature\n",
    "    def __init__(self, shift: float):\n",
    "        self.shift = shift\n",
    "\n",
    "    def compute(self, inp):\n",
    "        return inp + self.shift\n",
    "\n",
    "\n",
    "class ScaleValues(Base):\n",
    "    @check_signature\n",
    "    def __init__(self, factor: float):\n",
    "        self.factor = factor\n",
    "\n",
    "    def compute(self, inp):\n",
    "        return inp * self.factor"
   ]
  },
  {
   "cell_type": "markdown",
   "id": "de03e1ef-635b-40e8-bf26-630025f588d9",
   "metadata": {},
   "source": [
    "The actual Node makes use of the typical ZnTrack functionality beeing extended by `zn.Method()`."
   ]
  },
  {
   "cell_type": "code",
   "execution_count": 6,
   "id": "183551fb-2f96-49de-8276-bf4ea5afc53d",
   "metadata": {},
   "outputs": [],
   "source": [
    "from zntrack import Node, zn"
   ]
  },
  {
   "cell_type": "code",
   "execution_count": 7,
   "id": "38d22553-641c-42b4-a99b-9d27de2ac41d",
   "metadata": {},
   "outputs": [],
   "source": [
    "class Calculator(Node):\n",
    "    operation: Base = zn.Method()\n",
    "    input_value = zn.params()\n",
    "    result = zn.outs()\n",
    "\n",
    "    def __init__(self, input_value=None, operation=None, **kwargs):\n",
    "        super().__init__(**kwargs)\n",
    "        self.input_value = input_value\n",
    "        self.operation = operation\n",
    "\n",
    "    def run(self):\n",
    "        self.result = self.operation.compute(self.input_value)"
   ]
  },
  {
   "cell_type": "markdown",
   "id": "659c9da3-a4c5-4233-844e-359010f6d27a",
   "metadata": {},
   "source": [
    "With this definition given, we can pass an instance of our coompute classes to the Node. It will then save the state of the instances and reproduce that state in the `dvc repro`.\n",
    "Let's start with a simple shift of the given input values."
   ]
  },
  {
   "cell_type": "code",
   "execution_count": 8,
   "id": "35205014-bc4a-449e-8b48-e1936e35d985",
   "metadata": {},
   "outputs": [
    {
     "name": "stdout",
     "output_type": "stream",
     "text": [
      "2022-01-13 19:39:46,194 (WARNING): Jupyter support is an experimental feature! Please save your notebook before running this command!\n",
      "Submit issues to https://github.com/zincware/ZnTrack.\n",
      "2022-01-13 19:39:46,195 (WARNING): Converting 02_PassingClasses.ipynb to file Calculator.py\n",
      "2022-01-13 19:39:49,228 (WARNING): --- Writing new DVC file! ---\n",
      "Running stage 'Calculator':\n",
      "> python -c \"from src.Calculator import Calculator; Calculator.load(name='Calculator').run_and_save()\" \n",
      "Generating lock file 'dvc.lock'\n",
      "Updating lock file 'dvc.lock'\n",
      "\n",
      "To track the changes with git, run:\n",
      "\n",
      "\tgit add dvc.lock\n",
      "Use `dvc push` to send your updates to remote storage.\n"
     ]
    }
   ],
   "source": [
    "Calculator(input_value=10, operation=ShiftValues(shift=5)).write_graph(no_exec=True)\n",
    "!dvc repro"
   ]
  },
  {
   "cell_type": "markdown",
   "id": "928d5f75-ea01-4396-97b5-5621cb78254e",
   "metadata": {},
   "source": [
    "We can now load the Stage and look at the result."
   ]
  },
  {
   "cell_type": "code",
   "execution_count": 9,
   "id": "9065e7e7-2d3a-4e39-8126-36a426eb0c2b",
   "metadata": {},
   "outputs": [
    {
     "data": {
      "text/plain": "15"
     },
     "execution_count": 9,
     "metadata": {},
     "output_type": "execute_result"
    }
   ],
   "source": [
    "Calculator.load().result"
   ]
  },
  {
   "cell_type": "markdown",
   "id": "2631d6b8-04f0-4a17-b1cc-73429e18b0cb",
   "metadata": {},
   "source": [
    "Similiarly we can use the other class instance, that has different attributes to it and use that in the same way."
   ]
  },
  {
   "cell_type": "code",
   "execution_count": 10,
   "id": "5986d32f-c6be-4d67-9b8d-e0ef6dd0bef8",
   "metadata": {},
   "outputs": [
    {
     "name": "stdout",
     "output_type": "stream",
     "text": [
      "2022-01-13 19:39:53,648 (WARNING): Jupyter support is an experimental feature! Please save your notebook before running this command!\n",
      "Submit issues to https://github.com/zincware/ZnTrack.\n",
      "2022-01-13 19:39:53,648 (WARNING): Converting 02_PassingClasses.ipynb to file Calculator.py\n",
      "2022-01-13 19:39:56,502 (WARNING): --- Writing new DVC file! ---\n",
      "2022-01-13 19:39:56,503 (WARNING): You will not be able to see the stdout/stderr of the process in real time!\n"
     ]
    }
   ],
   "source": [
    "Calculator(input_value=10, operation=ScaleValues(factor=2)).write_graph(no_exec=False)"
   ]
  },
  {
   "cell_type": "code",
   "execution_count": 11,
   "id": "de686f58-74ae-4740-b624-561baa540389",
   "metadata": {},
   "outputs": [
    {
     "data": {
      "text/plain": "15"
     },
     "execution_count": 11,
     "metadata": {},
     "output_type": "execute_result"
    }
   ],
   "source": [
    "Calculator.load().result"
   ]
  },
  {
   "cell_type": "markdown",
   "id": "ced221e1-f7a5-4965-8695-69c2273b618a",
   "metadata": {},
   "source": [
    "It is also possible to use multiple methods or have multiple arguments to the methods. We can show this by combining shift and scale into a single class."
   ]
  },
  {
   "cell_type": "code",
   "execution_count": 12,
   "id": "621c9cf0-1f69-4596-bfa5-e52754f77fd4",
   "metadata": {},
   "outputs": [],
   "source": [
    "class ShiftAndScale(Base):\n",
    "    @check_signature\n",
    "    def __init__(self, shift, factor):\n",
    "        self.shift = shift\n",
    "        self.factor = factor\n",
    "\n",
    "    def compute(self, inp):\n",
    "        return self.factor * inp + self.shift"
   ]
  },
  {
   "cell_type": "code",
   "execution_count": 13,
   "id": "53052562-b1ce-4865-89f3-da5740208660",
   "metadata": {},
   "outputs": [
    {
     "name": "stdout",
     "output_type": "stream",
     "text": [
      "2022-01-13 19:39:58,408 (WARNING): Jupyter support is an experimental feature! Please save your notebook before running this command!\n",
      "Submit issues to https://github.com/zincware/ZnTrack.\n",
      "2022-01-13 19:39:58,409 (WARNING): Converting 02_PassingClasses.ipynb to file Calculator.py\n",
      "2022-01-13 19:40:01,149 (WARNING): --- Writing new DVC file! ---\n",
      "2022-01-13 19:40:01,150 (WARNING): You will not be able to see the stdout/stderr of the process in real time!\n"
     ]
    }
   ],
   "source": [
    "Calculator(input_value=10, operation=ShiftAndScale(shift=5, factor=2)).write_graph(\n",
    "    no_exec=False\n",
    ")"
   ]
  },
  {
   "cell_type": "code",
   "execution_count": 14,
   "id": "47670ed7-e235-4b1a-a7a4-37d5a48d79d7",
   "metadata": {},
   "outputs": [
    {
     "data": {
      "text/plain": "15"
     },
     "execution_count": 14,
     "metadata": {},
     "output_type": "execute_result"
    }
   ],
   "source": [
    "Calculator.load().result"
   ]
  },
  {
   "cell_type": "markdown",
   "id": "63083dee-665f-47d8-9772-9c8a27c90687",
   "metadata": {},
   "source": [
    "or we can use both methods inside a single Node."
   ]
  },
  {
   "cell_type": "code",
   "execution_count": 15,
   "id": "f2a10182-0129-41f6-bbd0-0e21648364ec",
   "metadata": {},
   "outputs": [],
   "source": [
    "class CombinedCalculator(Node):\n",
    "    shift: Base = zn.Method()\n",
    "    scale: Base = zn.Method()\n",
    "    input_value = zn.params()\n",
    "    result = zn.outs()\n",
    "\n",
    "    def __init__(self, input_value=None, shift=None, scale=None, **kwargs):\n",
    "        super().__init__(**kwargs)\n",
    "        self.input_value = input_value\n",
    "        self.shift = shift\n",
    "        self.scale = scale\n",
    "\n",
    "    def run(self):\n",
    "        tmp = self.scale.compute(self.input_value)\n",
    "        self.result = self.shift.compute(tmp)"
   ]
  },
  {
   "cell_type": "code",
   "execution_count": 16,
   "id": "aec74308-8466-4509-a84c-b6dcd1dec8ca",
   "metadata": {},
   "outputs": [
    {
     "name": "stdout",
     "output_type": "stream",
     "text": [
      "2022-01-13 19:40:03,032 (WARNING): Jupyter support is an experimental feature! Please save your notebook before running this command!\n",
      "Submit issues to https://github.com/zincware/ZnTrack.\n",
      "2022-01-13 19:40:03,033 (WARNING): Converting 02_PassingClasses.ipynb to file CombinedCalculator.py\n",
      "2022-01-13 19:40:05,887 (WARNING): --- Writing new DVC file! ---\n",
      "2022-01-13 19:40:05,887 (WARNING): You will not be able to see the stdout/stderr of the process in real time!\n"
     ]
    }
   ],
   "source": [
    "CombinedCalculator(\n",
    "    input_value=10, shift=ShiftValues(shift=5), scale=ScaleValues(factor=2)\n",
    ").write_graph(no_exec=False)"
   ]
  },
  {
   "cell_type": "code",
   "execution_count": 17,
   "id": "7e1b3b2b-79d3-4d79-88e8-26653c717520",
   "metadata": {},
   "outputs": [
    {
     "data": {
      "text/plain": "25"
     },
     "execution_count": 17,
     "metadata": {},
     "output_type": "execute_result"
    }
   ],
   "source": [
    "CombinedCalculator.load().result"
   ]
  },
  {
   "cell_type": "code",
   "execution_count": null,
   "id": "6fc36519-35fd-4a3a-a55b-88618dace01b",
   "metadata": {
    "nbsphinx": "hidden",
    "tags": [],
    "pycharm": {
     "is_executing": true
    }
   },
   "outputs": [],
   "source": [
    "os.chdir(\"..\")\n",
    "temp_dir.cleanup()"
   ]
  }
 ],
 "metadata": {
  "kernelspec": {
   "display_name": "Python 3 (ipykernel)",
   "language": "python",
   "name": "python3"
  },
  "language_info": {
   "codemirror_mode": {
    "name": "ipython",
    "version": 3
   },
   "file_extension": ".py",
   "mimetype": "text/x-python",
   "name": "python",
   "nbconvert_exporter": "python",
   "pygments_lexer": "ipython3",
   "version": "3.9.7"
  }
 },
 "nbformat": 4,
 "nbformat_minor": 5
}