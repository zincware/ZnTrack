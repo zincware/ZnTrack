{
 "cells": [
  {
   "cell_type": "markdown",
   "metadata": {
    "pycharm": {
     "name": "#%% md\n"
    },
    "tags": []
   },
   "source": [
    "# Custom ZnTrackOptions\n",
    "\n",
    "ZnTrack allows you to create a custom ZnTrackOption similar to `zn.outs`.\n",
    "ZnTrack tries to handle some standard types automatically within the `zn.outs` option, but it can be useful to write custom ones.\n",
    "In the following example we use [Atomic Simulation Environment](https://wiki.fysik.dtu.dk/ase/index.html) to store / load objects to a custom datafile."
   ]
  },
  {
   "cell_type": "code",
   "execution_count": 1,
   "metadata": {},
   "outputs": [],
   "source": [
    "from zntrack import config\n",
    "\n",
    "# When using ZnTrack we can write our code inside a Jupyter notebook.\n",
    "# We can make use of this functionality by setting the `nb_name` config as follows:\n",
    "config.nb_name = \"08_custom_zntrackoptions.ipynb\""
   ]
  },
  {
   "cell_type": "code",
   "execution_count": 2,
   "metadata": {
    "nbsphinx": "hidden",
    "tags": []
   },
   "outputs": [],
   "source": [
    "from zntrack.utils import cwd_temp_dir\n",
    "\n",
    "temp_dir = cwd_temp_dir()"
   ]
  },
  {
   "cell_type": "code",
   "execution_count": 3,
   "metadata": {
    "nbsphinx": "hidden",
    "tags": []
   },
   "outputs": [
    {
     "name": "stdout",
     "output_type": "stream",
     "text": [
      "Initialized empty Git repository in /tmp/tmpcevd90om/.git/\n",
      "Initialized DVC repository.\n",
      "\n",
      "You can now commit the changes to git.\n",
      "\n",
      "+---------------------------------------------------------------------+\n",
      "|                                                                     |\n",
      "|        DVC has enabled anonymous aggregate usage analytics.         |\n",
      "|     Read the analytics documentation (and how to opt-out) here:     |\n",
      "|             <https://dvc.org/doc/user-guide/analytics>              |\n",
      "|                                                                     |\n",
      "+---------------------------------------------------------------------+\n",
      "\n",
      "What's next?\n",
      "------------\n",
      "- Check out the documentation: <https://dvc.org/doc>\n",
      "- Get help and share ideas: <https://dvc.org/chat>\n",
      "- Star us on GitHub: <https://github.com/iterative/dvc>\n"
     ]
    }
   ],
   "source": [
    "!git init\n",
    "!dvc init"
   ]
  },
  {
   "cell_type": "markdown",
   "metadata": {},
   "source": [
    "We will use the `ZnTrackOption` to build our new custom options."
   ]
  },
  {
   "cell_type": "code",
   "execution_count": 4,
   "metadata": {},
   "outputs": [],
   "source": [
    "import zntrack\n",
    "import ase.db\n",
    "import ase.io\n",
    "import tqdm\n",
    "import pathlib"
   ]
  },
  {
   "cell_type": "code",
   "execution_count": 22,
   "metadata": {
    "collapsed": false,
    "jupyter": {
     "outputs_hidden": false
    },
    "pycharm": {
     "name": "#%%\n"
    }
   },
   "outputs": [],
   "source": [
    "class Atoms(zntrack.Field):\n",
    "    # we will save the file as dvc run --outs\n",
    "    dvc_option = \"outs\"\n",
    "\n",
    "    def get_affected_files(self, instance) -> list:\n",
    "        \"\"\"Define the filename that is passed to dvc (used if tracked=True)\"\"\"\n",
    "        # self.name is the name of the class attribute we use for this database\n",
    "        return [instance.nwd / f\"{self.name}.db\"]\n",
    "\n",
    "    def save(self, instance):\n",
    "        \"\"\"Save the values to file\"\"\"\n",
    "        # we gather the actual values using __get__\n",
    "        atoms = getattr(instance, self.name)\n",
    "        # get the file name\n",
    "        file = self.get_affected_files(instance)[0]\n",
    "        # save the data to the file\n",
    "        with ase.db.connect(file) as db:\n",
    "            for atom in tqdm.tqdm(atoms, ncols=70, desc=f\"Writing atoms to {file}\"):\n",
    "                db.write(atom, group=instance.name)\n",
    "\n",
    "    def _get_value_from_file(self, instance):\n",
    "        \"\"\"Load data with ase.db.connect from file\"\"\"\n",
    "        # get the file name\n",
    "        file = self.get_affected_files(instance)[0]\n",
    "        # load the data\n",
    "        atoms = []\n",
    "        with ase.db.connect(file) as db:\n",
    "            for row in tqdm.tqdm(\n",
    "                db.select(), ncols=70, desc=f\"Loading atoms from {file}\"\n",
    "            ):\n",
    "                atoms.append(row.toatoms())\n",
    "        # return the data so it can be saved in __dict__\n",
    "        return atoms\n",
    "\n",
    "    def get_stage_add_argument(self, instance) -> list:\n",
    "        \"\"\"Get the dvc stage add argument for this field.\"\"\"\n",
    "        # get the file name\n",
    "        file = self.get_affected_files(instance)[0]\n",
    "        # return the dvc stage add argument\n",
    "        return [(\"--outs\", file)]"
   ]
  },
  {
   "cell_type": "markdown",
   "metadata": {},
   "source": [
    "Now that we have defined our custom ZnTrackOption we can use it as follows."
   ]
  },
  {
   "cell_type": "code",
   "execution_count": 23,
   "metadata": {},
   "outputs": [],
   "source": [
    "class AtomsClass(zntrack.Node):\n",
    "    atoms = Atoms()\n",
    "\n",
    "    def run(self):\n",
    "        self.atoms = [ase.Atoms(\"N2\", positions=[[0, 0, -1], [0, 0, 1]])]"
   ]
  },
  {
   "cell_type": "code",
   "execution_count": 24,
   "metadata": {
    "collapsed": false,
    "jupyter": {
     "outputs_hidden": false
    },
    "pycharm": {
     "name": "#%%\n"
    }
   },
   "outputs": [
    {
     "name": "stderr",
     "output_type": "stream",
     "text": [
      "[NbConvertApp] Converting notebook 08_custom_zntrackoptions.ipynb to script\n",
      "[NbConvertApp] Writing 2731 bytes to 08_custom_zntrackoptions.py\n",
      "Writing atoms to nodes/AtomsClass/atoms.db: 100%|█| 1/1 [00:00<00:00, \n"
     ]
    }
   ],
   "source": [
    "atoms_class = AtomsClass()\n",
    "atoms_class.run()\n",
    "atoms_class.save()"
   ]
  },
  {
   "cell_type": "code",
   "execution_count": 25,
   "metadata": {
    "collapsed": false,
    "jupyter": {
     "outputs_hidden": false
    },
    "pycharm": {
     "name": "#%%\n"
    }
   },
   "outputs": [
    {
     "name": "stderr",
     "output_type": "stream",
     "text": [
      "Loading atoms from nodes/AtomsClass/atoms.db: 2it [00:00, 4801.72it/s]\n"
     ]
    },
    {
     "data": {
      "text/plain": [
       "[Atoms(symbols='N2', pbc=False), Atoms(symbols='N2', pbc=False)]"
      ]
     },
     "execution_count": 25,
     "metadata": {},
     "output_type": "execute_result"
    }
   ],
   "source": [
    "AtomsClass.from_rev().atoms"
   ]
  },
  {
   "cell_type": "code",
   "execution_count": 26,
   "metadata": {
    "collapsed": false,
    "jupyter": {
     "outputs_hidden": false
    },
    "pycharm": {
     "name": "#%%\n"
    }
   },
   "outputs": [],
   "source": [
    "temp_dir.cleanup()"
   ]
  },
  {
   "cell_type": "code",
   "execution_count": null,
   "metadata": {},
   "outputs": [],
   "source": []
  }
 ],
 "metadata": {
  "kernelspec": {
   "display_name": "Python 3",
   "language": "python",
   "name": "python3"
  },
  "language_info": {
   "codemirror_mode": {
    "name": "ipython",
    "version": 3
   },
   "file_extension": ".py",
   "mimetype": "text/x-python",
   "name": "python",
   "nbconvert_exporter": "python",
   "pygments_lexer": "ipython3",
   "version": "3.10.9"
  }
 },
 "nbformat": 4,
 "nbformat_minor": 4
}
