{
 "cells": [
  {
   "cell_type": "markdown",
   "metadata": {
    "pycharm": {
     "name": "#%% md\n"
    },
    "tags": []
   },
   "source": [
    "# Custom ZnTrackOptions\n",
    "\n",
    "ZnTrack allows you to create a custom ZnTrackOption similar to `zn.outs`.\n",
    "ZnTrack tries to handle some standard types automatically within the `zn.outs` option, but it can be useful to write custom ones.\n",
    "In the following example we use [Atomic Simulation Environment](https://wiki.fysik.dtu.dk/ase/index.html) to store / load objects to a custom datafile."
   ]
  },
  {
   "cell_type": "code",
   "execution_count": 1,
   "metadata": {},
   "outputs": [],
   "source": [
    "from zntrack import config\n",
    "\n",
    "# When using ZnTrack we can write our code inside a Jupyter notebook.\n",
    "# We can make use of this functionality by setting the `nb_name` config as follows:\n",
    "config.nb_name = \"08_custom_zntrackoptions.ipynb\""
   ]
  },
  {
   "cell_type": "code",
   "execution_count": 2,
   "metadata": {
    "nbsphinx": "hidden",
    "tags": []
   },
   "outputs": [],
   "source": [
    "from zntrack.utils import cwd_temp_dir\n",
    "\n",
    "temp_dir = cwd_temp_dir()"
   ]
  },
  {
   "cell_type": "code",
   "execution_count": 3,
   "metadata": {
    "nbsphinx": "hidden",
    "tags": []
   },
   "outputs": [
    {
     "name": "stdout",
     "output_type": "stream",
     "text": [
      "Initialized empty Git repository in /tmp/tmppga5rs1y/.git/\n",
      "Initialized DVC repository.\n",
      "\n",
      "You can now commit the changes to git.\n",
      "\n",
      "\u001b[31m+---------------------------------------------------------------------+\n",
      "\u001b[0m\u001b[31m|\u001b[0m                                                                     \u001b[31m|\u001b[0m\n",
      "\u001b[31m|\u001b[0m        DVC has enabled anonymous aggregate usage analytics.         \u001b[31m|\u001b[0m\n",
      "\u001b[31m|\u001b[0m     Read the analytics documentation (and how to opt-out) here:     \u001b[31m|\u001b[0m\n",
      "\u001b[31m|\u001b[0m             <\u001b[36mhttps://dvc.org/doc/user-guide/analytics\u001b[39m>              \u001b[31m|\u001b[0m\n",
      "\u001b[31m|\u001b[0m                                                                     \u001b[31m|\u001b[0m\n",
      "\u001b[31m+---------------------------------------------------------------------+\n",
      "\u001b[0m\n",
      "\u001b[33mWhat's next?\u001b[39m\n",
      "\u001b[33m------------\u001b[39m\n",
      "- Check out the documentation: <\u001b[36mhttps://dvc.org/doc\u001b[39m>\n",
      "- Get help and share ideas: <\u001b[36mhttps://dvc.org/chat\u001b[39m>\n",
      "- Star us on GitHub: <\u001b[36mhttps://github.com/iterative/dvc\u001b[39m>\n",
      "\u001b[0m"
     ]
    }
   ],
   "source": [
    "!git init\n",
    "!dvc init"
   ]
  },
  {
   "cell_type": "markdown",
   "metadata": {},
   "source": [
    "We will use the `ZnTrackOption` to build our new custom options."
   ]
  },
  {
   "cell_type": "code",
   "execution_count": 4,
   "metadata": {},
   "outputs": [],
   "source": [
    "from zntrack.core import ZnTrackOption\n",
    "from zntrack import utils, Node\n",
    "import ase.db\n",
    "import ase.io\n",
    "import tqdm\n",
    "import pathlib"
   ]
  },
  {
   "cell_type": "code",
   "execution_count": 5,
   "metadata": {
    "collapsed": false,
    "jupyter": {
     "outputs_hidden": false
    },
    "pycharm": {
     "name": "#%%\n"
    }
   },
   "outputs": [],
   "source": [
    "class Atoms(ZnTrackOption):\n",
    "    # we will save the file as dvc run --outs\n",
    "    dvc_option = \"outs\"\n",
    "    # the file will be created during the run method and is considered a result\n",
    "    zn_type = utils.ZnTypes.RESULTS\n",
    "\n",
    "    def get_filename(self, instance) -> pathlib.Path:\n",
    "        \"\"\"Define the filename that is passed to dvc (used if tracked=True)\"\"\"\n",
    "        # self.name is the name of the class attribute we use for this database\n",
    "        return pathlib.Path(\"nodes\", instance.node_name, f\"{self.name}.db\")\n",
    "\n",
    "    def save(self, instance):\n",
    "        \"\"\"Save the values to file\"\"\"\n",
    "        # we gather the actual values using __get__\n",
    "        atoms = self.__get__(instance, self.owner)\n",
    "        # get the file name\n",
    "        file = self.get_filename(instance)\n",
    "        # save the data to the file\n",
    "        with ase.db.connect(file) as db:\n",
    "            for atom in tqdm.tqdm(atoms, ncols=70, desc=f\"Writing atoms to {file}\"):\n",
    "                db.write(atom, group=instance.node_name)\n",
    "\n",
    "    def get_data_from_files(self, instance):\n",
    "        \"\"\"Load data with ase.db.connect from file\"\"\"\n",
    "        # get the file name\n",
    "        file = self.get_filename(instance)\n",
    "        # load the data\n",
    "        atoms = []\n",
    "        with ase.db.connect(file) as db:\n",
    "            for row in tqdm.tqdm(\n",
    "                db.select(), ncols=70, desc=f\"Loading atoms from {file}\"\n",
    "            ):\n",
    "                atoms.append(row.toatoms())\n",
    "        # return the data so it can be saved in __dict__\n",
    "        return atoms"
   ]
  },
  {
   "cell_type": "markdown",
   "metadata": {},
   "source": [
    "Now that we have defined our custom ZnTrackOption we can use it as follows."
   ]
  },
  {
   "cell_type": "code",
   "execution_count": 6,
   "metadata": {},
   "outputs": [],
   "source": [
    "class AtomsClass(Node):\n",
    "    atoms = Atoms()\n",
    "\n",
    "    def run(self):\n",
    "        self.atoms = [ase.Atoms(\"N2\", positions=[[0, 0, -1], [0, 0, 1]])]"
   ]
  },
  {
   "cell_type": "code",
   "execution_count": 7,
   "metadata": {
    "collapsed": false,
    "jupyter": {
     "outputs_hidden": false
    },
    "pycharm": {
     "name": "#%%\n"
    }
   },
   "outputs": [
    {
     "name": "stderr",
     "output_type": "stream",
     "text": [
      "Writing atoms to nodes/AtomsClass/atoms.db: 100%|█| 1/1 [00:00<00:00, \n"
     ]
    }
   ],
   "source": [
    "atoms_class = AtomsClass()\n",
    "atoms_class.save()\n",
    "atoms_class.run_and_save()"
   ]
  },
  {
   "cell_type": "code",
   "execution_count": 8,
   "metadata": {
    "collapsed": false,
    "jupyter": {
     "outputs_hidden": false
    },
    "pycharm": {
     "name": "#%%\n"
    }
   },
   "outputs": [
    {
     "name": "stderr",
     "output_type": "stream",
     "text": [
      "Loading atoms from nodes/AtomsClass/atoms.db: 1it [00:00, 312.47it/s]\n"
     ]
    },
    {
     "data": {
      "text/plain": [
       "[Atoms(symbols='N2', pbc=False)]"
      ]
     },
     "execution_count": 8,
     "metadata": {},
     "output_type": "execute_result"
    }
   ],
   "source": [
    "AtomsClass.load().atoms"
   ]
  },
  {
   "cell_type": "code",
   "execution_count": 9,
   "metadata": {
    "collapsed": false,
    "jupyter": {
     "outputs_hidden": false
    },
    "pycharm": {
     "name": "#%%\n"
    }
   },
   "outputs": [],
   "source": [
    "temp_dir.cleanup()"
   ]
  }
 ],
 "metadata": {
  "kernelspec": {
   "display_name": "Python 3",
   "language": "python",
   "name": "python3"
  },
  "language_info": {
   "codemirror_mode": {
    "name": "ipython",
    "version": 3
   },
   "file_extension": ".py",
   "mimetype": "text/x-python",
   "name": "python",
   "nbconvert_exporter": "python",
   "pygments_lexer": "ipython3",
   "version": "3.10.0"
  }
 },
 "nbformat": 4,
 "nbformat_minor": 4
}
