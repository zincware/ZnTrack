{
 "cells": [
  {
   "cell_type": "markdown",
   "id": "7be10adc-8677-4a69-87f6-489b10d7a989",
   "metadata": {
    "tags": [],
    "pycharm": {
     "name": "#%% md\n"
    }
   },
   "source": [
    "# Metadata collection with ZnTrack\n",
    "\n",
    "ZnTrack allows for the collection of some metadata.\n",
    "One example is measuring the execution time of Nodes or even methods inside the Nodes easily.\n",
    "This can be achieved by using the `@TimeIt` decorator which is shown in the following example."
   ]
  },
  {
   "cell_type": "code",
   "execution_count": 1,
   "id": "f0676d7e-7803-488c-9891-d500d55aa47f",
   "metadata": {
    "pycharm": {
     "name": "#%%\n"
    }
   },
   "outputs": [],
   "source": [
    "from zntrack import Node, zn, config\n",
    "from zntrack.metadata import TimeIt\n",
    "from time import sleep\n",
    "\n",
    "config.nb_name = \"05_metadata.ipynb\""
   ]
  },
  {
   "cell_type": "code",
   "execution_count": 2,
   "id": "355f3eb2-b42b-43d6-aa18-29dfa579b742",
   "metadata": {
    "nbsphinx": "hidden",
    "tags": [],
    "pycharm": {
     "name": "#%%\n"
    }
   },
   "outputs": [],
   "source": [
    "from zntrack.utils import cwd_temp_dir\n",
    "\n",
    "temp_dir = cwd_temp_dir()"
   ]
  },
  {
   "cell_type": "code",
   "execution_count": 3,
   "id": "c2ea08fe-7113-421e-b6b3-71b4e048c724",
   "metadata": {
    "pycharm": {
     "name": "#%%\n"
    }
   },
   "outputs": [
    {
     "name": "stdout",
     "output_type": "stream",
     "text": [
      "Initialized empty Git repository in /tmp/tmp4us1bcfh/.git/\r\n",
      "Initialized DVC repository.\r\n",
      "\r\n",
      "You can now commit the changes to git.\r\n",
      "\r\n",
      "\u001B[31m+---------------------------------------------------------------------+\r\n",
      "\u001B[0m\u001B[31m|\u001B[0m                                                                     \u001B[31m|\u001B[0m\r\n",
      "\u001B[31m|\u001B[0m        DVC has enabled anonymous aggregate usage analytics.         \u001B[31m|\u001B[0m\r\n",
      "\u001B[31m|\u001B[0m     Read the analytics documentation (and how to opt-out) here:     \u001B[31m|\u001B[0m\r\n",
      "\u001B[31m|\u001B[0m             <\u001B[36mhttps://dvc.org/doc/user-guide/analytics\u001B[39m>              \u001B[31m|\u001B[0m\r\n",
      "\u001B[31m|\u001B[0m                                                                     \u001B[31m|\u001B[0m\r\n",
      "\u001B[31m+---------------------------------------------------------------------+\r\n",
      "\u001B[0m\r\n",
      "\u001B[33mWhat's next?\u001B[39m\r\n",
      "\u001B[33m------------\u001B[39m\r\n",
      "- Check out the documentation: <\u001B[36mhttps://dvc.org/doc\u001B[39m>\r\n",
      "- Get help and share ideas: <\u001B[36mhttps://dvc.org/chat\u001B[39m>\r\n",
      "- Star us on GitHub: <\u001B[36mhttps://github.com/iterative/dvc\u001B[39m>\r\n",
      "\u001B[0m"
     ]
    }
   ],
   "source": [
    "!git init\n",
    "!dvc init"
   ]
  },
  {
   "cell_type": "code",
   "execution_count": 4,
   "id": "bf980834-b0d5-4be4-ac26-d653736645f6",
   "metadata": {
    "pycharm": {
     "name": "#%%\n"
    }
   },
   "outputs": [],
   "source": [
    "class SleepNode(Node):\n",
    "    metadata = zn.metadata()\n",
    "\n",
    "    @TimeIt\n",
    "    def run(self):\n",
    "        self.sleep_1s()\n",
    "        self.sleep_2s()\n",
    "\n",
    "    @TimeIt\n",
    "    def sleep_1s(self):\n",
    "        sleep(1)\n",
    "\n",
    "    def sleep_2s(self):\n",
    "        sleep(2)"
   ]
  },
  {
   "cell_type": "code",
   "execution_count": 5,
   "id": "e4e13211-1462-44d4-939a-9a96a057969e",
   "metadata": {
    "pycharm": {
     "name": "#%%\n"
    }
   },
   "outputs": [
    {
     "name": "stdout",
     "output_type": "stream",
     "text": [
      "2022-04-29 15:25:27,153 (WARNING): Jupyter support is an experimental feature! Please save your notebook before running this command!\n",
      "Submit issues to https://github.com/zincware/ZnTrack.\n",
      "2022-04-29 15:25:31,612 (WARNING): Running DVC command: 'dvc run -n SleepNode ...'\n"
     ]
    }
   ],
   "source": [
    "SleepNode().write_graph(run=True)"
   ]
  },
  {
   "cell_type": "code",
   "execution_count": 6,
   "id": "d87965c0-b9c9-40cc-9b63-dc9047c42915",
   "metadata": {
    "pycharm": {
     "name": "#%%\n"
    }
   },
   "outputs": [
    {
     "name": "stdout",
     "output_type": "stream",
     "text": [
      "                                                                      \rore\u001B[39m>Path                                   metadata.run:timeit    metadata.sleep_1s:timeit\r\n",
      "nodes/SleepNode/metrics_no_cache.json  3.00312                1.00053\r\n",
      "\u001B[0m"
     ]
    }
   ],
   "source": [
    "!dvc metrics show"
   ]
  },
  {
   "cell_type": "markdown",
   "id": "8d5fdb4c-ae21-47d9-8c2f-e1c89d48a1da",
   "metadata": {
    "pycharm": {
     "name": "#%% md\n"
    }
   },
   "source": [
    "We can also time a sinlge function multiple times, using the following example:"
   ]
  },
  {
   "cell_type": "code",
   "execution_count": 7,
   "id": "a689306e-4b24-44c7-a933-2482483090f9",
   "metadata": {
    "pycharm": {
     "name": "#%%\n"
    }
   },
   "outputs": [],
   "source": [
    "class SleepNodeMulti(Node):\n",
    "    metadata = zn.metadata()\n",
    "\n",
    "    @TimeIt\n",
    "    def run(self):\n",
    "        self.sleep(1.0)\n",
    "        self.sleep(0.8)\n",
    "        self.sleep(1.2)\n",
    "\n",
    "    @TimeIt\n",
    "    def sleep(self, time):\n",
    "        sleep(time)"
   ]
  },
  {
   "cell_type": "code",
   "execution_count": 8,
   "id": "cbc74582-c997-4050-8076-199ef2f63df6",
   "metadata": {
    "pycharm": {
     "name": "#%%\n"
    }
   },
   "outputs": [
    {
     "name": "stdout",
     "output_type": "stream",
     "text": [
      "2022-04-29 15:25:43,644 (WARNING): Running DVC command: 'dvc run -n SleepNodeMulti ...'\n"
     ]
    }
   ],
   "source": [
    "SleepNodeMulti().write_graph(run=True)"
   ]
  },
  {
   "cell_type": "code",
   "execution_count": 9,
   "id": "f8336ac2-bb26-45c7-9094-262f4de57126",
   "metadata": {
    "pycharm": {
     "name": "#%%\n"
    }
   },
   "outputs": [
    {
     "name": "stdout",
     "output_type": "stream",
     "text": [
      "                                                                      \rore\u001B[39m>Path                                        metadata.run:timeit    metadata.sleep:timeit.mean    metadata.sleep:timeit.std    metadata.sleep_1s:timeit\r\n",
      "nodes/SleepNode/metrics_no_cache.json       3.00312                -                             -                            1.00053\r\n",
      "nodes/SleepNodeMulti/metrics_no_cache.json  3.00455                1.00099                       0.20019                      -\r\n",
      "\u001B[0m"
     ]
    }
   ],
   "source": [
    "!dvc metrics show"
   ]
  },
  {
   "cell_type": "markdown",
   "id": "aca25029-74ec-457c-9759-8b80ec06bce9",
   "metadata": {
    "pycharm": {
     "name": "#%% md\n"
    }
   },
   "source": [
    "One can also access the metrics directly within Python. This is possible, because they are just another `zn.metrics` which is automatically added when using one of the given metadata decorators. This also gives access to the individual run times which are hidden when using `dvc metrics show`."
   ]
  },
  {
   "cell_type": "code",
   "execution_count": 10,
   "id": "6b6d4e62-f2db-4550-b89c-9012c3387cbf",
   "metadata": {
    "pycharm": {
     "name": "#%%\n"
    }
   },
   "outputs": [
    {
     "data": {
      "text/plain": "{'sleep:timeit': {'values': [1.0008997917175293,\n   0.8008444309234619,\n   1.2012319564819336],\n  'mean': 1.0009920597076416,\n  'std': 0.20019377872637664},\n 'run:timeit': 3.0045523643493652}"
     },
     "execution_count": 10,
     "metadata": {},
     "output_type": "execute_result"
    }
   ],
   "source": [
    "SleepNodeMulti.load().metadata"
   ]
  },
  {
   "cell_type": "code",
   "execution_count": 11,
   "id": "35ed65a1-9590-43f8-8aa9-244fd187f823",
   "metadata": {
    "nbsphinx": "hidden",
    "tags": [],
    "pycharm": {
     "name": "#%%\n"
    }
   },
   "outputs": [],
   "source": [
    "temp_dir.cleanup()"
   ]
  }
 ],
 "metadata": {
  "kernelspec": {
   "display_name": "Python 3 (ipykernel)",
   "language": "python",
   "name": "python3"
  },
  "language_info": {
   "codemirror_mode": {
    "name": "ipython",
    "version": 3
   },
   "file_extension": ".py",
   "mimetype": "text/x-python",
   "name": "python",
   "nbconvert_exporter": "python",
   "pygments_lexer": "ipython3",
   "version": "3.9.7"
  }
 },
 "nbformat": 4,
 "nbformat_minor": 5
}