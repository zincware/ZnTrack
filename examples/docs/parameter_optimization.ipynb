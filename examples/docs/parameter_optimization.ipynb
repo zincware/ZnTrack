{
 "cells": [
  {
   "attachments": {},
   "cell_type": "markdown",
   "metadata": {},
   "source": [
    "# Parameter Optimization with Optuna\n",
    "\n",
    "In this example we will train a RandomForest model and optimize its parameters using [Optuna](https://optuna.readthedocs.io/en/stable/).\n",
    "This example is an adapted version from the Optuna [Basic Concept example](https://optuna.readthedocs.io/en/stable/#basic-concepts).\n",
    "\n"
   ]
  },
  {
   "cell_type": "code",
   "execution_count": 1,
   "metadata": {},
   "outputs": [],
   "source": [
    "from zntrack import config\n",
    "config.nb_name = 'parameter_optimization.ipynb'"
   ]
  },
  {
   "cell_type": "code",
   "execution_count": 2,
   "metadata": {},
   "outputs": [],
   "source": [
    "from zntrack.utils import cwd_temp_dir\n",
    "temp_dir = cwd_temp_dir()"
   ]
  },
  {
   "cell_type": "code",
   "execution_count": 3,
   "metadata": {},
   "outputs": [
    {
     "name": "stdout",
     "output_type": "stream",
     "text": [
      "Initialized empty Git repository in /tmp/tmprps6kfu3/.git/\n",
      "Initialized DVC repository.\n",
      "\n",
      "You can now commit the changes to git.\n",
      "\n",
      "+---------------------------------------------------------------------+\n",
      "|                                                                     |\n",
      "|        DVC has enabled anonymous aggregate usage analytics.         |\n",
      "|     Read the analytics documentation (and how to opt-out) here:     |\n",
      "|             <https://dvc.org/doc/user-guide/analytics>              |\n",
      "|                                                                     |\n",
      "+---------------------------------------------------------------------+\n",
      "\n",
      "What's next?\n",
      "------------\n",
      "- Check out the documentation: <https://dvc.org/doc>\n",
      "- Get help and share ideas: <https://dvc.org/chat>\n",
      "- Star us on GitHub: <https://github.com/iterative/dvc>\n"
     ]
    }
   ],
   "source": [
    "!git init\n",
    "!dvc init"
   ]
  },
  {
   "attachments": {},
   "cell_type": "markdown",
   "metadata": {},
   "source": [
    "[![](https://mermaid.ink/img/pako:eNp1jz0PgjAQhv8KuVkG1InBCY2zsFmHCz2wSXslpdUYwn_3YpSwuF2e572vCVqvCUrorH-2dwwxayrFKrLg4qrg-ECbMJKC2w9vBZ99Gg33FUasKa7kTuQFWXt38oHGtdqLagIaboTXgzVruc3zwye0DPqCYmn_B3aKYQOOgkOj5ZVJcZYpiHdycnYppaYOk5V1imeJYoq-fnELZQyJNpAGLR9WBvuADsoO7UjzG6bTY5I?type=png)](https://mermaid.live/edit#pako:eNp1jz0PgjAQhv8KuVkG1InBCY2zsFmHCz2wSXslpdUYwn_3YpSwuF2e572vCVqvCUrorH-2dwwxayrFKrLg4qrg-ECbMJKC2w9vBZ99Gg33FUasKa7kTuQFWXt38oHGtdqLagIaboTXgzVruc3zwye0DPqCYmn_B3aKYQOOgkOj5ZVJcZYpiHdycnYppaYOk5V1imeJYoq-fnELZQyJNpAGLR9WBvuADsoO7UjzG6bTY5I)"
   ]
  },
  {
   "cell_type": "code",
   "execution_count": 4,
   "metadata": {},
   "outputs": [],
   "source": [
    "import optuna, sklearn, zntrack\n",
    "import sklearn.datasets\n",
    "import sklearn.ensemble\n",
    "import sklearn.model_selection\n",
    "\n",
    "class HousingDataSet(zntrack.Node):\n",
    "    data = zntrack.dvc.outs(\"scikit_learn_data\")\n",
    "\n",
    "    def run(self) -> None:\n",
    "        _ = sklearn.datasets.fetch_california_housing(data_home=self.data, return_X_y=True)\n",
    "    \n",
    "    @property\n",
    "    def labels(self) -> dict:\n",
    "        _, labels = sklearn.datasets.fetch_california_housing(data_home=self.data, return_X_y=True)\n",
    "        return labels\n",
    "\n",
    "    @property\n",
    "    def features(self) -> dict:\n",
    "        features, _ = sklearn.datasets.fetch_california_housing(data_home=self.data, return_X_y=True)\n",
    "        return features\n",
    "\n",
    "class TrainTestSplit(zntrack.Node):\n",
    "    labels = zntrack.zn.deps()\n",
    "    features = zntrack.zn.deps()\n",
    "    seed = zntrack.zn.params(1234)\n",
    "\n",
    "    train_features = zntrack.zn.outs()\n",
    "    test_features = zntrack.zn.outs()\n",
    "    train_labels = zntrack.zn.outs()\n",
    "    test_labels = zntrack.zn.outs()\n",
    "\n",
    "    def run(self) -> None:\n",
    "        self.train_features, self.test_features, self.train_labels, self.test_labels = sklearn.model_selection.train_test_split(\n",
    "            self.features, self.labels, test_size=0.2, random_state=self.seed\n",
    "        )\n",
    "\n",
    "class RandomForest(zntrack.Node):\n",
    "    train_features = zntrack.zn.deps()\n",
    "    train_labels = zntrack.zn.deps()\n",
    "    seed = zntrack.zn.params(1234)\n",
    "    max_depth = zntrack.zn.params(5)\n",
    "\n",
    "    model = zntrack.zn.outs()\n",
    "\n",
    "    def run(self) -> None:\n",
    "        self.model = sklearn.ensemble.RandomForestRegressor(random_state=self.seed, max_depth=self.max_depth)\n",
    "        self.model.fit(self.train_features, self.train_labels)\n",
    "\n",
    "class Evaluate(zntrack.Node):\n",
    "    model = zntrack.zn.deps()\n",
    "    test_features = zntrack.zn.deps()\n",
    "    test_labels = zntrack.zn.deps()\n",
    "\n",
    "    score = zntrack.zn.metrics()\n",
    "\n",
    "    def run(self) -> None:\n",
    "        self.score = self.model.score(self.test_features, self.test_labels)"
   ]
  },
  {
   "cell_type": "code",
   "execution_count": 5,
   "metadata": {},
   "outputs": [
    {
     "name": "stderr",
     "output_type": "stream",
     "text": [
      "Running DVC command: 'stage add --name HousingDataSet --force ...'\n",
      "Jupyter support is an experimental feature! Please save your notebook before running this command!\n",
      "Submit issues to https://github.com/zincware/ZnTrack.\n",
      "\u0000"
     ]
    },
    {
     "name": "stdout",
     "output_type": "stream",
     "text": [
      "\u0000"
     ]
    },
    {
     "name": "stderr",
     "output_type": "stream",
     "text": [
      "[NbConvertApp] Converting notebook parameter_optimization.ipynb to script\n",
      "[NbConvertApp] Writing 3639 bytes to parameter_optimization.py\n",
      "Running DVC command: 'stage add --name TrainTestSplit --force ...'\n",
      "\u0000"
     ]
    },
    {
     "name": "stdout",
     "output_type": "stream",
     "text": [
      "\u0000"
     ]
    },
    {
     "name": "stderr",
     "output_type": "stream",
     "text": [
      "[NbConvertApp] Converting notebook parameter_optimization.ipynb to script\n",
      "[NbConvertApp] Writing 3639 bytes to parameter_optimization.py\n",
      "Running DVC command: 'stage add --name RandomForest --force ...'\n",
      "\u0000"
     ]
    },
    {
     "name": "stdout",
     "output_type": "stream",
     "text": [
      "\u0000"
     ]
    },
    {
     "name": "stderr",
     "output_type": "stream",
     "text": [
      "[NbConvertApp] Converting notebook parameter_optimization.ipynb to script\n",
      "[NbConvertApp] Writing 3639 bytes to parameter_optimization.py\n",
      "Running DVC command: 'stage add --name Evaluate --force ...'\n",
      "\u0000"
     ]
    },
    {
     "name": "stdout",
     "output_type": "stream",
     "text": [
      "\u0000"
     ]
    },
    {
     "name": "stderr",
     "output_type": "stream",
     "text": [
      "[NbConvertApp] Converting notebook parameter_optimization.ipynb to script\n",
      "[NbConvertApp] Writing 3639 bytes to parameter_optimization.py\n",
      "Running DVC command: 'repro'\n"
     ]
    }
   ],
   "source": [
    "with zntrack.Project() as project:\n",
    "    data = HousingDataSet()\n",
    "    split = TrainTestSplit(labels=data.labels, features=data.features)\n",
    "    model = RandomForest(split.train_features, split.train_labels)\n",
    "    evaluate = Evaluate(model.model, split.test_features, split.test_labels)\n",
    "\n",
    "project.run()"
   ]
  },
  {
   "cell_type": "code",
   "execution_count": 6,
   "metadata": {},
   "outputs": [
    {
     "name": "stdout",
     "output_type": "stream",
     "text": [
      "\u0000[main (root-commit) d810228] initial commit\n",
      " 20 files changed, 1123 insertions(+)\n",
      " create mode 100644 .dvc/.gitignore\n",
      " create mode 100644 .dvc/config\n",
      " create mode 100644 .dvcignore\n",
      " create mode 100644 .gitignore\n",
      " create mode 100644 dvc.lock\n",
      " create mode 100644 dvc.yaml\n",
      " create mode 100644 nodes/Evaluate/score.json\n",
      " create mode 100644 nodes/RandomForest/.gitignore\n",
      " create mode 100644 nodes/TrainTestSplit/.gitignore\n",
      " create mode 100644 parameter_optimization.ipynb\n",
      " create mode 100644 params.yaml\n",
      " create mode 100644 src/Evaluate.py\n",
      " create mode 100644 src/HousingDataSet.py\n",
      " create mode 100644 src/RandomForest.py\n",
      " create mode 100644 src/TrainTestSplit.py\n",
      " create mode 100644 src/__pycache__/Evaluate.cpython-310.pyc\n",
      " create mode 100644 src/__pycache__/HousingDataSet.cpython-310.pyc\n",
      " create mode 100644 src/__pycache__/RandomForest.cpython-310.pyc\n",
      " create mode 100644 src/__pycache__/TrainTestSplit.cpython-310.pyc\n",
      " create mode 100644 zntrack.json\n"
     ]
    },
    {
     "name": "stderr",
     "output_type": "stream",
     "text": [
      "\u0000"
     ]
    }
   ],
   "source": [
    "!git add .\n",
    "!git commit -m \"initial commit\""
   ]
  },
  {
   "cell_type": "code",
   "execution_count": 7,
   "metadata": {},
   "outputs": [
    {
     "name": "stderr",
     "output_type": "stream",
     "text": [
      "[I 2023-05-25 15:42:28,893] A new study created in memory with name: no-name-5a4c5529-2eb1-41e0-81e0-803f77113bfc\n",
      "[NbConvertApp] Converting notebook parameter_optimization.ipynb to script\n",
      "[NbConvertApp] Writing 3639 bytes to parameter_optimization.py\n",
      "[NbConvertApp] Converting notebook parameter_optimization.ipynb to script\n",
      "[NbConvertApp] Writing 3639 bytes to parameter_optimization.py\n",
      "[NbConvertApp] Converting notebook parameter_optimization.ipynb to script\n",
      "[NbConvertApp] Writing 3639 bytes to parameter_optimization.py\n",
      "[NbConvertApp] Converting notebook parameter_optimization.ipynb to script\n",
      "[NbConvertApp] Writing 3639 bytes to parameter_optimization.py\n",
      "Running DVC command: 'exp run --name exp-0'\n",
      "\u0000[I 2023-05-25 15:42:46,426] Trial 0 finished with value: 0.8063654034274534 and parameters: {'max_depth': 23}. Best is trial 0 with value: 0.8063654034274534.\n"
     ]
    },
    {
     "name": "stdout",
     "output_type": "stream",
     "text": [
      "\u0000"
     ]
    },
    {
     "name": "stderr",
     "output_type": "stream",
     "text": [
      "[NbConvertApp] Converting notebook parameter_optimization.ipynb to script\n",
      "[NbConvertApp] Writing 3639 bytes to parameter_optimization.py\n",
      "[NbConvertApp] Converting notebook parameter_optimization.ipynb to script\n",
      "[NbConvertApp] Writing 3639 bytes to parameter_optimization.py\n",
      "[NbConvertApp] Converting notebook parameter_optimization.ipynb to script\n",
      "[NbConvertApp] Writing 3639 bytes to parameter_optimization.py\n",
      "[NbConvertApp] Converting notebook parameter_optimization.ipynb to script\n",
      "[NbConvertApp] Writing 3639 bytes to parameter_optimization.py\n",
      "Running DVC command: 'exp run --name exp-1'\n",
      "\u0000[I 2023-05-25 15:42:59,370] Trial 1 finished with value: 0.7457844082512 and parameters: {'max_depth': 8}. Best is trial 0 with value: 0.8063654034274534.\n"
     ]
    },
    {
     "name": "stdout",
     "output_type": "stream",
     "text": [
      "\u0000"
     ]
    },
    {
     "name": "stderr",
     "output_type": "stream",
     "text": [
      "[NbConvertApp] Converting notebook parameter_optimization.ipynb to script\n",
      "[NbConvertApp] Writing 3639 bytes to parameter_optimization.py\n",
      "[NbConvertApp] Converting notebook parameter_optimization.ipynb to script\n",
      "[NbConvertApp] Writing 3639 bytes to parameter_optimization.py\n",
      "[NbConvertApp] Converting notebook parameter_optimization.ipynb to script\n",
      "[NbConvertApp] Writing 3639 bytes to parameter_optimization.py\n",
      "[NbConvertApp] Converting notebook parameter_optimization.ipynb to script\n",
      "[NbConvertApp] Writing 3639 bytes to parameter_optimization.py\n",
      "Running DVC command: 'exp run --name exp-2'\n",
      "\u0000[I 2023-05-25 15:43:17,100] Trial 2 finished with value: 0.8062920194093484 and parameters: {'max_depth': 24}. Best is trial 0 with value: 0.8063654034274534.\n"
     ]
    },
    {
     "name": "stdout",
     "output_type": "stream",
     "text": [
      "\u0000"
     ]
    },
    {
     "name": "stderr",
     "output_type": "stream",
     "text": [
      "[NbConvertApp] Converting notebook parameter_optimization.ipynb to script\n",
      "[NbConvertApp] Writing 3639 bytes to parameter_optimization.py\n",
      "[NbConvertApp] Converting notebook parameter_optimization.ipynb to script\n",
      "[NbConvertApp] Writing 3639 bytes to parameter_optimization.py\n",
      "[NbConvertApp] Converting notebook parameter_optimization.ipynb to script\n",
      "[NbConvertApp] Writing 3639 bytes to parameter_optimization.py\n",
      "[NbConvertApp] Converting notebook parameter_optimization.ipynb to script\n",
      "[NbConvertApp] Writing 3639 bytes to parameter_optimization.py\n",
      "Running DVC command: 'exp run --name exp-3'\n",
      "\u0000[I 2023-05-25 15:43:28,592] Trial 3 finished with value: 0.6037173940095967 and parameters: {'max_depth': 4}. Best is trial 0 with value: 0.8063654034274534.\n"
     ]
    },
    {
     "name": "stdout",
     "output_type": "stream",
     "text": [
      "\u0000"
     ]
    },
    {
     "name": "stderr",
     "output_type": "stream",
     "text": [
      "[NbConvertApp] Converting notebook parameter_optimization.ipynb to script\n",
      "[NbConvertApp] Writing 3639 bytes to parameter_optimization.py\n",
      "[NbConvertApp] Converting notebook parameter_optimization.ipynb to script\n",
      "[NbConvertApp] Writing 3639 bytes to parameter_optimization.py\n",
      "[NbConvertApp] Converting notebook parameter_optimization.ipynb to script\n",
      "[NbConvertApp] Writing 3639 bytes to parameter_optimization.py\n",
      "[NbConvertApp] Converting notebook parameter_optimization.ipynb to script\n",
      "[NbConvertApp] Writing 3639 bytes to parameter_optimization.py\n",
      "Running DVC command: 'exp run --name exp-4'\n",
      "\u0000[I 2023-05-25 15:43:46,140] Trial 4 finished with value: 0.8059449494191242 and parameters: {'max_depth': 32}. Best is trial 0 with value: 0.8063654034274534.\n"
     ]
    },
    {
     "name": "stdout",
     "output_type": "stream",
     "text": [
      "\u0000"
     ]
    },
    {
     "name": "stderr",
     "output_type": "stream",
     "text": [
      "[NbConvertApp] Converting notebook parameter_optimization.ipynb to script\n",
      "[NbConvertApp] Writing 3639 bytes to parameter_optimization.py\n",
      "[NbConvertApp] Converting notebook parameter_optimization.ipynb to script\n",
      "[NbConvertApp] Writing 3639 bytes to parameter_optimization.py\n",
      "[NbConvertApp] Converting notebook parameter_optimization.ipynb to script\n",
      "[NbConvertApp] Writing 3639 bytes to parameter_optimization.py\n",
      "[NbConvertApp] Converting notebook parameter_optimization.ipynb to script\n",
      "[NbConvertApp] Writing 3639 bytes to parameter_optimization.py\n",
      "Running DVC command: 'exp run --name exp-5'\n",
      "\u0000[I 2023-05-25 15:44:03,530] Trial 5 finished with value: 0.8057678856571453 and parameters: {'max_depth': 27}. Best is trial 0 with value: 0.8063654034274534.\n"
     ]
    },
    {
     "name": "stdout",
     "output_type": "stream",
     "text": [
      "\u0000"
     ]
    },
    {
     "name": "stderr",
     "output_type": "stream",
     "text": [
      "[NbConvertApp] Converting notebook parameter_optimization.ipynb to script\n",
      "[NbConvertApp] Writing 3639 bytes to parameter_optimization.py\n",
      "[NbConvertApp] Converting notebook parameter_optimization.ipynb to script\n",
      "[NbConvertApp] Writing 3639 bytes to parameter_optimization.py\n",
      "[NbConvertApp] Converting notebook parameter_optimization.ipynb to script\n",
      "[NbConvertApp] Writing 3639 bytes to parameter_optimization.py\n",
      "[NbConvertApp] Converting notebook parameter_optimization.ipynb to script\n",
      "[NbConvertApp] Writing 3639 bytes to parameter_optimization.py\n",
      "Running DVC command: 'exp run --name exp-6'\n",
      "\u0000[I 2023-05-25 15:44:20,735] Trial 6 finished with value: 0.8058760015942394 and parameters: {'max_depth': 20}. Best is trial 0 with value: 0.8063654034274534.\n"
     ]
    },
    {
     "name": "stdout",
     "output_type": "stream",
     "text": [
      "\u0000"
     ]
    },
    {
     "name": "stderr",
     "output_type": "stream",
     "text": [
      "[NbConvertApp] Converting notebook parameter_optimization.ipynb to script\n",
      "[NbConvertApp] Writing 3639 bytes to parameter_optimization.py\n",
      "[NbConvertApp] Converting notebook parameter_optimization.ipynb to script\n",
      "[NbConvertApp] Writing 3639 bytes to parameter_optimization.py\n",
      "[NbConvertApp] Converting notebook parameter_optimization.ipynb to script\n",
      "[NbConvertApp] Writing 3639 bytes to parameter_optimization.py\n",
      "[NbConvertApp] Converting notebook parameter_optimization.ipynb to script\n",
      "[NbConvertApp] Writing 3639 bytes to parameter_optimization.py\n",
      "Running DVC command: 'exp run --name exp-7'\n",
      "\u0000[I 2023-05-25 15:44:35,313] Trial 7 finished with value: 0.7881269558646984 and parameters: {'max_depth': 11}. Best is trial 0 with value: 0.8063654034274534.\n"
     ]
    },
    {
     "name": "stdout",
     "output_type": "stream",
     "text": [
      "\u0000"
     ]
    },
    {
     "name": "stderr",
     "output_type": "stream",
     "text": [
      "[NbConvertApp] Converting notebook parameter_optimization.ipynb to script\n",
      "[NbConvertApp] Writing 3639 bytes to parameter_optimization.py\n",
      "[NbConvertApp] Converting notebook parameter_optimization.ipynb to script\n",
      "[NbConvertApp] Writing 3639 bytes to parameter_optimization.py\n",
      "[NbConvertApp] Converting notebook parameter_optimization.ipynb to script\n",
      "[NbConvertApp] Writing 3639 bytes to parameter_optimization.py\n",
      "[NbConvertApp] Converting notebook parameter_optimization.ipynb to script\n",
      "[NbConvertApp] Writing 3639 bytes to parameter_optimization.py\n",
      "Running DVC command: 'exp run --name exp-8'\n",
      "\u0000[I 2023-05-25 15:44:49,770] Trial 8 finished with value: 0.7945585295544808 and parameters: {'max_depth': 12}. Best is trial 0 with value: 0.8063654034274534.\n"
     ]
    },
    {
     "name": "stdout",
     "output_type": "stream",
     "text": [
      "\u0000"
     ]
    },
    {
     "name": "stderr",
     "output_type": "stream",
     "text": [
      "[NbConvertApp] Converting notebook parameter_optimization.ipynb to script\n",
      "[NbConvertApp] Writing 3639 bytes to parameter_optimization.py\n",
      "[NbConvertApp] Converting notebook parameter_optimization.ipynb to script\n",
      "[NbConvertApp] Writing 3639 bytes to parameter_optimization.py\n",
      "[NbConvertApp] Converting notebook parameter_optimization.ipynb to script\n",
      "[NbConvertApp] Writing 3639 bytes to parameter_optimization.py\n",
      "[NbConvertApp] Converting notebook parameter_optimization.ipynb to script\n",
      "[NbConvertApp] Writing 3639 bytes to parameter_optimization.py\n",
      "Running DVC command: 'exp run --name exp-9'\n",
      "\u0000[I 2023-05-25 15:44:56,322] Trial 9 finished with value: 0.7881269558646984 and parameters: {'max_depth': 11}. Best is trial 0 with value: 0.8063654034274534.\n"
     ]
    },
    {
     "name": "stdout",
     "output_type": "stream",
     "text": [
      "\u0000"
     ]
    }
   ],
   "source": [
    "def objective(trial):\n",
    "    with project.create_experiment(queue=False, name=f\"exp-{trial.number}\") as exp:\n",
    "        model.max_depth = trial.suggest_int(\"max_depth\", 2, 32)\n",
    "    \n",
    "    return exp[evaluate.name].score\n",
    "\n",
    "study = optuna.create_study(direction=\"maximize\")\n",
    "study.optimize(objective, n_trials=10)"
   ]
  },
  {
   "cell_type": "code",
   "execution_count": 8,
   "metadata": {},
   "outputs": [
    {
     "data": {
      "text/plain": [
       "{'max_depth': 23}"
      ]
     },
     "execution_count": 8,
     "metadata": {},
     "output_type": "execute_result"
    }
   ],
   "source": [
    "study.best_params"
   ]
  },
  {
   "cell_type": "code",
   "execution_count": 9,
   "metadata": {},
   "outputs": [
    {
     "data": {
      "text/plain": [
       "23"
      ]
     },
     "execution_count": 9,
     "metadata": {},
     "output_type": "execute_result"
    }
   ],
   "source": [
    "best_model = model.from_rev(rev=f\"exp-{study.best_trial.number}\")\n",
    "best_model.max_depth"
   ]
  },
  {
   "cell_type": "code",
   "execution_count": 10,
   "metadata": {},
   "outputs": [],
   "source": [
    "temp_dir.cleanup()"
   ]
  },
  {
   "cell_type": "code",
   "execution_count": null,
   "metadata": {},
   "outputs": [],
   "source": []
  }
 ],
 "metadata": {
  "kernelspec": {
   "display_name": "zntrack",
   "language": "python",
   "name": "python3"
  },
  "language_info": {
   "codemirror_mode": {
    "name": "ipython",
    "version": 3
   },
   "file_extension": ".py",
   "mimetype": "text/x-python",
   "name": "python",
   "nbconvert_exporter": "python",
   "pygments_lexer": "ipython3",
   "version": "3.10.9"
  },
  "orig_nbformat": 4
 },
 "nbformat": 4,
 "nbformat_minor": 2
}
