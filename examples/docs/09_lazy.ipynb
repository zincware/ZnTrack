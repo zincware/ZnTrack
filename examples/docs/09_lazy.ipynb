{
 "cells": [
  {
   "cell_type": "markdown",
   "metadata": {
    "pycharm": {
     "name": "#%% md\n"
    },
    "tags": []
   },
   "source": [
    "# Lazy File Loading\n",
    "\n",
    "With ZnTrack > 0.3.5 a lazy loading feature was introduced. This is essential for graphs with many dependencies and large Files.\n",
    "Lazy file loading allows us to only load data when it is accessed.\n",
    "This tutorial will show the benefits but also the difficulties that come with it.\n",
    "\n",
    "By default `config.lazy == True` which globally enables lazy file loading. See the Note section when this can cause problems. You can disable it by changing the `zntrack.config.lazy = False`"
   ]
  },
  {
   "cell_type": "code",
   "execution_count": 1,
   "metadata": {},
   "outputs": [],
   "source": [
    "from zntrack import config\n",
    "\n",
    "# When using ZnTrack we can write our code inside a Jupyter notebook.\n",
    "# We can make use of this functionality by setting the `nb_name` config as follows:\n",
    "config.nb_name = \"09_lazy.ipynb\""
   ]
  },
  {
   "cell_type": "code",
   "execution_count": 2,
   "metadata": {
    "nbsphinx": "hidden",
    "tags": []
   },
   "outputs": [],
   "source": [
    "from zntrack.utils import cwd_temp_dir\n",
    "\n",
    "temp_dir = cwd_temp_dir()"
   ]
  },
  {
   "cell_type": "code",
   "execution_count": 3,
   "metadata": {
    "nbsphinx": "hidden",
    "tags": []
   },
   "outputs": [
    {
     "name": "stdout",
     "output_type": "stream",
     "text": [
      "Initialized empty Git repository in C:/Users/fabia/AppData/Local/Temp/tmp2q_n25ir/.git/\n",
      "Initialized DVC repository.\n",
      "\n",
      "You can now commit the changes to git.\n",
      "\n",
      "+---------------------------------------------------------------------+\n",
      "|                                                                     |\n",
      "|        DVC has enabled anonymous aggregate usage analytics.         |\n",
      "|     Read the analytics documentation (and how to opt-out) here:     |\n",
      "|             <https://dvc.org/doc/user-guide/analytics>              |\n",
      "|                                                                     |\n",
      "+---------------------------------------------------------------------+\n",
      "\n",
      "What's next?\n",
      "------------\n",
      "- Check out the documentation: <https://dvc.org/doc>\n",
      "- Get help and share ideas: <https://dvc.org/chat>\n",
      "- Star us on GitHub: <https://github.com/iterative/dvc>\n"
     ]
    }
   ],
   "source": [
    "!git init\n",
    "!dvc init"
   ]
  },
  {
   "cell_type": "markdown",
   "metadata": {},
   "source": [
    "Let's start by creating some Example Nodes"
   ]
  },
  {
   "cell_type": "code",
   "execution_count": 4,
   "metadata": {},
   "outputs": [],
   "source": [
    "from zntrack import Node, zn\n",
    "import random"
   ]
  },
  {
   "cell_type": "markdown",
   "source": [
    "We will now create a PrintOption that is identical to `zn.outs` but prints a message every time the data is read from files."
   ],
   "metadata": {
    "collapsed": false,
    "pycharm": {
     "name": "#%% md\n"
    }
   }
  },
  {
   "cell_type": "code",
   "execution_count": 5,
   "outputs": [],
   "source": [
    "class PrintOption(zn.outs):\n",
    "    def get_data_from_files(self, instance):\n",
    "        print(f\"Loading data from files for {instance.node_name}\")\n",
    "        return super(PrintOption, self).get_data_from_files(instance)"
   ],
   "metadata": {
    "collapsed": false,
    "pycharm": {
     "name": "#%%\n"
    }
   }
  },
  {
   "cell_type": "code",
   "execution_count": 6,
   "outputs": [],
   "source": [
    "class RandomNumber(Node):\n",
    "    start = zn.params()\n",
    "    stop = zn.params()\n",
    "    number = PrintOption()  # = zn.outs() + print\n",
    "\n",
    "    def run(self):\n",
    "        self.number = random.randrange(self.start, self.stop)"
   ],
   "metadata": {
    "collapsed": false,
    "pycharm": {
     "name": "#%%\n"
    }
   }
  },
  {
   "cell_type": "markdown",
   "source": [
    "In this first Example we will not use lazy loading."
   ],
   "metadata": {
    "collapsed": false,
    "pycharm": {
     "name": "#%% md\n"
    }
   }
  },
  {
   "cell_type": "code",
   "execution_count": 7,
   "outputs": [
    {
     "name": "stdout",
     "output_type": "stream",
     "text": [
      "2022-02-17 17:04:13,443 dvcgraph (WARNING): --- Writing new DVC file! ---\n",
      "2022-02-17 17:04:13,444 dvcgraph (WARNING): You will not be able to see the stdout/stderr of the process in real time!\n",
      "2022-02-17 17:04:13,445 jupyter (WARNING): Jupyter support is an experimental feature! Please save your notebook before running this command!\n",
      "Submit issues to https://github.com/zincware/ZnTrack.\n",
      "2022-02-17 17:04:13,445 jupyter (WARNING): Converting 09_lazy.ipynb to file RandomNumber.py\n",
      "2022-02-17 17:04:18,484 utils (INFO): Running stage 'RandomNumber':\r\n",
      "> python -c \"from src.RandomNumber import RandomNumber; RandomNumber.load(name='RandomNumber').run_and_save()\" \r\n",
      "Creating 'dvc.yaml'\r\n",
      "Adding stage 'RandomNumber' in 'dvc.yaml'\r\n",
      "Generating lock file 'dvc.lock'\r\n",
      "Updating lock file 'dvc.lock'\r\n",
      "\r\n",
      "To track the changes with git, run:\r\n",
      "\r\n",
      "    git add dvc.yaml dvc.lock 'nodes\\RandomNumber\\.gitignore'\r\n",
      "\r\n",
      "To enable auto staging, run:\r\n",
      "\r\n",
      "\tdvc config core.autostage true\r\n",
      "\n"
     ]
    }
   ],
   "source": [
    "RandomNumber(start=1, stop=1000).write_graph(run=True)"
   ],
   "metadata": {
    "collapsed": false,
    "pycharm": {
     "name": "#%%\n"
    }
   }
  },
  {
   "cell_type": "code",
   "execution_count": 8,
   "outputs": [
    {
     "name": "stdout",
     "output_type": "stream",
     "text": [
      "Loading data from files for RandomNumber\n"
     ]
    }
   ],
   "source": [
    "random_number = RandomNumber.load(lazy=False)"
   ],
   "metadata": {
    "collapsed": false,
    "pycharm": {
     "name": "#%%\n"
    }
   }
  },
  {
   "cell_type": "markdown",
   "source": [
    "As we can see, the RandomNumber is already loaded into memory"
   ],
   "metadata": {
    "collapsed": false
   }
  },
  {
   "cell_type": "code",
   "execution_count": 9,
   "outputs": [
    {
     "data": {
      "text/plain": "515"
     },
     "execution_count": 9,
     "metadata": {},
     "output_type": "execute_result"
    }
   ],
   "source": [
    "random_number.number"
   ],
   "metadata": {
    "collapsed": false,
    "pycharm": {
     "name": "#%%\n"
    }
   }
  },
  {
   "cell_type": "markdown",
   "source": [
    "Now let us do the same thing with `lazy=True`"
   ],
   "metadata": {
    "collapsed": false,
    "pycharm": {
     "name": "#%% md\n"
    }
   }
  },
  {
   "cell_type": "code",
   "execution_count": 10,
   "outputs": [
    {
     "name": "stdout",
     "output_type": "stream",
     "text": [
      "<class 'zntrack.utils.LazyOption'>\n"
     ]
    }
   ],
   "source": [
    "lazy_random_number = RandomNumber.load(lazy=True)\n",
    "print(lazy_random_number.__dict__[\"number\"])"
   ],
   "metadata": {
    "collapsed": false,
    "pycharm": {
     "name": "#%%\n"
    }
   }
  },
  {
   "cell_type": "markdown",
   "source": [
    "We can see, that the random number is not yet available but as soon as we access the attribute it will be loaded for us (and stored in memory)."
   ],
   "metadata": {
    "collapsed": false,
    "pycharm": {
     "name": "#%% md\n"
    }
   }
  },
  {
   "cell_type": "code",
   "execution_count": 11,
   "outputs": [
    {
     "name": "stdout",
     "output_type": "stream",
     "text": [
      "Loading data from files for RandomNumber\n"
     ]
    },
    {
     "data": {
      "text/plain": "515"
     },
     "execution_count": 11,
     "metadata": {},
     "output_type": "execute_result"
    }
   ],
   "source": [
    "lazy_random_number.number"
   ],
   "metadata": {
    "collapsed": false,
    "pycharm": {
     "name": "#%%\n"
    }
   }
  },
  {
   "cell_type": "markdown",
   "source": [
    "Let's build some dependencies to show where lazy loading is especially useful."
   ],
   "metadata": {
    "collapsed": false,
    "pycharm": {
     "name": "#%% md\n"
    }
   }
  },
  {
   "cell_type": "code",
   "execution_count": 12,
   "outputs": [],
   "source": [
    "class AddOne(Node):\n",
    "    deps = zn.deps()\n",
    "    number = PrintOption()\n",
    "\n",
    "    def __init__(self, deps=None, **kwargs):\n",
    "        super().__init__(**kwargs)\n",
    "        self.deps = deps\n",
    "\n",
    "    def run(self):\n",
    "        self.number = self.deps.number + 1"
   ],
   "metadata": {
    "collapsed": false,
    "pycharm": {
     "name": "#%%\n"
    }
   }
  },
  {
   "cell_type": "code",
   "execution_count": 13,
   "outputs": [
    {
     "name": "stdout",
     "output_type": "stream",
     "text": [
      "2022-02-17 17:04:18,570 dvcgraph (WARNING): --- Writing new DVC file! ---\n",
      "2022-02-17 17:04:18,570 dvcgraph (WARNING): You will not be able to see the stdout/stderr of the process in real time!\n",
      "2022-02-17 17:04:18,571 jupyter (WARNING): Jupyter support is an experimental feature! Please save your notebook before running this command!\n",
      "Submit issues to https://github.com/zincware/ZnTrack.\n",
      "2022-02-17 17:04:18,572 jupyter (WARNING): Converting 09_lazy.ipynb to file AddOne.py\n",
      "2022-02-17 17:04:23,394 utils (INFO): Running stage 'AddOne_0':\r\n",
      "> python -c \"from src.AddOne import AddOne; AddOne.load(name='AddOne_0').run_and_save()\" \r\n",
      "Loading data from files for RandomNumber\r\n",
      "Adding stage 'AddOne_0' in 'dvc.yaml'\r\n",
      "Updating lock file 'dvc.lock'\r\n",
      "\r\n",
      "To track the changes with git, run:\r\n",
      "\r\n",
      "    git add dvc.yaml 'nodes\\AddOne_0\\.gitignore' dvc.lock\r\n",
      "\r\n",
      "To enable auto staging, run:\r\n",
      "\r\n",
      "\tdvc config core.autostage true\r\n",
      "\n",
      "2022-02-17 17:04:23,395 dvcgraph (WARNING): --- Writing new DVC file! ---\n",
      "2022-02-17 17:04:23,395 dvcgraph (WARNING): You will not be able to see the stdout/stderr of the process in real time!\n",
      "2022-02-17 17:04:23,396 jupyter (WARNING): Jupyter support is an experimental feature! Please save your notebook before running this command!\n",
      "Submit issues to https://github.com/zincware/ZnTrack.\n",
      "2022-02-17 17:04:23,396 jupyter (WARNING): Converting 09_lazy.ipynb to file AddOne.py\n",
      "2022-02-17 17:04:28,459 utils (INFO): Running stage 'AddOne_1':\r\n",
      "> python -c \"from src.AddOne import AddOne; AddOne.load(name='AddOne_1').run_and_save()\" \r\n",
      "Loading data from files for AddOne_0\r\n",
      "Adding stage 'AddOne_1' in 'dvc.yaml'\r\n",
      "Updating lock file 'dvc.lock'\r\n",
      "\r\n",
      "To track the changes with git, run:\r\n",
      "\r\n",
      "    git add dvc.lock dvc.yaml 'nodes\\AddOne_1\\.gitignore'\r\n",
      "\r\n",
      "To enable auto staging, run:\r\n",
      "\r\n",
      "\tdvc config core.autostage true\r\n",
      "\n",
      "2022-02-17 17:04:28,460 dvcgraph (WARNING): --- Writing new DVC file! ---\n",
      "2022-02-17 17:04:28,461 dvcgraph (WARNING): You will not be able to see the stdout/stderr of the process in real time!\n",
      "2022-02-17 17:04:28,461 jupyter (WARNING): Jupyter support is an experimental feature! Please save your notebook before running this command!\n",
      "Submit issues to https://github.com/zincware/ZnTrack.\n",
      "2022-02-17 17:04:28,461 jupyter (WARNING): Converting 09_lazy.ipynb to file AddOne.py\n",
      "2022-02-17 17:04:33,318 utils (INFO): Running stage 'AddOne_2':\r\n",
      "> python -c \"from src.AddOne import AddOne; AddOne.load(name='AddOne_2').run_and_save()\" \r\n",
      "Loading data from files for AddOne_1\r\n",
      "Adding stage 'AddOne_2' in 'dvc.yaml'\r\n",
      "Updating lock file 'dvc.lock'\r\n",
      "\r\n",
      "To track the changes with git, run:\r\n",
      "\r\n",
      "    git add dvc.yaml dvc.lock 'nodes\\AddOne_2\\.gitignore'\r\n",
      "\r\n",
      "To enable auto staging, run:\r\n",
      "\r\n",
      "\tdvc config core.autostage true\r\n",
      "\n",
      "2022-02-17 17:04:33,318 dvcgraph (WARNING): --- Writing new DVC file! ---\n",
      "2022-02-17 17:04:33,319 dvcgraph (WARNING): You will not be able to see the stdout/stderr of the process in real time!\n",
      "2022-02-17 17:04:33,319 jupyter (WARNING): Jupyter support is an experimental feature! Please save your notebook before running this command!\n",
      "Submit issues to https://github.com/zincware/ZnTrack.\n",
      "2022-02-17 17:04:33,319 jupyter (WARNING): Converting 09_lazy.ipynb to file AddOne.py\n",
      "2022-02-17 17:04:38,247 utils (INFO): Running stage 'AddOne_3':\r\n",
      "> python -c \"from src.AddOne import AddOne; AddOne.load(name='AddOne_3').run_and_save()\" \r\n",
      "Loading data from files for AddOne_2\r\n",
      "Adding stage 'AddOne_3' in 'dvc.yaml'\r\n",
      "Updating lock file 'dvc.lock'\r\n",
      "\r\n",
      "To track the changes with git, run:\r\n",
      "\r\n",
      "    git add dvc.yaml 'nodes\\AddOne_3\\.gitignore' dvc.lock\r\n",
      "\r\n",
      "To enable auto staging, run:\r\n",
      "\r\n",
      "\tdvc config core.autostage true\r\n",
      "\n",
      "2022-02-17 17:04:38,248 dvcgraph (WARNING): --- Writing new DVC file! ---\n",
      "2022-02-17 17:04:38,248 dvcgraph (WARNING): You will not be able to see the stdout/stderr of the process in real time!\n",
      "2022-02-17 17:04:38,248 jupyter (WARNING): Jupyter support is an experimental feature! Please save your notebook before running this command!\n",
      "Submit issues to https://github.com/zincware/ZnTrack.\n",
      "2022-02-17 17:04:38,249 jupyter (WARNING): Converting 09_lazy.ipynb to file AddOne.py\n",
      "2022-02-17 17:04:43,472 utils (INFO): Running stage 'AddOne_4':\r\n",
      "> python -c \"from src.AddOne import AddOne; AddOne.load(name='AddOne_4').run_and_save()\" \r\n",
      "Loading data from files for AddOne_3\r\n",
      "Adding stage 'AddOne_4' in 'dvc.yaml'\r\n",
      "Updating lock file 'dvc.lock'\r\n",
      "\r\n",
      "To track the changes with git, run:\r\n",
      "\r\n",
      "    git add dvc.lock dvc.yaml 'nodes\\AddOne_4\\.gitignore'\r\n",
      "\r\n",
      "To enable auto staging, run:\r\n",
      "\r\n",
      "\tdvc config core.autostage true\r\n",
      "\n",
      "2022-02-17 17:04:43,473 dvcgraph (WARNING): --- Writing new DVC file! ---\n",
      "2022-02-17 17:04:43,473 dvcgraph (WARNING): You will not be able to see the stdout/stderr of the process in real time!\n",
      "2022-02-17 17:04:43,474 jupyter (WARNING): Jupyter support is an experimental feature! Please save your notebook before running this command!\n",
      "Submit issues to https://github.com/zincware/ZnTrack.\n",
      "2022-02-17 17:04:43,474 jupyter (WARNING): Converting 09_lazy.ipynb to file AddOne.py\n",
      "2022-02-17 17:04:48,402 utils (INFO): Running stage 'AddOne_5':\r\n",
      "> python -c \"from src.AddOne import AddOne; AddOne.load(name='AddOne_5').run_and_save()\" \r\n",
      "Loading data from files for AddOne_4\r\n",
      "Adding stage 'AddOne_5' in 'dvc.yaml'\r\n",
      "Updating lock file 'dvc.lock'\r\n",
      "\r\n",
      "To track the changes with git, run:\r\n",
      "\r\n",
      "    git add 'nodes\\AddOne_5\\.gitignore' dvc.yaml dvc.lock\r\n",
      "\r\n",
      "To enable auto staging, run:\r\n",
      "\r\n",
      "\tdvc config core.autostage true\r\n",
      "\n",
      "2022-02-17 17:04:48,403 dvcgraph (WARNING): --- Writing new DVC file! ---\n",
      "2022-02-17 17:04:48,404 dvcgraph (WARNING): You will not be able to see the stdout/stderr of the process in real time!\n",
      "2022-02-17 17:04:48,404 jupyter (WARNING): Jupyter support is an experimental feature! Please save your notebook before running this command!\n",
      "Submit issues to https://github.com/zincware/ZnTrack.\n",
      "2022-02-17 17:04:48,404 jupyter (WARNING): Converting 09_lazy.ipynb to file AddOne.py\n",
      "2022-02-17 17:04:53,256 utils (INFO): Running stage 'AddOne_6':\r\n",
      "> python -c \"from src.AddOne import AddOne; AddOne.load(name='AddOne_6').run_and_save()\" \r\n",
      "Loading data from files for AddOne_5\r\n",
      "Adding stage 'AddOne_6' in 'dvc.yaml'\r\n",
      "Updating lock file 'dvc.lock'\r\n",
      "\r\n",
      "To track the changes with git, run:\r\n",
      "\r\n",
      "    git add dvc.lock dvc.yaml 'nodes\\AddOne_6\\.gitignore'\r\n",
      "\r\n",
      "To enable auto staging, run:\r\n",
      "\r\n",
      "\tdvc config core.autostage true\r\n",
      "\n",
      "2022-02-17 17:04:53,256 dvcgraph (WARNING): --- Writing new DVC file! ---\n",
      "2022-02-17 17:04:53,256 dvcgraph (WARNING): You will not be able to see the stdout/stderr of the process in real time!\n",
      "2022-02-17 17:04:53,257 jupyter (WARNING): Jupyter support is an experimental feature! Please save your notebook before running this command!\n",
      "Submit issues to https://github.com/zincware/ZnTrack.\n",
      "2022-02-17 17:04:53,257 jupyter (WARNING): Converting 09_lazy.ipynb to file AddOne.py\n",
      "2022-02-17 17:04:58,134 utils (INFO): Running stage 'AddOne_7':\r\n",
      "> python -c \"from src.AddOne import AddOne; AddOne.load(name='AddOne_7').run_and_save()\" \r\n",
      "Loading data from files for AddOne_6\r\n",
      "Adding stage 'AddOne_7' in 'dvc.yaml'\r\n",
      "Updating lock file 'dvc.lock'\r\n",
      "\r\n",
      "To track the changes with git, run:\r\n",
      "\r\n",
      "    git add dvc.lock 'nodes\\AddOne_7\\.gitignore' dvc.yaml\r\n",
      "\r\n",
      "To enable auto staging, run:\r\n",
      "\r\n",
      "\tdvc config core.autostage true\r\n",
      "\n",
      "2022-02-17 17:04:58,134 dvcgraph (WARNING): --- Writing new DVC file! ---\n",
      "2022-02-17 17:04:58,135 dvcgraph (WARNING): You will not be able to see the stdout/stderr of the process in real time!\n",
      "2022-02-17 17:04:58,135 jupyter (WARNING): Jupyter support is an experimental feature! Please save your notebook before running this command!\n",
      "Submit issues to https://github.com/zincware/ZnTrack.\n",
      "2022-02-17 17:04:58,136 jupyter (WARNING): Converting 09_lazy.ipynb to file AddOne.py\n",
      "2022-02-17 17:05:02,923 utils (INFO): Running stage 'AddOne_8':\r\n",
      "> python -c \"from src.AddOne import AddOne; AddOne.load(name='AddOne_8').run_and_save()\" \r\n",
      "Loading data from files for AddOne_7\r\n",
      "Adding stage 'AddOne_8' in 'dvc.yaml'\r\n",
      "Updating lock file 'dvc.lock'\r\n",
      "\r\n",
      "To track the changes with git, run:\r\n",
      "\r\n",
      "    git add dvc.yaml dvc.lock 'nodes\\AddOne_8\\.gitignore'\r\n",
      "\r\n",
      "To enable auto staging, run:\r\n",
      "\r\n",
      "\tdvc config core.autostage true\r\n",
      "\n",
      "2022-02-17 17:05:02,924 dvcgraph (WARNING): --- Writing new DVC file! ---\n",
      "2022-02-17 17:05:02,924 dvcgraph (WARNING): You will not be able to see the stdout/stderr of the process in real time!\n",
      "2022-02-17 17:05:02,925 jupyter (WARNING): Jupyter support is an experimental feature! Please save your notebook before running this command!\n",
      "Submit issues to https://github.com/zincware/ZnTrack.\n",
      "2022-02-17 17:05:02,925 jupyter (WARNING): Converting 09_lazy.ipynb to file AddOne.py\n",
      "2022-02-17 17:05:07,776 utils (INFO): Running stage 'AddOne_9':\r\n",
      "> python -c \"from src.AddOne import AddOne; AddOne.load(name='AddOne_9').run_and_save()\" \r\n",
      "Loading data from files for AddOne_8\r\n",
      "Adding stage 'AddOne_9' in 'dvc.yaml'\r\n",
      "Updating lock file 'dvc.lock'\r\n",
      "\r\n",
      "To track the changes with git, run:\r\n",
      "\r\n",
      "    git add dvc.yaml 'nodes\\AddOne_9\\.gitignore' dvc.lock\r\n",
      "\r\n",
      "To enable auto staging, run:\r\n",
      "\r\n",
      "\tdvc config core.autostage true\r\n",
      "\n",
      "2022-02-17 17:05:07,777 dvcgraph (WARNING): --- Writing new DVC file! ---\n",
      "2022-02-17 17:05:07,777 dvcgraph (WARNING): You will not be able to see the stdout/stderr of the process in real time!\n",
      "2022-02-17 17:05:07,777 jupyter (WARNING): Jupyter support is an experimental feature! Please save your notebook before running this command!\n",
      "Submit issues to https://github.com/zincware/ZnTrack.\n",
      "2022-02-17 17:05:07,778 jupyter (WARNING): Converting 09_lazy.ipynb to file AddOne.py\n",
      "2022-02-17 17:05:12,611 utils (INFO): Running stage 'AddOne_10':\r\n",
      "> python -c \"from src.AddOne import AddOne; AddOne.load(name='AddOne_10').run_and_save()\" \r\n",
      "Loading data from files for AddOne_9\r\n",
      "Adding stage 'AddOne_10' in 'dvc.yaml'\r\n",
      "Updating lock file 'dvc.lock'\r\n",
      "\r\n",
      "To track the changes with git, run:\r\n",
      "\r\n",
      "    git add dvc.lock 'nodes\\AddOne_10\\.gitignore' dvc.yaml\r\n",
      "\r\n",
      "To enable auto staging, run:\r\n",
      "\r\n",
      "\tdvc config core.autostage true\r\n",
      "\n"
     ]
    }
   ],
   "source": [
    "AddOne(deps=RandomNumber.load(), name=\"AddOne_0\").write_graph(run=True)\n",
    "for index in range(10):\n",
    "    AddOne(\n",
    "        deps=AddOne.load(name=f\"AddOne_{index}\"), name=f\"AddOne_{index+1}\"\n",
    "    ).write_graph(run=True)"
   ],
   "metadata": {
    "collapsed": false,
    "pycharm": {
     "name": "#%%\n"
    }
   }
  },
  {
   "cell_type": "code",
   "execution_count": 14,
   "outputs": [
    {
     "name": "stdout",
     "output_type": "stream",
     "text": [
      "+--------------+ \n",
      "| RandomNumber | \n",
      "+--------------+ \n",
      "        *        \n",
      "        *        \n",
      "        *        \n",
      "  +----------+   \n",
      "  | AddOne_0 |   \n",
      "  +----------+   \n",
      "        *        \n",
      "        *        \n",
      "        *        \n",
      "  +----------+   \n",
      "  | AddOne_1 |   \n",
      "  +----------+   \n",
      "        *        \n",
      "        *        \n",
      "        *        \n",
      "  +----------+   \n",
      "  | AddOne_2 |   \n",
      "  +----------+   \n",
      "        *        \n",
      "        *        \n",
      "        *        \n",
      "  +----------+   \n",
      "  | AddOne_3 |   \n",
      "  +----------+   \n",
      "        *        \n",
      "        *        \n",
      "        *        \n",
      "  +----------+   \n",
      "  | AddOne_4 |   \n",
      "  +----------+   \n",
      "        *        \n",
      "        *        \n",
      "        *        \n",
      "  +----------+   \n",
      "  | AddOne_5 |   \n",
      "  +----------+   \n",
      "        *        \n",
      "        *        \n",
      "        *        \n",
      "  +----------+   \n",
      "  | AddOne_6 |   \n",
      "  +----------+   \n",
      "        *        \n",
      "        *        \n",
      "        *        \n",
      "  +----------+   \n",
      "  | AddOne_7 |   \n",
      "  +----------+   \n",
      "        *        \n",
      "        *        \n",
      "        *        \n",
      "  +----------+   \n",
      "  | AddOne_8 |   \n",
      "  +----------+   \n",
      "        *        \n",
      "        *        \n",
      "        *        \n",
      "  +----------+   \n",
      "  | AddOne_9 |   \n",
      "  +----------+   \n",
      "        *        \n",
      "        *        \n",
      "        *        \n",
      "  +-----------+  \n",
      "  | AddOne_10 |  \n",
      "  +-----------+  \n"
     ]
    }
   ],
   "source": [
    "!dvc dag"
   ],
   "metadata": {
    "collapsed": false,
    "pycharm": {
     "name": "#%%\n"
    }
   }
  },
  {
   "cell_type": "markdown",
   "source": [
    "If we now load the latest `AddOne` we will see that it loads up everything into memory, although we might only be interested in the most recent number."
   ],
   "metadata": {
    "collapsed": false,
    "pycharm": {
     "name": "#%% md\n"
    }
   }
  },
  {
   "cell_type": "code",
   "execution_count": 15,
   "outputs": [
    {
     "name": "stdout",
     "output_type": "stream",
     "text": [
      "Loading data from files for RandomNumber\n",
      "Loading data from files for AddOne_0\n",
      "Loading data from files for AddOne_1\n",
      "Loading data from files for AddOne_2\n",
      "Loading data from files for AddOne_3\n",
      "Loading data from files for AddOne_4\n",
      "Loading data from files for AddOne_5\n",
      "Loading data from files for AddOne_6\n",
      "Loading data from files for AddOne_7\n",
      "Loading data from files for AddOne_8\n",
      "Loading data from files for AddOne_9\n",
      "Loading data from files for AddOne_10\n"
     ]
    }
   ],
   "source": [
    "add_one = AddOne.load(name=\"AddOne_10\", lazy=False)"
   ],
   "metadata": {
    "collapsed": false,
    "pycharm": {
     "name": "#%%\n"
    }
   }
  },
  {
   "cell_type": "markdown",
   "source": [
    "It is rather unlikely that we need all these data to be stored in memory. So we can use `lazy=True` to avoid that."
   ],
   "metadata": {
    "collapsed": false,
    "pycharm": {
     "name": "#%% md\n"
    }
   }
  },
  {
   "cell_type": "code",
   "execution_count": 16,
   "outputs": [],
   "source": [
    "add_one_lazy = AddOne.load(name=\"AddOne_10\", lazy=True)"
   ],
   "metadata": {
    "collapsed": false,
    "pycharm": {
     "name": "#%%\n"
    }
   }
  },
  {
   "cell_type": "markdown",
   "source": [
    "We can check with an arbitrary depth of dependencies that both instances yield the same value."
   ],
   "metadata": {
    "collapsed": false,
    "pycharm": {
     "name": "#%% md\n"
    }
   }
  },
  {
   "cell_type": "code",
   "execution_count": 17,
   "outputs": [
    {
     "name": "stdout",
     "output_type": "stream",
     "text": [
      "Loading data from files for AddOne_3\n"
     ]
    },
    {
     "data": {
      "text/plain": "519"
     },
     "execution_count": 17,
     "metadata": {},
     "output_type": "execute_result"
    }
   ],
   "source": [
    "add_one_lazy.deps.deps.deps.deps.deps.deps.deps.number"
   ],
   "metadata": {
    "collapsed": false,
    "pycharm": {
     "name": "#%%\n"
    }
   }
  },
  {
   "cell_type": "code",
   "execution_count": 18,
   "outputs": [
    {
     "data": {
      "text/plain": "519"
     },
     "execution_count": 18,
     "metadata": {},
     "output_type": "execute_result"
    }
   ],
   "source": [
    "add_one.deps.deps.deps.deps.deps.deps.deps.number"
   ],
   "metadata": {
    "collapsed": false,
    "pycharm": {
     "name": "#%%\n"
    }
   }
  },
  {
   "cell_type": "markdown",
   "source": [
    "## Notes\n",
    "When using ZnTrack to compare data of different versions it is important to either not use `lazy=True` or load the data manually before loading another version of the data.\n",
    "In the following example we store the result of `dvc repro` for three different experiments with and without `lazy=True` and compare the results."
   ],
   "metadata": {
    "collapsed": false,
    "pycharm": {
     "name": "#%% md\n"
    }
   }
  },
  {
   "cell_type": "code",
   "execution_count": 19,
   "outputs": [
    {
     "name": "stdout",
     "output_type": "stream",
     "text": [
      "2022-02-17 17:05:14,315 dvcgraph (WARNING): --- Writing new DVC file! ---\n",
      "2022-02-17 17:05:14,316 jupyter (WARNING): Jupyter support is an experimental feature! Please save your notebook before running this command!\n",
      "Submit issues to https://github.com/zincware/ZnTrack.\n",
      "2022-02-17 17:05:14,317 jupyter (WARNING): Converting 09_lazy.ipynb to file RandomNumber.py\n",
      "2022-02-17 17:05:18,420 utils (INFO): Modifying stage 'RandomNumber' in 'dvc.yaml'\r\n",
      "\r\n",
      "To track the changes with git, run:\r\n",
      "\r\n",
      "    git add dvc.yaml\r\n",
      "\r\n",
      "To enable auto staging, run:\r\n",
      "\r\n",
      "\tdvc config core.autostage true\r\n",
      "\n",
      "Running stage 'RandomNumber':\n",
      "> python -c \"from src.RandomNumber import RandomNumber; RandomNumber.load(name='RandomNumber').run_and_save()\" \n",
      "Updating lock file 'dvc.lock'\n",
      "\n",
      "Running stage 'AddOne_0':\n",
      "> python -c \"from src.AddOne import AddOne; AddOne.load(name='AddOne_0').run_and_save()\" \n",
      "Loading data from files for RandomNumber\n",
      "Updating lock file 'dvc.lock'\n",
      "\n",
      "Running stage 'AddOne_1':\n",
      "> python -c \"from src.AddOne import AddOne; AddOne.load(name='AddOne_1').run_and_save()\" \n",
      "Loading data from files for AddOne_0\n",
      "Updating lock file 'dvc.lock'\n",
      "\n",
      "Running stage 'AddOne_2':\n",
      "> python -c \"from src.AddOne import AddOne; AddOne.load(name='AddOne_2').run_and_save()\" \n",
      "Loading data from files for AddOne_1\n",
      "Updating lock file 'dvc.lock'\n",
      "\n",
      "Running stage 'AddOne_3':\n",
      "> python -c \"from src.AddOne import AddOne; AddOne.load(name='AddOne_3').run_and_save()\" \n",
      "Loading data from files for AddOne_2\n",
      "Updating lock file 'dvc.lock'\n",
      "\n",
      "Running stage 'AddOne_4':\n",
      "> python -c \"from src.AddOne import AddOne; AddOne.load(name='AddOne_4').run_and_save()\" \n",
      "Loading data from files for AddOne_3\n",
      "Updating lock file 'dvc.lock'\n",
      "\n",
      "Running stage 'AddOne_5':\n",
      "> python -c \"from src.AddOne import AddOne; AddOne.load(name='AddOne_5').run_and_save()\" \n",
      "Loading data from files for AddOne_4\n",
      "Updating lock file 'dvc.lock'\n",
      "\n",
      "Running stage 'AddOne_6':\n",
      "> python -c \"from src.AddOne import AddOne; AddOne.load(name='AddOne_6').run_and_save()\" \n",
      "Loading data from files for AddOne_5\n",
      "Updating lock file 'dvc.lock'\n",
      "\n",
      "Running stage 'AddOne_7':\n",
      "> python -c \"from src.AddOne import AddOne; AddOne.load(name='AddOne_7').run_and_save()\" \n",
      "Loading data from files for AddOne_6\n",
      "Updating lock file 'dvc.lock'\n",
      "\n",
      "Running stage 'AddOne_8':\n",
      "> python -c \"from src.AddOne import AddOne; AddOne.load(name='AddOne_8').run_and_save()\" \n",
      "Loading data from files for AddOne_7\n",
      "Updating lock file 'dvc.lock'\n",
      "\n",
      "Running stage 'AddOne_9':\n",
      "> python -c \"from src.AddOne import AddOne; AddOne.load(name='AddOne_9').run_and_save()\" \n",
      "Loading data from files for AddOne_8\n",
      "Updating lock file 'dvc.lock'\n",
      "\n",
      "Running stage 'AddOne_10':\n",
      "> python -c \"from src.AddOne import AddOne; AddOne.load(name='AddOne_10').run_and_save()\" \n",
      "Loading data from files for AddOne_9\n",
      "Updating lock file 'dvc.lock'\n",
      "\n",
      "To track the changes with git, run:\n",
      "\n",
      "    git add dvc.lock\n",
      "\n",
      "To enable auto staging, run:\n",
      "\n",
      "\tdvc config core.autostage true\n",
      "Use `dvc push` to send your updates to remote storage.\n",
      "Loading data from files for RandomNumber\n",
      "Loading data from files for AddOne_0\n",
      "Loading data from files for AddOne_1\n",
      "Loading data from files for AddOne_2\n",
      "Loading data from files for AddOne_3\n",
      "Loading data from files for AddOne_4\n",
      "Loading data from files for AddOne_5\n",
      "Loading data from files for AddOne_6\n",
      "Loading data from files for AddOne_7\n",
      "Loading data from files for AddOne_8\n",
      "Loading data from files for AddOne_9\n",
      "Loading data from files for AddOne_10\n",
      "2022-02-17 17:05:30,546 dvcgraph (WARNING): --- Writing new DVC file! ---\n",
      "2022-02-17 17:05:30,546 jupyter (WARNING): Jupyter support is an experimental feature! Please save your notebook before running this command!\n",
      "Submit issues to https://github.com/zincware/ZnTrack.\n",
      "2022-02-17 17:05:30,547 jupyter (WARNING): Converting 09_lazy.ipynb to file RandomNumber.py\n",
      "2022-02-17 17:05:34,563 utils (INFO): Modifying stage 'RandomNumber' in 'dvc.yaml'\r\n",
      "\r\n",
      "To track the changes with git, run:\r\n",
      "\r\n",
      "    git add dvc.yaml\r\n",
      "\r\n",
      "To enable auto staging, run:\r\n",
      "\r\n",
      "\tdvc config core.autostage true\r\n",
      "\n",
      "Running stage 'RandomNumber':\n",
      "> python -c \"from src.RandomNumber import RandomNumber; RandomNumber.load(name='RandomNumber').run_and_save()\" \n",
      "Updating lock file 'dvc.lock'\n",
      "\n",
      "Running stage 'AddOne_0':\n",
      "> python -c \"from src.AddOne import AddOne; AddOne.load(name='AddOne_0').run_and_save()\" \n",
      "Loading data from files for RandomNumber\n",
      "Updating lock file 'dvc.lock'\n",
      "\n",
      "Running stage 'AddOne_1':\n",
      "> python -c \"from src.AddOne import AddOne; AddOne.load(name='AddOne_1').run_and_save()\" \n",
      "Loading data from files for AddOne_0\n",
      "Updating lock file 'dvc.lock'\n",
      "\n",
      "Running stage 'AddOne_2':\n",
      "> python -c \"from src.AddOne import AddOne; AddOne.load(name='AddOne_2').run_and_save()\" \n",
      "Loading data from files for AddOne_1\n",
      "Updating lock file 'dvc.lock'\n",
      "\n",
      "Running stage 'AddOne_3':\n",
      "> python -c \"from src.AddOne import AddOne; AddOne.load(name='AddOne_3').run_and_save()\" \n",
      "Loading data from files for AddOne_2\n",
      "Updating lock file 'dvc.lock'\n",
      "\n",
      "Running stage 'AddOne_4':\n",
      "> python -c \"from src.AddOne import AddOne; AddOne.load(name='AddOne_4').run_and_save()\" \n",
      "Loading data from files for AddOne_3\n",
      "Updating lock file 'dvc.lock'\n",
      "\n",
      "Running stage 'AddOne_5':\n",
      "> python -c \"from src.AddOne import AddOne; AddOne.load(name='AddOne_5').run_and_save()\" \n",
      "Loading data from files for AddOne_4\n",
      "Updating lock file 'dvc.lock'\n",
      "\n",
      "Running stage 'AddOne_6':\n",
      "> python -c \"from src.AddOne import AddOne; AddOne.load(name='AddOne_6').run_and_save()\" \n",
      "Loading data from files for AddOne_5\n",
      "Updating lock file 'dvc.lock'\n",
      "\n",
      "Running stage 'AddOne_7':\n",
      "> python -c \"from src.AddOne import AddOne; AddOne.load(name='AddOne_7').run_and_save()\" \n",
      "Loading data from files for AddOne_6\n",
      "Updating lock file 'dvc.lock'\n",
      "\n",
      "Running stage 'AddOne_8':\n",
      "> python -c \"from src.AddOne import AddOne; AddOne.load(name='AddOne_8').run_and_save()\" \n",
      "Loading data from files for AddOne_7\n",
      "Updating lock file 'dvc.lock'\n",
      "\n",
      "Running stage 'AddOne_9':\n",
      "> python -c \"from src.AddOne import AddOne; AddOne.load(name='AddOne_9').run_and_save()\" \n",
      "Loading data from files for AddOne_8\n",
      "Updating lock file 'dvc.lock'\n",
      "\n",
      "Running stage 'AddOne_10':\n",
      "> python -c \"from src.AddOne import AddOne; AddOne.load(name='AddOne_10').run_and_save()\" \n",
      "Loading data from files for AddOne_9\n",
      "Updating lock file 'dvc.lock'\n",
      "\n",
      "To track the changes with git, run:\n",
      "\n",
      "    git add dvc.lock\n",
      "\n",
      "To enable auto staging, run:\n",
      "\n",
      "\tdvc config core.autostage true\n",
      "Use `dvc push` to send your updates to remote storage.\n",
      "Loading data from files for RandomNumber\n",
      "Loading data from files for AddOne_0\n",
      "Loading data from files for AddOne_1\n",
      "Loading data from files for AddOne_2\n",
      "Loading data from files for AddOne_3\n",
      "Loading data from files for AddOne_4\n",
      "Loading data from files for AddOne_5\n",
      "Loading data from files for AddOne_6\n",
      "Loading data from files for AddOne_7\n",
      "Loading data from files for AddOne_8\n",
      "Loading data from files for AddOne_9\n",
      "Loading data from files for AddOne_10\n",
      "2022-02-17 17:05:46,892 dvcgraph (WARNING): --- Writing new DVC file! ---\n",
      "2022-02-17 17:05:46,893 jupyter (WARNING): Jupyter support is an experimental feature! Please save your notebook before running this command!\n",
      "Submit issues to https://github.com/zincware/ZnTrack.\n",
      "2022-02-17 17:05:46,893 jupyter (WARNING): Converting 09_lazy.ipynb to file RandomNumber.py\n",
      "2022-02-17 17:05:50,858 utils (INFO): Modifying stage 'RandomNumber' in 'dvc.yaml'\r\n",
      "\r\n",
      "To track the changes with git, run:\r\n",
      "\r\n",
      "    git add dvc.yaml\r\n",
      "\r\n",
      "To enable auto staging, run:\r\n",
      "\r\n",
      "\tdvc config core.autostage true\r\n",
      "\n",
      "Running stage 'RandomNumber':\n",
      "> python -c \"from src.RandomNumber import RandomNumber; RandomNumber.load(name='RandomNumber').run_and_save()\" \n",
      "Updating lock file 'dvc.lock'\n",
      "\n",
      "Running stage 'AddOne_0':\n",
      "> python -c \"from src.AddOne import AddOne; AddOne.load(name='AddOne_0').run_and_save()\" \n",
      "Loading data from files for RandomNumber\n",
      "Updating lock file 'dvc.lock'\n",
      "\n",
      "Running stage 'AddOne_1':\n",
      "> python -c \"from src.AddOne import AddOne; AddOne.load(name='AddOne_1').run_and_save()\" \n",
      "Loading data from files for AddOne_0\n",
      "Updating lock file 'dvc.lock'\n",
      "\n",
      "Running stage 'AddOne_2':\n",
      "> python -c \"from src.AddOne import AddOne; AddOne.load(name='AddOne_2').run_and_save()\" \n",
      "Loading data from files for AddOne_1\n",
      "Updating lock file 'dvc.lock'\n",
      "\n",
      "Running stage 'AddOne_3':\n",
      "> python -c \"from src.AddOne import AddOne; AddOne.load(name='AddOne_3').run_and_save()\" \n",
      "Loading data from files for AddOne_2\n",
      "Updating lock file 'dvc.lock'\n",
      "\n",
      "Running stage 'AddOne_4':\n",
      "> python -c \"from src.AddOne import AddOne; AddOne.load(name='AddOne_4').run_and_save()\" \n",
      "Loading data from files for AddOne_3\n",
      "Updating lock file 'dvc.lock'\n",
      "\n",
      "Running stage 'AddOne_5':\n",
      "> python -c \"from src.AddOne import AddOne; AddOne.load(name='AddOne_5').run_and_save()\" \n",
      "Loading data from files for AddOne_4\n",
      "Updating lock file 'dvc.lock'\n",
      "\n",
      "Running stage 'AddOne_6':\n",
      "> python -c \"from src.AddOne import AddOne; AddOne.load(name='AddOne_6').run_and_save()\" \n",
      "Loading data from files for AddOne_5\n",
      "Updating lock file 'dvc.lock'\n",
      "\n",
      "Running stage 'AddOne_7':\n",
      "> python -c \"from src.AddOne import AddOne; AddOne.load(name='AddOne_7').run_and_save()\" \n",
      "Loading data from files for AddOne_6\n",
      "Updating lock file 'dvc.lock'\n",
      "\n",
      "Running stage 'AddOne_8':\n",
      "> python -c \"from src.AddOne import AddOne; AddOne.load(name='AddOne_8').run_and_save()\" \n",
      "Loading data from files for AddOne_7\n",
      "Updating lock file 'dvc.lock'\n",
      "\n",
      "Running stage 'AddOne_9':\n",
      "> python -c \"from src.AddOne import AddOne; AddOne.load(name='AddOne_9').run_and_save()\" \n",
      "Loading data from files for AddOne_8\n",
      "Updating lock file 'dvc.lock'\n",
      "\n",
      "Running stage 'AddOne_10':\n",
      "> python -c \"from src.AddOne import AddOne; AddOne.load(name='AddOne_10').run_and_save()\" \n",
      "Loading data from files for AddOne_9\n",
      "Updating lock file 'dvc.lock'\n",
      "\n",
      "To track the changes with git, run:\n",
      "\n",
      "    git add dvc.lock\n",
      "\n",
      "To enable auto staging, run:\n",
      "\n",
      "\tdvc config core.autostage true\n",
      "Use `dvc push` to send your updates to remote storage.\n",
      "Loading data from files for RandomNumber\n",
      "Loading data from files for AddOne_0\n",
      "Loading data from files for AddOne_1\n",
      "Loading data from files for AddOne_2\n",
      "Loading data from files for AddOne_3\n",
      "Loading data from files for AddOne_4\n",
      "Loading data from files for AddOne_5\n",
      "Loading data from files for AddOne_6\n",
      "Loading data from files for AddOne_7\n",
      "Loading data from files for AddOne_8\n",
      "Loading data from files for AddOne_9\n",
      "Loading data from files for AddOne_10\n"
     ]
    }
   ],
   "source": [
    "RandomNumber(start=0, stop=5000).write_graph()\n",
    "!dvc repro\n",
    "add_one_lazy_1 = AddOne.load(name=\"AddOne_10\", lazy=True)\n",
    "add_one_1 = AddOne.load(name=\"AddOne_10\", lazy=False)\n",
    "\n",
    "RandomNumber(start=0, stop=5001).write_graph()\n",
    "!dvc repro\n",
    "add_one_lazy_2 = AddOne.load(name=\"AddOne_10\", lazy=True)\n",
    "add_one_2 = AddOne.load(name=\"AddOne_10\", lazy=False)\n",
    "\n",
    "RandomNumber(start=0, stop=5002).write_graph()\n",
    "!dvc repro\n",
    "add_one_lazy_3 = AddOne.load(name=\"AddOne_10\", lazy=True)\n",
    "add_one_3 = AddOne.load(name=\"AddOne_10\", lazy=False)"
   ],
   "metadata": {
    "collapsed": false,
    "pycharm": {
     "name": "#%%\n"
    }
   }
  },
  {
   "cell_type": "code",
   "execution_count": 20,
   "outputs": [
    {
     "name": "stdout",
     "output_type": "stream",
     "text": [
      "Loading data from files for AddOne_10\n",
      "Loading data from files for AddOne_10\n",
      "Loading data from files for AddOne_10\n",
      "579 == 579 == 579\n"
     ]
    }
   ],
   "source": [
    "# with lazy we get the same number for every run which is not what we expect.\n",
    "print(f\"{add_one_lazy_1.number} == {add_one_lazy_2.number} == {add_one_lazy_3.number}\")"
   ],
   "metadata": {
    "collapsed": false,
    "pycharm": {
     "name": "#%%\n"
    }
   }
  },
  {
   "cell_type": "code",
   "execution_count": 21,
   "outputs": [
    {
     "name": "stdout",
     "output_type": "stream",
     "text": [
      "3864 != 2717 != 579\n"
     ]
    }
   ],
   "source": [
    "# With lazy=False we get the results we expect.\n",
    "print(f\"{add_one_1.number} != {add_one_2.number} != {add_one_3.number}\")"
   ],
   "metadata": {
    "collapsed": false,
    "pycharm": {
     "name": "#%%\n"
    }
   }
  },
  {
   "cell_type": "markdown",
   "source": [
    "You can \"lock\" one value into place (loading it into memory) by accessing it e.g. through `_ = add_one_lazy_1.number`. This way you are able to only load certain values and still having the benefit of `lazy=True` if you only want to compare certain values."
   ],
   "metadata": {
    "collapsed": false
   }
  },
  {
   "cell_type": "code",
   "source": [
    "temp_dir.cleanup()"
   ],
   "metadata": {
    "collapsed": false,
    "pycharm": {
     "name": "#%%\n"
    }
   },
   "execution_count": null,
   "outputs": []
  }
 ],
 "metadata": {
  "kernelspec": {
   "display_name": "Python 3 (ipykernel)",
   "language": "python",
   "name": "python3"
  },
  "language_info": {
   "codemirror_mode": {
    "name": "ipython",
    "version": 3
   },
   "file_extension": ".py",
   "mimetype": "text/x-python",
   "name": "python",
   "nbconvert_exporter": "python",
   "pygments_lexer": "ipython3",
   "version": "3.9.7"
  }
 },
 "nbformat": 4,
 "nbformat_minor": 4
}