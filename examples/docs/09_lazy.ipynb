{
 "cells": [
  {
   "cell_type": "markdown",
   "metadata": {
    "pycharm": {
     "name": "#%% md\n"
    },
    "tags": []
   },
   "source": [
    "# Lazy File Loading\n",
    "\n",
    "With ZnTrack > 0.3.5 a lazy loading feature was introduced. This is essential for graphs with many dependencies and large Files.\n",
    "Lazy file loading allows us to only load data when it is accessed.\n",
    "This tutorial will show the benefits but also the difficulties that come with it.\n",
    "\n",
    "By default `config.lazy == True` which globally enables lazy file loading. See the Note section when this can cause problems. You can disable it by changing the `zntrack.config.lazy = False`"
   ]
  },
  {
   "cell_type": "code",
   "execution_count": 1,
   "metadata": {},
   "outputs": [],
   "source": [
    "from zntrack import config\n",
    "\n",
    "# When using ZnTrack we can write our code inside a Jupyter notebook.\n",
    "# We can make use of this functionality by setting the `nb_name` config as follows:\n",
    "config.nb_name = \"09_lazy.ipynb\""
   ]
  },
  {
   "cell_type": "code",
   "execution_count": 2,
   "metadata": {
    "nbsphinx": "hidden",
    "tags": []
   },
   "outputs": [],
   "source": [
    "from zntrack.utils import cwd_temp_dir\n",
    "\n",
    "temp_dir = cwd_temp_dir()"
   ]
  },
  {
   "cell_type": "code",
   "execution_count": 3,
   "metadata": {
    "nbsphinx": "hidden",
    "tags": []
   },
   "outputs": [
    {
     "name": "stdout",
     "output_type": "stream",
     "text": [
      "Initialized empty Git repository in /tmp/tmph9ys5kml/.git/\r\n",
      "Initialized DVC repository.\r\n",
      "\r\n",
      "You can now commit the changes to git.\r\n",
      "\r\n",
      "\u001B[31m+---------------------------------------------------------------------+\r\n",
      "\u001B[0m\u001B[31m|\u001B[0m                                                                     \u001B[31m|\u001B[0m\r\n",
      "\u001B[31m|\u001B[0m        DVC has enabled anonymous aggregate usage analytics.         \u001B[31m|\u001B[0m\r\n",
      "\u001B[31m|\u001B[0m     Read the analytics documentation (and how to opt-out) here:     \u001B[31m|\u001B[0m\r\n",
      "\u001B[31m|\u001B[0m             <\u001B[36mhttps://dvc.org/doc/user-guide/analytics\u001B[39m>              \u001B[31m|\u001B[0m\r\n",
      "\u001B[31m|\u001B[0m                                                                     \u001B[31m|\u001B[0m\r\n",
      "\u001B[31m+---------------------------------------------------------------------+\r\n",
      "\u001B[0m\r\n",
      "\u001B[33mWhat's next?\u001B[39m\r\n",
      "\u001B[33m------------\u001B[39m\r\n",
      "- Check out the documentation: <\u001B[36mhttps://dvc.org/doc\u001B[39m>\r\n",
      "- Get help and share ideas: <\u001B[36mhttps://dvc.org/chat\u001B[39m>\r\n",
      "- Star us on GitHub: <\u001B[36mhttps://github.com/iterative/dvc\u001B[39m>\r\n",
      "\u001B[0m"
     ]
    }
   ],
   "source": [
    "!git init\n",
    "!dvc init"
   ]
  },
  {
   "cell_type": "markdown",
   "metadata": {},
   "source": [
    "Let's start by creating some Example Nodes"
   ]
  },
  {
   "cell_type": "code",
   "execution_count": 4,
   "metadata": {},
   "outputs": [],
   "source": [
    "from zntrack import Node, zn\n",
    "import random"
   ]
  },
  {
   "cell_type": "markdown",
   "source": [
    "We will now create a PrintOption that is identical to `zn.outs` but prints a message every time the data is read from files."
   ],
   "metadata": {
    "collapsed": false,
    "pycharm": {
     "name": "#%% md\n"
    }
   }
  },
  {
   "cell_type": "code",
   "execution_count": 5,
   "outputs": [],
   "source": [
    "class PrintOption(zn.outs):\n",
    "    def get_data_from_files(self, instance):\n",
    "        print(f\"Loading data from files for {instance.node_name}\")\n",
    "        return super(PrintOption, self).get_data_from_files(instance)"
   ],
   "metadata": {
    "collapsed": false,
    "pycharm": {
     "name": "#%%\n"
    }
   }
  },
  {
   "cell_type": "code",
   "execution_count": 6,
   "outputs": [],
   "source": [
    "class RandomNumber(Node):\n",
    "    start = zn.params()\n",
    "    stop = zn.params()\n",
    "    number = PrintOption()  # = zn.outs() + print\n",
    "\n",
    "    def run(self):\n",
    "        self.number = random.randrange(self.start, self.stop)"
   ],
   "metadata": {
    "collapsed": false,
    "pycharm": {
     "name": "#%%\n"
    }
   }
  },
  {
   "cell_type": "markdown",
   "source": [
    "In this first Example we will not use lazy loading."
   ],
   "metadata": {
    "collapsed": false,
    "pycharm": {
     "name": "#%% md\n"
    }
   }
  },
  {
   "cell_type": "code",
   "execution_count": 7,
   "outputs": [
    {
     "name": "stdout",
     "output_type": "stream",
     "text": [
      "2022-02-22 13:28:36,720 (WARNING): Jupyter support is an experimental feature! Please save your notebook before running this command!\n",
      "Submit issues to https://github.com/zincware/ZnTrack.\n",
      "2022-02-22 13:28:40,304 (WARNING): Running DVC command: 'dvc run -n RandomNumber ...'\n"
     ]
    }
   ],
   "source": [
    "RandomNumber(start=1, stop=1000).write_graph(run=True)"
   ],
   "metadata": {
    "collapsed": false,
    "pycharm": {
     "name": "#%%\n"
    }
   }
  },
  {
   "cell_type": "code",
   "execution_count": 8,
   "outputs": [
    {
     "name": "stdout",
     "output_type": "stream",
     "text": [
      "Loading data from files for RandomNumber\n"
     ]
    }
   ],
   "source": [
    "random_number = RandomNumber.load(lazy=False)"
   ],
   "metadata": {
    "collapsed": false,
    "pycharm": {
     "name": "#%%\n"
    }
   }
  },
  {
   "cell_type": "markdown",
   "source": [
    "As we can see, the RandomNumber is already loaded into memory"
   ],
   "metadata": {
    "collapsed": false
   }
  },
  {
   "cell_type": "code",
   "execution_count": 9,
   "outputs": [
    {
     "data": {
      "text/plain": "322"
     },
     "execution_count": 9,
     "metadata": {},
     "output_type": "execute_result"
    }
   ],
   "source": [
    "random_number.number"
   ],
   "metadata": {
    "collapsed": false,
    "pycharm": {
     "name": "#%%\n"
    }
   }
  },
  {
   "cell_type": "markdown",
   "source": [
    "Now let us do the same thing with `lazy=True`"
   ],
   "metadata": {
    "collapsed": false,
    "pycharm": {
     "name": "#%% md\n"
    }
   }
  },
  {
   "cell_type": "code",
   "execution_count": 10,
   "outputs": [
    {
     "name": "stdout",
     "output_type": "stream",
     "text": [
      "<class 'zntrack.utils.LazyOption'>\n"
     ]
    }
   ],
   "source": [
    "lazy_random_number = RandomNumber.load(lazy=True)\n",
    "print(lazy_random_number.__dict__[\"number\"])"
   ],
   "metadata": {
    "collapsed": false,
    "pycharm": {
     "name": "#%%\n"
    }
   }
  },
  {
   "cell_type": "markdown",
   "source": [
    "We can see, that the random number is not yet available but as soon as we access the attribute it will be loaded for us (and stored in memory)."
   ],
   "metadata": {
    "collapsed": false,
    "pycharm": {
     "name": "#%% md\n"
    }
   }
  },
  {
   "cell_type": "code",
   "execution_count": 11,
   "outputs": [
    {
     "name": "stdout",
     "output_type": "stream",
     "text": [
      "Loading data from files for RandomNumber\n"
     ]
    },
    {
     "data": {
      "text/plain": "322"
     },
     "execution_count": 11,
     "metadata": {},
     "output_type": "execute_result"
    }
   ],
   "source": [
    "lazy_random_number.number"
   ],
   "metadata": {
    "collapsed": false,
    "pycharm": {
     "name": "#%%\n"
    }
   }
  },
  {
   "cell_type": "markdown",
   "source": [
    "Let's build some dependencies to show where lazy loading is especially useful."
   ],
   "metadata": {
    "collapsed": false,
    "pycharm": {
     "name": "#%% md\n"
    }
   }
  },
  {
   "cell_type": "code",
   "execution_count": 12,
   "outputs": [],
   "source": [
    "class AddOne(Node):\n",
    "    deps = zn.deps()\n",
    "    number = PrintOption()\n",
    "\n",
    "    def __init__(self, deps=None, **kwargs):\n",
    "        super().__init__(**kwargs)\n",
    "        self.deps = deps\n",
    "\n",
    "    def run(self):\n",
    "        self.number = self.deps.number + 1"
   ],
   "metadata": {
    "collapsed": false,
    "pycharm": {
     "name": "#%%\n"
    }
   }
  },
  {
   "cell_type": "code",
   "execution_count": 13,
   "outputs": [
    {
     "name": "stdout",
     "output_type": "stream",
     "text": [
      "2022-02-22 13:28:47,366 (WARNING): Running DVC command: 'dvc run -n AddOne_0 ...'\n",
      "2022-02-22 13:28:54,602 (WARNING): Running DVC command: 'dvc run -n AddOne_1 ...'\n",
      "2022-02-22 13:29:01,316 (WARNING): Running DVC command: 'dvc run -n AddOne_2 ...'\n",
      "2022-02-22 13:29:08,317 (WARNING): Running DVC command: 'dvc run -n AddOne_3 ...'\n",
      "2022-02-22 13:29:15,329 (WARNING): Running DVC command: 'dvc run -n AddOne_4 ...'\n",
      "2022-02-22 13:29:22,901 (WARNING): Running DVC command: 'dvc run -n AddOne_5 ...'\n",
      "2022-02-22 13:29:30,029 (WARNING): Running DVC command: 'dvc run -n AddOne_6 ...'\n",
      "2022-02-22 13:29:37,338 (WARNING): Running DVC command: 'dvc run -n AddOne_7 ...'\n",
      "2022-02-22 13:29:44,443 (WARNING): Running DVC command: 'dvc run -n AddOne_8 ...'\n",
      "2022-02-22 13:29:51,555 (WARNING): Running DVC command: 'dvc run -n AddOne_9 ...'\n",
      "2022-02-22 13:29:58,519 (WARNING): Running DVC command: 'dvc run -n AddOne_10 ...'\n"
     ]
    }
   ],
   "source": [
    "AddOne(deps=RandomNumber.load(), name=\"AddOne_0\").write_graph(run=True)\n",
    "for index in range(10):\n",
    "    AddOne(\n",
    "        deps=AddOne.load(name=f\"AddOne_{index}\"), name=f\"AddOne_{index+1}\"\n",
    "    ).write_graph(run=True)"
   ],
   "metadata": {
    "collapsed": false,
    "pycharm": {
     "name": "#%%\n"
    }
   }
  },
  {
   "cell_type": "code",
   "execution_count": 14,
   "outputs": [
    {
     "name": "stdout",
     "output_type": "stream",
     "text": [
      "+--------------+ \r\n",
      "| RandomNumber | \r\n",
      "+--------------+ \r\n",
      "        *        \r\n",
      "        *        \r\n",
      "        *        \r\n",
      "  +----------+   \r\n",
      "  | AddOne_0 |   \r\n",
      "  +----------+   \r\n",
      "        *        \r\n",
      "        *        \r\n",
      "        *        \r\n",
      "  +----------+   \r\n",
      "  | AddOne_1 |   \r\n",
      "  +----------+   \r\n",
      "        *        \r\n",
      "        *        \r\n",
      "        *        \r\n",
      "  +----------+   \r\n",
      "  | AddOne_2 |   \r\n",
      "  +----------+   \r\n",
      "        *        \r\n",
      "        *        \r\n",
      "        *        \r\n",
      "  +----------+   \r\n",
      "  | AddOne_3 |   \r\n",
      "  +----------+   \r\n",
      "        *        \r\n",
      "        *        \r\n",
      "        *        \r\n",
      "  +----------+   \r\n",
      "  | AddOne_4 |   \r\n",
      "  +----------+   \r\n",
      "        *        \r\n",
      "        *        \r\n",
      "        *        \r\n",
      "  +----------+   \r\n",
      "  | AddOne_5 |   \r\n",
      "  +----------+   \r\n",
      "        *        \r\n",
      "        *        \r\n",
      "        *        \r\n",
      "  +----------+   \r\n",
      "  | AddOne_6 |   \r\n",
      "  +----------+   \r\n",
      "        *        \r\n",
      "        *        \r\n",
      "        *        \r\n",
      "  +----------+   \r\n",
      "  | AddOne_7 |   \r\n",
      "  +----------+   \r\n",
      "        *        \r\n",
      "        *        \r\n",
      "        *        \r\n",
      "  +----------+   \r\n",
      "  | AddOne_8 |   \r\n",
      "  +----------+   \r\n",
      "        *        \r\n",
      "        *        \r\n",
      "        *        \r\n",
      "  +----------+   \r\n",
      "  | AddOne_9 |   \r\n",
      "  +----------+   \r\n",
      "        *        \r\n",
      "        *        \r\n",
      "        *        \r\n",
      "  +-----------+  \r\n",
      "  | AddOne_10 |  \r\n",
      "  +-----------+  \r\n",
      "\u001B[0m"
     ]
    }
   ],
   "source": [
    "!dvc dag"
   ],
   "metadata": {
    "collapsed": false,
    "pycharm": {
     "name": "#%%\n"
    }
   }
  },
  {
   "cell_type": "markdown",
   "source": [
    "If we now load the latest `AddOne` we will see that it loads up everything into memory, although we might only be interested in the most recent number."
   ],
   "metadata": {
    "collapsed": false,
    "pycharm": {
     "name": "#%% md\n"
    }
   }
  },
  {
   "cell_type": "code",
   "execution_count": 15,
   "outputs": [
    {
     "name": "stdout",
     "output_type": "stream",
     "text": [
      "Loading data from files for RandomNumber\n",
      "Loading data from files for AddOne_0\n",
      "Loading data from files for AddOne_1\n",
      "Loading data from files for AddOne_2\n",
      "Loading data from files for AddOne_3\n",
      "Loading data from files for AddOne_4\n",
      "Loading data from files for AddOne_5\n",
      "Loading data from files for AddOne_6\n",
      "Loading data from files for AddOne_7\n",
      "Loading data from files for AddOne_8\n",
      "Loading data from files for AddOne_9\n",
      "Loading data from files for AddOne_10\n"
     ]
    }
   ],
   "source": [
    "add_one = AddOne.load(name=\"AddOne_10\", lazy=False)"
   ],
   "metadata": {
    "collapsed": false,
    "pycharm": {
     "name": "#%%\n"
    }
   }
  },
  {
   "cell_type": "markdown",
   "source": [
    "It is rather unlikely that we need all these data to be stored in memory. So we can use `lazy=True` to avoid that."
   ],
   "metadata": {
    "collapsed": false,
    "pycharm": {
     "name": "#%% md\n"
    }
   }
  },
  {
   "cell_type": "code",
   "execution_count": 16,
   "outputs": [],
   "source": [
    "add_one_lazy = AddOne.load(name=\"AddOne_10\", lazy=True)"
   ],
   "metadata": {
    "collapsed": false,
    "pycharm": {
     "name": "#%%\n"
    }
   }
  },
  {
   "cell_type": "markdown",
   "source": [
    "We can check with an arbitrary depth of dependencies that both instances yield the same value."
   ],
   "metadata": {
    "collapsed": false,
    "pycharm": {
     "name": "#%% md\n"
    }
   }
  },
  {
   "cell_type": "code",
   "execution_count": 17,
   "outputs": [
    {
     "name": "stdout",
     "output_type": "stream",
     "text": [
      "Loading data from files for AddOne_3\n"
     ]
    },
    {
     "data": {
      "text/plain": "326"
     },
     "execution_count": 17,
     "metadata": {},
     "output_type": "execute_result"
    }
   ],
   "source": [
    "add_one_lazy.deps.deps.deps.deps.deps.deps.deps.number"
   ],
   "metadata": {
    "collapsed": false,
    "pycharm": {
     "name": "#%%\n"
    }
   }
  },
  {
   "cell_type": "code",
   "execution_count": 18,
   "outputs": [
    {
     "data": {
      "text/plain": "326"
     },
     "execution_count": 18,
     "metadata": {},
     "output_type": "execute_result"
    }
   ],
   "source": [
    "add_one.deps.deps.deps.deps.deps.deps.deps.number"
   ],
   "metadata": {
    "collapsed": false,
    "pycharm": {
     "name": "#%%\n"
    }
   }
  },
  {
   "cell_type": "markdown",
   "source": [
    "## Notes\n",
    "When using ZnTrack to compare data of different versions it is important to either not use `lazy=True` or load the data manually before loading another version of the data.\n",
    "In the following example we store the result of `dvc repro` for three different experiments with and without `lazy=True` and compare the results."
   ],
   "metadata": {
    "collapsed": false,
    "pycharm": {
     "name": "#%% md\n"
    }
   }
  },
  {
   "cell_type": "code",
   "execution_count": 19,
   "outputs": [
    {
     "name": "stdout",
     "output_type": "stream",
     "text": [
      "2022-02-22 13:30:08,621 (WARNING): Running DVC command: 'dvc run -n RandomNumber ...'\n",
      "Loading data from files for RandomNumber\n",
      "2022-02-22 13:30:15,640 (WARNING): Running DVC command: 'dvc run -n RandomNumber ...'\n",
      "Loading data from files for RandomNumber\n",
      "2022-02-22 13:30:22,877 (WARNING): Running DVC command: 'dvc run -n RandomNumber ...'\n",
      "Loading data from files for RandomNumber\n"
     ]
    }
   ],
   "source": [
    "RandomNumber(start=0, stop=5000).write_graph(run=True)\n",
    "random_number_lazy_1 = RandomNumber.load(lazy=True)\n",
    "random_number_1 = RandomNumber.load(lazy=False)\n",
    "\n",
    "RandomNumber(start=0, stop=5001).write_graph(run=True)\n",
    "random_number_lazy_2 = RandomNumber.load(lazy=True)\n",
    "random_number_2 = RandomNumber.load(lazy=False)\n",
    "\n",
    "RandomNumber(start=0, stop=5002).write_graph(run=True)\n",
    "random_number_lazy_3 = RandomNumber.load(lazy=True)\n",
    "random_number_3 = RandomNumber.load(lazy=False)"
   ],
   "metadata": {
    "collapsed": false,
    "pycharm": {
     "name": "#%%\n"
    }
   }
  },
  {
   "cell_type": "code",
   "execution_count": 20,
   "outputs": [
    {
     "name": "stdout",
     "output_type": "stream",
     "text": [
      "Loading data from files for RandomNumber\n",
      "Loading data from files for RandomNumber\n",
      "Loading data from files for RandomNumber\n",
      "895 == 895 == 895\n"
     ]
    }
   ],
   "source": [
    "# with lazy we get the same number for every run which is not what we expect.\n",
    "print(f\"{random_number_lazy_1.number} == {random_number_lazy_2.number} == {random_number_lazy_3.number}\")"
   ],
   "metadata": {
    "collapsed": false,
    "pycharm": {
     "name": "#%%\n"
    }
   }
  },
  {
   "cell_type": "code",
   "execution_count": 21,
   "outputs": [
    {
     "name": "stdout",
     "output_type": "stream",
     "text": [
      "678 != 4490 != 895\n"
     ]
    }
   ],
   "source": [
    "# With lazy=False we get the results we expect.\n",
    "print(f\"{random_number_1.number} != {random_number_2.number} != {random_number_3.number}\")"
   ],
   "metadata": {
    "collapsed": false,
    "pycharm": {
     "name": "#%%\n"
    }
   }
  },
  {
   "cell_type": "markdown",
   "source": [
    "You can \"lock\" one value into place (loading it into memory) by accessing it e.g. through `_ = add_one_lazy_1.number`. This way you are able to only load certain values and still having the benefit of `lazy=True` if you only want to compare certain values."
   ],
   "metadata": {
    "collapsed": false
   }
  },
  {
   "cell_type": "code",
   "source": [
    "temp_dir.cleanup()"
   ],
   "metadata": {
    "collapsed": false,
    "pycharm": {
     "name": "#%%\n"
    }
   },
   "execution_count": 22,
   "outputs": []
  }
 ],
 "metadata": {
  "kernelspec": {
   "display_name": "Python 3 (ipykernel)",
   "language": "python",
   "name": "python3"
  },
  "language_info": {
   "codemirror_mode": {
    "name": "ipython",
    "version": 3
   },
   "file_extension": ".py",
   "mimetype": "text/x-python",
   "name": "python",
   "nbconvert_exporter": "python",
   "pygments_lexer": "ipython3",
   "version": "3.9.7"
  }
 },
 "nbformat": 4,
 "nbformat_minor": 4
}