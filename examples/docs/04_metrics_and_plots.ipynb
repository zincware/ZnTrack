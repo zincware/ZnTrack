{
 "cells": [
  {
   "cell_type": "markdown",
   "id": "a10ab826-497f-41a1-bf34-3c62c0899bf6",
   "metadata": {
    "pycharm": {
     "name": "#%% md\n"
    }
   },
   "source": [
    "# DVC Options - Metrics and Plots\n",
    "## The DVC way\n",
    "\n",
    "In the following part we will look into metrics and plots from ZnTrack Nodes.\n",
    "All `dvc run` options listed [here](https://dvc.org/doc/command-reference/run#options) can be used via `dvc.<option>`.\n",
    "With the exception of params, which is handled automatically.\n",
    "All these options take either `str` or `pathlib.Path` directed to the file the content should be stored in.\n",
    "As shown before, `dvc.deps` can also take another `Node` as an argument."
   ]
  },
  {
   "cell_type": "code",
   "execution_count": 1,
   "id": "cdd2fd78-67ad-4b06-9320-053c3268d4da",
   "metadata": {
    "pycharm": {
     "name": "#%%\n"
    }
   },
   "outputs": [],
   "source": [
    "from zntrack import Node, dvc, zn, config\n",
    "from pathlib import Path\n",
    "import json\n",
    "import pandas as pd\n",
    "import numpy as np"
   ]
  },
  {
   "cell_type": "code",
   "execution_count": 2,
   "id": "9b7facd2-0284-44fd-a3d4-85edbcfbc78c",
   "metadata": {
    "pycharm": {
     "name": "#%%\n"
    }
   },
   "outputs": [],
   "source": [
    "config.nb_name = \"04_metrics_and_plots.ipynb\""
   ]
  },
  {
   "cell_type": "code",
   "execution_count": 3,
   "id": "cccf0e17-79f1-47c4-ba2c-cdfd08842b8b",
   "metadata": {
    "nbsphinx": "hidden",
    "tags": [],
    "pycharm": {
     "name": "#%%\n"
    }
   },
   "outputs": [],
   "source": [
    "from zntrack.utils import cwd_temp_dir\n",
    "\n",
    "temp_dir = cwd_temp_dir()"
   ]
  },
  {
   "cell_type": "code",
   "execution_count": 4,
   "id": "8157c334-44cd-42e7-b5de-150327a32389",
   "metadata": {
    "pycharm": {
     "name": "#%%\n"
    }
   },
   "outputs": [
    {
     "name": "stdout",
     "output_type": "stream",
     "text": [
      "Initialized empty Git repository in /tmp/tmp_1uqvilh/.git/\r\n",
      "Initialized DVC repository.\r\n",
      "\r\n",
      "You can now commit the changes to git.\r\n",
      "\r\n",
      "\u001B[31m+---------------------------------------------------------------------+\r\n",
      "\u001B[0m\u001B[31m|\u001B[0m                                                                     \u001B[31m|\u001B[0m\r\n",
      "\u001B[31m|\u001B[0m        DVC has enabled anonymous aggregate usage analytics.         \u001B[31m|\u001B[0m\r\n",
      "\u001B[31m|\u001B[0m     Read the analytics documentation (and how to opt-out) here:     \u001B[31m|\u001B[0m\r\n",
      "\u001B[31m|\u001B[0m             <\u001B[36mhttps://dvc.org/doc/user-guide/analytics\u001B[39m>              \u001B[31m|\u001B[0m\r\n",
      "\u001B[31m|\u001B[0m                                                                     \u001B[31m|\u001B[0m\r\n",
      "\u001B[31m+---------------------------------------------------------------------+\r\n",
      "\u001B[0m\r\n",
      "\u001B[33mWhat's next?\u001B[39m\r\n",
      "\u001B[33m------------\u001B[39m\r\n",
      "- Check out the documentation: <\u001B[36mhttps://dvc.org/doc\u001B[39m>\r\n",
      "- Get help and share ideas: <\u001B[36mhttps://dvc.org/chat\u001B[39m>\r\n",
      "- Star us on GitHub: <\u001B[36mhttps://github.com/iterative/dvc\u001B[39m>\r\n",
      "\u001B[0m"
     ]
    }
   ],
   "source": [
    "!git init\n",
    "!dvc init"
   ]
  },
  {
   "cell_type": "markdown",
   "id": "5ad172d0-25f9-44f3-a00c-ee50f347ebc1",
   "metadata": {
    "pycharm": {
     "name": "#%% md\n"
    }
   },
   "source": [
    "In the following we define a simple Node that produces a metric and a plot output using `json` and `pandas`.\n",
    "We will queue multiple experiments with different outputs and then compare them afterwards."
   ]
  },
  {
   "cell_type": "code",
   "execution_count": 5,
   "id": "de05180e-b3a8-4ea3-a0b6-592f0467b844",
   "metadata": {
    "pycharm": {
     "name": "#%%\n"
    }
   },
   "outputs": [],
   "source": [
    "class MetricAndPlot(Node):\n",
    "    my_metric: Path = dvc.metrics(Path(\"my_metric.json\"))\n",
    "    my_plots: Path = dvc.plots(\"my_plots.csv\")\n",
    "    pre_factor = zn.params()\n",
    "\n",
    "    def __init__(self, pre_factor=1.0, **kwargs):\n",
    "        super().__init__(**kwargs)\n",
    "        self.pre_factor = pre_factor\n",
    "\n",
    "    def run(self):\n",
    "        self.my_metric.write_text(\n",
    "            json.dumps(\n",
    "                {\"metric_1\": 17 * self.pre_factor, \"metric_2\": 42 * self.pre_factor}\n",
    "            )\n",
    "        )\n",
    "\n",
    "        x_data = np.linspace(0, 1.0 * self.pre_factor, 1000)\n",
    "        y_data = np.exp(x_data)\n",
    "        df = pd.DataFrame({\"y\": y_data, \"x\": x_data}).set_index(\"x\")\n",
    "\n",
    "        df.to_csv(self.my_plots)"
   ]
  },
  {
   "cell_type": "code",
   "execution_count": 6,
   "id": "2f43059d-71e9-4b7c-bf9d-67869b05d2f1",
   "metadata": {
    "tags": [],
    "pycharm": {
     "name": "#%%\n"
    }
   },
   "outputs": [
    {
     "name": "stdout",
     "output_type": "stream",
     "text": [
      "2022-04-14 14:46:26,742 (WARNING): Jupyter support is an experimental feature! Please save your notebook before running this command!\n",
      "Submit issues to https://github.com/zincware/ZnTrack.\n",
      "2022-04-14 14:46:31,211 (WARNING): Running DVC command: 'dvc run -n MetricAndPlot ...'\n",
      "                                                                      \rore\u001B[39m>Running stage 'MetricAndPlot':\r\n",
      "> python3 -c \"from src.MetricAndPlot import MetricAndPlot; MetricAndPlot.load(name='MetricAndPlot').run_and_save()\" \r\n",
      "Generating lock file 'dvc.lock'                                                 \r\n",
      "Updating lock file 'dvc.lock'\r\n",
      "\r\n",
      "To track the changes with git, run:\r\n",
      "\r\n",
      "    git add dvc.lock\r\n",
      "\r\n",
      "To enable auto staging, run:\r\n",
      "\r\n",
      "\tdvc config core.autostage true\r\n",
      "Use `dvc push` to send your updates to remote storage.\r\n",
      "\u001B[0m[master (root-commit) 613e002] First Run\r\n",
      " 11 files changed, 874 insertions(+)\r\n",
      " create mode 100644 .dvc/.gitignore\r\n",
      " create mode 100644 .dvc/config\r\n",
      " create mode 100644 .dvcignore\r\n",
      " create mode 100644 .gitignore\r\n",
      " create mode 100644 04_metrics_and_plots.ipynb\r\n",
      " create mode 100644 dvc.lock\r\n",
      " create mode 100644 dvc.yaml\r\n",
      " create mode 100644 params.yaml\r\n",
      " create mode 100644 src/MetricAndPlot.py\r\n",
      " create mode 100644 src/__pycache__/MetricAndPlot.cpython-39.pyc\r\n",
      " create mode 100644 zntrack.json\r\n"
     ]
    }
   ],
   "source": [
    "MetricAndPlot().write_graph()\n",
    "!dvc repro\n",
    "!git add .\n",
    "!git commit -m \"First Run\""
   ]
  },
  {
   "cell_type": "code",
   "execution_count": 7,
   "id": "e433e5f1-8908-44ec-afc0-9217b42faf1a",
   "metadata": {
    "pycharm": {
     "name": "#%%\n"
    }
   },
   "outputs": [
    {
     "name": "stdout",
     "output_type": "stream",
     "text": [
      "2022-04-14 14:46:43,304 (WARNING): Running DVC command: 'dvc run -n MetricAndPlot ...'\n",
      "                                                                      \rore\u001B[39m>Queued experiment '91b8127' for future execution.\r\n",
      "\u001B[0m2022-04-14 14:46:53,957 (WARNING): Running DVC command: 'dvc run -n MetricAndPlot ...'\n",
      "                                                                      \rore\u001B[39m>Queued experiment 'a57eaa7' for future execution.\r\n",
      "\u001B[0m2022-04-14 14:47:03,820 (WARNING): Running DVC command: 'dvc run -n MetricAndPlot ...'\n",
      "                                                                      \rore\u001B[39m>Queued experiment 'f527d7f' for future execution.\r\n",
      "\u001B[0m2022-04-14 14:47:13,937 (WARNING): Running DVC command: 'dvc run -n MetricAndPlot ...'\n",
      "                                                                      \rore\u001B[39m>Queued experiment '0f9f3fd' for future execution.\r\n",
      "\u001B[0m"
     ]
    }
   ],
   "source": [
    "MetricAndPlot(pre_factor=2).write_graph()\n",
    "!dvc exp run --queue --name \"factor_2\"\n",
    "MetricAndPlot(pre_factor=3).write_graph()\n",
    "!dvc exp run --queue --name \"factor_3\"\n",
    "MetricAndPlot(pre_factor=4).write_graph()\n",
    "!dvc exp run --queue --name \"factor_4\"\n",
    "MetricAndPlot(pre_factor=5).write_graph()\n",
    "!dvc exp run --queue --name \"factor_5\""
   ]
  },
  {
   "cell_type": "code",
   "execution_count": 8,
   "id": "63e5a154-e52c-403a-9edf-6af19f2c6691",
   "metadata": {
    "pycharm": {
     "name": "#%%\n"
    }
   },
   "outputs": [],
   "source": [
    "!dvc exp run --run-all -j 4 &> /dev/null # we do not show the output here"
   ]
  },
  {
   "cell_type": "markdown",
   "id": "8161ba6a-58b7-424f-bc4f-1f3933395840",
   "metadata": {
    "pycharm": {
     "name": "#%% md\n"
    }
   },
   "source": [
    "Now that all experiments are done, we can look at the metrics directly with `dvc exp show` or `dvc metrics show/diff`"
   ]
  },
  {
   "cell_type": "code",
   "execution_count": 9,
   "id": "c0504b4d-6028-451c-bee1-d280c64fbc31",
   "metadata": {
    "pycharm": {
     "name": "#%%\n"
    }
   },
   "outputs": [
    {
     "name": "stdout",
     "output_type": "stream",
     "text": [
      "                                                                      \rore\u001B[39m>"
     ]
    },
    {
     "data": {
      "text/plain": "                  rev            typ              Created  parent  metric_1  \\\nExperiment                                                                    \nNaN         workspace       baseline                  NaN     NaN      17.0   \nmaster        613e002       baseline  2022-04-14T14:46:38     NaN      17.0   \nfactor_4      f8d2642  branch_commit  2022-04-14T14:47:25     NaN      68.0   \nfactor_5      386ab3b  branch_commit  2022-04-14T14:47:25     NaN      85.0   \nfactor_3      8ef264a  branch_commit  2022-04-14T14:47:25     NaN      51.0   \nfactor_2      fdcd7d2    branch_base  2022-04-14T14:47:25     NaN      34.0   \n\n            metric_2  MetricAndPlot.pre_factor src/MetricAndPlot.py  \nExperiment                                                           \nNaN             42.0                       5.0              66347c3  \nmaster          42.0                       1.0              66347c3  \nfactor_4       168.0                       4.0              66347c3  \nfactor_5       210.0                       5.0              66347c3  \nfactor_3       126.0                       3.0              66347c3  \nfactor_2        84.0                       2.0              66347c3  ",
      "text/html": "<div>\n<style scoped>\n    .dataframe tbody tr th:only-of-type {\n        vertical-align: middle;\n    }\n\n    .dataframe tbody tr th {\n        vertical-align: top;\n    }\n\n    .dataframe thead th {\n        text-align: right;\n    }\n</style>\n<table border=\"1\" class=\"dataframe\">\n  <thead>\n    <tr style=\"text-align: right;\">\n      <th></th>\n      <th>rev</th>\n      <th>typ</th>\n      <th>Created</th>\n      <th>parent</th>\n      <th>metric_1</th>\n      <th>metric_2</th>\n      <th>MetricAndPlot.pre_factor</th>\n      <th>src/MetricAndPlot.py</th>\n    </tr>\n    <tr>\n      <th>Experiment</th>\n      <th></th>\n      <th></th>\n      <th></th>\n      <th></th>\n      <th></th>\n      <th></th>\n      <th></th>\n      <th></th>\n    </tr>\n  </thead>\n  <tbody>\n    <tr>\n      <th>NaN</th>\n      <td>workspace</td>\n      <td>baseline</td>\n      <td>NaN</td>\n      <td>NaN</td>\n      <td>17.0</td>\n      <td>42.0</td>\n      <td>5.0</td>\n      <td>66347c3</td>\n    </tr>\n    <tr>\n      <th>master</th>\n      <td>613e002</td>\n      <td>baseline</td>\n      <td>2022-04-14T14:46:38</td>\n      <td>NaN</td>\n      <td>17.0</td>\n      <td>42.0</td>\n      <td>1.0</td>\n      <td>66347c3</td>\n    </tr>\n    <tr>\n      <th>factor_4</th>\n      <td>f8d2642</td>\n      <td>branch_commit</td>\n      <td>2022-04-14T14:47:25</td>\n      <td>NaN</td>\n      <td>68.0</td>\n      <td>168.0</td>\n      <td>4.0</td>\n      <td>66347c3</td>\n    </tr>\n    <tr>\n      <th>factor_5</th>\n      <td>386ab3b</td>\n      <td>branch_commit</td>\n      <td>2022-04-14T14:47:25</td>\n      <td>NaN</td>\n      <td>85.0</td>\n      <td>210.0</td>\n      <td>5.0</td>\n      <td>66347c3</td>\n    </tr>\n    <tr>\n      <th>factor_3</th>\n      <td>8ef264a</td>\n      <td>branch_commit</td>\n      <td>2022-04-14T14:47:25</td>\n      <td>NaN</td>\n      <td>51.0</td>\n      <td>126.0</td>\n      <td>3.0</td>\n      <td>66347c3</td>\n    </tr>\n    <tr>\n      <th>factor_2</th>\n      <td>fdcd7d2</td>\n      <td>branch_base</td>\n      <td>2022-04-14T14:47:25</td>\n      <td>NaN</td>\n      <td>34.0</td>\n      <td>84.0</td>\n      <td>2.0</td>\n      <td>66347c3</td>\n    </tr>\n  </tbody>\n</table>\n</div>"
     },
     "execution_count": 9,
     "metadata": {},
     "output_type": "execute_result"
    }
   ],
   "source": [
    "!dvc exp show --csv > exp_show.csv\n",
    "pd.read_csv(\"exp_show.csv\", index_col=0)"
   ]
  },
  {
   "cell_type": "markdown",
   "id": "5231be5f-9c74-4b3b-892d-65194a60fb5f",
   "metadata": {
    "pycharm": {
     "name": "#%% md\n"
    }
   },
   "source": [
    "We can also use `dvc plots show/diff` to evaluate the plot data that we produced."
   ]
  },
  {
   "cell_type": "code",
   "execution_count": 10,
   "id": "606c0d93-a515-4b43-ab49-16aa5b40f0ba",
   "metadata": {
    "pycharm": {
     "name": "#%%\n"
    }
   },
   "outputs": [
    {
     "name": "stdout",
     "output_type": "stream",
     "text": [
      "file:///tmp/tmp_1uqvilh/dvc_plots/index.html\r\n",
      "\u001B[0m"
     ]
    }
   ],
   "source": [
    "!dvc plots diff HEAD factor_2 factor_3 factor_4 factor_5"
   ]
  },
  {
   "cell_type": "markdown",
   "id": "7d443f20-10ad-4f87-bd7c-bb3ba77e5f06",
   "metadata": {
    "pycharm": {
     "name": "#%% md\n"
    }
   },
   "source": [
    "## The ZnTrack way\n",
    "\n",
    "ZnTrack provides and easier way to handle metrics. Similar to `zn.outs()` which does not require defining a path to outs file, one can use `zn.metrics`.\n",
    "The same is possible for plots via `zn.plots()`. To define additional [options](https://dvc.org/doc/command-reference/plots/modify) you can pass the keyword to `zn.plots()`"
   ]
  },
  {
   "cell_type": "code",
   "execution_count": 11,
   "id": "4db0df8b-2d63-4a59-a144-335e19c16d26",
   "metadata": {
    "pycharm": {
     "name": "#%%\n"
    }
   },
   "outputs": [
    {
     "name": "stdout",
     "output_type": "stream",
     "text": [
      "2022-04-14 14:47:36,481 (WARNING): Running DVC command: 'dvc run -n ZnTrackMetric ...'\n",
      "2022-04-14 14:47:41,122 (WARNING): Running DVC command: 'dvc plots modify nodes/ZnTrackMetric/my_plot.csv ...'\n"
     ]
    }
   ],
   "source": [
    "class ZnTrackMetric(Node):\n",
    "    my_metric = zn.metrics()\n",
    "    my_plot = zn.plots(x_label=\"Custom Label\")\n",
    "\n",
    "    def run(self):\n",
    "        self.my_metric = {\"alpha\": 1.0, \"beta\": 0.00473}\n",
    "        self.my_plot = pd.DataFrame({\"val\": np.sin(np.linspace(0, 3.14, 100))})\n",
    "        self.my_plot.index.name = (  # For DVC it is required that the index has a column name\n",
    "            \"index\"\n",
    "        )\n",
    "\n",
    "\n",
    "ZnTrackMetric().write_graph(no_exec=False)"
   ]
  },
  {
   "cell_type": "code",
   "execution_count": 12,
   "id": "f33d844c-c4bb-4726-85f7-49509056b7ef",
   "metadata": {
    "pycharm": {
     "name": "#%%\n"
    }
   },
   "outputs": [
    {
     "name": "stdout",
     "output_type": "stream",
     "text": [
      "                                                                      \rore\u001B[39m>"
     ]
    },
    {
     "data": {
      "text/plain": "                  rev            typ              Created  parent  metric_1  \\\nExperiment                                                                    \nNaN         workspace       baseline                  NaN     NaN      17.0   \nmaster        613e002       baseline  2022-04-14T14:46:38     NaN      17.0   \nfactor_5      386ab3b  branch_commit  2022-04-14T14:47:25     NaN      85.0   \nfactor_3      8ef264a  branch_commit  2022-04-14T14:47:25     NaN      51.0   \nfactor_2      fdcd7d2  branch_commit  2022-04-14T14:47:25     NaN      34.0   \nfactor_4      f8d2642    branch_base  2022-04-14T14:47:25     NaN      68.0   \n\n            metric_2  my_metric.alpha  my_metric.beta  \\\nExperiment                                              \nNaN             42.0              1.0         0.00473   \nmaster          42.0              NaN             NaN   \nfactor_5       210.0              NaN             NaN   \nfactor_3       126.0              NaN             NaN   \nfactor_2        84.0              NaN             NaN   \nfactor_4       168.0              NaN             NaN   \n\n            MetricAndPlot.pre_factor src/MetricAndPlot.py src/ZnTrackMetric.py  \nExperiment                                                                      \nNaN                              5.0              66347c3              66347c3  \nmaster                           1.0              66347c3                  NaN  \nfactor_5                         5.0              66347c3                  NaN  \nfactor_3                         3.0              66347c3                  NaN  \nfactor_2                         2.0              66347c3                  NaN  \nfactor_4                         4.0              66347c3                  NaN  ",
      "text/html": "<div>\n<style scoped>\n    .dataframe tbody tr th:only-of-type {\n        vertical-align: middle;\n    }\n\n    .dataframe tbody tr th {\n        vertical-align: top;\n    }\n\n    .dataframe thead th {\n        text-align: right;\n    }\n</style>\n<table border=\"1\" class=\"dataframe\">\n  <thead>\n    <tr style=\"text-align: right;\">\n      <th></th>\n      <th>rev</th>\n      <th>typ</th>\n      <th>Created</th>\n      <th>parent</th>\n      <th>metric_1</th>\n      <th>metric_2</th>\n      <th>my_metric.alpha</th>\n      <th>my_metric.beta</th>\n      <th>MetricAndPlot.pre_factor</th>\n      <th>src/MetricAndPlot.py</th>\n      <th>src/ZnTrackMetric.py</th>\n    </tr>\n    <tr>\n      <th>Experiment</th>\n      <th></th>\n      <th></th>\n      <th></th>\n      <th></th>\n      <th></th>\n      <th></th>\n      <th></th>\n      <th></th>\n      <th></th>\n      <th></th>\n      <th></th>\n    </tr>\n  </thead>\n  <tbody>\n    <tr>\n      <th>NaN</th>\n      <td>workspace</td>\n      <td>baseline</td>\n      <td>NaN</td>\n      <td>NaN</td>\n      <td>17.0</td>\n      <td>42.0</td>\n      <td>1.0</td>\n      <td>0.00473</td>\n      <td>5.0</td>\n      <td>66347c3</td>\n      <td>66347c3</td>\n    </tr>\n    <tr>\n      <th>master</th>\n      <td>613e002</td>\n      <td>baseline</td>\n      <td>2022-04-14T14:46:38</td>\n      <td>NaN</td>\n      <td>17.0</td>\n      <td>42.0</td>\n      <td>NaN</td>\n      <td>NaN</td>\n      <td>1.0</td>\n      <td>66347c3</td>\n      <td>NaN</td>\n    </tr>\n    <tr>\n      <th>factor_5</th>\n      <td>386ab3b</td>\n      <td>branch_commit</td>\n      <td>2022-04-14T14:47:25</td>\n      <td>NaN</td>\n      <td>85.0</td>\n      <td>210.0</td>\n      <td>NaN</td>\n      <td>NaN</td>\n      <td>5.0</td>\n      <td>66347c3</td>\n      <td>NaN</td>\n    </tr>\n    <tr>\n      <th>factor_3</th>\n      <td>8ef264a</td>\n      <td>branch_commit</td>\n      <td>2022-04-14T14:47:25</td>\n      <td>NaN</td>\n      <td>51.0</td>\n      <td>126.0</td>\n      <td>NaN</td>\n      <td>NaN</td>\n      <td>3.0</td>\n      <td>66347c3</td>\n      <td>NaN</td>\n    </tr>\n    <tr>\n      <th>factor_2</th>\n      <td>fdcd7d2</td>\n      <td>branch_commit</td>\n      <td>2022-04-14T14:47:25</td>\n      <td>NaN</td>\n      <td>34.0</td>\n      <td>84.0</td>\n      <td>NaN</td>\n      <td>NaN</td>\n      <td>2.0</td>\n      <td>66347c3</td>\n      <td>NaN</td>\n    </tr>\n    <tr>\n      <th>factor_4</th>\n      <td>f8d2642</td>\n      <td>branch_base</td>\n      <td>2022-04-14T14:47:25</td>\n      <td>NaN</td>\n      <td>68.0</td>\n      <td>168.0</td>\n      <td>NaN</td>\n      <td>NaN</td>\n      <td>4.0</td>\n      <td>66347c3</td>\n      <td>NaN</td>\n    </tr>\n  </tbody>\n</table>\n</div>"
     },
     "execution_count": 12,
     "metadata": {},
     "output_type": "execute_result"
    }
   ],
   "source": [
    "!dvc exp show --csv > exp_show.csv\n",
    "pd.read_csv(\"exp_show.csv\", index_col=0)"
   ]
  },
  {
   "cell_type": "code",
   "execution_count": 13,
   "id": "4b9d3164-bc2f-49cf-a253-22c8f3efd7c0",
   "metadata": {
    "pycharm": {
     "name": "#%%\n"
    }
   },
   "outputs": [
    {
     "name": "stdout",
     "output_type": "stream",
     "text": [
      "file:///tmp/tmp_1uqvilh/dvc_plots/index.html\r\n",
      "\u001B[0m"
     ]
    }
   ],
   "source": [
    "!dvc plots show"
   ]
  },
  {
   "cell_type": "code",
   "execution_count": 14,
   "id": "5b76227c",
   "metadata": {
    "collapsed": false,
    "jupyter": {
     "outputs_hidden": false
    },
    "pycharm": {
     "name": "#%%\n"
    }
   },
   "outputs": [],
   "source": [
    "temp_dir.cleanup()"
   ]
  }
 ],
 "metadata": {
  "kernelspec": {
   "display_name": "Python 3",
   "language": "python",
   "name": "python3"
  },
  "language_info": {
   "codemirror_mode": {
    "name": "ipython",
    "version": 3
   },
   "file_extension": ".py",
   "mimetype": "text/x-python",
   "name": "python",
   "nbconvert_exporter": "python",
   "pygments_lexer": "ipython3",
   "version": "3.10.0"
  }
 },
 "nbformat": 4,
 "nbformat_minor": 5
}