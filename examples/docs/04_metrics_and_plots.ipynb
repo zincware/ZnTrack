{
 "cells": [
  {
   "cell_type": "markdown",
   "id": "a10ab826-497f-41a1-bf34-3c62c0899bf6",
   "metadata": {},
   "source": [
    "# DVC Options - Metrics and Plots\n",
    "## The DVC way\n",
    "\n",
    "In the following part we will look into metrics and plots from ZnTrack Nodes.\n",
    "All `dvc run` options listed [here](https://dvc.org/doc/command-reference/run#options) can be used via `dvc.<option>`.\n",
    "With the exception of params, which is handled automatically.\n",
    "All these options take either `str` or `pathlib.Path` directed to the file the content should be stored in.\n",
    "As shown before, `dvc.deps` can also take another `Node` as an argument."
   ]
  },
  {
   "cell_type": "code",
   "execution_count": 1,
   "id": "cdd2fd78-67ad-4b06-9320-053c3268d4da",
   "metadata": {},
   "outputs": [],
   "source": [
    "from zntrack import Node, dvc, zn, config\n",
    "from pathlib import Path\n",
    "import json\n",
    "import pandas as pd\n",
    "import numpy as np"
   ]
  },
  {
   "cell_type": "code",
   "execution_count": 2,
   "id": "9b7facd2-0284-44fd-a3d4-85edbcfbc78c",
   "metadata": {},
   "outputs": [],
   "source": [
    "config.nb_name = \"04_metrics_and_plots.ipynb\""
   ]
  },
  {
   "cell_type": "code",
   "execution_count": 3,
   "id": "cccf0e17-79f1-47c4-ba2c-cdfd08842b8b",
   "metadata": {
    "nbsphinx": "hidden",
    "tags": []
   },
   "outputs": [],
   "source": [
    "from zntrack.utils import cwd_temp_dir\n",
    "\n",
    "temp_dir = cwd_temp_dir()"
   ]
  },
  {
   "cell_type": "code",
   "execution_count": 4,
   "id": "8157c334-44cd-42e7-b5de-150327a32389",
   "metadata": {},
   "outputs": [
    {
     "name": "stdout",
     "output_type": "stream",
     "text": [
      "Initialized empty Git repository in /tmp/tmp3zeef6gq/.git/\r\n",
      "Initialized DVC repository.\r\n",
      "\r\n",
      "You can now commit the changes to git.\r\n",
      "\r\n",
      "\u001B[31m+---------------------------------------------------------------------+\r\n",
      "\u001B[0m\u001B[31m|\u001B[0m                                                                     \u001B[31m|\u001B[0m\r\n",
      "\u001B[31m|\u001B[0m        DVC has enabled anonymous aggregate usage analytics.         \u001B[31m|\u001B[0m\r\n",
      "\u001B[31m|\u001B[0m     Read the analytics documentation (and how to opt-out) here:     \u001B[31m|\u001B[0m\r\n",
      "\u001B[31m|\u001B[0m             <\u001B[36mhttps://dvc.org/doc/user-guide/analytics\u001B[39m>              \u001B[31m|\u001B[0m\r\n",
      "\u001B[31m|\u001B[0m                                                                     \u001B[31m|\u001B[0m\r\n",
      "\u001B[31m+---------------------------------------------------------------------+\r\n",
      "\u001B[0m\r\n",
      "\u001B[33mWhat's next?\u001B[39m\r\n",
      "\u001B[33m------------\u001B[39m\r\n",
      "- Check out the documentation: <\u001B[36mhttps://dvc.org/doc\u001B[39m>\r\n",
      "- Get help and share ideas: <\u001B[36mhttps://dvc.org/chat\u001B[39m>\r\n",
      "- Star us on GitHub: <\u001B[36mhttps://github.com/iterative/dvc\u001B[39m>\r\n",
      "\u001B[0m"
     ]
    }
   ],
   "source": [
    "!git init\n",
    "!dvc init"
   ]
  },
  {
   "cell_type": "markdown",
   "id": "5ad172d0-25f9-44f3-a00c-ee50f347ebc1",
   "metadata": {},
   "source": [
    "In the following we define a simple Node that produces a metric and a plot output using `json` and `pandas`.\n",
    "We will queue multiple experiments with different outputs and then compare them afterwards."
   ]
  },
  {
   "cell_type": "code",
   "execution_count": 5,
   "id": "de05180e-b3a8-4ea3-a0b6-592f0467b844",
   "metadata": {},
   "outputs": [],
   "source": [
    "class MetricAndPlot(Node):\n",
    "    my_metric: Path = dvc.metrics(Path(\"my_metric.json\"))\n",
    "    my_plots: Path = dvc.plots(\"my_plots.csv\")\n",
    "    pre_factor = zn.params()\n",
    "\n",
    "    def __init__(self, pre_factor=1.0, **kwargs):\n",
    "        super().__init__(**kwargs)\n",
    "        self.pre_factor = pre_factor\n",
    "\n",
    "    def run(self):\n",
    "        self.my_metric.write_text(\n",
    "            json.dumps(\n",
    "                {\"metric_1\": 17 * self.pre_factor, \"metric_2\": 42 * self.pre_factor}\n",
    "            )\n",
    "        )\n",
    "\n",
    "        x_data = np.linspace(0, 1.0 * self.pre_factor, 1000)\n",
    "        y_data = np.exp(x_data)\n",
    "        df = pd.DataFrame({\"y\": y_data, \"x\": x_data}).set_index(\"x\")\n",
    "\n",
    "        df.to_csv(self.my_plots)"
   ]
  },
  {
   "cell_type": "code",
   "execution_count": 6,
   "id": "2f43059d-71e9-4b7c-bf9d-67869b05d2f1",
   "metadata": {
    "tags": []
   },
   "outputs": [
    {
     "name": "stdout",
     "output_type": "stream",
     "text": [
      "2022-02-22 13:47:44,103 (WARNING): Jupyter support is an experimental feature! Please save your notebook before running this command!\n",
      "Submit issues to https://github.com/zincware/ZnTrack.\n",
      "2022-02-22 13:47:47,824 (WARNING): Running DVC command: 'dvc run -n MetricAndPlot ...'\n",
      "                                                                      \rore\u001B[39m>Running stage 'MetricAndPlot':\r\n",
      "> python3 -c \"from src.MetricAndPlot import MetricAndPlot; MetricAndPlot.load(name='MetricAndPlot').run_and_save()\" \r\n",
      "Generating lock file 'dvc.lock'                                                 \r\n",
      "Updating lock file 'dvc.lock'\r\n",
      "\r\n",
      "To track the changes with git, run:\r\n",
      "\r\n",
      "    git add dvc.lock\r\n",
      "\r\n",
      "To enable auto staging, run:\r\n",
      "\r\n",
      "\tdvc config core.autostage true\r\n",
      "Use `dvc push` to send your updates to remote storage.\r\n",
      "\u001B[0m[master (root-commit) 86351ef] First Run\r\n",
      " 11 files changed, 510 insertions(+)\r\n",
      " create mode 100644 .dvc/.gitignore\r\n",
      " create mode 100644 .dvc/config\r\n",
      " create mode 100644 .dvcignore\r\n",
      " create mode 100644 .gitignore\r\n",
      " create mode 100644 04_metrics_and_plots.ipynb\r\n",
      " create mode 100644 dvc.lock\r\n",
      " create mode 100644 dvc.yaml\r\n",
      " create mode 100644 params.yaml\r\n",
      " create mode 100644 src/MetricAndPlot.py\r\n",
      " create mode 100644 src/__pycache__/MetricAndPlot.cpython-39.pyc\r\n",
      " create mode 100644 zntrack.json\r\n"
     ]
    }
   ],
   "source": [
    "MetricAndPlot().write_graph()\n",
    "!dvc repro\n",
    "!git add .\n",
    "!git commit -m \"First Run\""
   ]
  },
  {
   "cell_type": "code",
   "execution_count": 7,
   "id": "e433e5f1-8908-44ec-afc0-9217b42faf1a",
   "metadata": {},
   "outputs": [
    {
     "name": "stdout",
     "output_type": "stream",
     "text": [
      "2022-02-22 13:47:57,919 (WARNING): Running DVC command: 'dvc run -n MetricAndPlot ...'\n",
      "                                                                      \rore\u001B[39m>Queued experiment '5808f4b' for future execution.\r\n",
      "\u001B[0m2022-02-22 13:48:06,309 (WARNING): Running DVC command: 'dvc run -n MetricAndPlot ...'\n",
      "                                                                      \rore\u001B[39m>Queued experiment '540e21f' for future execution.\r\n",
      "\u001B[0m2022-02-22 13:48:13,981 (WARNING): Running DVC command: 'dvc run -n MetricAndPlot ...'\n",
      "                                                                      \rore\u001B[39m>Queued experiment '78b4e54' for future execution.\r\n",
      "\u001B[0m2022-02-22 13:48:21,532 (WARNING): Running DVC command: 'dvc run -n MetricAndPlot ...'\n",
      "                                                                      \rore\u001B[39m>Queued experiment '91a3e82' for future execution.\r\n",
      "\u001B[0m"
     ]
    }
   ],
   "source": [
    "MetricAndPlot(pre_factor=2).write_graph()\n",
    "!dvc exp run --queue --name \"factor_2\"\n",
    "MetricAndPlot(pre_factor=3).write_graph()\n",
    "!dvc exp run --queue --name \"factor_3\"\n",
    "MetricAndPlot(pre_factor=4).write_graph()\n",
    "!dvc exp run --queue --name \"factor_4\"\n",
    "MetricAndPlot(pre_factor=5).write_graph()\n",
    "!dvc exp run --queue --name \"factor_5\""
   ]
  },
  {
   "cell_type": "code",
   "execution_count": 8,
   "id": "63e5a154-e52c-403a-9edf-6af19f2c6691",
   "metadata": {},
   "outputs": [
    {
     "name": "stdout",
     "output_type": "stream",
     "text": [
      "  0% Checkout|                                       |0/2 [00:00<?,     ?file/s]\r\n",
      "!\u001B[A\r\n",
      "  0% Checkout|                                       |0/2 [00:00<?,     ?file/s]\u001B[A\r\n",
      "  0%|          |.AF9oEGpYHFwttbcNWrE6am.tmp     0.00/4.00 [00:00<?,        ?B/s]\u001B[A\r\n",
      "!\u001B[A\r\n",
      "\r\n",
      "  0%|          |.DPe7WKb5LC6n896stx8mCw.tmp        0.00/? [00:00<?,        ?B/s]\u001B[A\r\n",
      "! 0%|          |.AF9oEGpYHFwttbcNWrE6am.tmp     0.00/4.00 [00:00<?,        ?B/s]\u001B[A\r\n",
      "  0%|          |.DPe7WKb5LC6n896stx8mCw.tmp     0.00/4.00 [00:00<?,        ?B/s]\u001B[A\r\n",
      "                                                                                \u001B[A\r\n",
      "                                                                                \u001B[A\r\n",
      "!\u001B[A\r\n",
      "\r\n",
      "!\u001B[A\r\n",
      "  0%|          |4d8533a8bd0c3e8c73e09a05b5bf76     0.00/? [00:00<?,        ?B/s]\u001B[A\r\n",
      "\r\n",
      "  0%|          |4d8533a8bd0c3e8c73e09a05b5bf76  0.00/36.0 [00:00<?,        ?B/s]\u001B[A\r\n",
      "\r\n",
      "  0%|          |4d8533a8bd0c3e8c73e09a05b5bf76  0.00/36.0 [00:00<?,        ?B/s]\u001B[A\r\n",
      "                                                                                \u001B[A\r\n",
      "                                                                                \u001B[A\r\n",
      "!\u001B[A\r\n",
      "  0%|          |.XaaJD92fSDKFiQjmLQNQsg.tmp        0.00/? [00:00<?,        ?B/s]\u001B[A\r\n",
      "  0%|          |.XaaJD92fSDKFiQjmLQNQsg.tmp     0.00/4.00 [00:00<?,        ?B/s]\u001B[A\r\n",
      "  0%|          |.XaaJD92fSDKFiQjmLQNQsg.tmp     0.00/4.00 [00:00<?,        ?B/s]\u001B[A\r\n",
      "\r\n",
      "!\u001B[A                                                                            \u001B[A\r\n",
      "  0%|          |.eU3xugKgLJsXBcJVWyMgDe.tmp        0.00/? [00:00<?,        ?B/s]\u001B[A\r\n",
      "!\u001B[A\r\n",
      "\r\n",
      "  0%|          |.eU3xugKgLJsXBcJVWyMgDe.tmp     0.00/4.00 [00:00<?,        ?B/s]\u001B[A\r\n",
      "\r\n",
      "  0%|          |.eU3xugKgLJsXBcJVWyMgDe.tmp     0.00/4.00 [00:00<?,        ?B/s]\u001B[A\r\n",
      "  0%|          |4d8533a8bd0c3e8c73e09a05b5bf76  0.00/36.0 [00:00<?,        ?B/s]\r\n",
      "                                                                                \u001B[A\r\n",
      "                                                                                \u001B[A\r\n",
      "!\u001B[A\r\n",
      "  0%|          |4d8533a8bd0c3e8c73e09a05b5bf76     0.00/? [00:00<?,        ?B/s]\u001B[A\r\n",
      "  0%|          |4d8533a8bd0c3e8c73e09a05b5bf76  0.00/36.0 [00:00<?,        ?B/s]\u001B[A\r\n",
      "  0%|          |4d8533a8bd0c3e8c73e09a05b5bf76  0.00/36.0 [00:00<?,        ?B/s]\u001B[A\r\n",
      "                                                                                \u001B[A\r\n",
      "!\u001B[A\r\n",
      "  0%|          |.Wzv4YaAgvrDfMhDPSQAF2s.tmp        0.00/? [00:00<?,        ?B/s]\u001B[A\r\n",
      "  0%|          |.Wzv4YaAgvrDfMhDPSQAF2s.tmp     0.00/4.00 [00:00<?,        ?B/s]\u001B[A\r\n",
      "  0%|          |.Wzv4YaAgvrDfMhDPSQAF2s.tmp     0.00/4.00 [00:00<?,        ?B/s]\u001B[A\r\n",
      "                                                                                \u001B[A\r\n",
      "!\u001B[A\r\n",
      "  0%|          |.NF7cd9sLuU6NZNHXUrLBQc.tmp        0.00/? [00:00<?,        ?B/s]\u001B[A\r\n",
      "\r\n",
      "!\u001B[A\r\n",
      "  0%|          |6946a4d761ca1958d9f4f34aaff3f8     0.00/? [00:00<?,        ?B/s]\u001B[A\r\n",
      "\u001B[A\r\n",
      "  0%|          |.NF7cd9sLuU6NZNHXUrLBQc.tmp     0.00/4.00 [00:00<?,        ?B/s]\u001B[A\r\n",
      "  0%|          |6946a4d761ca1958d9f4f34aaff3f8 0.00/37.1k [00:00<?,        ?B/s]\u001B[A\r\n",
      "\r\n",
      "!\u001B[A\r\n",
      "  0%|          |6946a4d761ca1958d9f4f34aaff3f8     0.00/? [00:00<?,        ?B/s]\u001B[A\r\n",
      "  0%|          |6946a4d761ca1958d9f4f34aaff3f8 0.00/37.1k [00:00<?,        ?B/s]\u001B[A\r\n",
      "\r\n",
      "\r\n",
      "!\u001B[A                                                                            \u001B[A\r\n",
      "  0%|          |.ChaMA3Lw8SMGaTRMCQRutN.tmp        0.00/? [00:00<?,        ?B/s]\u001B[A\r\n",
      "\r\n",
      "  0%|          |.ChaMA3Lw8SMGaTRMCQRutN.tmp     0.00/4.00 [00:00<?,        ?B/s]\u001B[A\r\n",
      "  0%|          |.ChaMA3Lw8SMGaTRMCQRutN.tmp     0.00/4.00 [00:00<?,        ?B/s]\u001B[A\r\n",
      "                                                                                \u001B[A\r\n",
      "!\u001B[A\r\n",
      "\r\n",
      "!\u001B[A\r\n",
      "  0%|          |6946a4d761ca1958d9f4f34aaff3f8     0.00/? [00:00<?,        ?B/s]\u001B[A\r\n",
      "\r\n",
      "  0%|          |6946a4d761ca1958d9f4f34aaff3f8 0.00/37.1k [00:00<?,        ?B/s]\u001B[A\r\n",
      "\r\n",
      "  0%|          |.XCTYg68Qr2ScVrgvqgjm2j.tmp     0.00/4.00 [00:00<?,        ?B/s]\u001B[A\r\n",
      "\r\n",
      "                                                                                \u001B[A\u001B[A\r\n",
      "!\u001B[A\r\n",
      "  0%|          |6946a4d761ca1958d9f4f34aaff3f8     0.00/? [00:00<?,        ?B/s]\u001B[A\r\n",
      "  0%|          |6946a4d761ca1958d9f4f34aaff3f8 0.00/37.1k [00:00<?,        ?B/s]\u001B[A\r\n",
      "  0%|          |6946a4d761ca1958d9f4f34aaff3f8 0.00/37.1k [00:00<?,        ?B/s]\u001B[A\r\n",
      "                                                                      \rore\u001B[39m>\r[A"
     ]
    }
   ],
   "source": [
    "!dvc exp run --run-all -j 4 > \\dev\\null"
   ]
  },
  {
   "cell_type": "markdown",
   "id": "8161ba6a-58b7-424f-bc4f-1f3933395840",
   "metadata": {},
   "source": [
    "Now that all experiments are done, we can look at the metrics directly with `dvc exp show` or `dvc metrics show/diff`"
   ]
  },
  {
   "cell_type": "code",
   "execution_count": 9,
   "id": "c0504b4d-6028-451c-bee1-d280c64fbc31",
   "metadata": {},
   "outputs": [
    {
     "name": "stdout",
     "output_type": "stream",
     "text": [
      "                                                                      \rore\u001B[39m>"
     ]
    },
    {
     "data": {
      "text/plain": "                  rev            typ              Created  parent  metric_1  \\\nExperiment                                                                    \nNaN         workspace       baseline                  NaN     NaN      17.0   \nmaster        86351ef       baseline  2022-02-22T13:47:53     NaN      17.0   \nfactor_3      6417351  branch_commit  2022-02-22T13:48:31     NaN      51.0   \nfactor_2      3a09fa0  branch_commit  2022-02-22T13:48:31     NaN      34.0   \nfactor_4      2030324  branch_commit  2022-02-22T13:48:31     NaN      68.0   \nfactor_5      f98f83e    branch_base  2022-02-22T13:48:31     NaN      85.0   \n\n            metric_2  MetricAndPlot.pre_factor src/MetricAndPlot.py  \nExperiment                                                           \nNaN             42.0                       5.0              e743ca7  \nmaster          42.0                       1.0              e743ca7  \nfactor_3       126.0                       3.0              e743ca7  \nfactor_2        84.0                       2.0              e743ca7  \nfactor_4       168.0                       4.0              e743ca7  \nfactor_5       210.0                       5.0              e743ca7  ",
      "text/html": "<div>\n<style scoped>\n    .dataframe tbody tr th:only-of-type {\n        vertical-align: middle;\n    }\n\n    .dataframe tbody tr th {\n        vertical-align: top;\n    }\n\n    .dataframe thead th {\n        text-align: right;\n    }\n</style>\n<table border=\"1\" class=\"dataframe\">\n  <thead>\n    <tr style=\"text-align: right;\">\n      <th></th>\n      <th>rev</th>\n      <th>typ</th>\n      <th>Created</th>\n      <th>parent</th>\n      <th>metric_1</th>\n      <th>metric_2</th>\n      <th>MetricAndPlot.pre_factor</th>\n      <th>src/MetricAndPlot.py</th>\n    </tr>\n    <tr>\n      <th>Experiment</th>\n      <th></th>\n      <th></th>\n      <th></th>\n      <th></th>\n      <th></th>\n      <th></th>\n      <th></th>\n      <th></th>\n    </tr>\n  </thead>\n  <tbody>\n    <tr>\n      <th>NaN</th>\n      <td>workspace</td>\n      <td>baseline</td>\n      <td>NaN</td>\n      <td>NaN</td>\n      <td>17.0</td>\n      <td>42.0</td>\n      <td>5.0</td>\n      <td>e743ca7</td>\n    </tr>\n    <tr>\n      <th>master</th>\n      <td>86351ef</td>\n      <td>baseline</td>\n      <td>2022-02-22T13:47:53</td>\n      <td>NaN</td>\n      <td>17.0</td>\n      <td>42.0</td>\n      <td>1.0</td>\n      <td>e743ca7</td>\n    </tr>\n    <tr>\n      <th>factor_3</th>\n      <td>6417351</td>\n      <td>branch_commit</td>\n      <td>2022-02-22T13:48:31</td>\n      <td>NaN</td>\n      <td>51.0</td>\n      <td>126.0</td>\n      <td>3.0</td>\n      <td>e743ca7</td>\n    </tr>\n    <tr>\n      <th>factor_2</th>\n      <td>3a09fa0</td>\n      <td>branch_commit</td>\n      <td>2022-02-22T13:48:31</td>\n      <td>NaN</td>\n      <td>34.0</td>\n      <td>84.0</td>\n      <td>2.0</td>\n      <td>e743ca7</td>\n    </tr>\n    <tr>\n      <th>factor_4</th>\n      <td>2030324</td>\n      <td>branch_commit</td>\n      <td>2022-02-22T13:48:31</td>\n      <td>NaN</td>\n      <td>68.0</td>\n      <td>168.0</td>\n      <td>4.0</td>\n      <td>e743ca7</td>\n    </tr>\n    <tr>\n      <th>factor_5</th>\n      <td>f98f83e</td>\n      <td>branch_base</td>\n      <td>2022-02-22T13:48:31</td>\n      <td>NaN</td>\n      <td>85.0</td>\n      <td>210.0</td>\n      <td>5.0</td>\n      <td>e743ca7</td>\n    </tr>\n  </tbody>\n</table>\n</div>"
     },
     "execution_count": 9,
     "metadata": {},
     "output_type": "execute_result"
    }
   ],
   "source": [
    "!dvc exp show --csv > exp_show.csv\n",
    "pd.read_csv(\"exp_show.csv\", index_col=0)"
   ]
  },
  {
   "cell_type": "markdown",
   "id": "5231be5f-9c74-4b3b-892d-65194a60fb5f",
   "metadata": {},
   "source": [
    "We can also use `dvc plots show/diff` to evaluate the plot data that we produced."
   ]
  },
  {
   "cell_type": "code",
   "execution_count": 10,
   "id": "606c0d93-a515-4b43-ab49-16aa5b40f0ba",
   "metadata": {},
   "outputs": [
    {
     "name": "stdout",
     "output_type": "stream",
     "text": [
      "file:///tmp/tmp3zeef6gq/dvc_plots/index.html\r\n",
      "\u001B[0m"
     ]
    }
   ],
   "source": [
    "!dvc plots diff HEAD factor_2 factor_3 factor_4 factor_5"
   ]
  },
  {
   "cell_type": "markdown",
   "id": "7d443f20-10ad-4f87-bd7c-bb3ba77e5f06",
   "metadata": {},
   "source": [
    "## The ZnTrack way\n",
    "\n",
    "ZnTrack provides and easier way to handle metrics. Similar to `zn.outs()` which does not require defining a path to outs file, one can use `zn.metrics`.\n",
    "The same is possible for plots via `zn.plots()` which requires a `pd.DataFrame` with a defined index name."
   ]
  },
  {
   "cell_type": "code",
   "execution_count": 11,
   "id": "4db0df8b-2d63-4a59-a144-335e19c16d26",
   "metadata": {},
   "outputs": [
    {
     "name": "stdout",
     "output_type": "stream",
     "text": [
      "2022-02-22 13:48:38,977 (WARNING): Running DVC command: 'dvc run -n ZnTrackMetric ...'\n"
     ]
    }
   ],
   "source": [
    "class ZnTrackMetric(Node):\n",
    "    my_metric = zn.metrics()\n",
    "    my_plot = zn.plots()\n",
    "\n",
    "    def run(self):\n",
    "        self.my_metric = {\"alpha\": 1.0, \"beta\": 0.00473}\n",
    "        self.my_plot = pd.DataFrame({\"val\": np.sin(np.linspace(0, 3.14, 100))})\n",
    "        self.my_plot.index.name = (  # For DVC it is required that the index has a column name\n",
    "            \"index\"\n",
    "        )\n",
    "\n",
    "\n",
    "ZnTrackMetric().write_graph(no_exec=False)"
   ]
  },
  {
   "cell_type": "code",
   "execution_count": 12,
   "id": "f33d844c-c4bb-4726-85f7-49509056b7ef",
   "metadata": {},
   "outputs": [
    {
     "name": "stdout",
     "output_type": "stream",
     "text": [
      "                                                                      \rore\u001B[39m>"
     ]
    },
    {
     "data": {
      "text/plain": "                  rev            typ              Created  parent  metric_1  \\\nExperiment                                                                    \nNaN         workspace       baseline                  NaN     NaN      17.0   \nmaster        86351ef       baseline  2022-02-22T13:47:53     NaN      17.0   \nfactor_5      f98f83e  branch_commit  2022-02-22T13:48:31     NaN      85.0   \nfactor_4      2030324  branch_commit  2022-02-22T13:48:31     NaN      68.0   \nfactor_2      3a09fa0  branch_commit  2022-02-22T13:48:31     NaN      34.0   \nfactor_3      6417351    branch_base  2022-02-22T13:48:31     NaN      51.0   \n\n            metric_2  my_metric.alpha  my_metric.beta  \\\nExperiment                                              \nNaN             42.0              1.0         0.00473   \nmaster          42.0              NaN             NaN   \nfactor_5       210.0              NaN             NaN   \nfactor_4       168.0              NaN             NaN   \nfactor_2        84.0              NaN             NaN   \nfactor_3       126.0              NaN             NaN   \n\n            MetricAndPlot.pre_factor src/MetricAndPlot.py src/ZnTrackMetric.py  \nExperiment                                                                      \nNaN                              5.0              e743ca7              e743ca7  \nmaster                           1.0              e743ca7                  NaN  \nfactor_5                         5.0              e743ca7                  NaN  \nfactor_4                         4.0              e743ca7                  NaN  \nfactor_2                         2.0              e743ca7                  NaN  \nfactor_3                         3.0              e743ca7                  NaN  ",
      "text/html": "<div>\n<style scoped>\n    .dataframe tbody tr th:only-of-type {\n        vertical-align: middle;\n    }\n\n    .dataframe tbody tr th {\n        vertical-align: top;\n    }\n\n    .dataframe thead th {\n        text-align: right;\n    }\n</style>\n<table border=\"1\" class=\"dataframe\">\n  <thead>\n    <tr style=\"text-align: right;\">\n      <th></th>\n      <th>rev</th>\n      <th>typ</th>\n      <th>Created</th>\n      <th>parent</th>\n      <th>metric_1</th>\n      <th>metric_2</th>\n      <th>my_metric.alpha</th>\n      <th>my_metric.beta</th>\n      <th>MetricAndPlot.pre_factor</th>\n      <th>src/MetricAndPlot.py</th>\n      <th>src/ZnTrackMetric.py</th>\n    </tr>\n    <tr>\n      <th>Experiment</th>\n      <th></th>\n      <th></th>\n      <th></th>\n      <th></th>\n      <th></th>\n      <th></th>\n      <th></th>\n      <th></th>\n      <th></th>\n      <th></th>\n      <th></th>\n    </tr>\n  </thead>\n  <tbody>\n    <tr>\n      <th>NaN</th>\n      <td>workspace</td>\n      <td>baseline</td>\n      <td>NaN</td>\n      <td>NaN</td>\n      <td>17.0</td>\n      <td>42.0</td>\n      <td>1.0</td>\n      <td>0.00473</td>\n      <td>5.0</td>\n      <td>e743ca7</td>\n      <td>e743ca7</td>\n    </tr>\n    <tr>\n      <th>master</th>\n      <td>86351ef</td>\n      <td>baseline</td>\n      <td>2022-02-22T13:47:53</td>\n      <td>NaN</td>\n      <td>17.0</td>\n      <td>42.0</td>\n      <td>NaN</td>\n      <td>NaN</td>\n      <td>1.0</td>\n      <td>e743ca7</td>\n      <td>NaN</td>\n    </tr>\n    <tr>\n      <th>factor_5</th>\n      <td>f98f83e</td>\n      <td>branch_commit</td>\n      <td>2022-02-22T13:48:31</td>\n      <td>NaN</td>\n      <td>85.0</td>\n      <td>210.0</td>\n      <td>NaN</td>\n      <td>NaN</td>\n      <td>5.0</td>\n      <td>e743ca7</td>\n      <td>NaN</td>\n    </tr>\n    <tr>\n      <th>factor_4</th>\n      <td>2030324</td>\n      <td>branch_commit</td>\n      <td>2022-02-22T13:48:31</td>\n      <td>NaN</td>\n      <td>68.0</td>\n      <td>168.0</td>\n      <td>NaN</td>\n      <td>NaN</td>\n      <td>4.0</td>\n      <td>e743ca7</td>\n      <td>NaN</td>\n    </tr>\n    <tr>\n      <th>factor_2</th>\n      <td>3a09fa0</td>\n      <td>branch_commit</td>\n      <td>2022-02-22T13:48:31</td>\n      <td>NaN</td>\n      <td>34.0</td>\n      <td>84.0</td>\n      <td>NaN</td>\n      <td>NaN</td>\n      <td>2.0</td>\n      <td>e743ca7</td>\n      <td>NaN</td>\n    </tr>\n    <tr>\n      <th>factor_3</th>\n      <td>6417351</td>\n      <td>branch_base</td>\n      <td>2022-02-22T13:48:31</td>\n      <td>NaN</td>\n      <td>51.0</td>\n      <td>126.0</td>\n      <td>NaN</td>\n      <td>NaN</td>\n      <td>3.0</td>\n      <td>e743ca7</td>\n      <td>NaN</td>\n    </tr>\n  </tbody>\n</table>\n</div>"
     },
     "execution_count": 12,
     "metadata": {},
     "output_type": "execute_result"
    }
   ],
   "source": [
    "!dvc exp show --csv > exp_show.csv\n",
    "pd.read_csv(\"exp_show.csv\", index_col=0)"
   ]
  },
  {
   "cell_type": "code",
   "execution_count": 13,
   "id": "4b9d3164-bc2f-49cf-a253-22c8f3efd7c0",
   "metadata": {},
   "outputs": [
    {
     "name": "stdout",
     "output_type": "stream",
     "text": [
      "file:///tmp/tmp3zeef6gq/dvc_plots/index.html\r\n",
      "\u001B[0m"
     ]
    }
   ],
   "source": [
    "!dvc plots show"
   ]
  },
  {
   "cell_type": "code",
   "source": [
    "temp_dir.cleanup()"
   ],
   "metadata": {
    "collapsed": false,
    "pycharm": {
     "name": "#%%\n"
    }
   },
   "execution_count": 14,
   "outputs": []
  }
 ],
 "metadata": {
  "kernelspec": {
   "display_name": "Python 3 (ipykernel)",
   "language": "python",
   "name": "python3"
  },
  "language_info": {
   "codemirror_mode": {
    "name": "ipython",
    "version": 3
   },
   "file_extension": ".py",
   "mimetype": "text/x-python",
   "name": "python",
   "nbconvert_exporter": "python",
   "pygments_lexer": "ipython3",
   "version": "3.9.7"
  }
 },
 "nbformat": 4,
 "nbformat_minor": 5
}