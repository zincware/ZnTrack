{
 "cells": [
  {
   "cell_type": "markdown",
   "metadata": {
    "pycharm": {
     "name": "#%% md\n"
    },
    "tags": []
   },
   "source": [
    "# Overview\n",
    "\n",
    "ZnTrack provides an easy to use framework for creating and tracking Experiments.\n",
    "It is build on top of [DVC](https://dvc.org/), a tool for Version Controlling Machine Learning Projects.\n",
    "For an introduction we highly recommend reading the [DVC Getting Started](https://dvc.org/doc/start).\n",
    "Besides version controlled data management, DVC provides method for building a dependency graph, tracking parameters, comparing metrics, reducing computational overhead and queueing multiple runs.\n",
    "\n",
    "**Why do I want to use ZnTrack?**\n",
    "\n",
    "Whilst DVC provides all this functionality it is designed to be programming language independent.\n",
    "This can require writing custom python scripts, reading and writing config files and managing depencencies.\n",
    "\n",
    "ZnTrack is designed to make these steps as easy and well integrated with Python as possible.\n",
    "In comparison  to the DVC backbone, it is aimed directly at python developeres and therefore allows a highly adapted and optimized interface."
   ]
  },
  {
   "cell_type": "code",
   "execution_count": 1,
   "metadata": {},
   "outputs": [],
   "source": [
    "from zntrack import config\n",
    "\n",
    "# When using ZnTrack we can write our code inside a Jupyter notebook.\n",
    "# We can make use of this functionality by setting the `nb_name` config as follows:\n",
    "config.nb_name = \"01_Intro.ipynb\""
   ]
  },
  {
   "cell_type": "code",
   "execution_count": 2,
   "metadata": {
    "nbsphinx": "hidden",
    "tags": []
   },
   "outputs": [],
   "source": [
    "from zntrack.utils import cwd_temp_dir\n",
    "\n",
    "temp_dir = cwd_temp_dir()"
   ]
  },
  {
   "cell_type": "markdown",
   "metadata": {},
   "source": [
    "Working with DVC requires a GIT and DVC repository which we can set up easily:"
   ]
  },
  {
   "cell_type": "code",
   "execution_count": 3,
   "metadata": {
    "nbsphinx": "hidden",
    "tags": []
   },
   "outputs": [
    {
     "name": "stdout",
     "output_type": "stream",
     "text": [
      "Initialized empty Git repository in /tmp/tmptn0i8j7r/.git/\r\n",
      "Initialized DVC repository.\r\n",
      "\r\n",
      "You can now commit the changes to git.\r\n",
      "\r\n",
      "\u001B[31m+---------------------------------------------------------------------+\r\n",
      "\u001B[0m\u001B[31m|\u001B[0m                                                                     \u001B[31m|\u001B[0m\r\n",
      "\u001B[31m|\u001B[0m        DVC has enabled anonymous aggregate usage analytics.         \u001B[31m|\u001B[0m\r\n",
      "\u001B[31m|\u001B[0m     Read the analytics documentation (and how to opt-out) here:     \u001B[31m|\u001B[0m\r\n",
      "\u001B[31m|\u001B[0m             <\u001B[36mhttps://dvc.org/doc/user-guide/analytics\u001B[39m>              \u001B[31m|\u001B[0m\r\n",
      "\u001B[31m|\u001B[0m                                                                     \u001B[31m|\u001B[0m\r\n",
      "\u001B[31m+---------------------------------------------------------------------+\r\n",
      "\u001B[0m\r\n",
      "\u001B[33mWhat's next?\u001B[39m\r\n",
      "\u001B[33m------------\u001B[39m\r\n",
      "- Check out the documentation: <\u001B[36mhttps://dvc.org/doc\u001B[39m>\r\n",
      "- Get help and share ideas: <\u001B[36mhttps://dvc.org/chat\u001B[39m>\r\n",
      "- Star us on GitHub: <\u001B[36mhttps://github.com/iterative/dvc\u001B[39m>\r\n",
      "\u001B[0m"
     ]
    }
   ],
   "source": [
    "!git init\n",
    "!dvc init"
   ]
  },
  {
   "cell_type": "markdown",
   "metadata": {},
   "source": [
    "## Nodes\n",
    "DVC organizes its pipeline in multiple stages.\n",
    "A stage can be created by inheriting from `zntrack.Node` and implementing a `run()` method.\n",
    "\n",
    "The `run()` method will later be executed by our pipeline manager (e.g. `dvc repro`).\n",
    "To make dvc familiar with our new Node we can write the input script with the `write_graph()` command.\n",
    "\n",
    "Let's start with an example of creating a random integer between 0 and a parameterized maximum value."
   ]
  },
  {
   "cell_type": "code",
   "execution_count": 4,
   "metadata": {},
   "outputs": [],
   "source": [
    "from zntrack import Node, zn\n",
    "from random import randrange\n",
    "\n",
    "\n",
    "class RandomNumber(Node):\n",
    "    number = zn.outs()\n",
    "    maximum = zn.params()\n",
    "\n",
    "    def run(self):\n",
    "        self.number = randrange(self.maximum)"
   ]
  },
  {
   "cell_type": "markdown",
   "metadata": {},
   "source": [
    "Notice that ZnTrack will automatically generate an `__init__` for all `zn.params`.\n",
    "When writing a custom `__init__` it is important to add `super().__init__(*args, **kwargs)` for ZnTrack to work.\n",
    "```python\n",
    "    def __init__(self, maximum=None, *args, **kwargs):\n",
    "        super().__init__(*args, **kwargs)\n",
    "        self.maximum = maximum\n",
    "```\n",
    "\n",
    "\n",
    "We can now call `run_and_save()` to create our random number."
   ]
  },
  {
   "cell_type": "code",
   "execution_count": 5,
   "metadata": {},
   "outputs": [],
   "source": [
    "RandomNumber(maximum=512).run_and_save()"
   ]
  },
  {
   "cell_type": "markdown",
   "metadata": {},
   "source": [
    "or we can use `write_graph()` to create the DVC stage and let DVC run the commands for us.\n",
    "By default ZnTrack will only build the graph without running it. We can change that by passing `no_exec=True`.\n",
    "You can also pass other commands like `always_changed=True, external=True` to the `write_graph()` command."
   ]
  },
  {
   "cell_type": "code",
   "execution_count": 6,
   "metadata": {},
   "outputs": [
    {
     "name": "stdout",
     "output_type": "stream",
     "text": [
      "2022-01-21 16:35:09,327 (WARNING): Jupyter support is an experimental feature! Please save your notebook before running this command!\n",
      "Submit issues to https://github.com/zincware/ZnTrack.\n",
      "2022-01-21 16:35:09,328 (WARNING): Converting 01_Intro.ipynb to file RandomNumber.py\n"
     ]
    },
    {
     "name": "stderr",
     "output_type": "stream",
     "text": [
      "[NbConvertApp] Converting notebook 01_Intro.ipynb to script\n"
     ]
    },
    {
     "name": "stdout",
     "output_type": "stream",
     "text": [
      "2022-01-21 16:35:12,397 (WARNING): --- Writing new DVC file! ---\n",
      "2022-01-21 16:35:12,398 (WARNING): You will not be able to see the stdout/stderr of the process in real time!\n"
     ]
    },
    {
     "name": "stderr",
     "output_type": "stream",
     "text": [
      "[NbConvertApp] Writing 3241 bytes to 01_Intro.py\n"
     ]
    },
    {
     "name": "stdout",
     "output_type": "stream",
     "text": [
      "2022-01-21 16:35:15,953 (INFO): Running stage 'RandomNumber':\n",
      "> python3 -c \"from src.RandomNumber import RandomNumber; RandomNumber.load(name='RandomNumber').run_and_save()\" \n",
      "Creating 'dvc.yaml'\n",
      "Adding stage 'RandomNumber' in 'dvc.yaml'\n",
      "Generating lock file 'dvc.lock'\n",
      "Updating lock file 'dvc.lock'\n",
      "\n",
      "To track the changes with git, run:\n",
      "\n",
      "    git add dvc.lock dvc.yaml nodes/RandomNumber/.gitignore\n",
      "\n",
      "To enable auto staging, run:\n",
      "\n",
      "\tdvc config core.autostage true\n",
      "\n"
     ]
    }
   ],
   "source": [
    "RandomNumber(maximum=512).write_graph(no_exec=False)"
   ]
  },
  {
   "cell_type": "markdown",
   "metadata": {},
   "source": [
    "To gain access to the results we can load the Node via the classmethod `load()` and look at the number attribute."
   ]
  },
  {
   "cell_type": "code",
   "execution_count": 7,
   "metadata": {},
   "outputs": [
    {
     "data": {
      "text/plain": "125"
     },
     "execution_count": 7,
     "metadata": {},
     "output_type": "execute_result"
    }
   ],
   "source": [
    "RandomNumber.load().number"
   ]
  },
  {
   "cell_type": "code",
   "execution_count": 8,
   "metadata": {
    "nbsphinx": "hidden",
    "tags": []
   },
   "outputs": [],
   "source": [
    "temp_dir.cleanup()"
   ]
  }
 ],
 "metadata": {
  "kernelspec": {
   "display_name": "Python 3 (ipykernel)",
   "language": "python",
   "name": "python3"
  },
  "language_info": {
   "codemirror_mode": {
    "name": "ipython",
    "version": 3
   },
   "file_extension": ".py",
   "mimetype": "text/x-python",
   "name": "python",
   "nbconvert_exporter": "python",
   "pygments_lexer": "ipython3",
   "version": "3.9.7"
  }
 },
 "nbformat": 4,
 "nbformat_minor": 4
}