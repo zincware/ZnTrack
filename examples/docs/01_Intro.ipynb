{
 "cells": [
  {
   "cell_type": "markdown",
   "metadata": {
    "pycharm": {
     "name": "#%% md\n"
    },
    "tags": []
   },
   "source": [
    "# Overview\n",
    "\n",
    "ZnTrack provides an easy to use framework for creating and tracking Experiments.\n",
    "It is build on top of [DVC](https://dvc.org/), a tool for Version Controlling Machine Learning Projects.\n",
    "For an introduction we highly recommend reading the [DVC Getting Started](https://dvc.org/doc/start).\n",
    "Besides version controlled data management, DVC provides method for building a dependency graph, tracking parameters, comparing metrics, reducing computational overhead and queueing multiple runs.\n",
    "\n",
    "**Why do I want to use ZnTrack?**\n",
    "\n",
    "Whilst DVC provides all this functionality it is designed to be programming language independent.\n",
    "This can require writing custom python scripts, reading and writing config files and managing depencencies.\n",
    "\n",
    "ZnTrack is designed to make these steps as easy and well integrated with Python as possible.\n",
    "In comparison  to the DVC backbone, it is aimed directly at python developeres and therefore allows a highly adapted and optimized interface."
   ]
  },
  {
   "cell_type": "code",
   "execution_count": 1,
   "metadata": {},
   "outputs": [],
   "source": [
    "from zntrack import config\n",
    "\n",
    "# When using ZnTrack we can write our code inside a Jupyter notebook.\n",
    "# We can make use of this functionality by setting the `nb_name` config as follows:\n",
    "config.nb_name = \"01_Intro.ipynb\""
   ]
  },
  {
   "cell_type": "code",
   "execution_count": 2,
   "metadata": {
    "nbsphinx": "hidden",
    "tags": []
   },
   "outputs": [],
   "source": [
    "from zntrack.utils import cwd_temp_dir\n",
    "\n",
    "temp_dir = cwd_temp_dir()"
   ]
  },
  {
   "cell_type": "markdown",
   "metadata": {},
   "source": [
    "Working with DVC requires a GIT and DVC repository which we can set up easily:"
   ]
  },
  {
   "cell_type": "code",
   "execution_count": 3,
   "metadata": {
    "nbsphinx": "hidden",
    "tags": []
   },
   "outputs": [
    {
     "name": "stdout",
     "output_type": "stream",
     "text": [
      "Initialized empty Git repository in C:/Users/fabia/AppData/Local/Temp/tmpean3t5ot/.git/\n",
      "Initialized DVC repository.\n",
      "\n",
      "You can now commit the changes to git.\n",
      "\n",
      "+---------------------------------------------------------------------+\n",
      "|                                                                     |\n",
      "|        DVC has enabled anonymous aggregate usage analytics.         |\n",
      "|     Read the analytics documentation (and how to opt-out) here:     |\n",
      "|             <https://dvc.org/doc/user-guide/analytics>              |\n",
      "|                                                                     |\n",
      "+---------------------------------------------------------------------+\n",
      "\n",
      "What's next?\n",
      "------------\n",
      "- Check out the documentation: <https://dvc.org/doc>\n",
      "- Get help and share ideas: <https://dvc.org/chat>\n",
      "- Star us on GitHub: <https://github.com/iterative/dvc>\n"
     ]
    }
   ],
   "source": [
    "!git init\n",
    "!dvc init"
   ]
  },
  {
   "cell_type": "markdown",
   "metadata": {},
   "source": [
    "## Nodes\n",
    "DVC organizes its pipeline in multiple stages.\n",
    "A stage can be created by inheriting from `zntrack.Node` and implementing a `run()` method.\n",
    "\n",
    "The `run()` method will later be executed by our pipeline manager (e.g. `dvc repro`).\n",
    "To make dvc familiar with our new Node we can write the input script with the `write_graph()` command.\n",
    "\n",
    "Let's start with an example of creating a random integer between 0 and a parameterized maximum value."
   ]
  },
  {
   "cell_type": "code",
   "execution_count": 4,
   "metadata": {},
   "outputs": [],
   "source": [
    "from zntrack import Node, zn\n",
    "from random import randrange\n",
    "\n",
    "\n",
    "class RandomNumber(Node):\n",
    "    number = zn.outs()\n",
    "    maximum = zn.params()\n",
    "\n",
    "    def __init__(self, maximum=None, **kwargs):\n",
    "        super().__init__(**kwargs)\n",
    "        self.maximum = maximum\n",
    "\n",
    "    def run(self):\n",
    "        self.number = randrange(self.maximum)"
   ]
  },
  {
   "cell_type": "markdown",
   "metadata": {},
   "source": [
    "We can now call `run_and_save()` to create our random number"
   ]
  },
  {
   "cell_type": "code",
   "execution_count": 5,
   "metadata": {},
   "outputs": [],
   "source": [
    "RandomNumber(maximum=512).run_and_save()"
   ]
  },
  {
   "cell_type": "markdown",
   "metadata": {},
   "source": [
    "or we can use `write_graph()` to create the DVC stage and let DVC run the commands for us.\n",
    "By default ZnTrack will only build the graph without running it. We can change that by passing `no_exec=True`.\n",
    "You can also pass other commands like `always_changed=True, external=True` to the `write_graph()` command."
   ]
  },
  {
   "cell_type": "code",
   "execution_count": 6,
   "metadata": {},
   "outputs": [
    {
     "name": "stdout",
     "output_type": "stream",
     "text": [
      "2022-01-14 17:16:17,378 (WARNING): Jupyter support is an experimental feature! Please save your notebook before running this command!\n",
      "Submit issues to https://github.com/zincware/ZnTrack.\n",
      "2022-01-14 17:16:17,380 (WARNING): Converting 01_Intro.ipynb to file RandomNumber.py\n",
      "2022-01-14 17:16:19,850 (WARNING): --- Writing new DVC file! ---\n",
      "2022-01-14 17:16:19,850 (WARNING): You will not be able to see the stdout/stderr of the process in real time!\n",
      "2022-01-14 17:16:22,159 (INFO): Running stage 'RandomNumber':\r\n",
      "> python -c \"from src.RandomNumber import RandomNumber; RandomNumber.load(name='RandomNumber').run_and_save()\" \r\n",
      "Creating 'dvc.yaml'\r\n",
      "Adding stage 'RandomNumber' in 'dvc.yaml'\r\n",
      "Generating lock file 'dvc.lock'\r\n",
      "Updating lock file 'dvc.lock'\r\n",
      "\r\n",
      "To track the changes with git, run:\r\n",
      "\r\n",
      "\tgit add dvc.yaml dvc.lock 'nodes\\RandomNumber\\.gitignore'\r\n",
      "\n"
     ]
    }
   ],
   "source": [
    "RandomNumber(maximum=512).write_graph(no_exec=False)"
   ]
  },
  {
   "cell_type": "markdown",
   "metadata": {},
   "source": [
    "To gain access to the results we can load the Node via the classmethod `load()` and look at the number attribute."
   ]
  },
  {
   "cell_type": "code",
   "execution_count": 7,
   "metadata": {},
   "outputs": [
    {
     "data": {
      "text/plain": "473"
     },
     "execution_count": 7,
     "metadata": {},
     "output_type": "execute_result"
    }
   ],
   "source": [
    "RandomNumber.load().number"
   ]
  },
  {
   "cell_type": "code",
   "execution_count": null,
   "metadata": {
    "nbsphinx": "hidden",
    "tags": [],
    "pycharm": {
     "is_executing": true
    }
   },
   "outputs": [],
   "source": [
    "temp_dir.cleanup()"
   ]
  }
 ],
 "metadata": {
  "kernelspec": {
   "display_name": "Python 3 (ipykernel)",
   "language": "python",
   "name": "python3"
  },
  "language_info": {
   "codemirror_mode": {
    "name": "ipython",
    "version": 3
   },
   "file_extension": ".py",
   "mimetype": "text/x-python",
   "name": "python",
   "nbconvert_exporter": "python",
   "pygments_lexer": "ipython3",
   "version": "3.9.7"
  }
 },
 "nbformat": 4,
 "nbformat_minor": 4
}