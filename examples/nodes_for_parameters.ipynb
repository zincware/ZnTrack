{
 "cells": [
  {
   "attachments": {},
   "cell_type": "markdown",
   "metadata": {},
   "source": [
    "ZnTrack allos us to use other Nodes as parameters. The following Example will show, how a Node can be used in the graph or as a `zn.nodes` depedency."
   ]
  },
  {
   "cell_type": "code",
   "execution_count": 1,
   "metadata": {},
   "outputs": [],
   "source": [
    "from zntrack import config\n",
    "\n",
    "config.nb_name = \"nodes_for_parameters.ipynb\""
   ]
  },
  {
   "cell_type": "code",
   "execution_count": 2,
   "metadata": {},
   "outputs": [],
   "source": [
    "from zntrack.utils import cwd_temp_dir\n",
    "\n",
    "temp_dir = cwd_temp_dir()"
   ]
  },
  {
   "cell_type": "code",
   "execution_count": 3,
   "metadata": {},
   "outputs": [
    {
     "name": "stdout",
     "output_type": "stream",
     "text": [
      "Initialized empty Git repository in /tmp/tmpm_wtcyt9/.git/\n",
      "Initialized DVC repository.\n",
      "\n",
      "You can now commit the changes to git.\n",
      "\n",
      "+---------------------------------------------------------------------+\n",
      "|                                                                     |\n",
      "|        DVC has enabled anonymous aggregate usage analytics.         |\n",
      "|     Read the analytics documentation (and how to opt-out) here:     |\n",
      "|             <https://dvc.org/doc/user-guide/analytics>              |\n",
      "|                                                                     |\n",
      "+---------------------------------------------------------------------+\n",
      "\n",
      "What's next?\n",
      "------------\n",
      "- Check out the documentation: <https://dvc.org/doc>\n",
      "- Get help and share ideas: <https://dvc.org/chat>\n",
      "- Star us on GitHub: <https://github.com/iterative/dvc>\n"
     ]
    }
   ],
   "source": [
    "!git init\n",
    "!dvc init"
   ]
  },
  {
   "cell_type": "code",
   "execution_count": 4,
   "metadata": {},
   "outputs": [],
   "source": [
    "import zntrack\n",
    "import json"
   ]
  },
  {
   "cell_type": "code",
   "execution_count": 5,
   "metadata": {},
   "outputs": [],
   "source": [
    "class SliceData(zntrack.Node):\n",
    "    start: int = zntrack.zn.params()\n",
    "    stop: int = zntrack.zn.params()\n",
    "    step: int = zntrack.zn.params()\n",
    "\n",
    "    data_file = zntrack.dvc.deps()\n",
    "    outs = zntrack.zn.outs()\n",
    "\n",
    "    def run(self):\n",
    "        with open(self.data_file, \"r\") as f:\n",
    "            data = json.load(f)\n",
    "        self.outs = self.slice_data(data)\n",
    "\n",
    "    def slice_data(self, data):\n",
    "        return data[self.start : self.stop : self.step]"
   ]
  },
  {
   "cell_type": "code",
   "execution_count": 6,
   "metadata": {},
   "outputs": [],
   "source": [
    "with open(\"data.json\", \"w\") as f:\n",
    "    json.dump(list(range(100)), f)"
   ]
  },
  {
   "cell_type": "code",
   "execution_count": 7,
   "metadata": {},
   "outputs": [
    {
     "name": "stderr",
     "output_type": "stream",
     "text": [
      "Running DVC command: 'stage add --name SliceData --force ...'\n",
      "Jupyter support is an experimental feature! Please save your notebook before running this command!\n",
      "Submit issues to https://github.com/zincware/ZnTrack.\n",
      "[NbConvertApp] Converting notebook nodes_for_parameters.ipynb to script\n",
      "[NbConvertApp] Writing 1494 bytes to nodes_for_parameters.py\n",
      "Running DVC command: 'repro'\n"
     ]
    }
   ],
   "source": [
    "with zntrack.Project() as project:\n",
    "    data = SliceData(start=10, stop=20, step=2, data_file=\"data.json\")\n",
    "project.run()"
   ]
  },
  {
   "cell_type": "code",
   "execution_count": 8,
   "metadata": {},
   "outputs": [
    {
     "data": {
      "text/plain": [
       "[10, 12, 14, 16, 18]"
      ]
     },
     "execution_count": 8,
     "metadata": {},
     "output_type": "execute_result"
    }
   ],
   "source": [
    "data.load()\n",
    "data.outs"
   ]
  },
  {
   "cell_type": "code",
   "execution_count": 9,
   "metadata": {},
   "outputs": [],
   "source": [
    "class GenerateData(zntrack.Node):\n",
    "    size: int = zntrack.zn.params()\n",
    "    slicing: SliceData = zntrack.zn.nodes()\n",
    "\n",
    "    outs = zntrack.zn.outs()\n",
    "\n",
    "    def run(self):\n",
    "        data = list(range(self.size))\n",
    "        self.outs = self.slicing.slice_data(data)"
   ]
  },
  {
   "cell_type": "code",
   "execution_count": 10,
   "metadata": {},
   "outputs": [
    {
     "name": "stderr",
     "output_type": "stream",
     "text": [
      "Running DVC command: 'stage add --name GenerateData --force ...'\n",
      "Running DVC command: 'stage add --name GenerateData_slicing --force ...'\n",
      "Could not create .gitignore entry in /tmp/tmpm_wtcyt9/nodes/GenerateData_slicing/.gitignore. DVC will attempt to create .gitignore entry again when the stage is run.\n",
      "[NbConvertApp] Converting notebook nodes_for_parameters.ipynb to script\n",
      "[NbConvertApp] Writing 1494 bytes to nodes_for_parameters.py\n",
      "[NbConvertApp] Converting notebook nodes_for_parameters.ipynb to script\n",
      "[NbConvertApp] Writing 1494 bytes to nodes_for_parameters.py\n",
      "Running DVC command: 'repro'\n"
     ]
    }
   ],
   "source": [
    "slicer = SliceData(start=10, stop=20, step=2, data_file=None)\n",
    "with zntrack.Project() as project:\n",
    "    data = GenerateData(size=100, slicing=slicer)\n",
    "project.run()"
   ]
  },
  {
   "cell_type": "code",
   "execution_count": 11,
   "metadata": {},
   "outputs": [
    {
     "data": {
      "text/plain": [
       "[10, 12, 14, 16, 18]"
      ]
     },
     "execution_count": 11,
     "metadata": {},
     "output_type": "execute_result"
    }
   ],
   "source": [
    "data.load()\n",
    "data.outs"
   ]
  },
  {
   "cell_type": "code",
   "execution_count": 12,
   "metadata": {},
   "outputs": [
    {
     "data": {
      "text/plain": [
       "SliceData(data_file=None, name='GenerateData_slicing', start=10, step=2, stop=20)"
      ]
     },
     "execution_count": 12,
     "metadata": {},
     "output_type": "execute_result"
    }
   ],
   "source": [
    "data.slicing"
   ]
  },
  {
   "attachments": {},
   "cell_type": "markdown",
   "metadata": {},
   "source": [
    "We now have two seperated subgraphs. Note, that the `GenerateData_slicing` will only serve as a parameters and method Node. The `run` of `GenerateData_slicing` won't be executed.\n",
    "\n",
    "[![](https://mermaid.ink/img/pako:eNpdjz8PgkAMxb8K6SyDut3ghHFywklrTMMVuOT-kKPEGMJ39wIhGra-33t9TUeogmZQUNvwrlqKkt0K9Cg-4f0DobSm4oKEEJ4rPyR-Yc-RZGsdN9arT_vGN_-RPD_NLbADx9GR0en-iD7LEKRlxwgqjZprGqwgoJ9SdOh06jxrIyGCkjjwDmiQUH58teolUxhqIjlQNdk-0Y78PYSf5rnjuvw9vz99Aco_XDs?type=png)](https://mermaid.live/edit#pako:eNpdjz8PgkAMxb8K6SyDut3ghHFywklrTMMVuOT-kKPEGMJ39wIhGra-33t9TUeogmZQUNvwrlqKkt0K9Cg-4f0DobSm4oKEEJ4rPyR-Yc-RZGsdN9arT_vGN_-RPD_NLbADx9GR0en-iD7LEKRlxwgqjZprGqwgoJ9SdOh06jxrIyGCkjjwDmiQUH58teolUxhqIjlQNdk-0Y78PYSf5rnjuvw9vz99Aco_XDs)"
   ]
  },
  {
   "cell_type": "code",
   "execution_count": 10,
   "metadata": {},
   "outputs": [],
   "source": [
    "temp_dir.cleanup()"
   ]
  },
  {
   "cell_type": "code",
   "execution_count": null,
   "metadata": {},
   "outputs": [],
   "source": []
  }
 ],
 "metadata": {
  "kernelspec": {
   "display_name": "zntrack",
   "language": "python",
   "name": "python3"
  },
  "language_info": {
   "codemirror_mode": {
    "name": "ipython",
    "version": 3
   },
   "file_extension": ".py",
   "mimetype": "text/x-python",
   "name": "python",
   "nbconvert_exporter": "python",
   "pygments_lexer": "ipython3",
   "version": "3.10.9"
  },
  "orig_nbformat": 4
 },
 "nbformat": 4,
 "nbformat_minor": 2
}
