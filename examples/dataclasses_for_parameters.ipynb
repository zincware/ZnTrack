{
 "cells": [
  {
   "cell_type": "markdown",
   "metadata": {
    "collapsed": true,
    "pycharm": {
     "name": "#%% md\n"
    }
   },
   "source": [
    "# ZnTrack Parameters with dataclasses\n",
    "\n",
    "To structure the parameters used in a Node it can be useful to pass them as a dataclass. The following Notebook will illustrate a small Example."
   ]
  },
  {
   "cell_type": "code",
   "execution_count": 1,
   "outputs": [],
   "source": [
    "import pathlib\n",
    "\n",
    "from zntrack import config\n",
    "\n",
    "config.nb_name = \"dataclasses_for_parameters.ipynb\""
   ],
   "metadata": {
    "collapsed": false,
    "pycharm": {
     "name": "#%%\n"
    }
   }
  },
  {
   "cell_type": "code",
   "execution_count": 2,
   "outputs": [],
   "source": [
    "from zntrack.utils import cwd_temp_dir\n",
    "\n",
    "temp_dir = cwd_temp_dir()"
   ],
   "metadata": {
    "collapsed": false,
    "pycharm": {
     "name": "#%%\n"
    }
   }
  },
  {
   "cell_type": "code",
   "execution_count": 3,
   "outputs": [
    {
     "name": "stdout",
     "output_type": "stream",
     "text": [
      "Initialized empty Git repository in C:/Users/fabia/AppData/Local/Temp/tmp3hct1mjc/.git/\n",
      "Initialized DVC repository.\n",
      "\n",
      "You can now commit the changes to git.\n",
      "\n",
      "+---------------------------------------------------------------------+\n",
      "|                                                                     |\n",
      "|        DVC has enabled anonymous aggregate usage analytics.         |\n",
      "|     Read the analytics documentation (and how to opt-out) here:     |\n",
      "|             <https://dvc.org/doc/user-guide/analytics>              |\n",
      "|                                                                     |\n",
      "+---------------------------------------------------------------------+\n",
      "\n",
      "What's next?\n",
      "------------\n",
      "- Check out the documentation: <https://dvc.org/doc>\n",
      "- Get help and share ideas: <https://dvc.org/chat>\n",
      "- Star us on GitHub: <https://github.com/iterative/dvc>\n"
     ]
    }
   ],
   "source": [
    "!git init\n",
    "!dvc init"
   ],
   "metadata": {
    "collapsed": false,
    "pycharm": {
     "name": "#%%\n"
    }
   }
  },
  {
   "cell_type": "code",
   "execution_count": 4,
   "outputs": [],
   "source": [
    "import dataclasses\n",
    "from zntrack import Node, zn\n",
    "import random"
   ],
   "metadata": {
    "collapsed": false,
    "pycharm": {
     "name": "#%%\n"
    }
   }
  },
  {
   "cell_type": "code",
   "execution_count": 5,
   "outputs": [],
   "source": [
    "@dataclasses.dataclass\n",
    "class Parameter:\n",
    "    start: int\n",
    "    stop: int\n",
    "    step: int = 1\n",
    "\n",
    "\n",
    "class ComputeRandomNumber(Node):\n",
    "    parameter: Parameter = zn.Method()\n",
    "    number = zn.outs()\n",
    "\n",
    "    def __init__(self, parameter: Parameter = None, **kwargs):\n",
    "        super().__init__(**kwargs)\n",
    "        self.parameter = parameter\n",
    "\n",
    "    def run(self):\n",
    "        self.number = random.randrange(\n",
    "            self.parameter.start, self.parameter.stop, self.parameter.step\n",
    "        )"
   ],
   "metadata": {
    "collapsed": false,
    "pycharm": {
     "name": "#%%\n"
    }
   }
  },
  {
   "cell_type": "code",
   "execution_count": 6,
   "outputs": [
    {
     "name": "stdout",
     "output_type": "stream",
     "text": [
      "2022-01-17 11:46:33,698 (WARNING): Jupyter support is an experimental feature! Please save your notebook before running this command!\n",
      "Submit issues to https://github.com/zincware/ZnTrack.\n",
      "2022-01-17 11:46:33,699 (WARNING): Converting dataclasses_for_parameters.ipynb to file ComputeRandomNumber.py\n",
      "2022-01-17 11:46:35,962 (WARNING): --- Writing new DVC file! ---\n",
      "2022-01-17 11:46:35,963 (WARNING): You will not be able to see the stdout/stderr of the process in real time!\n",
      "2022-01-17 11:46:38,096 (INFO): Running stage 'ComputeRandomNumber':\r\n",
      "> python -c \"from src.ComputeRandomNumber import ComputeRandomNumber; ComputeRandomNumber.load(name='ComputeRandomNumber').run_and_save()\" \r\n",
      "Creating 'dvc.yaml'\r\n",
      "Adding stage 'ComputeRandomNumber' in 'dvc.yaml'\r\n",
      "Generating lock file 'dvc.lock'\r\n",
      "Updating lock file 'dvc.lock'\r\n",
      "\r\n",
      "To track the changes with git, run:\r\n",
      "\r\n",
      "\tgit add dvc.lock dvc.yaml 'nodes\\ComputeRandomNumber\\.gitignore'\r\n",
      "\n"
     ]
    }
   ],
   "source": [
    "ComputeRandomNumber(parameter=Parameter(start=100, stop=200)).write_graph(no_exec=False)"
   ],
   "metadata": {
    "collapsed": false,
    "pycharm": {
     "name": "#%%\n"
    }
   }
  },
  {
   "cell_type": "code",
   "execution_count": 7,
   "outputs": [
    {
     "name": "stdout",
     "output_type": "stream",
     "text": [
      "108\n",
      "Parameter(start=100, stop=200, step=1)\n"
     ]
    }
   ],
   "source": [
    "print(ComputeRandomNumber.load().number)\n",
    "print(ComputeRandomNumber.load().parameter)"
   ],
   "metadata": {
    "collapsed": false,
    "pycharm": {
     "name": "#%%\n"
    }
   }
  },
  {
   "cell_type": "markdown",
   "source": [
    "The arguments of the dataclass are saved in the `params.yaml` file and can also be modified there."
   ],
   "metadata": {
    "collapsed": false,
    "pycharm": {
     "name": "#%% md\n"
    }
   }
  },
  {
   "cell_type": "code",
   "execution_count": 8,
   "outputs": [
    {
     "name": "stdout",
     "output_type": "stream",
     "text": [
      "ComputeRandomNumber:\n",
      "    parameter:\n",
      "        start: 100\n",
      "        step: 1\n",
      "        stop: 200\n",
      "\n"
     ]
    }
   ],
   "source": [
    "print(pathlib.Path(\"params.yaml\").read_text())"
   ],
   "metadata": {
    "collapsed": false,
    "pycharm": {
     "name": "#%%\n"
    }
   }
  }
 ],
 "metadata": {
  "kernelspec": {
   "display_name": "Python 3",
   "language": "python",
   "name": "python3"
  },
  "language_info": {
   "codemirror_mode": {
    "name": "ipython",
    "version": 2
   },
   "file_extension": ".py",
   "mimetype": "text/x-python",
   "name": "python",
   "nbconvert_exporter": "python",
   "pygments_lexer": "ipython2",
   "version": "2.7.6"
  }
 },
 "nbformat": 4,
 "nbformat_minor": 0
}