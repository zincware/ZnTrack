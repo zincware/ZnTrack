{
 "cells": [
  {
   "cell_type": "markdown",
   "metadata": {
    "collapsed": true,
    "pycharm": {
     "name": "#%% md\n"
    }
   },
   "source": [
    "# ZnTrack Parameters with dataclasses\n",
    "\n",
    "To structure the parameters used in a Node it can be useful to pass them as a dataclass. The following Notebook will illustrate a small Example.\n",
    "We will define the parameter dataclass and our Node inside a `compute_random_number.py` file and import it into this notebook."
   ]
  },
  {
   "cell_type": "code",
   "execution_count": 1,
   "metadata": {
    "collapsed": false,
    "pycharm": {
     "name": "#%%\n"
    }
   },
   "outputs": [],
   "source": [
    "# We work in a temporary directory to avoid cluttering the current directory\n",
    "import os\n",
    "import tempfile\n",
    "\n",
    "temp_dir = tempfile.TemporaryDirectory()\n",
    "os.chdir(temp_dir.name)"
   ]
  },
  {
   "cell_type": "code",
   "execution_count": 2,
   "metadata": {},
   "outputs": [
    {
     "name": "stdout",
     "output_type": "stream",
     "text": [
      "Writing compute_random_number.py\n"
     ]
    }
   ],
   "source": [
    "%%writefile compute_random_number.py\n",
    "import random\n",
    "import dataclasses\n",
    "import zntrack\n",
    "\n",
    "@dataclasses.dataclass\n",
    "class Parameter:\n",
    "    start: int\n",
    "    stop: int\n",
    "    step: int = 1\n",
    "\n",
    "class ComputeRandomNumber(zntrack.Node):\n",
    "    param: Parameter = zntrack.deps()\n",
    "    number: int = zntrack.outs()\n",
    "\n",
    "    def run(self):\n",
    "        self.number = random.randrange(self.param.start, self.param.stop, self.param.step)"
   ]
  },
  {
   "cell_type": "code",
   "execution_count": 3,
   "metadata": {},
   "outputs": [],
   "source": [
    "import pathlib\n",
    "\n",
    "from compute_random_number import ComputeRandomNumber, Parameter\n",
    "\n",
    "import zntrack"
   ]
  },
  {
   "cell_type": "code",
   "execution_count": 4,
   "metadata": {
    "collapsed": false,
    "pycharm": {
     "name": "#%%\n"
    }
   },
   "outputs": [
    {
     "name": "stdout",
     "output_type": "stream",
     "text": [
      "Initialized empty Git repository in /private/var/folders/81/0x90c4yd0cz6tz104v9syf580000gn/T/tmp999qe3t1/.git/\n"
     ]
    }
   ],
   "source": [
    "!git init\n",
    "\n",
    "!dvc init -q"
   ]
  },
  {
   "cell_type": "code",
   "execution_count": 5,
   "metadata": {
    "collapsed": false,
    "pycharm": {
     "name": "#%%\n"
    }
   },
   "outputs": [
    {
     "name": "stdout",
     "output_type": "stream",
     "text": [
      "2024-10-17 08:50:37,573 - INFO: Saving params.yaml\n"
     ]
    },
    {
     "name": "stderr",
     "output_type": "stream",
     "text": [
      "100%|██████████| 1/1 [00:00<00:00, 727.29it/s]\n"
     ]
    },
    {
     "name": "stdout",
     "output_type": "stream",
     "text": [
      "Running stage 'ComputeRandomNumber':\n",
      "> zntrack run compute_random_number.ComputeRandomNumber --name ComputeRandomNumber\n",
      "Generating lock file 'dvc.lock'\n",
      "Updating lock file 'dvc.lock'\n",
      "\n",
      "To track the changes with git, run:\n",
      "\n",
      "\tgit add dvc.lock nodes/ComputeRandomNumber/.gitignore\n",
      "\n",
      "To enable auto staging, run:\n",
      "\n",
      "\tdvc config core.autostage true\n",
      "Use `dvc push` to send your updates to remote storage.\n"
     ]
    }
   ],
   "source": [
    "project = zntrack.Project()\n",
    "\n",
    "parameter = Parameter(start=100, stop=200)\n",
    "with project:\n",
    "    ComputeRandomNumber(param=parameter)\n",
    "\n",
    "project.repro()"
   ]
  },
  {
   "cell_type": "code",
   "execution_count": 6,
   "metadata": {
    "collapsed": false,
    "pycharm": {
     "name": "#%%\n"
    }
   },
   "outputs": [
    {
     "name": "stdout",
     "output_type": "stream",
     "text": [
      "189\n",
      "Parameter(start=100, stop=200, step=1)\n"
     ]
    }
   ],
   "source": [
    "print(ComputeRandomNumber.from_rev().number)\n",
    "print(ComputeRandomNumber.from_rev().param)"
   ]
  },
  {
   "cell_type": "markdown",
   "metadata": {
    "collapsed": false,
    "pycharm": {
     "name": "#%% md\n"
    }
   },
   "source": [
    "The arguments of the dataclass are saved in the `params.yaml` file and can also be modified there."
   ]
  },
  {
   "cell_type": "code",
   "execution_count": 7,
   "metadata": {
    "collapsed": false,
    "pycharm": {
     "name": "#%%\n"
    }
   },
   "outputs": [
    {
     "name": "stdout",
     "output_type": "stream",
     "text": [
      "ComputeRandomNumber:\n",
      "  param:\n",
      "    _cls: compute_random_number.Parameter\n",
      "    start: 100\n",
      "    step: 1\n",
      "    stop: 200\n",
      "\n"
     ]
    }
   ],
   "source": [
    "print(pathlib.Path(\"params.yaml\").read_text())"
   ]
  },
  {
   "cell_type": "code",
   "execution_count": 8,
   "metadata": {},
   "outputs": [],
   "source": [
    "temp_dir.cleanup()"
   ]
  },
  {
   "cell_type": "code",
   "execution_count": null,
   "metadata": {},
   "outputs": [],
   "source": []
  }
 ],
 "metadata": {
  "kernelspec": {
   "display_name": "zntrack",
   "language": "python",
   "name": "python3"
  },
  "language_info": {
   "codemirror_mode": {
    "name": "ipython",
    "version": 3
   },
   "file_extension": ".py",
   "mimetype": "text/x-python",
   "name": "python",
   "nbconvert_exporter": "python",
   "pygments_lexer": "ipython3",
   "version": "3.11.8"
  }
 },
 "nbformat": 4,
 "nbformat_minor": 0
}
