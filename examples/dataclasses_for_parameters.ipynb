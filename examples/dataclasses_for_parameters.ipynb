{
 "cells": [
  {
   "cell_type": "markdown",
   "metadata": {
    "collapsed": true,
    "pycharm": {
     "name": "#%% md\n"
    }
   },
   "source": [
    "# ZnTrack Parameters with dataclasses\n",
    "\n",
    "To structure the parameters used in a Node it can be useful to pass them as a dataclass. The following Notebook will illustrate a small Example."
   ]
  },
  {
   "cell_type": "code",
   "execution_count": 1,
   "outputs": [],
   "source": [
    "import pathlib\n",
    "\n",
    "from zntrack import config\n",
    "\n",
    "config.nb_name = \"dataclasses_for_parameters.ipynb\""
   ],
   "metadata": {
    "collapsed": false,
    "pycharm": {
     "name": "#%%\n"
    }
   }
  },
  {
   "cell_type": "code",
   "execution_count": 2,
   "outputs": [],
   "source": [
    "from zntrack.utils import cwd_temp_dir\n",
    "\n",
    "temp_dir = cwd_temp_dir()"
   ],
   "metadata": {
    "collapsed": false,
    "pycharm": {
     "name": "#%%\n"
    }
   }
  },
  {
   "cell_type": "code",
   "execution_count": 3,
   "outputs": [
    {
     "name": "stdout",
     "output_type": "stream",
     "text": [
      "Initialized empty Git repository in /tmp/tmpumpig7qo/.git/\r\n",
      "Initialized DVC repository.\r\n",
      "\r\n",
      "You can now commit the changes to git.\r\n",
      "\r\n",
      "\u001B[31m+---------------------------------------------------------------------+\r\n",
      "\u001B[0m\u001B[31m|\u001B[0m                                                                     \u001B[31m|\u001B[0m\r\n",
      "\u001B[31m|\u001B[0m        DVC has enabled anonymous aggregate usage analytics.         \u001B[31m|\u001B[0m\r\n",
      "\u001B[31m|\u001B[0m     Read the analytics documentation (and how to opt-out) here:     \u001B[31m|\u001B[0m\r\n",
      "\u001B[31m|\u001B[0m             <\u001B[36mhttps://dvc.org/doc/user-guide/analytics\u001B[39m>              \u001B[31m|\u001B[0m\r\n",
      "\u001B[31m|\u001B[0m                                                                     \u001B[31m|\u001B[0m\r\n",
      "\u001B[31m+---------------------------------------------------------------------+\r\n",
      "\u001B[0m\r\n",
      "\u001B[33mWhat's next?\u001B[39m\r\n",
      "\u001B[33m------------\u001B[39m\r\n",
      "- Check out the documentation: <\u001B[36mhttps://dvc.org/doc\u001B[39m>\r\n",
      "- Get help and share ideas: <\u001B[36mhttps://dvc.org/chat\u001B[39m>\r\n",
      "- Star us on GitHub: <\u001B[36mhttps://github.com/iterative/dvc\u001B[39m>\r\n",
      "\u001B[0m"
     ]
    }
   ],
   "source": [
    "!git init\n",
    "!dvc init"
   ],
   "metadata": {
    "collapsed": false,
    "pycharm": {
     "name": "#%%\n"
    }
   }
  },
  {
   "cell_type": "code",
   "execution_count": 4,
   "outputs": [],
   "source": [
    "import dataclasses\n",
    "from zntrack import Node, zn\n",
    "import random"
   ],
   "metadata": {
    "collapsed": false,
    "pycharm": {
     "name": "#%%\n"
    }
   }
  },
  {
   "cell_type": "code",
   "execution_count": 5,
   "outputs": [],
   "source": [
    "@dataclasses.dataclass\n",
    "class Parameter:\n",
    "    start: int\n",
    "    stop: int\n",
    "    step: int = 1\n",
    "\n",
    "\n",
    "class ComputeRandomNumber(Node):\n",
    "    parameter: Parameter = zn.Method()\n",
    "    number = zn.outs()\n",
    "\n",
    "    def __init__(self, parameter: Parameter = None, **kwargs):\n",
    "        super().__init__(**kwargs)\n",
    "        self.parameter = parameter\n",
    "\n",
    "    def run(self):\n",
    "        self.number = random.randrange(\n",
    "            self.parameter.start, self.parameter.stop, self.parameter.step\n",
    "        )"
   ],
   "metadata": {
    "collapsed": false,
    "pycharm": {
     "name": "#%%\n"
    }
   }
  },
  {
   "cell_type": "code",
   "execution_count": 6,
   "outputs": [
    {
     "name": "stdout",
     "output_type": "stream",
     "text": [
      "2022-02-22 13:54:17,781 (WARNING): Jupyter support is an experimental feature! Please save your notebook before running this command!\n",
      "Submit issues to https://github.com/zincware/ZnTrack.\n",
      "2022-02-22 13:54:21,215 (WARNING): Running DVC command: 'dvc run -n ComputeRandomNumber ...'\n"
     ]
    }
   ],
   "source": [
    "ComputeRandomNumber(parameter=Parameter(start=100, stop=200)).write_graph(no_exec=False)"
   ],
   "metadata": {
    "collapsed": false,
    "pycharm": {
     "name": "#%%\n"
    }
   }
  },
  {
   "cell_type": "code",
   "execution_count": 7,
   "outputs": [
    {
     "name": "stdout",
     "output_type": "stream",
     "text": [
      "146\n",
      "Parameter(start=100, stop=200, step=1)\n"
     ]
    }
   ],
   "source": [
    "print(ComputeRandomNumber.load().number)\n",
    "print(ComputeRandomNumber.load().parameter)"
   ],
   "metadata": {
    "collapsed": false,
    "pycharm": {
     "name": "#%%\n"
    }
   }
  },
  {
   "cell_type": "markdown",
   "source": [
    "The arguments of the dataclass are saved in the `params.yaml` file and can also be modified there."
   ],
   "metadata": {
    "collapsed": false,
    "pycharm": {
     "name": "#%% md\n"
    }
   }
  },
  {
   "cell_type": "code",
   "execution_count": 8,
   "outputs": [
    {
     "name": "stdout",
     "output_type": "stream",
     "text": [
      "ComputeRandomNumber:\n",
      "    parameter:\n",
      "        _cls: Parameter\n",
      "        start: 100\n",
      "        step: 1\n",
      "        stop: 200\n",
      "\n"
     ]
    }
   ],
   "source": [
    "print(pathlib.Path(\"params.yaml\").read_text())"
   ],
   "metadata": {
    "collapsed": false,
    "pycharm": {
     "name": "#%%\n"
    }
   }
  }
 ],
 "metadata": {
  "kernelspec": {
   "display_name": "Python 3",
   "language": "python",
   "name": "python3"
  },
  "language_info": {
   "codemirror_mode": {
    "name": "ipython",
    "version": 2
   },
   "file_extension": ".py",
   "mimetype": "text/x-python",
   "name": "python",
   "nbconvert_exporter": "python",
   "pygments_lexer": "ipython2",
   "version": "2.7.6"
  }
 },
 "nbformat": 4,
 "nbformat_minor": 0
}